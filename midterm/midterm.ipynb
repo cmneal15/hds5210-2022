{
 "cells": [
  {
   "cell_type": "markdown",
   "metadata": {},
   "source": [
    "# HDS5210-2022 Fall Midterm\n",
    "\n",
    "In the midterm exercise, you're going to use all the programming and data management skills you've developed so far to build a pricing calculator that will calculate how much money should be reimbursed for the visits in a CSV file. To do this, you will need to get allowed amounts (aka rates) from a JSON file, apply some special rules, and then calculate various totals by hospital or by month.\n",
    "\n",
    "Each step of the midterm will build up to form your final solution. Along the way, I've provided plenty of test cases to make sure you're getting each step correct.\n",
    "\n",
    "All functions require docstrings with a description and at least one test case.\n",
    "\n",
    "The midterm is due Monday, October 24th at 11:59 PM CST.\n",
    "\n",
    "---"
   ]
  },
  {
   "cell_type": "markdown",
   "metadata": {},
   "source": [
    "## Step 1: Average Rate\n",
    "\n",
    "With the `/data/negotiated_rates.json` file as input for your first function, read all the `allowed_amount` attributes and calculate an average allowed amount over all rates in the file.\n",
    "\n",
    "Your function should be named **average_rate()**, take the file's name as it's input parameter, and return a float as the result.\n",
    "\n",
    "**ROUND YOUR ANSWER TO 2 DECIMAL PLACES**"
   ]
  },
  {
   "cell_type": "code",
   "execution_count": 7,
   "metadata": {},
   "outputs": [],
   "source": [
    "import json\n",
    "with open ('/data/negotiated_rates.json') as f:\n",
    "    data = json.load(f)\n",
    "### here i am importing the JSON file so it can be used in the assignment###\n"
   ]
  },
  {
   "cell_type": "code",
   "execution_count": 8,
   "metadata": {},
   "outputs": [
    {
     "data": {
      "text/plain": [
       "{'reporting_entity_name': 'United HealthCare Services, Inc.',\n",
       " 'reporting_entity_type': 'Third-Party Administrator',\n",
       " 'last_updated_on': '2022-10-01',\n",
       " 'version': '1.0.0',\n",
       " 'out_of_network': [{'name': 'E-STIM 1/> AREAS OTH THAN WND CARE PART TX PLAN',\n",
       "   'billing_code_type': 'HCPCS',\n",
       "   'billing_code_type_version': '2022',\n",
       "   'billing_code': 'G0283',\n",
       "   'description': 'Electrical stimulation (unattended), to one or more areas for indication(s) other than wound care, as part of a therapy plan of care',\n",
       "   'allowed_amounts': [{'tin': {'type': 'npi', 'value': '1184090458.0'},\n",
       "     'service_code': '11',\n",
       "     'billing_class': 'professional',\n",
       "     'payments': {'allowed_amount': 8.78,\n",
       "      'providers': [{'billed_charge': 10.0, 'npi': [1184090458.0]}]}}]},\n",
       "  {'name': 'MANUAL THERAPY TQS 1/> REGIONS EACH 15 MINUTES',\n",
       "   'billing_code_type': 'CPT',\n",
       "   'billing_code_type_version': '2022',\n",
       "   'billing_code': '97140',\n",
       "   'description': 'Manual therapy techniques (eg, mobilization/ manipulation, manual lymphatic drainage, manual traction), 1 or more regions, each 15 minutes',\n",
       "   'allowed_amounts': [{'tin': {'type': 'npi', 'value': '1184090458.0'},\n",
       "     'service_code': '11',\n",
       "     'billing_class': 'professional',\n",
       "     'payments': {'allowed_amount': 20.03,\n",
       "      'providers': [{'billed_charge': 97.5, 'npi': [1184090458.0]}]}},\n",
       "    {'tin': {'type': 'npi', 'value': '1285296509.0'},\n",
       "     'service_code': '12',\n",
       "     'billing_class': 'professional',\n",
       "     'payments': {'allowed_amount': 24.64,\n",
       "      'providers': [{'billed_charge': 95.0, 'npi': [1285296509.0]}]}}]},\n",
       "  {'name': 'SBSQ HOSPITAL CARE/DAY 25 MINUTES',\n",
       "   'billing_code_type': 'CPT',\n",
       "   'billing_code_type_version': '2022',\n",
       "   'billing_code': '99232',\n",
       "   'description': \"Subsequent hospital care, per day, for the evaluation and management of a patient, which requires at least 2 of these 3 key components: An expanded problem focused interval history; An expanded problem focused examination; Medical decision making of moderate complexity. Counseling and/or coordination of care with other physicians, other qualified health care professionals, or agencies are provided consistent with the nature of the problem(s) and the patient's and/or family's needs. Usually, the patient is responding inadequately to therapy or has developed a minor complication. Typically, 25 minutes are spent at the bedside and on the patient's hospital floor or unit.\",\n",
       "   'allowed_amounts': [{'tin': {'type': 'npi', 'value': '1306821053.0'},\n",
       "     'service_code': '61',\n",
       "     'billing_class': 'professional',\n",
       "     'payments': {'allowed_amount': 74.54,\n",
       "      'providers': [{'billed_charge': 112.0, 'npi': [1306821053.0]}]}}]},\n",
       "  {'name': 'SBSQ HOSPITAL CARE/DAY 35 MINUTES',\n",
       "   'billing_code_type': 'CPT',\n",
       "   'billing_code_type_version': '2022',\n",
       "   'billing_code': '99233',\n",
       "   'description': \"Subsequent hospital care, per day, for the evaluation and management of a patient, which requires at least 2 of these 3 key components: A detailed interval history; A detailed examination; Medical decision making of high complexity. Counseling and/or coordination of care with other physicians, other qualified health care professionals, or agencies are provided consistent with the nature of the problem(s) and the patient's and/or family's needs. Usually, the patient is unstable or has developed a significant complication or a significant new problem. Typically, 35 minutes are spent at the bedside and on the patient's hospital floor or unit.\",\n",
       "   'allowed_amounts': [{'tin': {'type': 'npi', 'value': '1124356779.0'},\n",
       "     'service_code': '21',\n",
       "     'billing_class': 'professional',\n",
       "     'payments': {'allowed_amount': 100.35,\n",
       "      'providers': [{'billed_charge': 200.0, 'npi': [1124356779.0]}]}}]},\n",
       "  {'name': 'THER PX 1/> AREAS EACH 15 MIN NEUROMUSC REEDUCA',\n",
       "   'billing_code_type': 'CPT',\n",
       "   'billing_code_type_version': '2022',\n",
       "   'billing_code': '97112',\n",
       "   'description': 'Therapeutic procedure, 1 or more areas, each 15 minutes; neuromuscular reeducation of movement, balance, coordination, kinesthetic sense, posture, and/or proprioception for sitting and/or standing activities',\n",
       "   'allowed_amounts': [{'tin': {'type': 'npi', 'value': '1184090458.0'},\n",
       "     'service_code': '11',\n",
       "     'billing_class': 'professional',\n",
       "     'payments': {'allowed_amount': 32.9,\n",
       "      'providers': [{'billed_charge': 97.5, 'npi': [1184090458.0]}]}}]},\n",
       "  {'name': 'THERAPEUTIC PX 1/> AREAS EACH 15 MIN EXERCISES',\n",
       "   'billing_code_type': 'CPT',\n",
       "   'billing_code_type_version': '2022',\n",
       "   'billing_code': '97110',\n",
       "   'description': 'Therapeutic procedure, 1 or more areas, each 15 minutes; therapeutic exercises to develop strength and endurance, range of motion and flexibility',\n",
       "   'allowed_amounts': [{'tin': {'type': 'npi', 'value': '1184090458.0'},\n",
       "     'service_code': '11',\n",
       "     'billing_class': 'professional',\n",
       "     'payments': {'allowed_amount': 21.51,\n",
       "      'providers': [{'billed_charge': 97.5, 'npi': [1184090458.0]}]}},\n",
       "    {'tin': {'type': 'npi', 'value': '1285296509.0'},\n",
       "     'service_code': '12',\n",
       "     'billing_class': 'professional',\n",
       "     'payments': {'allowed_amount': 26.62,\n",
       "      'providers': [{'billed_charge': 95.0, 'npi': [1285296509.0]}]}}]}]}"
      ]
     },
     "execution_count": 8,
     "metadata": {},
     "output_type": "execute_result"
    }
   ],
   "source": [
    "data\n",
    "### this is where I am calling the file###"
   ]
  },
  {
   "cell_type": "code",
   "execution_count": 11,
   "metadata": {},
   "outputs": [],
   "source": [
    "def average_rate(file):\n",
    "    \n",
    "    allowed_amounts = []\n",
    "    for item in data['out_of_network']:\n",
    "        item = item['allowed_amounts']\n",
    "        allowed_amounts.append(item)      \n",
    "    payments = []\n",
    "    for item in allowed_amounts:\n",
    "        for payment in item:\n",
    "            payment = payment['payments']['allowed_amount']\n",
    "            payments.append(payment)\n",
    "#### the allowed amounts was in the JSON and I had to go through several layers to pull it out inclduing an area that was also called allowed amounts but the allowed amount was wihtin the payment area and labeled as allowed amount\n",
    "    average = sum(payments)/len(payments)\n",
    "    average = round(average,2)\n",
    "### it was then requested to provide an average rate which i used an average function to create and also was asked to round the integer###\n",
    "    return average"
   ]
  },
  {
   "cell_type": "code",
   "execution_count": 12,
   "metadata": {},
   "outputs": [
    {
     "data": {
      "text/plain": [
       "38.67"
      ]
     },
     "execution_count": 12,
     "metadata": {},
     "output_type": "execute_result"
    }
   ],
   "source": [
    "average_rate('/data/negotiated_rates.json') \n",
    "## i asserted my code and got the same answer as you##"
   ]
  },
  {
   "cell_type": "code",
   "execution_count": 3,
   "metadata": {},
   "outputs": [],
   "source": [
    "assert(average_rate('/data/negotiated_rates.json') == 38.67)"
   ]
  },
  {
   "cell_type": "code",
   "execution_count": null,
   "metadata": {},
   "outputs": [],
   "source": []
  },
  {
   "cell_type": "markdown",
   "metadata": {},
   "source": [
    "---\n",
    "\n",
    "## Step 2: Rate for a Billing Code / Service Code Combination\n",
    "\n",
    "For the next step, we need to be able to look up the allowed amount for any given billing code / service code combination.\n",
    "\n",
    "In this data, the billing code represents the service or procedure that was provided. The service code represents the type of site where the service was provided.\n",
    "\n",
    "Your function should be named **get_rate()** and take three parameters: the JSON file name, the billing code, and the service code. If your code can't find that combination in the file, it should return None."
   ]
  },
  {
   "cell_type": "code",
   "execution_count": 31,
   "metadata": {},
   "outputs": [],
   "source": [
    "import json\n",
    "\n",
    "def get_rate(file, billing_code, service_code):\n",
    "    \n",
    "     with open (file) as f:\n",
    "        data = json.load(f)\n",
    "\n",
    "        allowed_amounts = []\n",
    "        for item in data['out_of_network']:\n",
    "                if item['billing_code'] == billing_code:\n",
    "                    item = item['allowed_amounts']\n",
    "                    allowed_amounts.append(item)\n",
    "\n",
    "        payments = []\n",
    "        for i, item in enumerate(allowed_amounts):\n",
    "                 for payment in item:\n",
    "                    if payment['service_code'] != service_code:\n",
    "                        continue\n",
    "                    payment = payment['payments']['allowed_amount']\n",
    "                    payments.append(payment)\n",
    "## i added in this average section for the payments so i was able to get the required rates##\n",
    "        average = sum(payments)/len(payments)\n",
    "        average = round(average,2)\n",
    "        return average\n",
    "\n",
    "## i used code from the previous problem to build onto this one so I could get the rate based on billing code and service code\n",
    "## i also rounded the answer to 2 decimal places as stated to do so in the directions###\n",
    "\n",
    "    "
   ]
  },
  {
   "cell_type": "code",
   "execution_count": 38,
   "metadata": {},
   "outputs": [
    {
     "data": {
      "text/plain": [
       "8.78"
      ]
     },
     "execution_count": 38,
     "metadata": {},
     "output_type": "execute_result"
    }
   ],
   "source": [
    "get_rate('/data/negotiated_rates.json','G0283','11')\n",
    "### here i am asserting the get rate to ensure that my code is running##"
   ]
  },
  {
   "cell_type": "code",
   "execution_count": 36,
   "metadata": {},
   "outputs": [
    {
     "data": {
      "text/plain": [
       "20.03"
      ]
     },
     "execution_count": 36,
     "metadata": {},
     "output_type": "execute_result"
    }
   ],
   "source": [
    "get_rate('/data/negotiated_rates.json','97140','11')"
   ]
  },
  {
   "cell_type": "code",
   "execution_count": 37,
   "metadata": {},
   "outputs": [
    {
     "data": {
      "text/plain": [
       "26.62"
      ]
     },
     "execution_count": 37,
     "metadata": {},
     "output_type": "execute_result"
    }
   ],
   "source": [
    "get_rate('/data/negotiated_rates.json','97110','12')"
   ]
  },
  {
   "cell_type": "code",
   "execution_count": null,
   "metadata": {},
   "outputs": [],
   "source": [
    "assert (get_rate('/data/negotiated_rates.json','G0283','11') == 8.78)\n",
    "assert (get_rate('/data/negotiated_rates.json','97140','11') == 20.03)\n",
    "assert (get_rate('/data/negotiated_rates.json','97110','12') == 26.62)"
   ]
  },
  {
   "cell_type": "code",
   "execution_count": null,
   "metadata": {},
   "outputs": [],
   "source": []
  },
  {
   "cell_type": "markdown",
   "metadata": {},
   "source": [
    "---\n",
    "\n",
    "## Part 3: Special Rules for Rates\n",
    "\n",
    "There are some special rules for adjusting rates depending on a patient's age and the day of week.  (These are made up. Not from the real world.) In the next part of the midterm, you'll need to create a function that applies these extra rules to a rate and return the adjusted value.\n",
    "\n",
    "1. If the day of week is Monday, charge only 75% of the allowed amount.\n",
    "2. If the patient's age is 65 or higher, charge only 50% of the allowed amount.\n",
    "3. If's both Monday and the patient's age is 65 or higher, charge only 50% of the allowed amount.\n",
    "4. If neither of these conditions are true, charge the whole amount.\n",
    "\n",
    "Your function should be named **get_adjusted_rate()** and take five parameters: file name, billing code, service code, patient age, and visit date.  Your function should return the adjusted rate (based on the rules above) or None if the rate couldn't be found in the file.\n",
    "\n",
    "Note that your function will take a date in the form `%Y-%m-%d` ([see datetime.strptime()](https://docs.python.org/3/library/datetime.html#datetime.datetime.strptime)) and will need to calculate the [day of week](https://docs.python.org/3/library/datetime.html#datetime.date.weekday).\n",
    "\n",
    "**ROUND YOUR ANSWER TO 2 DECIMAL PLACES**"
   ]
  },
  {
   "cell_type": "code",
   "execution_count": 39,
   "metadata": {},
   "outputs": [],
   "source": [
    "from datetime import datetime\n",
    "\n",
    "def get_charge_rate(age, date):\n",
    "    date = datetime.strptime(date, '%Y-%m-%d')\n",
    "    if age >= 65:\n",
    "        return 0.5\n",
    "    elif date.weekday() == 0:\n",
    "        return 0.75\n",
    "    return 1\n",
    "### i added this to my line of code because only certain prices should be returned based on age and day of the week so an if and elif statement was needed to ensure this##\n",
    "def get_adjusted_rate(filename, billing_code, service_code, pat_age, visit_date):\n",
    "    charge = get_charge_rate(pat_age, visit_date)\n",
    "    import json\n",
    "    with open (filename) as f:\n",
    "        data = json.load(f)\n",
    "## this is where I define what get adjusted rate is meaning so the rest of my code will run##\n",
    "    allowed_amounts = []\n",
    "    for item in data['out_of_network']:\n",
    "        if item['billing_code'] == billing_code:\n",
    "            item = item['allowed_amounts']\n",
    "            allowed_amounts.append(item)\n",
    "\n",
    "    payments = []\n",
    "    for i, item in enumerate(allowed_amounts):\n",
    "         for payment in item:\n",
    "            if payment['service_code'] != service_code:\n",
    "                continue\n",
    "            payment = payment['payments']['allowed_amount']\n",
    "            payments.append(payment)\n",
    "    average = sum(payments)/len(payments)\n",
    "    average*= charge\n",
    "    average = round(average,2)\n",
    "    return average\n",
    "### everything else is code that was created in the previous 2 steps##"
   ]
  },
  {
   "cell_type": "code",
   "execution_count": 41,
   "metadata": {},
   "outputs": [
    {
     "data": {
      "text/plain": [
       "8.78"
      ]
     },
     "execution_count": 41,
     "metadata": {},
     "output_type": "execute_result"
    }
   ],
   "source": [
    "get_adjusted_rate('/data/negotiated_rates.json','G0283','11',22,'2022-01-07')\n",
    "### I am asserting all of the problems to make sure that my code runs smoothly##"
   ]
  },
  {
   "cell_type": "code",
   "execution_count": 42,
   "metadata": {},
   "outputs": [
    {
     "data": {
      "text/plain": [
       "6.58"
      ]
     },
     "execution_count": 42,
     "metadata": {},
     "output_type": "execute_result"
    }
   ],
   "source": [
    "get_adjusted_rate('/data/negotiated_rates.json','G0283','11',22,'2022-01-03')"
   ]
  },
  {
   "cell_type": "code",
   "execution_count": 43,
   "metadata": {},
   "outputs": [
    {
     "data": {
      "text/plain": [
       "4.39"
      ]
     },
     "execution_count": 43,
     "metadata": {},
     "output_type": "execute_result"
    }
   ],
   "source": [
    "get_adjusted_rate('/data/negotiated_rates.json','G0283','11',76,'2022-01-03')"
   ]
  },
  {
   "cell_type": "code",
   "execution_count": 44,
   "metadata": {},
   "outputs": [
    {
     "data": {
      "text/plain": [
       "4.39"
      ]
     },
     "execution_count": 44,
     "metadata": {},
     "output_type": "execute_result"
    }
   ],
   "source": [
    "get_adjusted_rate('/data/negotiated_rates.json','G0283','11',76,'2022-01-08')"
   ]
  },
  {
   "cell_type": "code",
   "execution_count": 40,
   "metadata": {},
   "outputs": [],
   "source": [
    "assert (get_adjusted_rate('/data/negotiated_rates.json','G0283','11',22,'2022-01-07') == 8.78)\n",
    "assert (get_adjusted_rate('/data/negotiated_rates.json','G0283','11',22,'2022-01-03') == 6.58)\n",
    "assert (get_adjusted_rate('/data/negotiated_rates.json','G0283','11',76,'2022-01-03') == 4.39)\n",
    "assert (get_adjusted_rate('/data/negotiated_rates.json','G0283','11',76,'2022-01-08') == 4.39)"
   ]
  },
  {
   "cell_type": "code",
   "execution_count": null,
   "metadata": {},
   "outputs": [],
   "source": []
  },
  {
   "cell_type": "markdown",
   "metadata": {},
   "source": [
    "---\n",
    "\n",
    "## Step 4: Calculate total payments for a list of visits\n",
    "\n",
    "Last step, we're going to put your get_adjusted_rate() function to work on a list of visits from a few hospitals in the St. Louis region.\n",
    "\n",
    "Your last function, **summarize_reimbursement()** needs to read an encounter file and the negotiated rates file, compute an adjusted rate for each encounter (row) in the input file, and return two dictionaries of information:\n",
    "1. Total expected reimbursement by month\n",
    "2. Total expected reimbursement by hospital\n",
    "\n",
    "Your should be able to run your function as `by_month, by_hospital = summarize_reimbursement(visits, negotiated_rates)` and have the two answers below:\n",
    "\n",
    "**by_month**\n",
    "```json\n",
    "{\n",
    "    '2021-05': 192.38,\n",
    "    '2021-03': 378.72,\n",
    "    '2021-07': 277.67,\n",
    "    '2021-06': 236.53,\n",
    "    '2021-11': 229.7,\n",
    "    '2021-10': 234.52,\n",
    "    '2021-12': 297.87,\n",
    "    '2021-04': 337.7,\n",
    "    '2021-09': 160.4,\n",
    "    '2021-01': 111.91,\n",
    "    '2021-02': 158.55,\n",
    "    '2021-08': 152.28\n",
    "}\n",
    "```\n",
    "\n",
    "**by_hospital**\n",
    "```json\n",
    "{\n",
    "    'Missouri Baptist': 514.18,\n",
    "    'SSM DePaul': 460.02,\n",
    "    'SLU Hospital': 409.67,\n",
    "    'Barnes Jewish': 485.7,\n",
    "    'Mercy Springfield': 518.59,\n",
    "    'Mercy St. Louis': 380.07\n",
    "}\n",
    "```\n",
    "\n",
    "**Round your totals to 2 decimal places**\n",
    "\n",
    "**If rates are not found, just ignore them**"
   ]
  },
  {
   "cell_type": "code",
   "execution_count": 73,
   "metadata": {},
   "outputs": [],
   "source": [
    "\n",
    "from datetime import datetime\n",
    "CSV_FILE='/data/visits.csv'\n",
    "   "
   ]
  },
  {
   "cell_type": "code",
   "execution_count": 72,
   "metadata": {},
   "outputs": [
    {
     "ename": "AttributeError",
     "evalue": "'_io.TextIOWrapper' object has no attribute 'reader'",
     "output_type": "error",
     "traceback": [
      "\u001b[0;31m---------------------------------------------------------------------------\u001b[0m",
      "\u001b[0;31mAttributeError\u001b[0m                            Traceback (most recent call last)",
      "\u001b[0;32m<ipython-input-72-6b7b135095ca>\u001b[0m in \u001b[0;36m<module>\u001b[0;34m\u001b[0m\n\u001b[0;32m----> 1\u001b[0;31m \u001b[0mhelp\u001b[0m\u001b[0;34m(\u001b[0m\u001b[0mcsv\u001b[0m\u001b[0;34m.\u001b[0m\u001b[0mreader\u001b[0m\u001b[0;34m)\u001b[0m\u001b[0;34m\u001b[0m\u001b[0;34m\u001b[0m\u001b[0m\n\u001b[0m",
      "\u001b[0;31mAttributeError\u001b[0m: '_io.TextIOWrapper' object has no attribute 'reader'"
     ]
    }
   ],
   "source": [
    "help(csv.reader)"
   ]
  },
  {
   "cell_type": "code",
   "execution_count": 67,
   "metadata": {},
   "outputs": [
    {
     "name": "stdout",
     "output_type": "stream",
     "text": [
      "['SYSTEM', 'HOSPITAL', 'PATIENT_ID', 'PATIENT_AGE', 'BILLING_CODE', 'SERVICE_CODE', 'VISIT_DATE']\n",
      "['Mercy', 'Missouri Baptist', 'E74109', '39', '97140', '12', '2021-05-01']\n",
      "['BJC', 'SSM DePaul', 'E29207', '40', '97140', '11', '2021-03-25']\n",
      "['SSM', 'SLU Hospital', 'E37839', '33', 'G0283', '11', '2021-07-25']\n",
      "['SSM', 'Mercy St. Louis', 'E45853', '65', 'G0283', '12', '2021-07-27']\n",
      "['SSM', 'SLU Hospital', 'E14769', '48', '97140', '12', '2021-06-16']\n",
      "['BJC', 'Barnes Jewish', 'E60975', '52', '97140', '11', '2021-11-23']\n",
      "['BJC', 'Barnes Jewish', 'E65110', '48', 'G0283', '11', '2021-06-02']\n",
      "['BJC', 'Barnes Jewish', 'E25293', '52', '97140', '11', '2021-10-22']\n",
      "['SSM', 'Barnes Jewish', 'E45548', '34', 'G0283', '11', '2021-12-31']\n",
      "['BJC', 'Mercy Springfield', 'E13689', '49', 'G0283', '11', '2021-06-10']\n",
      "['SSM', 'SLU Hospital', 'E64993', '59', 'G0283', '11', '2021-10-31']\n",
      "['BJC', 'SSM DePaul', 'E76078', '60', '97140', '11', '2021-04-14']\n",
      "['BJC', 'SSM DePaul', 'E52770', '59', 'G0283', '12', '2021-03-03']\n",
      "['SSM', 'SSM DePaul', 'E45173', '37', '97140', '11', '2021-12-29']\n",
      "['Mercy', 'Mercy Springfield', 'E70555', '50', '97140', '11', '2021-06-20']\n",
      "['SSM', 'Barnes Jewish', 'E57922', '74', 'G0283', '12', '2021-09-26']\n",
      "['BJC', 'SSM DePaul', 'E12906', '39', '97140', '12', '2021-04-18']\n",
      "['SSM', 'Barnes Jewish', 'E18265', '72', 'G0283', '11', '2021-11-26']\n",
      "['BJC', 'Mercy St. Louis', 'E41055', '33', '97140', '11', '2021-12-19']\n",
      "['SSM', 'SLU Hospital', 'E40331', '42', '97140', '11', '2021-07-29']\n",
      "['SSM', 'Barnes Jewish', 'E19691', '71', 'G0283', '11', '2021-11-10']\n",
      "['SSM', 'Missouri Baptist', 'E59913', '68', '97140', '12', '2021-06-22']\n",
      "['Mercy', 'Missouri Baptist', 'E52965', '51', '97140', '11', '2021-11-15']\n",
      "['SSM', 'Mercy Springfield', 'E32845', '53', 'G0283', '11', '2021-07-01']\n",
      "['Mercy', 'SLU Hospital', 'E54451', '54', '97140', '12', '2021-07-24']\n",
      "['BJC', 'SSM DePaul', 'E44827', '57', '97140', '11', '2021-09-14']\n",
      "['Mercy', 'Missouri Baptist', 'E47749', '42', '97140', '12', '2021-11-25']\n",
      "['SSM', 'Barnes Jewish', 'E29301', '73', '97140', '11', '2021-03-12']\n",
      "['BJC', 'Barnes Jewish', 'E14337', '54', '97140', '11', '2021-12-17']\n",
      "['BJC', 'Barnes Jewish', 'E26276', '50', 'G0283', '12', '2021-02-03']\n",
      "['Mercy', 'Mercy St. Louis', 'E79341', '38', '97140', '11', '2021-05-21']\n",
      "['Mercy', 'Missouri Baptist', 'E45394', '53', '97140', '12', '2021-03-11']\n",
      "['BJC', 'Barnes Jewish', 'E26523', '48', 'G0283', '12', '2021-07-18']\n",
      "['Mercy', 'SSM DePaul', 'E28632', '47', '97140', '11', '2021-01-25']\n",
      "['SSM', 'Barnes Jewish', 'E73154', '73', 'G0283', '11', '2021-10-26']\n",
      "['SSM', 'SSM DePaul', 'E81045', '68', 'G0283', '11', '2021-07-13']\n",
      "['Mercy', 'Barnes Jewish', 'E41203', '46', '97140', '11', '2021-11-25']\n",
      "['BJC', 'SLU Hospital', 'E86153', '65', 'G0283', '12', '2021-01-24']\n",
      "['Mercy', 'SLU Hospital', 'E73899', '45', '97140', '11', '2021-03-27']\n",
      "['BJC', 'SSM DePaul', 'E32547', '30', '97140', '12', '2021-09-11']\n",
      "['SSM', 'Mercy St. Louis', 'E61637', '30', 'G0283', '11', '2021-12-07']\n",
      "['SSM', 'SLU Hospital', 'E34824', '55', '97140', '11', '2021-04-05']\n",
      "['Mercy', 'Mercy Springfield', 'E50565', '53', '97140', '11', '2021-03-01']\n",
      "['BJC', 'SLU Hospital', 'E40306', '52', '97140', '11', '2021-03-13']\n",
      "['Mercy', 'Mercy St. Louis', 'E43206', '48', '97140', '12', '2021-05-08']\n",
      "['Mercy', 'Missouri Baptist', 'E70785', '63', 'G0283', '12', '2021-11-13']\n",
      "['BJC', 'Missouri Baptist', 'E24212', '69', '97140', '11', '2021-05-16']\n",
      "['SSM', 'Missouri Baptist', 'E39161', '45', '97140', '11', '2021-04-23']\n",
      "['Mercy', 'SSM DePaul', 'E62048', '68', 'G0283', '12', '2021-03-16']\n",
      "['BJC', 'Barnes Jewish', 'E33776', '73', 'G0283', '11', '2021-10-26']\n",
      "['BJC', 'Barnes Jewish', 'E28913', '68', '97140', '11', '2021-12-24']\n",
      "['SSM', 'Barnes Jewish', 'E61516', '39', '97140', '12', '2021-06-09']\n",
      "['BJC', 'Barnes Jewish', 'E35921', '44', '97140', '12', '2021-09-14']\n",
      "['SSM', 'Missouri Baptist', 'E24409', '68', 'G0283', '11', '2021-01-29']\n",
      "['SSM', 'Mercy St. Louis', 'E64310', '60', 'G0283', '12', '2021-09-23']\n",
      "['Mercy', 'SLU Hospital', 'E46787', '45', '97140', '11', '2021-11-06']\n",
      "['Mercy', 'SSM DePaul', 'E60055', '75', 'G0283', '11', '2021-07-21']\n",
      "['BJC', 'Mercy St. Louis', 'E24513', '60', 'G0283', '11', '2021-04-02']\n",
      "['BJC', 'Missouri Baptist', 'E20744', '37', '97140', '12', '2021-02-16']\n",
      "['BJC', 'Barnes Jewish', 'E33916', '41', '97140', '11', '2021-12-05']\n",
      "['BJC', 'Mercy Springfield', 'E20663', '50', '97140', '11', '2021-12-22']\n",
      "['BJC', 'Missouri Baptist', 'E14359', '60', '97140', '11', '2021-08-22']\n",
      "['Mercy', 'SLU Hospital', 'E41979', '56', 'G0283', '11', '2021-03-08']\n",
      "['Mercy', 'Mercy St. Louis', 'E65413', '44', '97140', '12', '2021-12-02']\n",
      "['BJC', 'Barnes Jewish', 'E81734', '65', '97140', '11', '2021-01-03']\n",
      "['BJC', 'SSM DePaul', 'E19794', '37', '97140', '11', '2021-05-29']\n",
      "['Mercy', 'Barnes Jewish', 'E33594', '40', '97140', '11', '2021-10-15']\n",
      "['Mercy', 'Mercy Springfield', 'E32218', '34', '97140', '12', '2021-07-25']\n",
      "['Mercy', 'Mercy Springfield', 'E62387', '57', '97140', '11', '2021-08-29']\n",
      "['Mercy', 'Mercy Springfield', 'E67797', '47', '97140', '12', '2021-03-21']\n",
      "['SSM', 'Mercy St. Louis', 'E20584', '75', '97140', '11', '2021-07-02']\n",
      "['BJC', 'SLU Hospital', 'E75995', '70', '97140', '11', '2021-10-08']\n",
      "['Mercy', 'Mercy Springfield', 'E71083', '32', 'G0283', '11', '2021-05-09']\n",
      "['SSM', 'SLU Hospital', 'E14834', '47', 'G0283', '12', '2021-02-11']\n",
      "['BJC', 'Mercy Springfield', 'E31827', '36', '97140', '11', '2021-12-07']\n",
      "['SSM', 'SLU Hospital', 'E49973', '53', 'G0283', '12', '2021-02-22']\n",
      "['SSM', 'SLU Hospital', 'E36958', '43', '97140', '11', '2021-02-04']\n",
      "['BJC', 'SSM DePaul', 'E35093', '35', 'G0283', '11', '2021-11-27']\n",
      "['Mercy', 'SSM DePaul', 'E20636', '36', '97140', '11', '2021-02-01']\n",
      "['Mercy', 'SLU Hospital', 'E61748', '68', '97140', '11', '2021-03-06']\n",
      "['Mercy', 'SLU Hospital', 'E16061', '74', '97140', '11', '2021-08-17']\n",
      "['SSM', 'SSM DePaul', 'E41227', '47', 'G0283', '11', '2021-03-11']\n",
      "['Mercy', 'SSM DePaul', 'E20657', '50', '97140', '11', '2021-11-13']\n",
      "['Mercy', 'SLU Hospital', 'E12503', '73', '97140', '12', '2021-07-28']\n",
      "['Mercy', 'Mercy St. Louis', 'E53907', '48', '97140', '11', '2021-12-18']\n",
      "['SSM', 'Mercy Springfield', 'E25907', '56', '97140', '11', '2021-11-11']\n",
      "['SSM', 'Mercy Springfield', 'E71811', '54', 'G0283', '11', '2021-05-17']\n",
      "['Mercy', 'Missouri Baptist', 'E18856', '41', 'G0283', '11', '2021-02-19']\n",
      "['Mercy', 'Mercy Springfield', 'E46205', '48', '97140', '11', '2021-10-29']\n",
      "['BJC', 'Missouri Baptist', 'E51094', '47', '97140', '11', '2021-03-05']\n",
      "['SSM', 'Mercy Springfield', 'E60803', '41', '97140', '11', '2021-02-03']\n",
      "['BJC', 'Barnes Jewish', 'E54499', '66', 'G0283', '11', '2021-04-19']\n",
      "['BJC', 'SSM DePaul', 'E82659', '62', 'G0283', '12', '2021-06-16']\n",
      "['BJC', 'SLU Hospital', 'E75348', '63', '97140', '11', '2021-03-17']\n",
      "['Mercy', 'SSM DePaul', 'E23753', '31', '97140', '11', '2021-12-03']\n",
      "['BJC', 'Missouri Baptist', 'E66275', '51', 'G0283', '11', '2021-10-25']\n",
      "['SSM', 'Barnes Jewish', 'E54475', '41', '97140', '11', '2021-07-16']\n",
      "['Mercy', 'Mercy Springfield', 'E59809', '63', '97140', '12', '2021-07-23']\n",
      "['BJC', 'SSM DePaul', 'E28064', '67', '97140', '11', '2021-10-31']\n",
      "['BJC', 'Mercy Springfield', 'E63764', '60', '97140', '11', '2021-04-27']\n",
      "['BJC', 'Mercy Springfield', 'E50626', '69', 'G0283', '11', '2021-09-14']\n",
      "['SSM', 'Missouri Baptist', 'E25656', '52', 'G0283', '11', '2021-05-23']\n",
      "['Mercy', 'Mercy Springfield', 'E50190', '65', 'G0283', '11', '2021-01-26']\n",
      "['SSM', 'Mercy St. Louis', 'E71256', '61', '97140', '11', '2021-06-24']\n",
      "['SSM', 'Missouri Baptist', 'E78803', '42', '97140', '11', '2021-09-16']\n",
      "['Mercy', 'Barnes Jewish', 'E76543', '38', 'G0283', '12', '2021-07-18']\n",
      "['BJC', 'Mercy St. Louis', 'E31920', '50', 'G0283', '11', '2021-04-21']\n",
      "['BJC', 'Barnes Jewish', 'E86089', '31', 'G0283', '11', '2021-02-22']\n",
      "['BJC', 'Mercy St. Louis', 'E83028', '35', '97140', '11', '2021-07-08']\n",
      "['BJC', 'Mercy St. Louis', 'E39883', '61', '97140', '12', '2021-06-27']\n",
      "['BJC', 'Mercy Springfield', 'E32374', '33', '97140', '11', '2021-11-21']\n",
      "['Mercy', 'Barnes Jewish', 'E84662', '71', 'G0283', '12', '2021-12-14']\n",
      "['BJC', 'Mercy St. Louis', 'E75640', '55', '97140', '11', '2021-10-09']\n",
      "['SSM', 'Mercy St. Louis', 'E43559', '34', '97140', '11', '2021-04-01']\n",
      "['SSM', 'Missouri Baptist', 'E14171', '51', '97140', '12', '2021-08-10']\n",
      "['BJC', 'SLU Hospital', 'E65285', '50', '97140', '11', '2021-04-10']\n",
      "['BJC', 'Mercy Springfield', 'E70503', '36', '97140', '11', '2021-04-27']\n",
      "['BJC', 'Mercy St. Louis', 'E37525', '54', '97140', '11', '2021-03-17']\n",
      "['Mercy', 'SLU Hospital', 'E13446', '60', '97140', '12', '2021-03-02']\n",
      "['Mercy', 'Barnes Jewish', 'E33152', '70', '97140', '12', '2021-04-03']\n",
      "['Mercy', 'Missouri Baptist', 'E13019', '31', '97140', '11', '2021-04-14']\n",
      "['Mercy', 'SLU Hospital', 'E33380', '67', '97140', '11', '2021-05-04']\n",
      "['SSM', 'Mercy St. Louis', 'E19220', '70', 'G0283', '11', '2021-03-18']\n",
      "['BJC', 'SLU Hospital', 'E53738', '68', '97140', '11', '2021-05-27']\n",
      "['SSM', 'SSM DePaul', 'E12518', '61', '97140', '12', '2021-04-16']\n",
      "['SSM', 'Missouri Baptist', 'E71180', '31', '97140', '11', '2021-04-09']\n",
      "['Mercy', 'Missouri Baptist', 'E34281', '47', 'G0283', '11', '2021-05-25']\n",
      "['Mercy', 'SLU Hospital', 'E22780', '68', '97140', '12', '2021-10-25']\n",
      "['Mercy', 'SLU Hospital', 'E51086', '37', 'G0283', '11', '2021-12-22']\n",
      "['SSM', 'Barnes Jewish', 'E24278', '31', 'G0283', '11', '2021-07-30']\n",
      "['Mercy', 'Mercy Springfield', 'E68208', '65', '97140', '12', '2021-07-09']\n",
      "['BJC', 'Mercy St. Louis', 'E59401', '73', '97140', '11', '2021-11-12']\n",
      "['SSM', 'Barnes Jewish', 'E34255', '64', '97140', '11', '2021-06-16']\n",
      "['Mercy', 'SLU Hospital', 'E27697', '65', 'G0283', '11', '2021-10-28']\n",
      "['BJC', 'Mercy St. Louis', 'E43510', '38', '97140', '11', '2021-10-05']\n",
      "['BJC', 'Barnes Jewish', 'E60437', '47', 'G0283', '12', '2021-08-13']\n",
      "['SSM', 'Barnes Jewish', 'E31544', '38', '97140', '11', '2021-03-08']\n",
      "['BJC', 'Mercy Springfield', 'E20724', '61', 'G0283', '11', '2021-11-10']\n",
      "['BJC', 'Barnes Jewish', 'E26330', '51', 'G0283', '11', '2021-06-18']\n",
      "['SSM', 'SSM DePaul', 'E12481', '52', '97140', '11', '2021-03-16']\n",
      "['Mercy', 'Missouri Baptist', 'E31789', '39', 'G0283', '11', '2021-02-27']\n",
      "['BJC', 'SSM DePaul', 'E18110', '38', '97140', '11', '2021-07-16']\n",
      "['Mercy', 'Missouri Baptist', 'E48174', '69', '97140', '11', '2021-08-02']\n",
      "['Mercy', 'SSM DePaul', 'E33552', '74', '97140', '11', '2021-03-31']\n",
      "['Mercy', 'Missouri Baptist', 'E47479', '69', 'G0283', '11', '2021-08-15']\n",
      "['Mercy', 'Barnes Jewish', 'E15826', '46', '97140', '11', '2021-01-09']\n",
      "['Mercy', 'Mercy Springfield', 'E39276', '49', '97140', '11', '2021-03-25']\n",
      "['SSM', 'Missouri Baptist', 'E64378', '67', 'G0283', '12', '2021-01-28']\n",
      "['BJC', 'Barnes Jewish', 'E38340', '64', 'G0283', '11', '2021-10-06']\n",
      "['SSM', 'Mercy Springfield', 'E61964', '55', '97140', '11', '2021-07-12']\n",
      "['Mercy', 'Barnes Jewish', 'E68902', '72', '97140', '11', '2021-04-30']\n",
      "['BJC', 'Mercy Springfield', 'E63435', '64', 'G0283', '11', '2021-07-25']\n",
      "['BJC', 'Missouri Baptist', 'E58861', '58', '97140', '12', '2021-10-17']\n",
      "['SSM', 'Mercy Springfield', 'E75163', '43', '97140', '11', '2021-12-20']\n",
      "['SSM', 'Missouri Baptist', 'E84549', '33', 'G0283', '11', '2021-09-27']\n",
      "['Mercy', 'SSM DePaul', 'E40205', '49', '97140', '12', '2021-01-12']\n",
      "['Mercy', 'Mercy Springfield', 'E57951', '71', '97140', '11', '2021-02-10']\n",
      "['SSM', 'Mercy St. Louis', 'E74752', '60', '97140', '11', '2021-04-27']\n",
      "['Mercy', 'Mercy Springfield', 'E48087', '57', '97140', '11', '2021-09-21']\n",
      "['SSM', 'Barnes Jewish', 'E61020', '37', '97140', '12', '2021-02-19']\n",
      "['BJC', 'Missouri Baptist', 'E25891', '71', 'G0283', '12', '2021-04-21']\n",
      "['SSM', 'Mercy Springfield', 'E33673', '34', '97140', '11', '2021-06-08']\n",
      "['BJC', 'SSM DePaul', 'E25802', '65', '97140', '11', '2021-03-29']\n",
      "['BJC', 'Barnes Jewish', 'E32787', '57', '97140', '11', '2021-06-21']\n",
      "['BJC', 'Mercy Springfield', 'E67936', '51', '97140', '11', '2021-04-29']\n",
      "['SSM', 'SLU Hospital', 'E63978', '57', 'G0283', '11', '2021-12-25']\n",
      "['SSM', 'Missouri Baptist', 'E30470', '61', '97140', '12', '2021-12-24']\n",
      "['SSM', 'SLU Hospital', 'E45908', '58', 'G0283', '12', '2021-07-19']\n",
      "['BJC', 'Mercy Springfield', 'E35854', '30', '97140', '11', '2021-05-26']\n",
      "['SSM', 'Mercy Springfield', 'E57560', '68', 'G0283', '12', '2021-07-23']\n",
      "['Mercy', 'SLU Hospital', 'E42985', '42', '97140', '11', '2021-08-05']\n",
      "['BJC', 'SSM DePaul', 'E67648', '32', 'G0283', '12', '2021-09-30']\n",
      "['SSM', 'SSM DePaul', 'E17233', '30', '97140', '11', '2021-05-07']\n",
      "['Mercy', 'Mercy St. Louis', 'E14292', '71', 'G0283', '12', '2021-11-01']\n",
      "['SSM', 'Mercy St. Louis', 'E79716', '36', '97140', '11', '2021-12-27']\n",
      "['BJC', 'Mercy Springfield', 'E42086', '37', 'G0283', '11', '2021-12-07']\n",
      "['Mercy', 'Barnes Jewish', 'E67268', '72', '97140', '11', '2021-03-08']\n",
      "['Mercy', 'Barnes Jewish', 'E80420', '62', 'G0283', '11', '2021-04-02']\n",
      "['Mercy', 'Missouri Baptist', 'E76140', '57', '97140', '11', '2021-07-29']\n",
      "['Mercy', 'Mercy Springfield', 'E27648', '48', 'G0283', '12', '2021-06-16']\n",
      "['SSM', 'Missouri Baptist', 'E39266', '39', '97140', '11', '2021-02-14']\n",
      "['SSM', 'Missouri Baptist', 'E40426', '40', '97140', '11', '2021-09-26']\n",
      "['SSM', 'Missouri Baptist', 'E62589', '48', '97140', '11', '2021-06-06']\n",
      "['Mercy', 'Mercy St. Louis', 'E43527', '45', '97140', '11', '2021-10-19']\n",
      "['Mercy', 'Barnes Jewish', 'E30627', '54', '97140', '11', '2021-04-03']\n",
      "['Mercy', 'Mercy Springfield', 'E35075', '64', 'G0283', '11', '2021-01-29']\n",
      "['BJC', 'Barnes Jewish', 'E33127', '71', 'G0283', '11', '2021-12-09']\n",
      "['BJC', 'SSM DePaul', 'E52049', '57', '97140', '11', '2021-03-19']\n",
      "['BJC', 'Barnes Jewish', 'E61479', '36', 'G0283', '11', '2021-06-29']\n",
      "['SSM', 'SLU Hospital', 'E40113', '34', '97140', '11', '2021-11-22']\n",
      "['BJC', 'SSM DePaul', 'E71116', '61', '97140', '12', '2021-03-04']\n",
      "['BJC', 'Mercy St. Louis', 'E39451', '34', '97140', '11', '2021-10-14']\n",
      "['SSM', 'Missouri Baptist', 'E63428', '43', '97140', '12', '2021-11-29']\n",
      "['BJC', 'SSM DePaul', 'E18132', '63', 'G0283', '12', '2021-05-25']\n",
      "['Mercy', 'SSM DePaul', 'E30652', '36', '97140', '11', '2021-09-01']\n",
      "['SSM', 'Missouri Baptist', 'E61327', '52', '97140', '12', '2021-08-09']\n",
      "['SSM', 'SLU Hospital', 'E13076', '42', '97140', '12', '2021-01-07']\n",
      "['Mercy', 'Barnes Jewish', 'E72890', '36', '97140', '12', '2021-08-15']\n",
      "['Mercy', 'SSM DePaul', 'E82016', '66', '97140', '11', '2021-07-04']\n",
      "['SSM', 'SSM DePaul', 'E26182', '36', 'G0283', '12', '2021-06-15']\n"
     ]
    }
   ],
   "source": [
    "with open(CSV_FILE) as csv:\n",
    "    counter = 0\n",
    "    max_lines = 300\n",
    "    for line in csv:    \n",
    "        values = line.strip().split(\",\")\n",
    "        print(values)\n",
    "        counter += 1\n",
    "        if counter > max_lines:\n",
    "            break\n",
    "### this is where I am calling the CSV file to be used in my code below###"
   ]
  },
  {
   "cell_type": "code",
   "execution_count": 70,
   "metadata": {},
   "outputs": [
    {
     "ename": "AttributeError",
     "evalue": "'_io.TextIOWrapper' object has no attribute 'reader'",
     "output_type": "error",
     "traceback": [
      "\u001b[0;31m---------------------------------------------------------------------------\u001b[0m",
      "\u001b[0;31mAttributeError\u001b[0m                            Traceback (most recent call last)",
      "\u001b[0;32m<ipython-input-70-6b7b135095ca>\u001b[0m in \u001b[0;36m<module>\u001b[0;34m\u001b[0m\n\u001b[0;32m----> 1\u001b[0;31m \u001b[0mhelp\u001b[0m\u001b[0;34m(\u001b[0m\u001b[0mcsv\u001b[0m\u001b[0;34m.\u001b[0m\u001b[0mreader\u001b[0m\u001b[0;34m)\u001b[0m\u001b[0;34m\u001b[0m\u001b[0;34m\u001b[0m\u001b[0m\n\u001b[0m",
      "\u001b[0;31mAttributeError\u001b[0m: '_io.TextIOWrapper' object has no attribute 'reader'"
     ]
    }
   ],
   "source": []
  },
  {
   "cell_type": "code",
   "execution_count": 75,
   "metadata": {},
   "outputs": [],
   "source": [
    "def summarize_reimbursement(visits_data,negotiated_rates):\n",
    "    by_month = {}\n",
    "    by_hospital = {}\n",
    "    \n",
    " ## here i defined sumarize reimbursment and then began the code to get the calcuated by month and hospital###   \n",
    "    with open (visits_data,'r') as f:\n",
    "        visits_data = list(csv.reader(f))\n",
    "        \n",
    "        allowed_amount = get_adjusted_rate(negotiated_rates, billing_code, service_code, patient_age, visit_date)\n",
    " ### i needed to define the allowed amount which was talked about in the earlier steps, to ensure that all of the right data was being pulled###       \n",
    "        for individual_visit in pateintvisit_data[1:]:\n",
    "            billing_code = individual_visit[4]\n",
    "            service_code = individual_visit[5]\n",
    "            patient_age = int(individual_visitt[3])\n",
    "            visit_date = individual_visit[6]\n",
    "            hospital = individual_visit[1]\n",
    " #### each entity like billing_code had a specific number that went with it to pull the right data so i have the defined above in order of how they are being pulled for allowed amounts###          \n",
    "            if allowed_amount:\n",
    "                month_data = visit_date[0:7]\n",
    "                \n",
    "                if month_data in by_month:\n",
    "                    by_month[month_data] += allowed_amount\n",
    "                else:\n",
    "                    by_month[month_data] = allowed_amount\n",
    " ### i then wrote code to get just the year and month which took some time to figure out but if i used the month and year data which only went to 7 then it ended up working for me and left our the specific day###                   \n",
    "            for month_data, value in by_month.items():\n",
    "                by_month[month_data] = round (value,2)\n",
    "            \n",
    "                if hospital_data in by_hospital:\n",
    "                    by_hospital[hospital_data] += allowed_amount\n",
    "                else:\n",
    "                    by_hospital[hospital_data] = allowed_amount\n",
    "        ### this is where I broke the data down by hospital and was able to get the           \n",
    "            for hospital_data, value in by_hospital.items():\n",
    "                by_hospital[hospital_data] = round (value,2)\n",
    "            return by_month,by_hospital"
   ]
  },
  {
   "cell_type": "code",
   "execution_count": 76,
   "metadata": {},
   "outputs": [
    {
     "ename": "AttributeError",
     "evalue": "'_io.TextIOWrapper' object has no attribute 'reader'",
     "output_type": "error",
     "traceback": [
      "\u001b[0;31m---------------------------------------------------------------------------\u001b[0m",
      "\u001b[0;31mAttributeError\u001b[0m                            Traceback (most recent call last)",
      "\u001b[0;32m<ipython-input-76-1cea075ff0e1>\u001b[0m in \u001b[0;36m<module>\u001b[0;34m\u001b[0m\n\u001b[0;32m----> 1\u001b[0;31m \u001b[0msummarize_reimbursement\u001b[0m\u001b[0;34m(\u001b[0m\u001b[0;34m'/data/visits.csv'\u001b[0m\u001b[0;34m,\u001b[0m\u001b[0;34m'/data/negotiated_rates.json'\u001b[0m\u001b[0;34m)\u001b[0m\u001b[0;34m\u001b[0m\u001b[0;34m\u001b[0m\u001b[0m\n\u001b[0m",
      "\u001b[0;32m<ipython-input-75-dc53abd27a85>\u001b[0m in \u001b[0;36msummarize_reimbursement\u001b[0;34m(visits_data, negotiated_rates)\u001b[0m\n\u001b[1;32m      5\u001b[0m  \u001b[0;31m## here i defined sumarize reimbursment and then began the code to get the calcuated by month and hospital###\u001b[0m\u001b[0;34m\u001b[0m\u001b[0;34m\u001b[0m\u001b[0;34m\u001b[0m\u001b[0m\n\u001b[1;32m      6\u001b[0m     \u001b[0;32mwith\u001b[0m \u001b[0mopen\u001b[0m \u001b[0;34m(\u001b[0m\u001b[0mvisits_data\u001b[0m\u001b[0;34m,\u001b[0m\u001b[0;34m'r'\u001b[0m\u001b[0;34m)\u001b[0m \u001b[0;32mas\u001b[0m \u001b[0mf\u001b[0m\u001b[0;34m:\u001b[0m\u001b[0;34m\u001b[0m\u001b[0;34m\u001b[0m\u001b[0m\n\u001b[0;32m----> 7\u001b[0;31m         \u001b[0mvisits_data\u001b[0m \u001b[0;34m=\u001b[0m \u001b[0mlist\u001b[0m\u001b[0;34m(\u001b[0m\u001b[0mcsv\u001b[0m\u001b[0;34m.\u001b[0m\u001b[0mreader\u001b[0m\u001b[0;34m(\u001b[0m\u001b[0mf\u001b[0m\u001b[0;34m)\u001b[0m\u001b[0;34m)\u001b[0m\u001b[0;34m\u001b[0m\u001b[0;34m\u001b[0m\u001b[0m\n\u001b[0m\u001b[1;32m      8\u001b[0m \u001b[0;34m\u001b[0m\u001b[0m\n\u001b[1;32m      9\u001b[0m         \u001b[0mallowed_amount\u001b[0m \u001b[0;34m=\u001b[0m \u001b[0mget_adjusted_rate\u001b[0m\u001b[0;34m(\u001b[0m\u001b[0mnegotiated_rates\u001b[0m\u001b[0;34m,\u001b[0m \u001b[0mbilling_code\u001b[0m\u001b[0;34m,\u001b[0m \u001b[0mservice_code\u001b[0m\u001b[0;34m,\u001b[0m \u001b[0mpatient_age\u001b[0m\u001b[0;34m,\u001b[0m \u001b[0mvisit_date\u001b[0m\u001b[0;34m)\u001b[0m\u001b[0;34m\u001b[0m\u001b[0;34m\u001b[0m\u001b[0m\n",
      "\u001b[0;31mAttributeError\u001b[0m: '_io.TextIOWrapper' object has no attribute 'reader'"
     ]
    }
   ],
   "source": [
    "summarize_reimbursement('/data/visits.csv','/data/negotiated_rates.json')"
   ]
  },
  {
   "cell_type": "code",
   "execution_count": 77,
   "metadata": {},
   "outputs": [
    {
     "ename": "AttributeError",
     "evalue": "'_io.TextIOWrapper' object has no attribute 'reader'",
     "output_type": "error",
     "traceback": [
      "\u001b[0;31m---------------------------------------------------------------------------\u001b[0m",
      "\u001b[0;31mAttributeError\u001b[0m                            Traceback (most recent call last)",
      "\u001b[0;32m<ipython-input-77-1cea075ff0e1>\u001b[0m in \u001b[0;36m<module>\u001b[0;34m\u001b[0m\n\u001b[0;32m----> 1\u001b[0;31m \u001b[0msummarize_reimbursement\u001b[0m\u001b[0;34m(\u001b[0m\u001b[0;34m'/data/visits.csv'\u001b[0m\u001b[0;34m,\u001b[0m\u001b[0;34m'/data/negotiated_rates.json'\u001b[0m\u001b[0;34m)\u001b[0m\u001b[0;34m\u001b[0m\u001b[0;34m\u001b[0m\u001b[0m\n\u001b[0m",
      "\u001b[0;32m<ipython-input-75-dc53abd27a85>\u001b[0m in \u001b[0;36msummarize_reimbursement\u001b[0;34m(visits_data, negotiated_rates)\u001b[0m\n\u001b[1;32m      5\u001b[0m  \u001b[0;31m## here i defined sumarize reimbursment and then began the code to get the calcuated by month and hospital###\u001b[0m\u001b[0;34m\u001b[0m\u001b[0;34m\u001b[0m\u001b[0;34m\u001b[0m\u001b[0m\n\u001b[1;32m      6\u001b[0m     \u001b[0;32mwith\u001b[0m \u001b[0mopen\u001b[0m \u001b[0;34m(\u001b[0m\u001b[0mvisits_data\u001b[0m\u001b[0;34m,\u001b[0m\u001b[0;34m'r'\u001b[0m\u001b[0;34m)\u001b[0m \u001b[0;32mas\u001b[0m \u001b[0mf\u001b[0m\u001b[0;34m:\u001b[0m\u001b[0;34m\u001b[0m\u001b[0;34m\u001b[0m\u001b[0m\n\u001b[0;32m----> 7\u001b[0;31m         \u001b[0mvisits_data\u001b[0m \u001b[0;34m=\u001b[0m \u001b[0mlist\u001b[0m\u001b[0;34m(\u001b[0m\u001b[0mcsv\u001b[0m\u001b[0;34m.\u001b[0m\u001b[0mreader\u001b[0m\u001b[0;34m(\u001b[0m\u001b[0mf\u001b[0m\u001b[0;34m)\u001b[0m\u001b[0;34m)\u001b[0m\u001b[0;34m\u001b[0m\u001b[0;34m\u001b[0m\u001b[0m\n\u001b[0m\u001b[1;32m      8\u001b[0m \u001b[0;34m\u001b[0m\u001b[0m\n\u001b[1;32m      9\u001b[0m         \u001b[0mallowed_amount\u001b[0m \u001b[0;34m=\u001b[0m \u001b[0mget_adjusted_rate\u001b[0m\u001b[0;34m(\u001b[0m\u001b[0mnegotiated_rates\u001b[0m\u001b[0;34m,\u001b[0m \u001b[0mbilling_code\u001b[0m\u001b[0;34m,\u001b[0m \u001b[0mservice_code\u001b[0m\u001b[0;34m,\u001b[0m \u001b[0mpatient_age\u001b[0m\u001b[0;34m,\u001b[0m \u001b[0mvisit_date\u001b[0m\u001b[0;34m)\u001b[0m\u001b[0;34m\u001b[0m\u001b[0;34m\u001b[0m\u001b[0m\n",
      "\u001b[0;31mAttributeError\u001b[0m: '_io.TextIOWrapper' object has no attribute 'reader'"
     ]
    }
   ],
   "source": [
    "summarize_reimbursement('/data/visits.csv','/data/negotiated_rates.json')"
   ]
  },
  {
   "cell_type": "code",
   "execution_count": null,
   "metadata": {},
   "outputs": [],
   "source": [
    "assert (summarize_reimbursement('/data/visits.csv','/data/negotiated_rates.json')[0]['2021-07'] == 277.67)\n",
    "assert (summarize_reimbursement('/data/visits.csv','/data/negotiated_rates.json')[0]['2021-03'] == 378.72)\n",
    "assert (summarize_reimbursement('/data/visits.csv','/data/negotiated_rates.json')[1]['Mercy St. Louis'] == 380.07)\n",
    "assert (summarize_reimbursement('/data/visits.csv','/data/negotiated_rates.json')[1]['Mercy Springfield'] == 518.59)"
   ]
  },
  {
   "cell_type": "code",
   "execution_count": null,
   "metadata": {},
   "outputs": [],
   "source": []
  }
 ],
 "metadata": {
  "kernelspec": {
   "display_name": "Python 3",
   "language": "python",
   "name": "python3"
  },
  "language_info": {
   "codemirror_mode": {
    "name": "ipython",
    "version": 3
   },
   "file_extension": ".py",
   "mimetype": "text/x-python",
   "name": "python",
   "nbconvert_exporter": "python",
   "pygments_lexer": "ipython3",
   "version": "3.6.7"
  }
 },
 "nbformat": 4,
 "nbformat_minor": 4
}
