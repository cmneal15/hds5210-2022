{
  "cells": [
    {
      "cell_type": "code",
      "execution_count": null,
      "id": "aacd796c-a2f5-4914-af42-3f421b4c9452",
      "metadata": {
        "id": "aacd796c-a2f5-4914-af42-3f421b4c9452"
      },
      "outputs": [],
      "source": []
    },
    {
      "cell_type": "code",
      "execution_count": 1,
      "id": "a368375c-dcf8-42d6-bf7e-8b4e0fcc8fdf",
      "metadata": {
        "id": "a368375c-dcf8-42d6-bf7e-8b4e0fcc8fdf"
      },
      "outputs": [],
      "source": [
        " # loading and importing packages\n",
        "import pandas as pd\n",
        "import numpy as np\n",
        "import sklearn\n",
        "import time\n",
        "import timeit\n",
        "import matplotlib\n",
        "import matplotlib.pyplot as plt\n",
        "import seaborn as sns\n",
        "import xgboost as xgb\n",
        "import tensorflow as tf\n",
        "from sklearn.model_selection import RepeatedKFold\n",
        "from sklearn import linear_model\n",
        "from sklearn.linear_model import TweedieRegressor\n",
        "from sklearn.model_selection import train_test_split, cross_val_score, KFold,GridSearchCV\n",
        "from sklearn.metrics import mean_squared_error\n",
        "from xgboost import XGBRegressor\n",
        "from tensorflow import keras\n",
        "from keras.models import Sequential\n",
        "from keras.layers import Dense\n",
        "from keras.layers import Dropout\n",
        "from keras.regularizers import l1"
      ]
    },
    {
      "cell_type": "code",
      "source": [
        "# loading in the data\n",
        "df_1000 = pd.read_csv('data/df_1000.csv')\n",
        "df_10000 = pd.read_csv('data/df_10000.csv')\n",
        "df_100000 = pd.read_csv('data/df_100000.csv')"
      ],
      "metadata": {
        "id": "UTGcemHibED5"
      },
      "id": "UTGcemHibED5",
      "execution_count": null,
      "outputs": []
    },
    {
      "cell_type": "code",
      "execution_count": null,
      "id": "b01171b5-f170-4387-8139-d690b925c3fc",
      "metadata": {
        "id": "b01171b5-f170-4387-8139-d690b925c3fc"
      },
      "outputs": [],
      "source": [
        " # 1,000\n",
        "# setting predictors and outcome variable\n",
        "Y = df_1000['Y']\n",
        "X = df_1000[['X1', 'X2', 'X3', 'X4']]\n",
        "# splitting into training and testing\n",
        "Xtrain, Xtest, ytrain, ytest = \\\n",
        "\n",
        "  train_test_split(X,Y,test_size = 0.20,random_state = 30)\n"
      ]
    },
    {
      "cell_type": "code",
      "execution_count": null,
      "id": "cc6904a6-112a-41e0-a597-22f04494fe03",
      "metadata": {
        "id": "cc6904a6-112a-41e0-a597-22f04494fe03"
      },
      "outputs": [],
      "source": [
        "## GLM LBFGS 1,000"
      ]
    },
    {
      "cell_type": "code",
      "execution_count": null,
      "id": "ddc05d40-655a-49ad-ac14-671b5c92bb11",
      "metadata": {
        "jupyter": {
          "source_hidden": true
        },
        "id": "ddc05d40-655a-49ad-ac14-671b5c92bb11",
        "outputId": "10c9a62c-9f41-42bb-8c7e-0ae3097bb0d7"
      },
      "outputs": [
        {
          "data": {
            "text/html": [
              "<style>#sk-container-id-1 {\n",
              "  /* Definition of color scheme common for light and dark mode */\n",
              "  --sklearn-color-text: black;\n",
              "  --sklearn-color-line: gray;\n",
              "  /* Definition of color scheme for unfitted estimators */\n",
              "  --sklearn-color-unfitted-level-0: #fff5e6;\n",
              "  --sklearn-color-unfitted-level-1: #f6e4d2;\n",
              "  --sklearn-color-unfitted-level-2: #ffe0b3;\n",
              "  --sklearn-color-unfitted-level-3: chocolate;\n",
              "  /* Definition of color scheme for fitted estimators */\n",
              "  --sklearn-color-fitted-level-0: #f0f8ff;\n",
              "  --sklearn-color-fitted-level-1: #d4ebff;\n",
              "  --sklearn-color-fitted-level-2: #b3dbfd;\n",
              "  --sklearn-color-fitted-level-3: cornflowerblue;\n",
              "\n",
              "  /* Specific color for light theme */\n",
              "  --sklearn-color-text-on-default-background: var(--sg-text-color, var(--theme-code-foreground, var(--jp-content-font-color1, black)));\n",
              "  --sklearn-color-background: var(--sg-background-color, var(--theme-background, var(--jp-layout-color0, white)));\n",
              "  --sklearn-color-border-box: var(--sg-text-color, var(--theme-code-foreground, var(--jp-content-font-color1, black)));\n",
              "  --sklearn-color-icon: #696969;\n",
              "\n",
              "  @media (prefers-color-scheme: dark) {\n",
              "    /* Redefinition of color scheme for dark theme */\n",
              "    --sklearn-color-text-on-default-background: var(--sg-text-color, var(--theme-code-foreground, var(--jp-content-font-color1, white)));\n",
              "    --sklearn-color-background: var(--sg-background-color, var(--theme-background, var(--jp-layout-color0, #111)));\n",
              "    --sklearn-color-border-box: var(--sg-text-color, var(--theme-code-foreground, var(--jp-content-font-color1, white)));\n",
              "    --sklearn-color-icon: #878787;\n",
              "  }\n",
              "}\n",
              "\n",
              "#sk-container-id-1 {\n",
              "  color: var(--sklearn-color-text);\n",
              "}\n",
              "\n",
              "#sk-container-id-1 pre {\n",
              "  padding: 0;\n",
              "}\n",
              "\n",
              "#sk-container-id-1 input.sk-hidden--visually {\n",
              "  border: 0;\n",
              "  clip: rect(1px 1px 1px 1px);\n",
              "  clip: rect(1px, 1px, 1px, 1px);\n",
              "  height: 1px;\n",
              "  margin: -1px;\n",
              "  overflow: hidden;\n",
              "  padding: 0;\n",
              "  position: absolute;\n",
              "  width: 1px;\n",
              "}\n",
              "\n",
              "#sk-container-id-1 div.sk-dashed-wrapped {\n",
              "  border: 1px dashed var(--sklearn-color-line);\n",
              "  margin: 0 0.4em 0.5em 0.4em;\n",
              "  box-sizing: border-box;\n",
              "  padding-bottom: 0.4em;\n",
              "  background-color: var(--sklearn-color-background);\n",
              "}\n",
              "\n",
              "#sk-container-id-1 div.sk-container {\n",
              "  /* jupyter's `normalize.less` sets `[hidden] { display: none; }`\n",
              "     but bootstrap.min.css set `[hidden] { display: none !important; }`\n",
              "     so we also need the `!important` here to be able to override the\n",
              "     default hidden behavior on the sphinx rendered scikit-learn.org.\n",
              "     See: https://github.com/scikit-learn/scikit-learn/issues/21755 */\n",
              "  display: inline-block !important;\n",
              "  position: relative;\n",
              "}\n",
              "\n",
              "#sk-container-id-1 div.sk-text-repr-fallback {\n",
              "  display: none;\n",
              "}\n",
              "\n",
              "div.sk-parallel-item,\n",
              "div.sk-serial,\n",
              "div.sk-item {\n",
              "  /* draw centered vertical line to link estimators */\n",
              "  background-image: linear-gradient(var(--sklearn-color-text-on-default-background), var(--sklearn-color-text-on-default-background));\n",
              "  background-size: 2px 100%;\n",
              "  background-repeat: no-repeat;\n",
              "  background-position: center center;\n",
              "}\n",
              "\n",
              "/* Parallel-specific style estimator block */\n",
              "\n",
              "#sk-container-id-1 div.sk-parallel-item::after {\n",
              "  content: \"\";\n",
              "  width: 100%;\n",
              "  border-bottom: 2px solid var(--sklearn-color-text-on-default-background);\n",
              "  flex-grow: 1;\n",
              "}\n",
              "\n",
              "#sk-container-id-1 div.sk-parallel {\n",
              "  display: flex;\n",
              "  align-items: stretch;\n",
              "  justify-content: center;\n",
              "  background-color: var(--sklearn-color-background);\n",
              "  position: relative;\n",
              "}\n",
              "\n",
              "#sk-container-id-1 div.sk-parallel-item {\n",
              "  display: flex;\n",
              "  flex-direction: column;\n",
              "}\n",
              "\n",
              "#sk-container-id-1 div.sk-parallel-item:first-child::after {\n",
              "  align-self: flex-end;\n",
              "  width: 50%;\n",
              "}\n",
              "\n",
              "#sk-container-id-1 div.sk-parallel-item:last-child::after {\n",
              "  align-self: flex-start;\n",
              "  width: 50%;\n",
              "}\n",
              "\n",
              "#sk-container-id-1 div.sk-parallel-item:only-child::after {\n",
              "  width: 0;\n",
              "}\n",
              "\n",
              "/* Serial-specific style estimator block */\n",
              "\n",
              "#sk-container-id-1 div.sk-serial {\n",
              "  display: flex;\n",
              "  flex-direction: column;\n",
              "  align-items: center;\n",
              "  background-color: var(--sklearn-color-background);\n",
              "  padding-right: 1em;\n",
              "  padding-left: 1em;\n",
              "}\n",
              "\n",
              "\n",
              "/* Toggleable style: style used for estimator/Pipeline/ColumnTransformer box that is\n",
              "clickable and can be expanded/collapsed.\n",
              "- Pipeline and ColumnTransformer use this feature and define the default style\n",
              "- Estimators will overwrite some part of the style using the `sk-estimator` class\n",
              "*/\n",
              "\n",
              "/* Pipeline and ColumnTransformer style (default) */\n",
              "\n",
              "#sk-container-id-1 div.sk-toggleable {\n",
              "  /* Default theme specific background. It is overwritten whether we have a\n",
              "  specific estimator or a Pipeline/ColumnTransformer */\n",
              "  background-color: var(--sklearn-color-background);\n",
              "}\n",
              "\n",
              "/* Toggleable label */\n",
              "#sk-container-id-1 label.sk-toggleable__label {\n",
              "  cursor: pointer;\n",
              "  display: block;\n",
              "  width: 100%;\n",
              "  margin-bottom: 0;\n",
              "  padding: 0.5em;\n",
              "  box-sizing: border-box;\n",
              "  text-align: center;\n",
              "}\n",
              "\n",
              "#sk-container-id-1 label.sk-toggleable__label-arrow:before {\n",
              "  /* Arrow on the left of the label */\n",
              "  content: \"▸\";\n",
              "  float: left;\n",
              "  margin-right: 0.25em;\n",
              "  color: var(--sklearn-color-icon);\n",
              "}\n",
              "\n",
              "#sk-container-id-1 label.sk-toggleable__label-arrow:hover:before {\n",
              "  color: var(--sklearn-color-text);\n",
              "}\n",
              "\n",
              "/* Toggleable content - dropdown */\n",
              "\n",
              "#sk-container-id-1 div.sk-toggleable__content {\n",
              "  max-height: 0;\n",
              "  max-width: 0;\n",
              "  overflow: hidden;\n",
              "  text-align: left;\n",
              "  /* unfitted */\n",
              "  background-color: var(--sklearn-color-unfitted-level-0);\n",
              "}\n",
              "\n",
              "#sk-container-id-1 div.sk-toggleable__content.fitted {\n",
              "  /* fitted */\n",
              "  background-color: var(--sklearn-color-fitted-level-0);\n",
              "}\n",
              "\n",
              "#sk-container-id-1 div.sk-toggleable__content pre {\n",
              "  margin: 0.2em;\n",
              "  border-radius: 0.25em;\n",
              "  color: var(--sklearn-color-text);\n",
              "  /* unfitted */\n",
              "  background-color: var(--sklearn-color-unfitted-level-0);\n",
              "}\n",
              "\n",
              "#sk-container-id-1 div.sk-toggleable__content.fitted pre {\n",
              "  /* unfitted */\n",
              "  background-color: var(--sklearn-color-fitted-level-0);\n",
              "}\n",
              "\n",
              "#sk-container-id-1 input.sk-toggleable__control:checked~div.sk-toggleable__content {\n",
              "  /* Expand drop-down */\n",
              "  max-height: 200px;\n",
              "  max-width: 100%;\n",
              "  overflow: auto;\n",
              "}\n",
              "\n",
              "#sk-container-id-1 input.sk-toggleable__control:checked~label.sk-toggleable__label-arrow:before {\n",
              "  content: \"▾\";\n",
              "}\n",
              "\n",
              "/* Pipeline/ColumnTransformer-specific style */\n",
              "\n",
              "#sk-container-id-1 div.sk-label input.sk-toggleable__control:checked~label.sk-toggleable__label {\n",
              "  color: var(--sklearn-color-text);\n",
              "  background-color: var(--sklearn-color-unfitted-level-2);\n",
              "}\n",
              "\n",
              "#sk-container-id-1 div.sk-label.fitted input.sk-toggleable__control:checked~label.sk-toggleable__label {\n",
              "  background-color: var(--sklearn-color-fitted-level-2);\n",
              "}\n",
              "\n",
              "/* Estimator-specific style */\n",
              "\n",
              "/* Colorize estimator box */\n",
              "#sk-container-id-1 div.sk-estimator input.sk-toggleable__control:checked~label.sk-toggleable__label {\n",
              "  /* unfitted */\n",
              "  background-color: var(--sklearn-color-unfitted-level-2);\n",
              "}\n",
              "\n",
              "#sk-container-id-1 div.sk-estimator.fitted input.sk-toggleable__control:checked~label.sk-toggleable__label {\n",
              "  /* fitted */\n",
              "  background-color: var(--sklearn-color-fitted-level-2);\n",
              "}\n",
              "\n",
              "#sk-container-id-1 div.sk-label label.sk-toggleable__label,\n",
              "#sk-container-id-1 div.sk-label label {\n",
              "  /* The background is the default theme color */\n",
              "  color: var(--sklearn-color-text-on-default-background);\n",
              "}\n",
              "\n",
              "/* On hover, darken the color of the background */\n",
              "#sk-container-id-1 div.sk-label:hover label.sk-toggleable__label {\n",
              "  color: var(--sklearn-color-text);\n",
              "  background-color: var(--sklearn-color-unfitted-level-2);\n",
              "}\n",
              "\n",
              "/* Label box, darken color on hover, fitted */\n",
              "#sk-container-id-1 div.sk-label.fitted:hover label.sk-toggleable__label.fitted {\n",
              "  color: var(--sklearn-color-text);\n",
              "  background-color: var(--sklearn-color-fitted-level-2);\n",
              "}\n",
              "\n",
              "/* Estimator label */\n",
              "\n",
              "#sk-container-id-1 div.sk-label label {\n",
              "  font-family: monospace;\n",
              "  font-weight: bold;\n",
              "  display: inline-block;\n",
              "  line-height: 1.2em;\n",
              "}\n",
              "\n",
              "#sk-container-id-1 div.sk-label-container {\n",
              "  text-align: center;\n",
              "}\n",
              "\n",
              "/* Estimator-specific */\n",
              "#sk-container-id-1 div.sk-estimator {\n",
              "  font-family: monospace;\n",
              "  border: 1px dotted var(--sklearn-color-border-box);\n",
              "  border-radius: 0.25em;\n",
              "  box-sizing: border-box;\n",
              "  margin-bottom: 0.5em;\n",
              "  /* unfitted */\n",
              "  background-color: var(--sklearn-color-unfitted-level-0);\n",
              "}\n",
              "\n",
              "#sk-container-id-1 div.sk-estimator.fitted {\n",
              "  /* fitted */\n",
              "  background-color: var(--sklearn-color-fitted-level-0);\n",
              "}\n",
              "\n",
              "/* on hover */\n",
              "#sk-container-id-1 div.sk-estimator:hover {\n",
              "  /* unfitted */\n",
              "  background-color: var(--sklearn-color-unfitted-level-2);\n",
              "}\n",
              "\n",
              "#sk-container-id-1 div.sk-estimator.fitted:hover {\n",
              "  /* fitted */\n",
              "  background-color: var(--sklearn-color-fitted-level-2);\n",
              "}\n",
              "\n",
              "/* Specification for estimator info (e.g. \"i\" and \"?\") */\n",
              "\n",
              "/* Common style for \"i\" and \"?\" */\n",
              "\n",
              ".sk-estimator-doc-link,\n",
              "a:link.sk-estimator-doc-link,\n",
              "a:visited.sk-estimator-doc-link {\n",
              "  float: right;\n",
              "  font-size: smaller;\n",
              "  line-height: 1em;\n",
              "  font-family: monospace;\n",
              "  background-color: var(--sklearn-color-background);\n",
              "  border-radius: 1em;\n",
              "  height: 1em;\n",
              "  width: 1em;\n",
              "  text-decoration: none !important;\n",
              "  margin-left: 1ex;\n",
              "  /* unfitted */\n",
              "  border: var(--sklearn-color-unfitted-level-1) 1pt solid;\n",
              "  color: var(--sklearn-color-unfitted-level-1);\n",
              "}\n",
              "\n",
              ".sk-estimator-doc-link.fitted,\n",
              "a:link.sk-estimator-doc-link.fitted,\n",
              "a:visited.sk-estimator-doc-link.fitted {\n",
              "  /* fitted */\n",
              "  border: var(--sklearn-color-fitted-level-1) 1pt solid;\n",
              "  color: var(--sklearn-color-fitted-level-1);\n",
              "}\n",
              "\n",
              "/* On hover */\n",
              "div.sk-estimator:hover .sk-estimator-doc-link:hover,\n",
              ".sk-estimator-doc-link:hover,\n",
              "div.sk-label-container:hover .sk-estimator-doc-link:hover,\n",
              ".sk-estimator-doc-link:hover {\n",
              "  /* unfitted */\n",
              "  background-color: var(--sklearn-color-unfitted-level-3);\n",
              "  color: var(--sklearn-color-background);\n",
              "  text-decoration: none;\n",
              "}\n",
              "\n",
              "div.sk-estimator.fitted:hover .sk-estimator-doc-link.fitted:hover,\n",
              ".sk-estimator-doc-link.fitted:hover,\n",
              "div.sk-label-container:hover .sk-estimator-doc-link.fitted:hover,\n",
              ".sk-estimator-doc-link.fitted:hover {\n",
              "  /* fitted */\n",
              "  background-color: var(--sklearn-color-fitted-level-3);\n",
              "  color: var(--sklearn-color-background);\n",
              "  text-decoration: none;\n",
              "}\n",
              "\n",
              "/* Span, style for the box shown on hovering the info icon */\n",
              ".sk-estimator-doc-link span {\n",
              "  display: none;\n",
              "  z-index: 9999;\n",
              "  position: relative;\n",
              "  font-weight: normal;\n",
              "  right: .2ex;\n",
              "  padding: .5ex;\n",
              "  margin: .5ex;\n",
              "  width: min-content;\n",
              "  min-width: 20ex;\n",
              "  max-width: 50ex;\n",
              "  color: var(--sklearn-color-text);\n",
              "  box-shadow: 2pt 2pt 4pt #999;\n",
              "  /* unfitted */\n",
              "  background: var(--sklearn-color-unfitted-level-0);\n",
              "  border: .5pt solid var(--sklearn-color-unfitted-level-3);\n",
              "}\n",
              "\n",
              ".sk-estimator-doc-link.fitted span {\n",
              "  /* fitted */\n",
              "  background: var(--sklearn-color-fitted-level-0);\n",
              "  border: var(--sklearn-color-fitted-level-3);\n",
              "}\n",
              "\n",
              ".sk-estimator-doc-link:hover span {\n",
              "  display: block;\n",
              "}\n",
              "\n",
              "/* \"?\"-specific style due to the `<a>` HTML tag */\n",
              "\n",
              "#sk-container-id-1 a.estimator_doc_link {\n",
              "  float: right;\n",
              "  font-size: 1rem;\n",
              "  line-height: 1em;\n",
              "  font-family: monospace;\n",
              "  background-color: var(--sklearn-color-background);\n",
              "  border-radius: 1rem;\n",
              "  height: 1rem;\n",
              "  width: 1rem;\n",
              "  text-decoration: none;\n",
              "  /* unfitted */\n",
              "  color: var(--sklearn-color-unfitted-level-1);\n",
              "  border: var(--sklearn-color-unfitted-level-1) 1pt solid;\n",
              "}\n",
              "\n",
              "#sk-container-id-1 a.estimator_doc_link.fitted {\n",
              "  /* fitted */\n",
              "  border: var(--sklearn-color-fitted-level-1) 1pt solid;\n",
              "  color: var(--sklearn-color-fitted-level-1);\n",
              "}\n",
              "\n",
              "/* On hover */\n",
              "#sk-container-id-1 a.estimator_doc_link:hover {\n",
              "  /* unfitted */\n",
              "  background-color: var(--sklearn-color-unfitted-level-3);\n",
              "  color: var(--sklearn-color-background);\n",
              "  text-decoration: none;\n",
              "}\n",
              "\n",
              "#sk-container-id-1 a.estimator_doc_link.fitted:hover {\n",
              "  /* fitted */\n",
              "  background-color: var(--sklearn-color-fitted-level-3);\n",
              "}\n",
              "</style><div id=\"sk-container-id-1\" class=\"sk-top-container\"><div class=\"sk-text-repr-fallback\"><pre>TweedieRegressor(alpha=1, max_iter=300, power=0, tol=1e-06)</pre><b>In a Jupyter environment, please rerun this cell to show the HTML representation or trust the notebook. <br />On GitHub, the HTML representation is unable to render, please try loading this page with nbviewer.org.</b></div><div class=\"sk-container\" hidden><div class=\"sk-item\"><div class=\"sk-estimator fitted sk-toggleable\"><input class=\"sk-toggleable__control sk-hidden--visually\" id=\"sk-estimator-id-1\" type=\"checkbox\" checked><label for=\"sk-estimator-id-1\" class=\"sk-toggleable__label fitted sk-toggleable__label-arrow fitted\">&nbsp;&nbsp;TweedieRegressor<a class=\"sk-estimator-doc-link fitted\" rel=\"noreferrer\" target=\"_blank\" href=\"https://scikit-learn.org/1.4/modules/generated/sklearn.linear_model.TweedieRegressor.html\">?<span>Documentation for TweedieRegressor</span></a><span class=\"sk-estimator-doc-link fitted\">i<span>Fitted</span></span></label><div class=\"sk-toggleable__content fitted\"><pre>TweedieRegressor(alpha=1, max_iter=300, power=0, tol=1e-06)</pre></div> </div></div></div></div>"
            ],
            "text/plain": [
              "TweedieRegressor(alpha=1, max_iter=300, power=0, tol=1e-06)"
            ]
          },
          "execution_count": 5,
          "metadata": {},
          "output_type": "execute_result"
        }
      ],
      "source": [
        "#first GLM model\n",
        "glm1_1000 = TweedieRegressor(power = 0,\n",
        "alpha = 1,\n",
        "max_iter = 300,\n",
        "tol = 1e-6,\n",
        "solver = 'lbfgs')\n",
        "# fitting the model\n",
        "glm1_1000.fit(Xtrain, ytrain)"
      ]
    },
    {
      "cell_type": "code",
      "execution_count": null,
      "id": "507ba361-e0e5-4859-8b05-7ebfc4aecdc8",
      "metadata": {
        "jupyter": {
          "source_hidden": true
        },
        "id": "507ba361-e0e5-4859-8b05-7ebfc4aecdc8",
        "outputId": "894c725a-bbec-4a5e-e783-0b328e378493"
      },
      "outputs": [
        {
          "name": "stdout",
          "output_type": "stream",
          "text": [
            "Training set RMSE:  2808895.42133\n",
            "Holdout set RMSE:  2703415.49299\n"
          ]
        }
      ],
      "source": [
        "# predictions on training and holdout sets\n",
        "glm1_trainpreds = glm1_1000.predict(Xtrain)\n",
        "glm1_testpreds = glm1_1000.predict(Xtest)\n",
        "\n",
        "#calculating MSE and RMSE for training set\n",
        "glm1_train_mse = mean_squared_error(ytrain, glm1_trainpreds)\n",
        "glm1_train_rmse = np.sqrt(glm1_train_mse)\n",
        "\n",
        "#calculating MSE and RMSE for holdout set\n",
        "glm1_test_mse = mean_squared_error(ytest, glm1_testpreds)\n",
        "glm1_test_rmse = np.sqrt(glm1_test_mse)\n",
        "print('Training set RMSE: ', round(glm1_train_rmse, 5))\n",
        "print('Holdout set RMSE: ', round(glm1_test_rmse, 5))\n",
        "\n"
      ]
    },
    {
      "cell_type": "code",
      "execution_count": null,
      "id": "34eca362-6bfd-43d4-ac91-fdb8756c8fb6",
      "metadata": {
        "id": "34eca362-6bfd-43d4-ac91-fdb8756c8fb6",
        "outputId": "5b1d6f34-0c3f-480e-f882-12afa926707b"
      },
      "outputs": [
        {
          "name": "stdout",
          "output_type": "stream",
          "text": [
            "Training set R-squared:  0.8996013172338956\n",
            "Holdout set R-squared:  0.8871382909339401\n"
          ]
        }
      ],
      "source": [
        "# R-squared - training set\n",
        "glm1_1000_Rtrain = glm1_1000.score(Xtrain, ytrain)\n",
        "\n",
        "# R-squared - testing set\n",
        "glm1_1000_Rtest = glm1_1000.score(Xtest, ytest)\n",
        "\n",
        "print('Training set R-squared: ', glm1_1000_Rtrain)\n",
        "print('Holdout set R-squared: ', glm1_1000_Rtest)"
      ]
    },
    {
      "cell_type": "code",
      "execution_count": null,
      "id": "c2bc5cd7-5be4-42e9-ab87-5c95ea492459",
      "metadata": {
        "id": "c2bc5cd7-5be4-42e9-ab87-5c95ea492459",
        "outputId": "84f66481-342e-4a2b-e58a-1f9ba4e8e732"
      },
      "outputs": [
        {
          "name": "stdout",
          "output_type": "stream",
          "text": [
            "0.01692 seconds\n"
          ]
        }
      ],
      "source": [
        "# timing model\n",
        "glm1_1000_time = \"\"\"\n",
        "#first GLM model\n",
        "\n",
        "glm1_1000 = TweedieRegressor(power = 0,alpha = 1,max_iter = 300,tol =␣\n",
        "↪1e-6,solver = 'lbfgs')\n",
        "#Fitting the model\n",
        "glm1_1000.fit(Xtrain, ytrain)\n",
        "\"\"\"\n",
        "glm1_1000_time = round(timeit.timeit(stmt = glm1_1000_time, globals=globals(),number=1), 5)\n",
        "print(glm1_1000_time, 'seconds')"
      ]
    },
    {
      "cell_type": "code",
      "execution_count": null,
      "id": "3e5d194d-7286-4287-b4c4-d470134a82d3",
      "metadata": {
        "id": "3e5d194d-7286-4287-b4c4-d470134a82d3",
        "outputId": "6b795441-7c4f-435e-8aac-93768303e3be"
      },
      "outputs": [
        {
          "data": {
            "text/plain": [
              "0.014572381973266602"
            ]
          },
          "execution_count": 9,
          "metadata": {},
          "output_type": "execute_result"
        }
      ],
      "source": [
        "# fitting time model\n",
        "train_start = time.time()\n",
        "glm1_1000.fit(Xtrain, ytrain)\n",
        "train_time = time.time() - train_start\n",
        "\n",
        "# prediction time\n",
        "pred_start = time.time()\n",
        "glm1_1000.predict(Xtrain)\n",
        "glm1_1000.predict(Xtest)\n",
        "\n",
        "pred_time = time.time() - pred_start\n",
        "\n",
        "train_pred_time = train_time + pred_time\n",
        "train_pred_time\n"
      ]
    },
    {
      "cell_type": "code",
      "execution_count": null,
      "id": "dcd4cd2c-0198-4db3-af90-74522d0a9e85",
      "metadata": {
        "id": "dcd4cd2c-0198-4db3-af90-74522d0a9e85",
        "outputId": "d7f19e95-eada-42cc-83ae-9b0ed078d571"
      },
      "outputs": [
        {
          "data": {
            "text/plain": [
              "1628.9334853205294"
            ]
          },
          "execution_count": 10,
          "metadata": {},
          "output_type": "execute_result"
        }
      ],
      "source": [
        "# model efficiency\n",
        "glm1_avg_rmse = (glm1_train_rmse + glm1_test_rmse) / 2\n",
        "glm1_1000_eff = glm1_avg_rmse / glm1_1000_time\n",
        "glm1_1000_eff / 100000"
      ]
    },
    {
      "cell_type": "code",
      "execution_count": null,
      "id": "48674845-4fed-4ca5-9dfc-9caf414300f4",
      "metadata": {
        "id": "48674845-4fed-4ca5-9dfc-9caf414300f4"
      },
      "outputs": [],
      "source": [
        "\n"
      ]
    },
    {
      "cell_type": "code",
      "execution_count": null,
      "id": "061a655f-ecda-42a5-987d-ecd48ea91081",
      "metadata": {
        "id": "061a655f-ecda-42a5-987d-ecd48ea91081"
      },
      "outputs": [],
      "source": []
    },
    {
      "cell_type": "code",
      "execution_count": null,
      "id": "1ffd96c7-35b1-448a-b573-b30e51a3de88",
      "metadata": {
        "id": "1ffd96c7-35b1-448a-b573-b30e51a3de88"
      },
      "outputs": [],
      "source": []
    },
    {
      "cell_type": "code",
      "execution_count": null,
      "id": "aaa9d2bd-9f47-4cb3-9e8a-a5227aa5c7d6",
      "metadata": {
        "id": "aaa9d2bd-9f47-4cb3-9e8a-a5227aa5c7d6"
      },
      "outputs": [],
      "source": [
        "## GLM Newton-Cholesky 1,000"
      ]
    },
    {
      "cell_type": "code",
      "execution_count": null,
      "id": "8331b86a-395f-4f48-8aa3-9c0358273ee1",
      "metadata": {
        "id": "8331b86a-395f-4f48-8aa3-9c0358273ee1",
        "outputId": "fa44359e-4e40-4eef-b39e-40e89d3729e6"
      },
      "outputs": [
        {
          "data": {
            "text/html": [
              "<style>#sk-container-id-2 {\n",
              "  /* Definition of color scheme common for light and dark mode */\n",
              "  --sklearn-color-text: black;\n",
              "  --sklearn-color-line: gray;\n",
              "  /* Definition of color scheme for unfitted estimators */\n",
              "  --sklearn-color-unfitted-level-0: #fff5e6;\n",
              "  --sklearn-color-unfitted-level-1: #f6e4d2;\n",
              "  --sklearn-color-unfitted-level-2: #ffe0b3;\n",
              "  --sklearn-color-unfitted-level-3: chocolate;\n",
              "  /* Definition of color scheme for fitted estimators */\n",
              "  --sklearn-color-fitted-level-0: #f0f8ff;\n",
              "  --sklearn-color-fitted-level-1: #d4ebff;\n",
              "  --sklearn-color-fitted-level-2: #b3dbfd;\n",
              "  --sklearn-color-fitted-level-3: cornflowerblue;\n",
              "\n",
              "  /* Specific color for light theme */\n",
              "  --sklearn-color-text-on-default-background: var(--sg-text-color, var(--theme-code-foreground, var(--jp-content-font-color1, black)));\n",
              "  --sklearn-color-background: var(--sg-background-color, var(--theme-background, var(--jp-layout-color0, white)));\n",
              "  --sklearn-color-border-box: var(--sg-text-color, var(--theme-code-foreground, var(--jp-content-font-color1, black)));\n",
              "  --sklearn-color-icon: #696969;\n",
              "\n",
              "  @media (prefers-color-scheme: dark) {\n",
              "    /* Redefinition of color scheme for dark theme */\n",
              "    --sklearn-color-text-on-default-background: var(--sg-text-color, var(--theme-code-foreground, var(--jp-content-font-color1, white)));\n",
              "    --sklearn-color-background: var(--sg-background-color, var(--theme-background, var(--jp-layout-color0, #111)));\n",
              "    --sklearn-color-border-box: var(--sg-text-color, var(--theme-code-foreground, var(--jp-content-font-color1, white)));\n",
              "    --sklearn-color-icon: #878787;\n",
              "  }\n",
              "}\n",
              "\n",
              "#sk-container-id-2 {\n",
              "  color: var(--sklearn-color-text);\n",
              "}\n",
              "\n",
              "#sk-container-id-2 pre {\n",
              "  padding: 0;\n",
              "}\n",
              "\n",
              "#sk-container-id-2 input.sk-hidden--visually {\n",
              "  border: 0;\n",
              "  clip: rect(1px 1px 1px 1px);\n",
              "  clip: rect(1px, 1px, 1px, 1px);\n",
              "  height: 1px;\n",
              "  margin: -1px;\n",
              "  overflow: hidden;\n",
              "  padding: 0;\n",
              "  position: absolute;\n",
              "  width: 1px;\n",
              "}\n",
              "\n",
              "#sk-container-id-2 div.sk-dashed-wrapped {\n",
              "  border: 1px dashed var(--sklearn-color-line);\n",
              "  margin: 0 0.4em 0.5em 0.4em;\n",
              "  box-sizing: border-box;\n",
              "  padding-bottom: 0.4em;\n",
              "  background-color: var(--sklearn-color-background);\n",
              "}\n",
              "\n",
              "#sk-container-id-2 div.sk-container {\n",
              "  /* jupyter's `normalize.less` sets `[hidden] { display: none; }`\n",
              "     but bootstrap.min.css set `[hidden] { display: none !important; }`\n",
              "     so we also need the `!important` here to be able to override the\n",
              "     default hidden behavior on the sphinx rendered scikit-learn.org.\n",
              "     See: https://github.com/scikit-learn/scikit-learn/issues/21755 */\n",
              "  display: inline-block !important;\n",
              "  position: relative;\n",
              "}\n",
              "\n",
              "#sk-container-id-2 div.sk-text-repr-fallback {\n",
              "  display: none;\n",
              "}\n",
              "\n",
              "div.sk-parallel-item,\n",
              "div.sk-serial,\n",
              "div.sk-item {\n",
              "  /* draw centered vertical line to link estimators */\n",
              "  background-image: linear-gradient(var(--sklearn-color-text-on-default-background), var(--sklearn-color-text-on-default-background));\n",
              "  background-size: 2px 100%;\n",
              "  background-repeat: no-repeat;\n",
              "  background-position: center center;\n",
              "}\n",
              "\n",
              "/* Parallel-specific style estimator block */\n",
              "\n",
              "#sk-container-id-2 div.sk-parallel-item::after {\n",
              "  content: \"\";\n",
              "  width: 100%;\n",
              "  border-bottom: 2px solid var(--sklearn-color-text-on-default-background);\n",
              "  flex-grow: 1;\n",
              "}\n",
              "\n",
              "#sk-container-id-2 div.sk-parallel {\n",
              "  display: flex;\n",
              "  align-items: stretch;\n",
              "  justify-content: center;\n",
              "  background-color: var(--sklearn-color-background);\n",
              "  position: relative;\n",
              "}\n",
              "\n",
              "#sk-container-id-2 div.sk-parallel-item {\n",
              "  display: flex;\n",
              "  flex-direction: column;\n",
              "}\n",
              "\n",
              "#sk-container-id-2 div.sk-parallel-item:first-child::after {\n",
              "  align-self: flex-end;\n",
              "  width: 50%;\n",
              "}\n",
              "\n",
              "#sk-container-id-2 div.sk-parallel-item:last-child::after {\n",
              "  align-self: flex-start;\n",
              "  width: 50%;\n",
              "}\n",
              "\n",
              "#sk-container-id-2 div.sk-parallel-item:only-child::after {\n",
              "  width: 0;\n",
              "}\n",
              "\n",
              "/* Serial-specific style estimator block */\n",
              "\n",
              "#sk-container-id-2 div.sk-serial {\n",
              "  display: flex;\n",
              "  flex-direction: column;\n",
              "  align-items: center;\n",
              "  background-color: var(--sklearn-color-background);\n",
              "  padding-right: 1em;\n",
              "  padding-left: 1em;\n",
              "}\n",
              "\n",
              "\n",
              "/* Toggleable style: style used for estimator/Pipeline/ColumnTransformer box that is\n",
              "clickable and can be expanded/collapsed.\n",
              "- Pipeline and ColumnTransformer use this feature and define the default style\n",
              "- Estimators will overwrite some part of the style using the `sk-estimator` class\n",
              "*/\n",
              "\n",
              "/* Pipeline and ColumnTransformer style (default) */\n",
              "\n",
              "#sk-container-id-2 div.sk-toggleable {\n",
              "  /* Default theme specific background. It is overwritten whether we have a\n",
              "  specific estimator or a Pipeline/ColumnTransformer */\n",
              "  background-color: var(--sklearn-color-background);\n",
              "}\n",
              "\n",
              "/* Toggleable label */\n",
              "#sk-container-id-2 label.sk-toggleable__label {\n",
              "  cursor: pointer;\n",
              "  display: block;\n",
              "  width: 100%;\n",
              "  margin-bottom: 0;\n",
              "  padding: 0.5em;\n",
              "  box-sizing: border-box;\n",
              "  text-align: center;\n",
              "}\n",
              "\n",
              "#sk-container-id-2 label.sk-toggleable__label-arrow:before {\n",
              "  /* Arrow on the left of the label */\n",
              "  content: \"▸\";\n",
              "  float: left;\n",
              "  margin-right: 0.25em;\n",
              "  color: var(--sklearn-color-icon);\n",
              "}\n",
              "\n",
              "#sk-container-id-2 label.sk-toggleable__label-arrow:hover:before {\n",
              "  color: var(--sklearn-color-text);\n",
              "}\n",
              "\n",
              "/* Toggleable content - dropdown */\n",
              "\n",
              "#sk-container-id-2 div.sk-toggleable__content {\n",
              "  max-height: 0;\n",
              "  max-width: 0;\n",
              "  overflow: hidden;\n",
              "  text-align: left;\n",
              "  /* unfitted */\n",
              "  background-color: var(--sklearn-color-unfitted-level-0);\n",
              "}\n",
              "\n",
              "#sk-container-id-2 div.sk-toggleable__content.fitted {\n",
              "  /* fitted */\n",
              "  background-color: var(--sklearn-color-fitted-level-0);\n",
              "}\n",
              "\n",
              "#sk-container-id-2 div.sk-toggleable__content pre {\n",
              "  margin: 0.2em;\n",
              "  border-radius: 0.25em;\n",
              "  color: var(--sklearn-color-text);\n",
              "  /* unfitted */\n",
              "  background-color: var(--sklearn-color-unfitted-level-0);\n",
              "}\n",
              "\n",
              "#sk-container-id-2 div.sk-toggleable__content.fitted pre {\n",
              "  /* unfitted */\n",
              "  background-color: var(--sklearn-color-fitted-level-0);\n",
              "}\n",
              "\n",
              "#sk-container-id-2 input.sk-toggleable__control:checked~div.sk-toggleable__content {\n",
              "  /* Expand drop-down */\n",
              "  max-height: 200px;\n",
              "  max-width: 100%;\n",
              "  overflow: auto;\n",
              "}\n",
              "\n",
              "#sk-container-id-2 input.sk-toggleable__control:checked~label.sk-toggleable__label-arrow:before {\n",
              "  content: \"▾\";\n",
              "}\n",
              "\n",
              "/* Pipeline/ColumnTransformer-specific style */\n",
              "\n",
              "#sk-container-id-2 div.sk-label input.sk-toggleable__control:checked~label.sk-toggleable__label {\n",
              "  color: var(--sklearn-color-text);\n",
              "  background-color: var(--sklearn-color-unfitted-level-2);\n",
              "}\n",
              "\n",
              "#sk-container-id-2 div.sk-label.fitted input.sk-toggleable__control:checked~label.sk-toggleable__label {\n",
              "  background-color: var(--sklearn-color-fitted-level-2);\n",
              "}\n",
              "\n",
              "/* Estimator-specific style */\n",
              "\n",
              "/* Colorize estimator box */\n",
              "#sk-container-id-2 div.sk-estimator input.sk-toggleable__control:checked~label.sk-toggleable__label {\n",
              "  /* unfitted */\n",
              "  background-color: var(--sklearn-color-unfitted-level-2);\n",
              "}\n",
              "\n",
              "#sk-container-id-2 div.sk-estimator.fitted input.sk-toggleable__control:checked~label.sk-toggleable__label {\n",
              "  /* fitted */\n",
              "  background-color: var(--sklearn-color-fitted-level-2);\n",
              "}\n",
              "\n",
              "#sk-container-id-2 div.sk-label label.sk-toggleable__label,\n",
              "#sk-container-id-2 div.sk-label label {\n",
              "  /* The background is the default theme color */\n",
              "  color: var(--sklearn-color-text-on-default-background);\n",
              "}\n",
              "\n",
              "/* On hover, darken the color of the background */\n",
              "#sk-container-id-2 div.sk-label:hover label.sk-toggleable__label {\n",
              "  color: var(--sklearn-color-text);\n",
              "  background-color: var(--sklearn-color-unfitted-level-2);\n",
              "}\n",
              "\n",
              "/* Label box, darken color on hover, fitted */\n",
              "#sk-container-id-2 div.sk-label.fitted:hover label.sk-toggleable__label.fitted {\n",
              "  color: var(--sklearn-color-text);\n",
              "  background-color: var(--sklearn-color-fitted-level-2);\n",
              "}\n",
              "\n",
              "/* Estimator label */\n",
              "\n",
              "#sk-container-id-2 div.sk-label label {\n",
              "  font-family: monospace;\n",
              "  font-weight: bold;\n",
              "  display: inline-block;\n",
              "  line-height: 1.2em;\n",
              "}\n",
              "\n",
              "#sk-container-id-2 div.sk-label-container {\n",
              "  text-align: center;\n",
              "}\n",
              "\n",
              "/* Estimator-specific */\n",
              "#sk-container-id-2 div.sk-estimator {\n",
              "  font-family: monospace;\n",
              "  border: 1px dotted var(--sklearn-color-border-box);\n",
              "  border-radius: 0.25em;\n",
              "  box-sizing: border-box;\n",
              "  margin-bottom: 0.5em;\n",
              "  /* unfitted */\n",
              "  background-color: var(--sklearn-color-unfitted-level-0);\n",
              "}\n",
              "\n",
              "#sk-container-id-2 div.sk-estimator.fitted {\n",
              "  /* fitted */\n",
              "  background-color: var(--sklearn-color-fitted-level-0);\n",
              "}\n",
              "\n",
              "/* on hover */\n",
              "#sk-container-id-2 div.sk-estimator:hover {\n",
              "  /* unfitted */\n",
              "  background-color: var(--sklearn-color-unfitted-level-2);\n",
              "}\n",
              "\n",
              "#sk-container-id-2 div.sk-estimator.fitted:hover {\n",
              "  /* fitted */\n",
              "  background-color: var(--sklearn-color-fitted-level-2);\n",
              "}\n",
              "\n",
              "/* Specification for estimator info (e.g. \"i\" and \"?\") */\n",
              "\n",
              "/* Common style for \"i\" and \"?\" */\n",
              "\n",
              ".sk-estimator-doc-link,\n",
              "a:link.sk-estimator-doc-link,\n",
              "a:visited.sk-estimator-doc-link {\n",
              "  float: right;\n",
              "  font-size: smaller;\n",
              "  line-height: 1em;\n",
              "  font-family: monospace;\n",
              "  background-color: var(--sklearn-color-background);\n",
              "  border-radius: 1em;\n",
              "  height: 1em;\n",
              "  width: 1em;\n",
              "  text-decoration: none !important;\n",
              "  margin-left: 1ex;\n",
              "  /* unfitted */\n",
              "  border: var(--sklearn-color-unfitted-level-1) 1pt solid;\n",
              "  color: var(--sklearn-color-unfitted-level-1);\n",
              "}\n",
              "\n",
              ".sk-estimator-doc-link.fitted,\n",
              "a:link.sk-estimator-doc-link.fitted,\n",
              "a:visited.sk-estimator-doc-link.fitted {\n",
              "  /* fitted */\n",
              "  border: var(--sklearn-color-fitted-level-1) 1pt solid;\n",
              "  color: var(--sklearn-color-fitted-level-1);\n",
              "}\n",
              "\n",
              "/* On hover */\n",
              "div.sk-estimator:hover .sk-estimator-doc-link:hover,\n",
              ".sk-estimator-doc-link:hover,\n",
              "div.sk-label-container:hover .sk-estimator-doc-link:hover,\n",
              ".sk-estimator-doc-link:hover {\n",
              "  /* unfitted */\n",
              "  background-color: var(--sklearn-color-unfitted-level-3);\n",
              "  color: var(--sklearn-color-background);\n",
              "  text-decoration: none;\n",
              "}\n",
              "\n",
              "div.sk-estimator.fitted:hover .sk-estimator-doc-link.fitted:hover,\n",
              ".sk-estimator-doc-link.fitted:hover,\n",
              "div.sk-label-container:hover .sk-estimator-doc-link.fitted:hover,\n",
              ".sk-estimator-doc-link.fitted:hover {\n",
              "  /* fitted */\n",
              "  background-color: var(--sklearn-color-fitted-level-3);\n",
              "  color: var(--sklearn-color-background);\n",
              "  text-decoration: none;\n",
              "}\n",
              "\n",
              "/* Span, style for the box shown on hovering the info icon */\n",
              ".sk-estimator-doc-link span {\n",
              "  display: none;\n",
              "  z-index: 9999;\n",
              "  position: relative;\n",
              "  font-weight: normal;\n",
              "  right: .2ex;\n",
              "  padding: .5ex;\n",
              "  margin: .5ex;\n",
              "  width: min-content;\n",
              "  min-width: 20ex;\n",
              "  max-width: 50ex;\n",
              "  color: var(--sklearn-color-text);\n",
              "  box-shadow: 2pt 2pt 4pt #999;\n",
              "  /* unfitted */\n",
              "  background: var(--sklearn-color-unfitted-level-0);\n",
              "  border: .5pt solid var(--sklearn-color-unfitted-level-3);\n",
              "}\n",
              "\n",
              ".sk-estimator-doc-link.fitted span {\n",
              "  /* fitted */\n",
              "  background: var(--sklearn-color-fitted-level-0);\n",
              "  border: var(--sklearn-color-fitted-level-3);\n",
              "}\n",
              "\n",
              ".sk-estimator-doc-link:hover span {\n",
              "  display: block;\n",
              "}\n",
              "\n",
              "/* \"?\"-specific style due to the `<a>` HTML tag */\n",
              "\n",
              "#sk-container-id-2 a.estimator_doc_link {\n",
              "  float: right;\n",
              "  font-size: 1rem;\n",
              "  line-height: 1em;\n",
              "  font-family: monospace;\n",
              "  background-color: var(--sklearn-color-background);\n",
              "  border-radius: 1rem;\n",
              "  height: 1rem;\n",
              "  width: 1rem;\n",
              "  text-decoration: none;\n",
              "  /* unfitted */\n",
              "  color: var(--sklearn-color-unfitted-level-1);\n",
              "  border: var(--sklearn-color-unfitted-level-1) 1pt solid;\n",
              "}\n",
              "\n",
              "#sk-container-id-2 a.estimator_doc_link.fitted {\n",
              "  /* fitted */\n",
              "  border: var(--sklearn-color-fitted-level-1) 1pt solid;\n",
              "  color: var(--sklearn-color-fitted-level-1);\n",
              "}\n",
              "\n",
              "/* On hover */\n",
              "#sk-container-id-2 a.estimator_doc_link:hover {\n",
              "  /* unfitted */\n",
              "  background-color: var(--sklearn-color-unfitted-level-3);\n",
              "  color: var(--sklearn-color-background);\n",
              "  text-decoration: none;\n",
              "}\n",
              "\n",
              "#sk-container-id-2 a.estimator_doc_link.fitted:hover {\n",
              "  /* fitted */\n",
              "  background-color: var(--sklearn-color-fitted-level-3);\n",
              "}\n",
              "</style><div id=\"sk-container-id-2\" class=\"sk-top-container\"><div class=\"sk-text-repr-fallback\"><pre>TweedieRegressor(alpha=1, max_iter=300, power=1, solver=&#x27;newton-cholesky&#x27;,\n",
              "                 tol=1e-06)</pre><b>In a Jupyter environment, please rerun this cell to show the HTML representation or trust the notebook. <br />On GitHub, the HTML representation is unable to render, please try loading this page with nbviewer.org.</b></div><div class=\"sk-container\" hidden><div class=\"sk-item\"><div class=\"sk-estimator fitted sk-toggleable\"><input class=\"sk-toggleable__control sk-hidden--visually\" id=\"sk-estimator-id-2\" type=\"checkbox\" checked><label for=\"sk-estimator-id-2\" class=\"sk-toggleable__label fitted sk-toggleable__label-arrow fitted\">&nbsp;&nbsp;TweedieRegressor<a class=\"sk-estimator-doc-link fitted\" rel=\"noreferrer\" target=\"_blank\" href=\"https://scikit-learn.org/1.4/modules/generated/sklearn.linear_model.TweedieRegressor.html\">?<span>Documentation for TweedieRegressor</span></a><span class=\"sk-estimator-doc-link fitted\">i<span>Fitted</span></span></label><div class=\"sk-toggleable__content fitted\"><pre>TweedieRegressor(alpha=1, max_iter=300, power=1, solver=&#x27;newton-cholesky&#x27;,\n",
              "                 tol=1e-06)</pre></div> </div></div></div></div>"
            ],
            "text/plain": [
              "TweedieRegressor(alpha=1, max_iter=300, power=1, solver='newton-cholesky',\n",
              "                 tol=1e-06)"
            ]
          },
          "execution_count": 12,
          "metadata": {},
          "output_type": "execute_result"
        }
      ],
      "source": [
        "#second GLM model\n",
        "glm2_1000 = TweedieRegressor(power = 1,\n",
        "alpha = 1,\n",
        "max_iter = 300,\n",
        "tol = 1e-6,\n",
        "solver = 'newton-cholesky')\n",
        "\n",
        "#Fitting the model\n",
        "glm2_1000.fit(Xtrain, ytrain)"
      ]
    },
    {
      "cell_type": "code",
      "execution_count": null,
      "id": "b4fe4895-4a46-44cc-ba1c-ba9ebd776382",
      "metadata": {
        "id": "b4fe4895-4a46-44cc-ba1c-ba9ebd776382",
        "outputId": "e3c79b00-2db6-4a3f-8892-23b6a91d1428"
      },
      "outputs": [
        {
          "name": "stdout",
          "output_type": "stream",
          "text": [
            "Training set RMSE:  1431480.63428\n",
            "Holdout set RMSE:  921097.86206\n"
          ]
        }
      ],
      "source": [
        "#predictions on training and holdout sets\n",
        "glm2_trainpreds = glm2_1000.predict(Xtrain)\n",
        "glm2_testpreds = glm2_1000.predict(Xtest)\n",
        "\n",
        "#MSE and RMSE - training\n",
        "glm2_train_mse = mean_squared_error(ytrain, glm2_trainpreds)\n",
        "glm2_train_rmse = np.sqrt(glm2_train_mse)\n",
        "\n",
        "#MSE and RMSE for testing\n",
        "glm2_test_mse = mean_squared_error(ytest, glm2_testpreds)\n",
        "glm2_test_rmse = np.sqrt(glm2_test_mse)\n",
        "\n",
        "print('Training set RMSE: ', round(glm2_train_rmse, 5))\n",
        "print('Holdout set RMSE: ', round(glm2_test_rmse, 5))\n",
        "\n"
      ]
    },
    {
      "cell_type": "code",
      "execution_count": null,
      "id": "d5fcd0f3-02d0-48f8-bb0c-2453ee186ca7",
      "metadata": {
        "id": "d5fcd0f3-02d0-48f8-bb0c-2453ee186ca7",
        "outputId": "13599080-965e-4e5f-dc90-230f52bcfd74"
      },
      "outputs": [
        {
          "name": "stdout",
          "output_type": "stream",
          "text": [
            "Training set R-squared:  0.9853876367486896\n",
            "Holdout set R-squared:  0.985099424418628\n"
          ]
        }
      ],
      "source": [
        "#R-squared - training set\n",
        "glm2_1000_Rtrain = glm2_1000.score(Xtrain, ytrain)\n",
        "\n",
        "#R-squared - testing set\n",
        "glm2_1000_Rtest = glm2_1000.score(Xtest, ytest)\n",
        "\n",
        "print('Training set R-squared: ', glm2_1000_Rtrain)\n",
        "print('Holdout set R-squared: ', glm2_1000_Rtest)"
      ]
    },
    {
      "cell_type": "code",
      "execution_count": null,
      "id": "92e72031-75c8-4696-ab99-088dae6d6312",
      "metadata": {
        "id": "92e72031-75c8-4696-ab99-088dae6d6312",
        "outputId": "170571a2-fa86-453a-e566-2592a348c095"
      },
      "outputs": [
        {
          "name": "stdout",
          "output_type": "stream",
          "text": [
            "0.00591 seconds\n"
          ]
        }
      ],
      "source": [
        "#Timing the model\n",
        "glm2_1000_time = \"\"\"\n",
        "#GLM model parameters with newton-cholesky solver\n",
        "glm2_1000 = TweedieRegressor(power = 1,\n",
        "alpha = 1,\n",
        "max_iter = 300,\n",
        "tol = 1e-6,\n",
        "solver = 'newton-cholesky')\n",
        "#Fitting the model\n",
        "glm2_1000.fit(Xtrain, ytrain)\n",
        "\"\"\"\n",
        "glm2_1000_time = round(timeit.timeit(stmt = glm2_1000_time, globals=globals(),number=1), 5)\n",
        "print(glm2_1000_time, 'seconds')\n"
      ]
    },
    {
      "cell_type": "code",
      "execution_count": null,
      "id": "c2e3ba2b-2e54-43bd-8534-2d0a9a005ba5",
      "metadata": {
        "id": "c2e3ba2b-2e54-43bd-8534-2d0a9a005ba5",
        "outputId": "1cb75e09-d0f9-479d-ed6f-52f3ce31762b"
      },
      "outputs": [
        {
          "data": {
            "text/plain": [
              "0.0034656524658203125"
            ]
          },
          "execution_count": 16,
          "metadata": {},
          "output_type": "execute_result"
        }
      ],
      "source": [
        "train_start = time.time()\n",
        "glm2_1000.fit(Xtrain, ytrain)\n",
        "train_time = time.time() - train_start\n",
        "\n",
        "pred_start = time.time()\n",
        "\n",
        "glm2_1000.predict(Xtrain)\n",
        "\n",
        "glm2_1000.predict(Xtest)\n",
        "\n",
        "pred_time = time.time() - pred_start\n",
        "\n",
        "train_pred_time = train_time + pred_time\n",
        "train_pred_time\n",
        "\n"
      ]
    },
    {
      "cell_type": "code",
      "execution_count": null,
      "id": "56364e52-2bc3-4963-92ef-a98162cff62a",
      "metadata": {
        "id": "56364e52-2bc3-4963-92ef-a98162cff62a",
        "outputId": "37155898-446c-4820-affa-9f5e5d38a7e6"
      },
      "outputs": [
        {
          "data": {
            "text/plain": [
              "3394.1350431743817"
            ]
          },
          "execution_count": 17,
          "metadata": {},
          "output_type": "execute_result"
        }
      ],
      "source": [
        "# model efficiency\n",
        "glm2_avg_rmse = (glm2_train_rmse + glm2_test_rmse) / 2\n",
        "glm2_1000_eff = glm2_avg_rmse / train_pred_time\n",
        "\n",
        "glm2_1000_eff / 100000\n"
      ]
    },
    {
      "cell_type": "code",
      "execution_count": null,
      "id": "6eb878aa-a77c-497c-840b-075dd8acf8e6",
      "metadata": {
        "id": "6eb878aa-a77c-497c-840b-075dd8acf8e6",
        "outputId": "ee1543e6-6a7e-4d6f-a87c-c59e18e6b986"
      },
      "outputs": [
        {
          "name": "stdout",
          "output_type": "stream",
          "text": [
            "Fitting 5 folds for each of 3780 candidates, totalling 18900 fits\n"
          ]
        },
        {
          "data": {
            "text/html": [
              "<style>#sk-container-id-3 {\n",
              "  /* Definition of color scheme common for light and dark mode */\n",
              "  --sklearn-color-text: black;\n",
              "  --sklearn-color-line: gray;\n",
              "  /* Definition of color scheme for unfitted estimators */\n",
              "  --sklearn-color-unfitted-level-0: #fff5e6;\n",
              "  --sklearn-color-unfitted-level-1: #f6e4d2;\n",
              "  --sklearn-color-unfitted-level-2: #ffe0b3;\n",
              "  --sklearn-color-unfitted-level-3: chocolate;\n",
              "  /* Definition of color scheme for fitted estimators */\n",
              "  --sklearn-color-fitted-level-0: #f0f8ff;\n",
              "  --sklearn-color-fitted-level-1: #d4ebff;\n",
              "  --sklearn-color-fitted-level-2: #b3dbfd;\n",
              "  --sklearn-color-fitted-level-3: cornflowerblue;\n",
              "\n",
              "  /* Specific color for light theme */\n",
              "  --sklearn-color-text-on-default-background: var(--sg-text-color, var(--theme-code-foreground, var(--jp-content-font-color1, black)));\n",
              "  --sklearn-color-background: var(--sg-background-color, var(--theme-background, var(--jp-layout-color0, white)));\n",
              "  --sklearn-color-border-box: var(--sg-text-color, var(--theme-code-foreground, var(--jp-content-font-color1, black)));\n",
              "  --sklearn-color-icon: #696969;\n",
              "\n",
              "  @media (prefers-color-scheme: dark) {\n",
              "    /* Redefinition of color scheme for dark theme */\n",
              "    --sklearn-color-text-on-default-background: var(--sg-text-color, var(--theme-code-foreground, var(--jp-content-font-color1, white)));\n",
              "    --sklearn-color-background: var(--sg-background-color, var(--theme-background, var(--jp-layout-color0, #111)));\n",
              "    --sklearn-color-border-box: var(--sg-text-color, var(--theme-code-foreground, var(--jp-content-font-color1, white)));\n",
              "    --sklearn-color-icon: #878787;\n",
              "  }\n",
              "}\n",
              "\n",
              "#sk-container-id-3 {\n",
              "  color: var(--sklearn-color-text);\n",
              "}\n",
              "\n",
              "#sk-container-id-3 pre {\n",
              "  padding: 0;\n",
              "}\n",
              "\n",
              "#sk-container-id-3 input.sk-hidden--visually {\n",
              "  border: 0;\n",
              "  clip: rect(1px 1px 1px 1px);\n",
              "  clip: rect(1px, 1px, 1px, 1px);\n",
              "  height: 1px;\n",
              "  margin: -1px;\n",
              "  overflow: hidden;\n",
              "  padding: 0;\n",
              "  position: absolute;\n",
              "  width: 1px;\n",
              "}\n",
              "\n",
              "#sk-container-id-3 div.sk-dashed-wrapped {\n",
              "  border: 1px dashed var(--sklearn-color-line);\n",
              "  margin: 0 0.4em 0.5em 0.4em;\n",
              "  box-sizing: border-box;\n",
              "  padding-bottom: 0.4em;\n",
              "  background-color: var(--sklearn-color-background);\n",
              "}\n",
              "\n",
              "#sk-container-id-3 div.sk-container {\n",
              "  /* jupyter's `normalize.less` sets `[hidden] { display: none; }`\n",
              "     but bootstrap.min.css set `[hidden] { display: none !important; }`\n",
              "     so we also need the `!important` here to be able to override the\n",
              "     default hidden behavior on the sphinx rendered scikit-learn.org.\n",
              "     See: https://github.com/scikit-learn/scikit-learn/issues/21755 */\n",
              "  display: inline-block !important;\n",
              "  position: relative;\n",
              "}\n",
              "\n",
              "#sk-container-id-3 div.sk-text-repr-fallback {\n",
              "  display: none;\n",
              "}\n",
              "\n",
              "div.sk-parallel-item,\n",
              "div.sk-serial,\n",
              "div.sk-item {\n",
              "  /* draw centered vertical line to link estimators */\n",
              "  background-image: linear-gradient(var(--sklearn-color-text-on-default-background), var(--sklearn-color-text-on-default-background));\n",
              "  background-size: 2px 100%;\n",
              "  background-repeat: no-repeat;\n",
              "  background-position: center center;\n",
              "}\n",
              "\n",
              "/* Parallel-specific style estimator block */\n",
              "\n",
              "#sk-container-id-3 div.sk-parallel-item::after {\n",
              "  content: \"\";\n",
              "  width: 100%;\n",
              "  border-bottom: 2px solid var(--sklearn-color-text-on-default-background);\n",
              "  flex-grow: 1;\n",
              "}\n",
              "\n",
              "#sk-container-id-3 div.sk-parallel {\n",
              "  display: flex;\n",
              "  align-items: stretch;\n",
              "  justify-content: center;\n",
              "  background-color: var(--sklearn-color-background);\n",
              "  position: relative;\n",
              "}\n",
              "\n",
              "#sk-container-id-3 div.sk-parallel-item {\n",
              "  display: flex;\n",
              "  flex-direction: column;\n",
              "}\n",
              "\n",
              "#sk-container-id-3 div.sk-parallel-item:first-child::after {\n",
              "  align-self: flex-end;\n",
              "  width: 50%;\n",
              "}\n",
              "\n",
              "#sk-container-id-3 div.sk-parallel-item:last-child::after {\n",
              "  align-self: flex-start;\n",
              "  width: 50%;\n",
              "}\n",
              "\n",
              "#sk-container-id-3 div.sk-parallel-item:only-child::after {\n",
              "  width: 0;\n",
              "}\n",
              "\n",
              "/* Serial-specific style estimator block */\n",
              "\n",
              "#sk-container-id-3 div.sk-serial {\n",
              "  display: flex;\n",
              "  flex-direction: column;\n",
              "  align-items: center;\n",
              "  background-color: var(--sklearn-color-background);\n",
              "  padding-right: 1em;\n",
              "  padding-left: 1em;\n",
              "}\n",
              "\n",
              "\n",
              "/* Toggleable style: style used for estimator/Pipeline/ColumnTransformer box that is\n",
              "clickable and can be expanded/collapsed.\n",
              "- Pipeline and ColumnTransformer use this feature and define the default style\n",
              "- Estimators will overwrite some part of the style using the `sk-estimator` class\n",
              "*/\n",
              "\n",
              "/* Pipeline and ColumnTransformer style (default) */\n",
              "\n",
              "#sk-container-id-3 div.sk-toggleable {\n",
              "  /* Default theme specific background. It is overwritten whether we have a\n",
              "  specific estimator or a Pipeline/ColumnTransformer */\n",
              "  background-color: var(--sklearn-color-background);\n",
              "}\n",
              "\n",
              "/* Toggleable label */\n",
              "#sk-container-id-3 label.sk-toggleable__label {\n",
              "  cursor: pointer;\n",
              "  display: block;\n",
              "  width: 100%;\n",
              "  margin-bottom: 0;\n",
              "  padding: 0.5em;\n",
              "  box-sizing: border-box;\n",
              "  text-align: center;\n",
              "}\n",
              "\n",
              "#sk-container-id-3 label.sk-toggleable__label-arrow:before {\n",
              "  /* Arrow on the left of the label */\n",
              "  content: \"▸\";\n",
              "  float: left;\n",
              "  margin-right: 0.25em;\n",
              "  color: var(--sklearn-color-icon);\n",
              "}\n",
              "\n",
              "#sk-container-id-3 label.sk-toggleable__label-arrow:hover:before {\n",
              "  color: var(--sklearn-color-text);\n",
              "}\n",
              "\n",
              "/* Toggleable content - dropdown */\n",
              "\n",
              "#sk-container-id-3 div.sk-toggleable__content {\n",
              "  max-height: 0;\n",
              "  max-width: 0;\n",
              "  overflow: hidden;\n",
              "  text-align: left;\n",
              "  /* unfitted */\n",
              "  background-color: var(--sklearn-color-unfitted-level-0);\n",
              "}\n",
              "\n",
              "#sk-container-id-3 div.sk-toggleable__content.fitted {\n",
              "  /* fitted */\n",
              "  background-color: var(--sklearn-color-fitted-level-0);\n",
              "}\n",
              "\n",
              "#sk-container-id-3 div.sk-toggleable__content pre {\n",
              "  margin: 0.2em;\n",
              "  border-radius: 0.25em;\n",
              "  color: var(--sklearn-color-text);\n",
              "  /* unfitted */\n",
              "  background-color: var(--sklearn-color-unfitted-level-0);\n",
              "}\n",
              "\n",
              "#sk-container-id-3 div.sk-toggleable__content.fitted pre {\n",
              "  /* unfitted */\n",
              "  background-color: var(--sklearn-color-fitted-level-0);\n",
              "}\n",
              "\n",
              "#sk-container-id-3 input.sk-toggleable__control:checked~div.sk-toggleable__content {\n",
              "  /* Expand drop-down */\n",
              "  max-height: 200px;\n",
              "  max-width: 100%;\n",
              "  overflow: auto;\n",
              "}\n",
              "\n",
              "#sk-container-id-3 input.sk-toggleable__control:checked~label.sk-toggleable__label-arrow:before {\n",
              "  content: \"▾\";\n",
              "}\n",
              "\n",
              "/* Pipeline/ColumnTransformer-specific style */\n",
              "\n",
              "#sk-container-id-3 div.sk-label input.sk-toggleable__control:checked~label.sk-toggleable__label {\n",
              "  color: var(--sklearn-color-text);\n",
              "  background-color: var(--sklearn-color-unfitted-level-2);\n",
              "}\n",
              "\n",
              "#sk-container-id-3 div.sk-label.fitted input.sk-toggleable__control:checked~label.sk-toggleable__label {\n",
              "  background-color: var(--sklearn-color-fitted-level-2);\n",
              "}\n",
              "\n",
              "/* Estimator-specific style */\n",
              "\n",
              "/* Colorize estimator box */\n",
              "#sk-container-id-3 div.sk-estimator input.sk-toggleable__control:checked~label.sk-toggleable__label {\n",
              "  /* unfitted */\n",
              "  background-color: var(--sklearn-color-unfitted-level-2);\n",
              "}\n",
              "\n",
              "#sk-container-id-3 div.sk-estimator.fitted input.sk-toggleable__control:checked~label.sk-toggleable__label {\n",
              "  /* fitted */\n",
              "  background-color: var(--sklearn-color-fitted-level-2);\n",
              "}\n",
              "\n",
              "#sk-container-id-3 div.sk-label label.sk-toggleable__label,\n",
              "#sk-container-id-3 div.sk-label label {\n",
              "  /* The background is the default theme color */\n",
              "  color: var(--sklearn-color-text-on-default-background);\n",
              "}\n",
              "\n",
              "/* On hover, darken the color of the background */\n",
              "#sk-container-id-3 div.sk-label:hover label.sk-toggleable__label {\n",
              "  color: var(--sklearn-color-text);\n",
              "  background-color: var(--sklearn-color-unfitted-level-2);\n",
              "}\n",
              "\n",
              "/* Label box, darken color on hover, fitted */\n",
              "#sk-container-id-3 div.sk-label.fitted:hover label.sk-toggleable__label.fitted {\n",
              "  color: var(--sklearn-color-text);\n",
              "  background-color: var(--sklearn-color-fitted-level-2);\n",
              "}\n",
              "\n",
              "/* Estimator label */\n",
              "\n",
              "#sk-container-id-3 div.sk-label label {\n",
              "  font-family: monospace;\n",
              "  font-weight: bold;\n",
              "  display: inline-block;\n",
              "  line-height: 1.2em;\n",
              "}\n",
              "\n",
              "#sk-container-id-3 div.sk-label-container {\n",
              "  text-align: center;\n",
              "}\n",
              "\n",
              "/* Estimator-specific */\n",
              "#sk-container-id-3 div.sk-estimator {\n",
              "  font-family: monospace;\n",
              "  border: 1px dotted var(--sklearn-color-border-box);\n",
              "  border-radius: 0.25em;\n",
              "  box-sizing: border-box;\n",
              "  margin-bottom: 0.5em;\n",
              "  /* unfitted */\n",
              "  background-color: var(--sklearn-color-unfitted-level-0);\n",
              "}\n",
              "\n",
              "#sk-container-id-3 div.sk-estimator.fitted {\n",
              "  /* fitted */\n",
              "  background-color: var(--sklearn-color-fitted-level-0);\n",
              "}\n",
              "\n",
              "/* on hover */\n",
              "#sk-container-id-3 div.sk-estimator:hover {\n",
              "  /* unfitted */\n",
              "  background-color: var(--sklearn-color-unfitted-level-2);\n",
              "}\n",
              "\n",
              "#sk-container-id-3 div.sk-estimator.fitted:hover {\n",
              "  /* fitted */\n",
              "  background-color: var(--sklearn-color-fitted-level-2);\n",
              "}\n",
              "\n",
              "/* Specification for estimator info (e.g. \"i\" and \"?\") */\n",
              "\n",
              "/* Common style for \"i\" and \"?\" */\n",
              "\n",
              ".sk-estimator-doc-link,\n",
              "a:link.sk-estimator-doc-link,\n",
              "a:visited.sk-estimator-doc-link {\n",
              "  float: right;\n",
              "  font-size: smaller;\n",
              "  line-height: 1em;\n",
              "  font-family: monospace;\n",
              "  background-color: var(--sklearn-color-background);\n",
              "  border-radius: 1em;\n",
              "  height: 1em;\n",
              "  width: 1em;\n",
              "  text-decoration: none !important;\n",
              "  margin-left: 1ex;\n",
              "  /* unfitted */\n",
              "  border: var(--sklearn-color-unfitted-level-1) 1pt solid;\n",
              "  color: var(--sklearn-color-unfitted-level-1);\n",
              "}\n",
              "\n",
              ".sk-estimator-doc-link.fitted,\n",
              "a:link.sk-estimator-doc-link.fitted,\n",
              "a:visited.sk-estimator-doc-link.fitted {\n",
              "  /* fitted */\n",
              "  border: var(--sklearn-color-fitted-level-1) 1pt solid;\n",
              "  color: var(--sklearn-color-fitted-level-1);\n",
              "}\n",
              "\n",
              "/* On hover */\n",
              "div.sk-estimator:hover .sk-estimator-doc-link:hover,\n",
              ".sk-estimator-doc-link:hover,\n",
              "div.sk-label-container:hover .sk-estimator-doc-link:hover,\n",
              ".sk-estimator-doc-link:hover {\n",
              "  /* unfitted */\n",
              "  background-color: var(--sklearn-color-unfitted-level-3);\n",
              "  color: var(--sklearn-color-background);\n",
              "  text-decoration: none;\n",
              "}\n",
              "\n",
              "div.sk-estimator.fitted:hover .sk-estimator-doc-link.fitted:hover,\n",
              ".sk-estimator-doc-link.fitted:hover,\n",
              "div.sk-label-container:hover .sk-estimator-doc-link.fitted:hover,\n",
              ".sk-estimator-doc-link.fitted:hover {\n",
              "  /* fitted */\n",
              "  background-color: var(--sklearn-color-fitted-level-3);\n",
              "  color: var(--sklearn-color-background);\n",
              "  text-decoration: none;\n",
              "}\n",
              "\n",
              "/* Span, style for the box shown on hovering the info icon */\n",
              ".sk-estimator-doc-link span {\n",
              "  display: none;\n",
              "  z-index: 9999;\n",
              "  position: relative;\n",
              "  font-weight: normal;\n",
              "  right: .2ex;\n",
              "  padding: .5ex;\n",
              "  margin: .5ex;\n",
              "  width: min-content;\n",
              "  min-width: 20ex;\n",
              "  max-width: 50ex;\n",
              "  color: var(--sklearn-color-text);\n",
              "  box-shadow: 2pt 2pt 4pt #999;\n",
              "  /* unfitted */\n",
              "  background: var(--sklearn-color-unfitted-level-0);\n",
              "  border: .5pt solid var(--sklearn-color-unfitted-level-3);\n",
              "}\n",
              "\n",
              ".sk-estimator-doc-link.fitted span {\n",
              "  /* fitted */\n",
              "  background: var(--sklearn-color-fitted-level-0);\n",
              "  border: var(--sklearn-color-fitted-level-3);\n",
              "}\n",
              "\n",
              ".sk-estimator-doc-link:hover span {\n",
              "  display: block;\n",
              "}\n",
              "\n",
              "/* \"?\"-specific style due to the `<a>` HTML tag */\n",
              "\n",
              "#sk-container-id-3 a.estimator_doc_link {\n",
              "  float: right;\n",
              "  font-size: 1rem;\n",
              "  line-height: 1em;\n",
              "  font-family: monospace;\n",
              "  background-color: var(--sklearn-color-background);\n",
              "  border-radius: 1rem;\n",
              "  height: 1rem;\n",
              "  width: 1rem;\n",
              "  text-decoration: none;\n",
              "  /* unfitted */\n",
              "  color: var(--sklearn-color-unfitted-level-1);\n",
              "  border: var(--sklearn-color-unfitted-level-1) 1pt solid;\n",
              "}\n",
              "\n",
              "#sk-container-id-3 a.estimator_doc_link.fitted {\n",
              "  /* fitted */\n",
              "  border: var(--sklearn-color-fitted-level-1) 1pt solid;\n",
              "  color: var(--sklearn-color-fitted-level-1);\n",
              "}\n",
              "\n",
              "/* On hover */\n",
              "#sk-container-id-3 a.estimator_doc_link:hover {\n",
              "  /* unfitted */\n",
              "  background-color: var(--sklearn-color-unfitted-level-3);\n",
              "  color: var(--sklearn-color-background);\n",
              "  text-decoration: none;\n",
              "}\n",
              "\n",
              "#sk-container-id-3 a.estimator_doc_link.fitted:hover {\n",
              "  /* fitted */\n",
              "  background-color: var(--sklearn-color-fitted-level-3);\n",
              "}\n",
              "</style><div id=\"sk-container-id-3\" class=\"sk-top-container\"><div class=\"sk-text-repr-fallback\"><pre>GridSearchCV(cv=5,\n",
              "             estimator=XGBRegressor(base_score=None, booster=None,\n",
              "                                    callbacks=None, colsample_bylevel=None,\n",
              "                                    colsample_bynode=None,\n",
              "                                    colsample_bytree=None, device=None,\n",
              "                                    early_stopping_rounds=None,\n",
              "                                    enable_categorical=False, eval_metric=None,\n",
              "                                    feature_types=None, gamma=None,\n",
              "                                    grow_policy=None, importance_type=None,\n",
              "                                    interaction_constraints=None,\n",
              "                                    learning_rate=None, m...\n",
              "                                    monotone_constraints=None,\n",
              "                                    multi_strategy=None, n_estimators=None,\n",
              "                                    n_jobs=None, num_parallel_tree=None,\n",
              "                                    objective=&#x27;reg:tweedie&#x27;, ...),\n",
              "             n_jobs=-1,\n",
              "             param_grid={&#x27;colsample_bytree&#x27;: [0.6, 0.8, 1.0],\n",
              "                         &#x27;learning_rate&#x27;: [0.1, 0.5, 0.8],\n",
              "                         &#x27;max_depth&#x27;: [3, 4, 5, 6, 7, 8, 9],\n",
              "                         &#x27;n_estimators&#x27;: [10, 50, 100, 200, 300],\n",
              "                         &#x27;reg_alpha&#x27;: [0, 0.5, 1, 2], &#x27;reg_lambda&#x27;: [0, 1, 2]},\n",
              "             scoring=&#x27;neg_mean_squared_error&#x27;, verbose=2)</pre><b>In a Jupyter environment, please rerun this cell to show the HTML representation or trust the notebook. <br />On GitHub, the HTML representation is unable to render, please try loading this page with nbviewer.org.</b></div><div class=\"sk-container\" hidden><div class=\"sk-item sk-dashed-wrapped\"><div class=\"sk-label-container\"><div class=\"sk-label fitted sk-toggleable\"><input class=\"sk-toggleable__control sk-hidden--visually\" id=\"sk-estimator-id-3\" type=\"checkbox\" ><label for=\"sk-estimator-id-3\" class=\"sk-toggleable__label fitted sk-toggleable__label-arrow fitted\">&nbsp;&nbsp;GridSearchCV<a class=\"sk-estimator-doc-link fitted\" rel=\"noreferrer\" target=\"_blank\" href=\"https://scikit-learn.org/1.4/modules/generated/sklearn.model_selection.GridSearchCV.html\">?<span>Documentation for GridSearchCV</span></a><span class=\"sk-estimator-doc-link fitted\">i<span>Fitted</span></span></label><div class=\"sk-toggleable__content fitted\"><pre>GridSearchCV(cv=5,\n",
              "             estimator=XGBRegressor(base_score=None, booster=None,\n",
              "                                    callbacks=None, colsample_bylevel=None,\n",
              "                                    colsample_bynode=None,\n",
              "                                    colsample_bytree=None, device=None,\n",
              "                                    early_stopping_rounds=None,\n",
              "                                    enable_categorical=False, eval_metric=None,\n",
              "                                    feature_types=None, gamma=None,\n",
              "                                    grow_policy=None, importance_type=None,\n",
              "                                    interaction_constraints=None,\n",
              "                                    learning_rate=None, m...\n",
              "                                    monotone_constraints=None,\n",
              "                                    multi_strategy=None, n_estimators=None,\n",
              "                                    n_jobs=None, num_parallel_tree=None,\n",
              "                                    objective=&#x27;reg:tweedie&#x27;, ...),\n",
              "             n_jobs=-1,\n",
              "             param_grid={&#x27;colsample_bytree&#x27;: [0.6, 0.8, 1.0],\n",
              "                         &#x27;learning_rate&#x27;: [0.1, 0.5, 0.8],\n",
              "                         &#x27;max_depth&#x27;: [3, 4, 5, 6, 7, 8, 9],\n",
              "                         &#x27;n_estimators&#x27;: [10, 50, 100, 200, 300],\n",
              "                         &#x27;reg_alpha&#x27;: [0, 0.5, 1, 2], &#x27;reg_lambda&#x27;: [0, 1, 2]},\n",
              "             scoring=&#x27;neg_mean_squared_error&#x27;, verbose=2)</pre></div> </div></div><div class=\"sk-parallel\"><div class=\"sk-parallel-item\"><div class=\"sk-item\"><div class=\"sk-label-container\"><div class=\"sk-label fitted sk-toggleable\"><input class=\"sk-toggleable__control sk-hidden--visually\" id=\"sk-estimator-id-4\" type=\"checkbox\" ><label for=\"sk-estimator-id-4\" class=\"sk-toggleable__label fitted sk-toggleable__label-arrow fitted\">estimator: XGBRegressor</label><div class=\"sk-toggleable__content fitted\"><pre>XGBRegressor(base_score=None, booster=None, callbacks=None,\n",
              "             colsample_bylevel=None, colsample_bynode=None,\n",
              "             colsample_bytree=None, device=None, early_stopping_rounds=None,\n",
              "             enable_categorical=False, eval_metric=None, feature_types=None,\n",
              "             gamma=None, grow_policy=None, importance_type=None,\n",
              "             interaction_constraints=None, learning_rate=None, max_bin=None,\n",
              "             max_cat_threshold=None, max_cat_to_onehot=None,\n",
              "             max_delta_step=None, max_depth=None, max_leaves=None,\n",
              "             min_child_weight=None, missing=nan, monotone_constraints=None,\n",
              "             multi_strategy=None, n_estimators=None, n_jobs=None,\n",
              "             num_parallel_tree=None, objective=&#x27;reg:tweedie&#x27;, ...)</pre></div> </div></div><div class=\"sk-serial\"><div class=\"sk-item\"><div class=\"sk-estimator fitted sk-toggleable\"><input class=\"sk-toggleable__control sk-hidden--visually\" id=\"sk-estimator-id-5\" type=\"checkbox\" ><label for=\"sk-estimator-id-5\" class=\"sk-toggleable__label fitted sk-toggleable__label-arrow fitted\">XGBRegressor</label><div class=\"sk-toggleable__content fitted\"><pre>XGBRegressor(base_score=None, booster=None, callbacks=None,\n",
              "             colsample_bylevel=None, colsample_bynode=None,\n",
              "             colsample_bytree=None, device=None, early_stopping_rounds=None,\n",
              "             enable_categorical=False, eval_metric=None, feature_types=None,\n",
              "             gamma=None, grow_policy=None, importance_type=None,\n",
              "             interaction_constraints=None, learning_rate=None, max_bin=None,\n",
              "             max_cat_threshold=None, max_cat_to_onehot=None,\n",
              "             max_delta_step=None, max_depth=None, max_leaves=None,\n",
              "             min_child_weight=None, missing=nan, monotone_constraints=None,\n",
              "             multi_strategy=None, n_estimators=None, n_jobs=None,\n",
              "             num_parallel_tree=None, objective=&#x27;reg:tweedie&#x27;, ...)</pre></div> </div></div></div></div></div></div></div></div></div>"
            ],
            "text/plain": [
              "GridSearchCV(cv=5,\n",
              "             estimator=XGBRegressor(base_score=None, booster=None,\n",
              "                                    callbacks=None, colsample_bylevel=None,\n",
              "                                    colsample_bynode=None,\n",
              "                                    colsample_bytree=None, device=None,\n",
              "                                    early_stopping_rounds=None,\n",
              "                                    enable_categorical=False, eval_metric=None,\n",
              "                                    feature_types=None, gamma=None,\n",
              "                                    grow_policy=None, importance_type=None,\n",
              "                                    interaction_constraints=None,\n",
              "                                    learning_rate=None, m...\n",
              "                                    monotone_constraints=None,\n",
              "                                    multi_strategy=None, n_estimators=None,\n",
              "                                    n_jobs=None, num_parallel_tree=None,\n",
              "                                    objective='reg:tweedie', ...),\n",
              "             n_jobs=-1,\n",
              "             param_grid={'colsample_bytree': [0.6, 0.8, 1.0],\n",
              "                         'learning_rate': [0.1, 0.5, 0.8],\n",
              "                         'max_depth': [3, 4, 5, 6, 7, 8, 9],\n",
              "                         'n_estimators': [10, 50, 100, 200, 300],\n",
              "                         'reg_alpha': [0, 0.5, 1, 2], 'reg_lambda': [0, 1, 2]},\n",
              "             scoring='neg_mean_squared_error', verbose=2)"
            ]
          },
          "execution_count": 18,
          "metadata": {},
          "output_type": "execute_result"
        }
      ],
      "source": [
        "## XGBoost 1,000\n",
        "#parameters\n",
        "tuning_grid = {\n",
        "'max_depth': [3, 4, 5, 6, 7, 8, 9],\n",
        "'n_estimators': [10, 50, 100, 200, 300],\n",
        "'learning_rate': [0.1, 0.5, 0.8],\n",
        "'colsample_bytree': [0.6, 0.8, 1.0],\n",
        "'reg_alpha': [0, 0.5, 1, 2],\n",
        "'reg_lambda': [0, 1, 2]\n",
        "}\n",
        "xgb_grid_1000 = XGBRegressor(objective = 'reg:tweedie', random_state = 30)\n",
        "\n",
        "# GridSearchCV object\n",
        "grid_search = GridSearchCV(estimator = xgb_grid_1000,\n",
        "param_grid = tuning_grid,\n",
        "scoring = 'neg_mean_squared_error',\n",
        "cv = 5,\n",
        "n_jobs = -1,\n",
        "verbose = 2)\n",
        "\n",
        "# fitting the grid search\n",
        "grid_search.fit(Xtrain, ytrain)\n"
      ]
    },
    {
      "cell_type": "code",
      "execution_count": null,
      "id": "6c2fabff-064e-4368-a735-1e80cf0c4b4b",
      "metadata": {
        "id": "6c2fabff-064e-4368-a735-1e80cf0c4b4b",
        "outputId": "649671be-ced2-4e03-c14e-9e4c77c0015d"
      },
      "outputs": [
        {
          "data": {
            "text/plain": [
              "{'colsample_bytree': 1.0,\n",
              " 'learning_rate': 0.1,\n",
              " 'max_depth': 3,\n",
              " 'n_estimators': 200,\n",
              " 'reg_alpha': 0,\n",
              " 'reg_lambda': 2}"
            ]
          },
          "execution_count": 19,
          "metadata": {},
          "output_type": "execute_result"
        }
      ],
      "source": [
        "# getting the best parameters\n",
        "grid_search.best_params_"
      ]
    },
    {
      "cell_type": "code",
      "execution_count": null,
      "id": "9eb30d8a-dbd9-48d6-b557-eda280db4955",
      "metadata": {
        "id": "9eb30d8a-dbd9-48d6-b557-eda280db4955"
      },
      "outputs": [],
      "source": [
        "## XGBoost 5-fold Cross Validation 1,000"
      ]
    },
    {
      "cell_type": "code",
      "execution_count": null,
      "id": "17cf3877-e2e4-49f2-85e9-51305dc27835",
      "metadata": {
        "id": "17cf3877-e2e4-49f2-85e9-51305dc27835",
        "outputId": "cdac9e4f-65b1-42ac-fac2-8c7983b93118"
      },
      "outputs": [
        {
          "data": {
            "text/html": [
              "<style>#sk-container-id-4 {\n",
              "  /* Definition of color scheme common for light and dark mode */\n",
              "  --sklearn-color-text: black;\n",
              "  --sklearn-color-line: gray;\n",
              "  /* Definition of color scheme for unfitted estimators */\n",
              "  --sklearn-color-unfitted-level-0: #fff5e6;\n",
              "  --sklearn-color-unfitted-level-1: #f6e4d2;\n",
              "  --sklearn-color-unfitted-level-2: #ffe0b3;\n",
              "  --sklearn-color-unfitted-level-3: chocolate;\n",
              "  /* Definition of color scheme for fitted estimators */\n",
              "  --sklearn-color-fitted-level-0: #f0f8ff;\n",
              "  --sklearn-color-fitted-level-1: #d4ebff;\n",
              "  --sklearn-color-fitted-level-2: #b3dbfd;\n",
              "  --sklearn-color-fitted-level-3: cornflowerblue;\n",
              "\n",
              "  /* Specific color for light theme */\n",
              "  --sklearn-color-text-on-default-background: var(--sg-text-color, var(--theme-code-foreground, var(--jp-content-font-color1, black)));\n",
              "  --sklearn-color-background: var(--sg-background-color, var(--theme-background, var(--jp-layout-color0, white)));\n",
              "  --sklearn-color-border-box: var(--sg-text-color, var(--theme-code-foreground, var(--jp-content-font-color1, black)));\n",
              "  --sklearn-color-icon: #696969;\n",
              "\n",
              "  @media (prefers-color-scheme: dark) {\n",
              "    /* Redefinition of color scheme for dark theme */\n",
              "    --sklearn-color-text-on-default-background: var(--sg-text-color, var(--theme-code-foreground, var(--jp-content-font-color1, white)));\n",
              "    --sklearn-color-background: var(--sg-background-color, var(--theme-background, var(--jp-layout-color0, #111)));\n",
              "    --sklearn-color-border-box: var(--sg-text-color, var(--theme-code-foreground, var(--jp-content-font-color1, white)));\n",
              "    --sklearn-color-icon: #878787;\n",
              "  }\n",
              "}\n",
              "\n",
              "#sk-container-id-4 {\n",
              "  color: var(--sklearn-color-text);\n",
              "}\n",
              "\n",
              "#sk-container-id-4 pre {\n",
              "  padding: 0;\n",
              "}\n",
              "\n",
              "#sk-container-id-4 input.sk-hidden--visually {\n",
              "  border: 0;\n",
              "  clip: rect(1px 1px 1px 1px);\n",
              "  clip: rect(1px, 1px, 1px, 1px);\n",
              "  height: 1px;\n",
              "  margin: -1px;\n",
              "  overflow: hidden;\n",
              "  padding: 0;\n",
              "  position: absolute;\n",
              "  width: 1px;\n",
              "}\n",
              "\n",
              "#sk-container-id-4 div.sk-dashed-wrapped {\n",
              "  border: 1px dashed var(--sklearn-color-line);\n",
              "  margin: 0 0.4em 0.5em 0.4em;\n",
              "  box-sizing: border-box;\n",
              "  padding-bottom: 0.4em;\n",
              "  background-color: var(--sklearn-color-background);\n",
              "}\n",
              "\n",
              "#sk-container-id-4 div.sk-container {\n",
              "  /* jupyter's `normalize.less` sets `[hidden] { display: none; }`\n",
              "     but bootstrap.min.css set `[hidden] { display: none !important; }`\n",
              "     so we also need the `!important` here to be able to override the\n",
              "     default hidden behavior on the sphinx rendered scikit-learn.org.\n",
              "     See: https://github.com/scikit-learn/scikit-learn/issues/21755 */\n",
              "  display: inline-block !important;\n",
              "  position: relative;\n",
              "}\n",
              "\n",
              "#sk-container-id-4 div.sk-text-repr-fallback {\n",
              "  display: none;\n",
              "}\n",
              "\n",
              "div.sk-parallel-item,\n",
              "div.sk-serial,\n",
              "div.sk-item {\n",
              "  /* draw centered vertical line to link estimators */\n",
              "  background-image: linear-gradient(var(--sklearn-color-text-on-default-background), var(--sklearn-color-text-on-default-background));\n",
              "  background-size: 2px 100%;\n",
              "  background-repeat: no-repeat;\n",
              "  background-position: center center;\n",
              "}\n",
              "\n",
              "/* Parallel-specific style estimator block */\n",
              "\n",
              "#sk-container-id-4 div.sk-parallel-item::after {\n",
              "  content: \"\";\n",
              "  width: 100%;\n",
              "  border-bottom: 2px solid var(--sklearn-color-text-on-default-background);\n",
              "  flex-grow: 1;\n",
              "}\n",
              "\n",
              "#sk-container-id-4 div.sk-parallel {\n",
              "  display: flex;\n",
              "  align-items: stretch;\n",
              "  justify-content: center;\n",
              "  background-color: var(--sklearn-color-background);\n",
              "  position: relative;\n",
              "}\n",
              "\n",
              "#sk-container-id-4 div.sk-parallel-item {\n",
              "  display: flex;\n",
              "  flex-direction: column;\n",
              "}\n",
              "\n",
              "#sk-container-id-4 div.sk-parallel-item:first-child::after {\n",
              "  align-self: flex-end;\n",
              "  width: 50%;\n",
              "}\n",
              "\n",
              "#sk-container-id-4 div.sk-parallel-item:last-child::after {\n",
              "  align-self: flex-start;\n",
              "  width: 50%;\n",
              "}\n",
              "\n",
              "#sk-container-id-4 div.sk-parallel-item:only-child::after {\n",
              "  width: 0;\n",
              "}\n",
              "\n",
              "/* Serial-specific style estimator block */\n",
              "\n",
              "#sk-container-id-4 div.sk-serial {\n",
              "  display: flex;\n",
              "  flex-direction: column;\n",
              "  align-items: center;\n",
              "  background-color: var(--sklearn-color-background);\n",
              "  padding-right: 1em;\n",
              "  padding-left: 1em;\n",
              "}\n",
              "\n",
              "\n",
              "/* Toggleable style: style used for estimator/Pipeline/ColumnTransformer box that is\n",
              "clickable and can be expanded/collapsed.\n",
              "- Pipeline and ColumnTransformer use this feature and define the default style\n",
              "- Estimators will overwrite some part of the style using the `sk-estimator` class\n",
              "*/\n",
              "\n",
              "/* Pipeline and ColumnTransformer style (default) */\n",
              "\n",
              "#sk-container-id-4 div.sk-toggleable {\n",
              "  /* Default theme specific background. It is overwritten whether we have a\n",
              "  specific estimator or a Pipeline/ColumnTransformer */\n",
              "  background-color: var(--sklearn-color-background);\n",
              "}\n",
              "\n",
              "/* Toggleable label */\n",
              "#sk-container-id-4 label.sk-toggleable__label {\n",
              "  cursor: pointer;\n",
              "  display: block;\n",
              "  width: 100%;\n",
              "  margin-bottom: 0;\n",
              "  padding: 0.5em;\n",
              "  box-sizing: border-box;\n",
              "  text-align: center;\n",
              "}\n",
              "\n",
              "#sk-container-id-4 label.sk-toggleable__label-arrow:before {\n",
              "  /* Arrow on the left of the label */\n",
              "  content: \"▸\";\n",
              "  float: left;\n",
              "  margin-right: 0.25em;\n",
              "  color: var(--sklearn-color-icon);\n",
              "}\n",
              "\n",
              "#sk-container-id-4 label.sk-toggleable__label-arrow:hover:before {\n",
              "  color: var(--sklearn-color-text);\n",
              "}\n",
              "\n",
              "/* Toggleable content - dropdown */\n",
              "\n",
              "#sk-container-id-4 div.sk-toggleable__content {\n",
              "  max-height: 0;\n",
              "  max-width: 0;\n",
              "  overflow: hidden;\n",
              "  text-align: left;\n",
              "  /* unfitted */\n",
              "  background-color: var(--sklearn-color-unfitted-level-0);\n",
              "}\n",
              "\n",
              "#sk-container-id-4 div.sk-toggleable__content.fitted {\n",
              "  /* fitted */\n",
              "  background-color: var(--sklearn-color-fitted-level-0);\n",
              "}\n",
              "\n",
              "#sk-container-id-4 div.sk-toggleable__content pre {\n",
              "  margin: 0.2em;\n",
              "  border-radius: 0.25em;\n",
              "  color: var(--sklearn-color-text);\n",
              "  /* unfitted */\n",
              "  background-color: var(--sklearn-color-unfitted-level-0);\n",
              "}\n",
              "\n",
              "#sk-container-id-4 div.sk-toggleable__content.fitted pre {\n",
              "  /* unfitted */\n",
              "  background-color: var(--sklearn-color-fitted-level-0);\n",
              "}\n",
              "\n",
              "#sk-container-id-4 input.sk-toggleable__control:checked~div.sk-toggleable__content {\n",
              "  /* Expand drop-down */\n",
              "  max-height: 200px;\n",
              "  max-width: 100%;\n",
              "  overflow: auto;\n",
              "}\n",
              "\n",
              "#sk-container-id-4 input.sk-toggleable__control:checked~label.sk-toggleable__label-arrow:before {\n",
              "  content: \"▾\";\n",
              "}\n",
              "\n",
              "/* Pipeline/ColumnTransformer-specific style */\n",
              "\n",
              "#sk-container-id-4 div.sk-label input.sk-toggleable__control:checked~label.sk-toggleable__label {\n",
              "  color: var(--sklearn-color-text);\n",
              "  background-color: var(--sklearn-color-unfitted-level-2);\n",
              "}\n",
              "\n",
              "#sk-container-id-4 div.sk-label.fitted input.sk-toggleable__control:checked~label.sk-toggleable__label {\n",
              "  background-color: var(--sklearn-color-fitted-level-2);\n",
              "}\n",
              "\n",
              "/* Estimator-specific style */\n",
              "\n",
              "/* Colorize estimator box */\n",
              "#sk-container-id-4 div.sk-estimator input.sk-toggleable__control:checked~label.sk-toggleable__label {\n",
              "  /* unfitted */\n",
              "  background-color: var(--sklearn-color-unfitted-level-2);\n",
              "}\n",
              "\n",
              "#sk-container-id-4 div.sk-estimator.fitted input.sk-toggleable__control:checked~label.sk-toggleable__label {\n",
              "  /* fitted */\n",
              "  background-color: var(--sklearn-color-fitted-level-2);\n",
              "}\n",
              "\n",
              "#sk-container-id-4 div.sk-label label.sk-toggleable__label,\n",
              "#sk-container-id-4 div.sk-label label {\n",
              "  /* The background is the default theme color */\n",
              "  color: var(--sklearn-color-text-on-default-background);\n",
              "}\n",
              "\n",
              "/* On hover, darken the color of the background */\n",
              "#sk-container-id-4 div.sk-label:hover label.sk-toggleable__label {\n",
              "  color: var(--sklearn-color-text);\n",
              "  background-color: var(--sklearn-color-unfitted-level-2);\n",
              "}\n",
              "\n",
              "/* Label box, darken color on hover, fitted */\n",
              "#sk-container-id-4 div.sk-label.fitted:hover label.sk-toggleable__label.fitted {\n",
              "  color: var(--sklearn-color-text);\n",
              "  background-color: var(--sklearn-color-fitted-level-2);\n",
              "}\n",
              "\n",
              "/* Estimator label */\n",
              "\n",
              "#sk-container-id-4 div.sk-label label {\n",
              "  font-family: monospace;\n",
              "  font-weight: bold;\n",
              "  display: inline-block;\n",
              "  line-height: 1.2em;\n",
              "}\n",
              "\n",
              "#sk-container-id-4 div.sk-label-container {\n",
              "  text-align: center;\n",
              "}\n",
              "\n",
              "/* Estimator-specific */\n",
              "#sk-container-id-4 div.sk-estimator {\n",
              "  font-family: monospace;\n",
              "  border: 1px dotted var(--sklearn-color-border-box);\n",
              "  border-radius: 0.25em;\n",
              "  box-sizing: border-box;\n",
              "  margin-bottom: 0.5em;\n",
              "  /* unfitted */\n",
              "  background-color: var(--sklearn-color-unfitted-level-0);\n",
              "}\n",
              "\n",
              "#sk-container-id-4 div.sk-estimator.fitted {\n",
              "  /* fitted */\n",
              "  background-color: var(--sklearn-color-fitted-level-0);\n",
              "}\n",
              "\n",
              "/* on hover */\n",
              "#sk-container-id-4 div.sk-estimator:hover {\n",
              "  /* unfitted */\n",
              "  background-color: var(--sklearn-color-unfitted-level-2);\n",
              "}\n",
              "\n",
              "#sk-container-id-4 div.sk-estimator.fitted:hover {\n",
              "  /* fitted */\n",
              "  background-color: var(--sklearn-color-fitted-level-2);\n",
              "}\n",
              "\n",
              "/* Specification for estimator info (e.g. \"i\" and \"?\") */\n",
              "\n",
              "/* Common style for \"i\" and \"?\" */\n",
              "\n",
              ".sk-estimator-doc-link,\n",
              "a:link.sk-estimator-doc-link,\n",
              "a:visited.sk-estimator-doc-link {\n",
              "  float: right;\n",
              "  font-size: smaller;\n",
              "  line-height: 1em;\n",
              "  font-family: monospace;\n",
              "  background-color: var(--sklearn-color-background);\n",
              "  border-radius: 1em;\n",
              "  height: 1em;\n",
              "  width: 1em;\n",
              "  text-decoration: none !important;\n",
              "  margin-left: 1ex;\n",
              "  /* unfitted */\n",
              "  border: var(--sklearn-color-unfitted-level-1) 1pt solid;\n",
              "  color: var(--sklearn-color-unfitted-level-1);\n",
              "}\n",
              "\n",
              ".sk-estimator-doc-link.fitted,\n",
              "a:link.sk-estimator-doc-link.fitted,\n",
              "a:visited.sk-estimator-doc-link.fitted {\n",
              "  /* fitted */\n",
              "  border: var(--sklearn-color-fitted-level-1) 1pt solid;\n",
              "  color: var(--sklearn-color-fitted-level-1);\n",
              "}\n",
              "\n",
              "/* On hover */\n",
              "div.sk-estimator:hover .sk-estimator-doc-link:hover,\n",
              ".sk-estimator-doc-link:hover,\n",
              "div.sk-label-container:hover .sk-estimator-doc-link:hover,\n",
              ".sk-estimator-doc-link:hover {\n",
              "  /* unfitted */\n",
              "  background-color: var(--sklearn-color-unfitted-level-3);\n",
              "  color: var(--sklearn-color-background);\n",
              "  text-decoration: none;\n",
              "}\n",
              "\n",
              "div.sk-estimator.fitted:hover .sk-estimator-doc-link.fitted:hover,\n",
              ".sk-estimator-doc-link.fitted:hover,\n",
              "div.sk-label-container:hover .sk-estimator-doc-link.fitted:hover,\n",
              ".sk-estimator-doc-link.fitted:hover {\n",
              "  /* fitted */\n",
              "  background-color: var(--sklearn-color-fitted-level-3);\n",
              "  color: var(--sklearn-color-background);\n",
              "  text-decoration: none;\n",
              "}\n",
              "\n",
              "/* Span, style for the box shown on hovering the info icon */\n",
              ".sk-estimator-doc-link span {\n",
              "  display: none;\n",
              "  z-index: 9999;\n",
              "  position: relative;\n",
              "  font-weight: normal;\n",
              "  right: .2ex;\n",
              "  padding: .5ex;\n",
              "  margin: .5ex;\n",
              "  width: min-content;\n",
              "  min-width: 20ex;\n",
              "  max-width: 50ex;\n",
              "  color: var(--sklearn-color-text);\n",
              "  box-shadow: 2pt 2pt 4pt #999;\n",
              "  /* unfitted */\n",
              "  background: var(--sklearn-color-unfitted-level-0);\n",
              "  border: .5pt solid var(--sklearn-color-unfitted-level-3);\n",
              "}\n",
              "\n",
              ".sk-estimator-doc-link.fitted span {\n",
              "  /* fitted */\n",
              "  background: var(--sklearn-color-fitted-level-0);\n",
              "  border: var(--sklearn-color-fitted-level-3);\n",
              "}\n",
              "\n",
              ".sk-estimator-doc-link:hover span {\n",
              "  display: block;\n",
              "}\n",
              "\n",
              "/* \"?\"-specific style due to the `<a>` HTML tag */\n",
              "\n",
              "#sk-container-id-4 a.estimator_doc_link {\n",
              "  float: right;\n",
              "  font-size: 1rem;\n",
              "  line-height: 1em;\n",
              "  font-family: monospace;\n",
              "  background-color: var(--sklearn-color-background);\n",
              "  border-radius: 1rem;\n",
              "  height: 1rem;\n",
              "  width: 1rem;\n",
              "  text-decoration: none;\n",
              "  /* unfitted */\n",
              "  color: var(--sklearn-color-unfitted-level-1);\n",
              "  border: var(--sklearn-color-unfitted-level-1) 1pt solid;\n",
              "}\n",
              "\n",
              "#sk-container-id-4 a.estimator_doc_link.fitted {\n",
              "  /* fitted */\n",
              "  border: var(--sklearn-color-fitted-level-1) 1pt solid;\n",
              "  color: var(--sklearn-color-fitted-level-1);\n",
              "}\n",
              "\n",
              "/* On hover */\n",
              "#sk-container-id-4 a.estimator_doc_link:hover {\n",
              "  /* unfitted */\n",
              "  background-color: var(--sklearn-color-unfitted-level-3);\n",
              "  color: var(--sklearn-color-background);\n",
              "  text-decoration: none;\n",
              "}\n",
              "\n",
              "#sk-container-id-4 a.estimator_doc_link.fitted:hover {\n",
              "  /* fitted */\n",
              "  background-color: var(--sklearn-color-fitted-level-3);\n",
              "}\n",
              "</style><div id=\"sk-container-id-4\" class=\"sk-top-container\"><div class=\"sk-text-repr-fallback\"><pre>XGBRegressor(alpha=2, base_score=None, booster=None, callbacks=None,\n",
              "             colsample_bylevel=None, colsample_bynode=None, colsample_bytree=1,\n",
              "             device=None, early_stopping_rounds=None, enable_categorical=False,\n",
              "             eval_metric=None, feature_types=None, gamma=None, grow_policy=None,\n",
              "             importance_type=None, interaction_constraints=None,\n",
              "             learning_rate=0.5, max_bin=None, max_cat_threshold=None,\n",
              "             max_cat_to_onehot=None, max_delta_step=None, max_depth=3,\n",
              "             max_leaves=None, min_child_weight=None, missing=nan,\n",
              "             monotone_constraints=None, multi_strategy=None, n_estimators=300,\n",
              "             n_jobs=None, num_parallel_tree=None, ...)</pre><b>In a Jupyter environment, please rerun this cell to show the HTML representation or trust the notebook. <br />On GitHub, the HTML representation is unable to render, please try loading this page with nbviewer.org.</b></div><div class=\"sk-container\" hidden><div class=\"sk-item\"><div class=\"sk-estimator fitted sk-toggleable\"><input class=\"sk-toggleable__control sk-hidden--visually\" id=\"sk-estimator-id-6\" type=\"checkbox\" checked><label for=\"sk-estimator-id-6\" class=\"sk-toggleable__label fitted sk-toggleable__label-arrow fitted\">&nbsp;XGBRegressor<span class=\"sk-estimator-doc-link fitted\">i<span>Fitted</span></span></label><div class=\"sk-toggleable__content fitted\"><pre>XGBRegressor(alpha=2, base_score=None, booster=None, callbacks=None,\n",
              "             colsample_bylevel=None, colsample_bynode=None, colsample_bytree=1,\n",
              "             device=None, early_stopping_rounds=None, enable_categorical=False,\n",
              "             eval_metric=None, feature_types=None, gamma=None, grow_policy=None,\n",
              "             importance_type=None, interaction_constraints=None,\n",
              "             learning_rate=0.5, max_bin=None, max_cat_threshold=None,\n",
              "             max_cat_to_onehot=None, max_delta_step=None, max_depth=3,\n",
              "             max_leaves=None, min_child_weight=None, missing=nan,\n",
              "             monotone_constraints=None, multi_strategy=None, n_estimators=300,\n",
              "             n_jobs=None, num_parallel_tree=None, ...)</pre></div> </div></div></div></div>"
            ],
            "text/plain": [
              "XGBRegressor(alpha=2, base_score=None, booster=None, callbacks=None,\n",
              "             colsample_bylevel=None, colsample_bynode=None, colsample_bytree=1,\n",
              "             device=None, early_stopping_rounds=None, enable_categorical=False,\n",
              "             eval_metric=None, feature_types=None, gamma=None, grow_policy=None,\n",
              "             importance_type=None, interaction_constraints=None,\n",
              "             learning_rate=0.5, max_bin=None, max_cat_threshold=None,\n",
              "             max_cat_to_onehot=None, max_delta_step=None, max_depth=3,\n",
              "             max_leaves=None, min_child_weight=None, missing=nan,\n",
              "             monotone_constraints=None, multi_strategy=None, n_estimators=300,\n",
              "             n_jobs=None, num_parallel_tree=None, ...)"
            ]
          },
          "execution_count": 21,
          "metadata": {},
          "output_type": "execute_result"
        }
      ],
      "source": [
        "#5-fold cross validation\n",
        "kfoldcv = KFold(n_splits = 5)\n",
        "\n",
        "#Fitting first model\n",
        "xgb1_1000 = XGBRegressor(alpha = 2,\n",
        "learning_rate = 0.5,\n",
        "max_depth = 3,\n",
        "n_estimators = 300,\n",
        "colsample_bytree = 1,\n",
        "reg_lambda = 0,\n",
        "objective = 'reg:tweedie',\n",
        "random_state = 30)\n",
        "\n",
        "xgb1_1000.fit(Xtrain, ytrain)\n",
        "\n"
      ]
    },
    {
      "cell_type": "code",
      "execution_count": null,
      "id": "3c0c9c6d-1c8e-4ca4-97bf-988036fd7057",
      "metadata": {
        "id": "3c0c9c6d-1c8e-4ca4-97bf-988036fd7057",
        "outputId": "d153af05-c852-4d41-cd97-8155e4f8e338"
      },
      "outputs": [
        {
          "name": "stdout",
          "output_type": "stream",
          "text": [
            "Training set RMSE:  457068.73811\n",
            "Training set RMSE:  819991.80566\n"
          ]
        }
      ],
      "source": [
        "# evaluating the cross validation score for negative training set\n",
        "xgb1_train_rslt = cross_val_score(xgb1_1000,\n",
        "                                  Xtrain, ytrain,\n",
        "                                  scoring = 'neg_root_mean_squared_error',\n",
        "                                  cv = kfoldcv,\n",
        "                                  n_jobs = -1)\n",
        "# evaluating the cross validation score for negative testing set\n",
        "xgb1_test_rslt = cross_val_score(xgb1_1000,\n",
        "                                 Xtest, ytest,\n",
        "                                 scoring = 'neg_root_mean_squared_error',\n",
        "                                 cv = kfoldcv,\n",
        "                                 n_jobs = -1)\n",
        "\n",
        "#inversing result\n",
        "xgb1_train_rmse = np.mean(-xgb1_train_rslt)\n",
        "\n",
        "# inverting the RMSE value\n",
        "xgb1_test_rmse = np.mean(-xgb1_test_rslt)\n",
        "print('Training set RMSE: ', round(xgb1_train_rmse, 5))\n",
        "print('Training set RMSE: ', round(xgb1_test_rmse, 5))\n"
      ]
    },
    {
      "cell_type": "code",
      "execution_count": null,
      "id": "d4d3b9ef-3189-49dd-956b-6d3f16ddb759",
      "metadata": {
        "id": "d4d3b9ef-3189-49dd-956b-6d3f16ddb759",
        "outputId": "9f2867d5-88d2-42c0-e17e-cfbdfd518d27"
      },
      "outputs": [
        {
          "name": "stdout",
          "output_type": "stream",
          "text": [
            "Training set R-squared:  0.9999955105329383\n",
            "Holdout set R-squared:  0.9950368343884693\n"
          ]
        }
      ],
      "source": [
        "# R-squared - training set\n",
        "xgb1_1000_Rtrn = xgb1_1000.score(Xtairn, ytrain)\n",
        "\n",
        "#R-squared for testing set\n",
        "xgb1_1000_Rtst = xgb1_1000.score(Xtest, ytest)\n",
        "\n",
        "print('Training set R-squared: ', xgb1_1000_Rtrain)\n",
        "print('Holdout set R-squared: ', xgb1_1000_Rtest)\n"
      ]
    },
    {
      "cell_type": "code",
      "execution_count": null,
      "id": "db21728b-3024-4688-b47e-474a9c303324",
      "metadata": {
        "id": "db21728b-3024-4688-b47e-474a9c303324",
        "outputId": "778aacdf-c4b8-4fc3-93cc-906e0c7b8316"
      },
      "outputs": [
        {
          "name": "stdout",
          "output_type": "stream",
          "text": [
            "0.14142 seconds\n"
          ]
        }
      ],
      "source": [
        "#Timing the model fitting\n",
        "xgb1_1000_time = \"\"\"\n",
        "\n",
        "#Fitting first XGBoost model\n",
        "xgb1_1000 = XGBRegressor(alpha = 2,learning_rate = 0.5,max_depth = 3,n_estimators = 300, colsample_bytree = 1,reg_lambda = 0,objective = 'reg:tweedie',random_state = 30)\n",
        "xgb1_1000.fit(Xtrain, ytrain)\n",
        "\"\"\"\n",
        "xgb1_1000_time = round(timeit.timeit(stmt = xgb1_1000_time, globals=globals(),number=1), 5)\n",
        "print(xgb1_1000_time, 'seconds')\n"
      ]
    },
    {
      "cell_type": "code",
      "execution_count": null,
      "id": "331bf3cc-49ec-4510-ba3e-900a3c3d2319",
      "metadata": {
        "id": "331bf3cc-49ec-4510-ba3e-900a3c3d2319",
        "outputId": "af9e34d4-d374-4b21-98f1-1b3ebf02ade9"
      },
      "outputs": [
        {
          "data": {
            "text/plain": [
              "0.21717429161071777"
            ]
          },
          "execution_count": 26,
          "metadata": {},
          "output_type": "execute_result"
        }
      ],
      "source": [
        "train_start = time.time()\n",
        "xgb1_1000.fit(Xtrain, ytrain)\n",
        "train_time = time.time() - train_start\n",
        "\n",
        "pred_start = time.time()\n",
        "\n",
        "xgb1_1000.predict(Xtrain)\n",
        "xgb1_1000.predict(Xtest)\n",
        "\n",
        "pred_time = time.time() - pred_start\n",
        "\n",
        "train_pred_time = train_time + pred_time\n",
        "train_pred_time"
      ]
    },
    {
      "cell_type": "code",
      "execution_count": null,
      "id": "fc944ffd-f4f9-4b2a-9769-936e31730df3",
      "metadata": {
        "jupyter": {
          "source_hidden": true
        },
        "id": "fc944ffd-f4f9-4b2a-9769-936e31730df3",
        "outputId": "fa7ae13e-c14f-40cd-f34e-5d056141c78f"
      },
      "outputs": [
        {
          "data": {
            "text/plain": [
              "29.401743049336606"
            ]
          },
          "execution_count": 27,
          "metadata": {},
          "output_type": "execute_result"
        }
      ],
      "source": [
        "#model efficiency\n",
        "xgb1_avg_rmse = (xgb1_train_rmse + xgb1_test_rmse) / 2\n",
        "xgb1_1000_eff = xgb1_avg_rmse / train_pred_time\n",
        "\n",
        "#Dividing to scale the value\n",
        "xgb1_1000_eff / 100000\n"
      ]
    },
    {
      "cell_type": "code",
      "execution_count": null,
      "id": "944a7b96-396a-455e-a0f2-96e8116762b2",
      "metadata": {
        "id": "944a7b96-396a-455e-a0f2-96e8116762b2"
      },
      "outputs": [],
      "source": [
        "## XGBoost Repeated 5-fold Cross Validation with 5 repeats 1,000"
      ]
    },
    {
      "cell_type": "code",
      "execution_count": null,
      "id": "f288cdf4-12f0-4311-ae1e-3e2fc7090d3e",
      "metadata": {
        "id": "f288cdf4-12f0-4311-ae1e-3e2fc7090d3e",
        "outputId": "38861d71-ce7c-4058-b895-982c3940cd85"
      },
      "outputs": [
        {
          "data": {
            "text/html": [
              "<style>#sk-container-id-5 {\n",
              "  /* Definition of color scheme common for light and dark mode */\n",
              "  --sklearn-color-text: black;\n",
              "  --sklearn-color-line: gray;\n",
              "  /* Definition of color scheme for unfitted estimators */\n",
              "  --sklearn-color-unfitted-level-0: #fff5e6;\n",
              "  --sklearn-color-unfitted-level-1: #f6e4d2;\n",
              "  --sklearn-color-unfitted-level-2: #ffe0b3;\n",
              "  --sklearn-color-unfitted-level-3: chocolate;\n",
              "  /* Definition of color scheme for fitted estimators */\n",
              "  --sklearn-color-fitted-level-0: #f0f8ff;\n",
              "  --sklearn-color-fitted-level-1: #d4ebff;\n",
              "  --sklearn-color-fitted-level-2: #b3dbfd;\n",
              "  --sklearn-color-fitted-level-3: cornflowerblue;\n",
              "\n",
              "  /* Specific color for light theme */\n",
              "  --sklearn-color-text-on-default-background: var(--sg-text-color, var(--theme-code-foreground, var(--jp-content-font-color1, black)));\n",
              "  --sklearn-color-background: var(--sg-background-color, var(--theme-background, var(--jp-layout-color0, white)));\n",
              "  --sklearn-color-border-box: var(--sg-text-color, var(--theme-code-foreground, var(--jp-content-font-color1, black)));\n",
              "  --sklearn-color-icon: #696969;\n",
              "\n",
              "  @media (prefers-color-scheme: dark) {\n",
              "    /* Redefinition of color scheme for dark theme */\n",
              "    --sklearn-color-text-on-default-background: var(--sg-text-color, var(--theme-code-foreground, var(--jp-content-font-color1, white)));\n",
              "    --sklearn-color-background: var(--sg-background-color, var(--theme-background, var(--jp-layout-color0, #111)));\n",
              "    --sklearn-color-border-box: var(--sg-text-color, var(--theme-code-foreground, var(--jp-content-font-color1, white)));\n",
              "    --sklearn-color-icon: #878787;\n",
              "  }\n",
              "}\n",
              "\n",
              "#sk-container-id-5 {\n",
              "  color: var(--sklearn-color-text);\n",
              "}\n",
              "\n",
              "#sk-container-id-5 pre {\n",
              "  padding: 0;\n",
              "}\n",
              "\n",
              "#sk-container-id-5 input.sk-hidden--visually {\n",
              "  border: 0;\n",
              "  clip: rect(1px 1px 1px 1px);\n",
              "  clip: rect(1px, 1px, 1px, 1px);\n",
              "  height: 1px;\n",
              "  margin: -1px;\n",
              "  overflow: hidden;\n",
              "  padding: 0;\n",
              "  position: absolute;\n",
              "  width: 1px;\n",
              "}\n",
              "\n",
              "#sk-container-id-5 div.sk-dashed-wrapped {\n",
              "  border: 1px dashed var(--sklearn-color-line);\n",
              "  margin: 0 0.4em 0.5em 0.4em;\n",
              "  box-sizing: border-box;\n",
              "  padding-bottom: 0.4em;\n",
              "  background-color: var(--sklearn-color-background);\n",
              "}\n",
              "\n",
              "#sk-container-id-5 div.sk-container {\n",
              "  /* jupyter's `normalize.less` sets `[hidden] { display: none; }`\n",
              "     but bootstrap.min.css set `[hidden] { display: none !important; }`\n",
              "     so we also need the `!important` here to be able to override the\n",
              "     default hidden behavior on the sphinx rendered scikit-learn.org.\n",
              "     See: https://github.com/scikit-learn/scikit-learn/issues/21755 */\n",
              "  display: inline-block !important;\n",
              "  position: relative;\n",
              "}\n",
              "\n",
              "#sk-container-id-5 div.sk-text-repr-fallback {\n",
              "  display: none;\n",
              "}\n",
              "\n",
              "div.sk-parallel-item,\n",
              "div.sk-serial,\n",
              "div.sk-item {\n",
              "  /* draw centered vertical line to link estimators */\n",
              "  background-image: linear-gradient(var(--sklearn-color-text-on-default-background), var(--sklearn-color-text-on-default-background));\n",
              "  background-size: 2px 100%;\n",
              "  background-repeat: no-repeat;\n",
              "  background-position: center center;\n",
              "}\n",
              "\n",
              "/* Parallel-specific style estimator block */\n",
              "\n",
              "#sk-container-id-5 div.sk-parallel-item::after {\n",
              "  content: \"\";\n",
              "  width: 100%;\n",
              "  border-bottom: 2px solid var(--sklearn-color-text-on-default-background);\n",
              "  flex-grow: 1;\n",
              "}\n",
              "\n",
              "#sk-container-id-5 div.sk-parallel {\n",
              "  display: flex;\n",
              "  align-items: stretch;\n",
              "  justify-content: center;\n",
              "  background-color: var(--sklearn-color-background);\n",
              "  position: relative;\n",
              "}\n",
              "\n",
              "#sk-container-id-5 div.sk-parallel-item {\n",
              "  display: flex;\n",
              "  flex-direction: column;\n",
              "}\n",
              "\n",
              "#sk-container-id-5 div.sk-parallel-item:first-child::after {\n",
              "  align-self: flex-end;\n",
              "  width: 50%;\n",
              "}\n",
              "\n",
              "#sk-container-id-5 div.sk-parallel-item:last-child::after {\n",
              "  align-self: flex-start;\n",
              "  width: 50%;\n",
              "}\n",
              "\n",
              "#sk-container-id-5 div.sk-parallel-item:only-child::after {\n",
              "  width: 0;\n",
              "}\n",
              "\n",
              "/* Serial-specific style estimator block */\n",
              "\n",
              "#sk-container-id-5 div.sk-serial {\n",
              "  display: flex;\n",
              "  flex-direction: column;\n",
              "  align-items: center;\n",
              "  background-color: var(--sklearn-color-background);\n",
              "  padding-right: 1em;\n",
              "  padding-left: 1em;\n",
              "}\n",
              "\n",
              "\n",
              "/* Toggleable style: style used for estimator/Pipeline/ColumnTransformer box that is\n",
              "clickable and can be expanded/collapsed.\n",
              "- Pipeline and ColumnTransformer use this feature and define the default style\n",
              "- Estimators will overwrite some part of the style using the `sk-estimator` class\n",
              "*/\n",
              "\n",
              "/* Pipeline and ColumnTransformer style (default) */\n",
              "\n",
              "#sk-container-id-5 div.sk-toggleable {\n",
              "  /* Default theme specific background. It is overwritten whether we have a\n",
              "  specific estimator or a Pipeline/ColumnTransformer */\n",
              "  background-color: var(--sklearn-color-background);\n",
              "}\n",
              "\n",
              "/* Toggleable label */\n",
              "#sk-container-id-5 label.sk-toggleable__label {\n",
              "  cursor: pointer;\n",
              "  display: block;\n",
              "  width: 100%;\n",
              "  margin-bottom: 0;\n",
              "  padding: 0.5em;\n",
              "  box-sizing: border-box;\n",
              "  text-align: center;\n",
              "}\n",
              "\n",
              "#sk-container-id-5 label.sk-toggleable__label-arrow:before {\n",
              "  /* Arrow on the left of the label */\n",
              "  content: \"▸\";\n",
              "  float: left;\n",
              "  margin-right: 0.25em;\n",
              "  color: var(--sklearn-color-icon);\n",
              "}\n",
              "\n",
              "#sk-container-id-5 label.sk-toggleable__label-arrow:hover:before {\n",
              "  color: var(--sklearn-color-text);\n",
              "}\n",
              "\n",
              "/* Toggleable content - dropdown */\n",
              "\n",
              "#sk-container-id-5 div.sk-toggleable__content {\n",
              "  max-height: 0;\n",
              "  max-width: 0;\n",
              "  overflow: hidden;\n",
              "  text-align: left;\n",
              "  /* unfitted */\n",
              "  background-color: var(--sklearn-color-unfitted-level-0);\n",
              "}\n",
              "\n",
              "#sk-container-id-5 div.sk-toggleable__content.fitted {\n",
              "  /* fitted */\n",
              "  background-color: var(--sklearn-color-fitted-level-0);\n",
              "}\n",
              "\n",
              "#sk-container-id-5 div.sk-toggleable__content pre {\n",
              "  margin: 0.2em;\n",
              "  border-radius: 0.25em;\n",
              "  color: var(--sklearn-color-text);\n",
              "  /* unfitted */\n",
              "  background-color: var(--sklearn-color-unfitted-level-0);\n",
              "}\n",
              "\n",
              "#sk-container-id-5 div.sk-toggleable__content.fitted pre {\n",
              "  /* unfitted */\n",
              "  background-color: var(--sklearn-color-fitted-level-0);\n",
              "}\n",
              "\n",
              "#sk-container-id-5 input.sk-toggleable__control:checked~div.sk-toggleable__content {\n",
              "  /* Expand drop-down */\n",
              "  max-height: 200px;\n",
              "  max-width: 100%;\n",
              "  overflow: auto;\n",
              "}\n",
              "\n",
              "#sk-container-id-5 input.sk-toggleable__control:checked~label.sk-toggleable__label-arrow:before {\n",
              "  content: \"▾\";\n",
              "}\n",
              "\n",
              "/* Pipeline/ColumnTransformer-specific style */\n",
              "\n",
              "#sk-container-id-5 div.sk-label input.sk-toggleable__control:checked~label.sk-toggleable__label {\n",
              "  color: var(--sklearn-color-text);\n",
              "  background-color: var(--sklearn-color-unfitted-level-2);\n",
              "}\n",
              "\n",
              "#sk-container-id-5 div.sk-label.fitted input.sk-toggleable__control:checked~label.sk-toggleable__label {\n",
              "  background-color: var(--sklearn-color-fitted-level-2);\n",
              "}\n",
              "\n",
              "/* Estimator-specific style */\n",
              "\n",
              "/* Colorize estimator box */\n",
              "#sk-container-id-5 div.sk-estimator input.sk-toggleable__control:checked~label.sk-toggleable__label {\n",
              "  /* unfitted */\n",
              "  background-color: var(--sklearn-color-unfitted-level-2);\n",
              "}\n",
              "\n",
              "#sk-container-id-5 div.sk-estimator.fitted input.sk-toggleable__control:checked~label.sk-toggleable__label {\n",
              "  /* fitted */\n",
              "  background-color: var(--sklearn-color-fitted-level-2);\n",
              "}\n",
              "\n",
              "#sk-container-id-5 div.sk-label label.sk-toggleable__label,\n",
              "#sk-container-id-5 div.sk-label label {\n",
              "  /* The background is the default theme color */\n",
              "  color: var(--sklearn-color-text-on-default-background);\n",
              "}\n",
              "\n",
              "/* On hover, darken the color of the background */\n",
              "#sk-container-id-5 div.sk-label:hover label.sk-toggleable__label {\n",
              "  color: var(--sklearn-color-text);\n",
              "  background-color: var(--sklearn-color-unfitted-level-2);\n",
              "}\n",
              "\n",
              "/* Label box, darken color on hover, fitted */\n",
              "#sk-container-id-5 div.sk-label.fitted:hover label.sk-toggleable__label.fitted {\n",
              "  color: var(--sklearn-color-text);\n",
              "  background-color: var(--sklearn-color-fitted-level-2);\n",
              "}\n",
              "\n",
              "/* Estimator label */\n",
              "\n",
              "#sk-container-id-5 div.sk-label label {\n",
              "  font-family: monospace;\n",
              "  font-weight: bold;\n",
              "  display: inline-block;\n",
              "  line-height: 1.2em;\n",
              "}\n",
              "\n",
              "#sk-container-id-5 div.sk-label-container {\n",
              "  text-align: center;\n",
              "}\n",
              "\n",
              "/* Estimator-specific */\n",
              "#sk-container-id-5 div.sk-estimator {\n",
              "  font-family: monospace;\n",
              "  border: 1px dotted var(--sklearn-color-border-box);\n",
              "  border-radius: 0.25em;\n",
              "  box-sizing: border-box;\n",
              "  margin-bottom: 0.5em;\n",
              "  /* unfitted */\n",
              "  background-color: var(--sklearn-color-unfitted-level-0);\n",
              "}\n",
              "\n",
              "#sk-container-id-5 div.sk-estimator.fitted {\n",
              "  /* fitted */\n",
              "  background-color: var(--sklearn-color-fitted-level-0);\n",
              "}\n",
              "\n",
              "/* on hover */\n",
              "#sk-container-id-5 div.sk-estimator:hover {\n",
              "  /* unfitted */\n",
              "  background-color: var(--sklearn-color-unfitted-level-2);\n",
              "}\n",
              "\n",
              "#sk-container-id-5 div.sk-estimator.fitted:hover {\n",
              "  /* fitted */\n",
              "  background-color: var(--sklearn-color-fitted-level-2);\n",
              "}\n",
              "\n",
              "/* Specification for estimator info (e.g. \"i\" and \"?\") */\n",
              "\n",
              "/* Common style for \"i\" and \"?\" */\n",
              "\n",
              ".sk-estimator-doc-link,\n",
              "a:link.sk-estimator-doc-link,\n",
              "a:visited.sk-estimator-doc-link {\n",
              "  float: right;\n",
              "  font-size: smaller;\n",
              "  line-height: 1em;\n",
              "  font-family: monospace;\n",
              "  background-color: var(--sklearn-color-background);\n",
              "  border-radius: 1em;\n",
              "  height: 1em;\n",
              "  width: 1em;\n",
              "  text-decoration: none !important;\n",
              "  margin-left: 1ex;\n",
              "  /* unfitted */\n",
              "  border: var(--sklearn-color-unfitted-level-1) 1pt solid;\n",
              "  color: var(--sklearn-color-unfitted-level-1);\n",
              "}\n",
              "\n",
              ".sk-estimator-doc-link.fitted,\n",
              "a:link.sk-estimator-doc-link.fitted,\n",
              "a:visited.sk-estimator-doc-link.fitted {\n",
              "  /* fitted */\n",
              "  border: var(--sklearn-color-fitted-level-1) 1pt solid;\n",
              "  color: var(--sklearn-color-fitted-level-1);\n",
              "}\n",
              "\n",
              "/* On hover */\n",
              "div.sk-estimator:hover .sk-estimator-doc-link:hover,\n",
              ".sk-estimator-doc-link:hover,\n",
              "div.sk-label-container:hover .sk-estimator-doc-link:hover,\n",
              ".sk-estimator-doc-link:hover {\n",
              "  /* unfitted */\n",
              "  background-color: var(--sklearn-color-unfitted-level-3);\n",
              "  color: var(--sklearn-color-background);\n",
              "  text-decoration: none;\n",
              "}\n",
              "\n",
              "div.sk-estimator.fitted:hover .sk-estimator-doc-link.fitted:hover,\n",
              ".sk-estimator-doc-link.fitted:hover,\n",
              "div.sk-label-container:hover .sk-estimator-doc-link.fitted:hover,\n",
              ".sk-estimator-doc-link.fitted:hover {\n",
              "  /* fitted */\n",
              "  background-color: var(--sklearn-color-fitted-level-3);\n",
              "  color: var(--sklearn-color-background);\n",
              "  text-decoration: none;\n",
              "}\n",
              "\n",
              "/* Span, style for the box shown on hovering the info icon */\n",
              ".sk-estimator-doc-link span {\n",
              "  display: none;\n",
              "  z-index: 9999;\n",
              "  position: relative;\n",
              "  font-weight: normal;\n",
              "  right: .2ex;\n",
              "  padding: .5ex;\n",
              "  margin: .5ex;\n",
              "  width: min-content;\n",
              "  min-width: 20ex;\n",
              "  max-width: 50ex;\n",
              "  color: var(--sklearn-color-text);\n",
              "  box-shadow: 2pt 2pt 4pt #999;\n",
              "  /* unfitted */\n",
              "  background: var(--sklearn-color-unfitted-level-0);\n",
              "  border: .5pt solid var(--sklearn-color-unfitted-level-3);\n",
              "}\n",
              "\n",
              ".sk-estimator-doc-link.fitted span {\n",
              "  /* fitted */\n",
              "  background: var(--sklearn-color-fitted-level-0);\n",
              "  border: var(--sklearn-color-fitted-level-3);\n",
              "}\n",
              "\n",
              ".sk-estimator-doc-link:hover span {\n",
              "  display: block;\n",
              "}\n",
              "\n",
              "/* \"?\"-specific style due to the `<a>` HTML tag */\n",
              "\n",
              "#sk-container-id-5 a.estimator_doc_link {\n",
              "  float: right;\n",
              "  font-size: 1rem;\n",
              "  line-height: 1em;\n",
              "  font-family: monospace;\n",
              "  background-color: var(--sklearn-color-background);\n",
              "  border-radius: 1rem;\n",
              "  height: 1rem;\n",
              "  width: 1rem;\n",
              "  text-decoration: none;\n",
              "  /* unfitted */\n",
              "  color: var(--sklearn-color-unfitted-level-1);\n",
              "  border: var(--sklearn-color-unfitted-level-1) 1pt solid;\n",
              "}\n",
              "\n",
              "#sk-container-id-5 a.estimator_doc_link.fitted {\n",
              "  /* fitted */\n",
              "  border: var(--sklearn-color-fitted-level-1) 1pt solid;\n",
              "  color: var(--sklearn-color-fitted-level-1);\n",
              "}\n",
              "\n",
              "/* On hover */\n",
              "#sk-container-id-5 a.estimator_doc_link:hover {\n",
              "  /* unfitted */\n",
              "  background-color: var(--sklearn-color-unfitted-level-3);\n",
              "  color: var(--sklearn-color-background);\n",
              "  text-decoration: none;\n",
              "}\n",
              "\n",
              "#sk-container-id-5 a.estimator_doc_link.fitted:hover {\n",
              "  /* fitted */\n",
              "  background-color: var(--sklearn-color-fitted-level-3);\n",
              "}\n",
              "</style><div id=\"sk-container-id-5\" class=\"sk-top-container\"><div class=\"sk-text-repr-fallback\"><pre>XGBRegressor(alpha=1, base_score=None, booster=None, callbacks=None,\n",
              "             colsample_bylevel=None, colsample_bynode=None, colsample_bytree=1,\n",
              "             device=None, early_stopping_rounds=None, enable_categorical=False,\n",
              "             eval_metric=None, feature_types=None, gamma=None, grow_policy=None,\n",
              "             importance_type=None, interaction_constraints=None,\n",
              "             learning_rate=0.5, max_bin=None, max_cat_threshold=None,\n",
              "             max_cat_to_onehot=None, max_delta_step=None, max_depth=3,\n",
              "             max_leaves=None, min_child_weight=None, missing=nan,\n",
              "             monotone_constraints=None, multi_strategy=None, n_estimators=300,\n",
              "             n_jobs=None, num_parallel_tree=None, ...)</pre><b>In a Jupyter environment, please rerun this cell to show the HTML representation or trust the notebook. <br />On GitHub, the HTML representation is unable to render, please try loading this page with nbviewer.org.</b></div><div class=\"sk-container\" hidden><div class=\"sk-item\"><div class=\"sk-estimator fitted sk-toggleable\"><input class=\"sk-toggleable__control sk-hidden--visually\" id=\"sk-estimator-id-7\" type=\"checkbox\" checked><label for=\"sk-estimator-id-7\" class=\"sk-toggleable__label fitted sk-toggleable__label-arrow fitted\">&nbsp;XGBRegressor<span class=\"sk-estimator-doc-link fitted\">i<span>Fitted</span></span></label><div class=\"sk-toggleable__content fitted\"><pre>XGBRegressor(alpha=1, base_score=None, booster=None, callbacks=None,\n",
              "             colsample_bylevel=None, colsample_bynode=None, colsample_bytree=1,\n",
              "             device=None, early_stopping_rounds=None, enable_categorical=False,\n",
              "             eval_metric=None, feature_types=None, gamma=None, grow_policy=None,\n",
              "             importance_type=None, interaction_constraints=None,\n",
              "             learning_rate=0.5, max_bin=None, max_cat_threshold=None,\n",
              "             max_cat_to_onehot=None, max_delta_step=None, max_depth=3,\n",
              "             max_leaves=None, min_child_weight=None, missing=nan,\n",
              "             monotone_constraints=None, multi_strategy=None, n_estimators=300,\n",
              "             n_jobs=None, num_parallel_tree=None, ...)</pre></div> </div></div></div></div>"
            ],
            "text/plain": [
              "XGBRegressor(alpha=1, base_score=None, booster=None, callbacks=None,\n",
              "             colsample_bylevel=None, colsample_bynode=None, colsample_bytree=1,\n",
              "             device=None, early_stopping_rounds=None, enable_categorical=False,\n",
              "             eval_metric=None, feature_types=None, gamma=None, grow_policy=None,\n",
              "             importance_type=None, interaction_constraints=None,\n",
              "             learning_rate=0.5, max_bin=None, max_cat_threshold=None,\n",
              "             max_cat_to_onehot=None, max_delta_step=None, max_depth=3,\n",
              "             max_leaves=None, min_child_weight=None, missing=nan,\n",
              "             monotone_constraints=None, multi_strategy=None, n_estimators=300,\n",
              "             n_jobs=None, num_parallel_tree=None, ...)"
            ]
          },
          "execution_count": 33,
          "metadata": {},
          "output_type": "execute_result"
        }
      ],
      "source": [
        "# repeated 5-fold cross validation with 5 repeats\n",
        "rpt_kfoldcv = RepeatedKFold(n_splits = 5,n_repeats = 5,random_state = 30)\n",
        "\n",
        "# fitting second XGBoost model\n",
        "xgb2_1000 = XGBRegressor(alpha = 1,\n",
        "                         learning_rate = 0.5,\n",
        "                         max_depth = 3,\n",
        "                         n_estimators = 300,\n",
        "                         colsample_bytree = 1,\n",
        "                         reg_lambda = 1,\n",
        "                         objective = 'reg:tweedie',\n",
        "                         random_state = 30)\n",
        "xgb2_1000.fit(Xtrain, ytrain)\n"
      ]
    },
    {
      "cell_type": "code",
      "execution_count": null,
      "id": "1465709b-aaf7-4731-b94e-31621a4ae23b",
      "metadata": {
        "id": "1465709b-aaf7-4731-b94e-31621a4ae23b",
        "outputId": "8460fe7b-d6d9-4d77-9b4c-d0741f27cf8c"
      },
      "outputs": [
        {
          "name": "stdout",
          "output_type": "stream",
          "text": [
            "Training set RMSE:  590323.51268\n",
            "Training set RMSE:  849901.3005\n"
          ]
        }
      ],
      "source": [
        "#evaluating negative scoring\n",
        "xgb2_train_rslt = cross_val_score(xgb2_1000,\n",
        "                                  Xtrain, ytrain,\n",
        "                                  scoring = 'neg_root_mean_squared_error',\n",
        "                                  cv = rpt_kfoldcv,\n",
        "                                  n_jobs = -1)\n",
        "\n",
        "#evaluating negative scoring\n",
        "xgb2_test_rslt = cross_val_score(xgb2_1000,\n",
        "                                 Xtest, ytest,\n",
        "                                 scoring = 'neg_root_mean_squared_error',\n",
        "                                 cv = rpt_kfoldcv,\n",
        "                                 n_jobs = -1)\n",
        "\n",
        "#inverting value\n",
        "xgb2_train_rmse = np.mean(-xgb2_train_rslt)\n",
        "\n",
        "#inverting value\n",
        "xgb2_test_rmse = np.mean(-xgb2_test_rslt)\n",
        "print('Training set RMSE: ', round(xgb2_train_rmse, 5))\n",
        "print('Training set RMSE: ', round(xgb2_test_rmse, 5))\n"
      ]
    },
    {
      "cell_type": "code",
      "execution_count": null,
      "id": "fcc234b7-1fec-403b-bbff-86fdf7e09be9",
      "metadata": {
        "id": "fcc234b7-1fec-403b-bbff-86fdf7e09be9",
        "outputId": "ba632f77-9d91-4726-8449-118da2b037f3"
      },
      "outputs": [
        {
          "name": "stdout",
          "output_type": "stream",
          "text": [
            "Training set R-squared:  0.9999950380732655\n",
            "Holdout set R-squared:  0.9951960468465749\n"
          ]
        }
      ],
      "source": [
        "# R-squared - training set\n",
        "xgb2_1000_Rtrain = xgb2_1000.score(Xtrain, ytrain)\n",
        "\n",
        "# R-squared - testing set\n",
        "xgb2_1000_Rtest = xgb2_1000.score(Xtest, ytest)\n",
        "\n",
        "print('Training set R-squared: ', xgb2_1000_Rtrain)\n",
        "print('Holdout set R-squared: ', xgb2_1000_Rtest)\n"
      ]
    },
    {
      "cell_type": "code",
      "execution_count": null,
      "id": "84ac4a1f-87c7-4757-b45b-87d4e10c1167",
      "metadata": {
        "id": "84ac4a1f-87c7-4757-b45b-87d4e10c1167",
        "outputId": "15345b3b-4509-498e-dd97-29c544f3d59a"
      },
      "outputs": [
        {
          "name": "stdout",
          "output_type": "stream",
          "text": [
            "0.10347 seconds\n"
          ]
        }
      ],
      "source": [
        " #Timing the model fitting\n",
        "xgb2_1000_time = \"\"\"\n",
        "# fitting second model\n",
        "xgb2_1000 = XGBRegressor(alpha = 1,learning_rate = 0.5,max_depth =3,n_estimators = 300,colsample_bytree = 1,reg_lambda = 1, objective = 'reg:tweedie', random_state = 30)\n",
        "#Model fitting\n",
        "xgb2_1000.fit(Xtrain, ytrain)\n",
        "\"\"\"\n",
        "xgb2_1000_time = round(timeit.timeit(stmt = xgb2_1000_time, globals=globals(),number=1), 5)\n",
        "print(xgb2_1000_time, 'seconds')\n",
        "\n"
      ]
    },
    {
      "cell_type": "code",
      "execution_count": null,
      "id": "ca2d6de0-7142-400b-ae8c-d29996d051a4",
      "metadata": {
        "id": "ca2d6de0-7142-400b-ae8c-d29996d051a4",
        "outputId": "a31b6056-76a7-4948-bd31-456d79ae24ec"
      },
      "outputs": [
        {
          "data": {
            "text/plain": [
              "0.0970618724822998"
            ]
          },
          "execution_count": 37,
          "metadata": {},
          "output_type": "execute_result"
        }
      ],
      "source": [
        "train_start = time.time()\n",
        "xgb2_1000.fit(Xtrain, ytrain)\n",
        "train_time = time.time() - train_start\n",
        "\n",
        "pred_start = time.time()\n",
        "\n",
        "xgb2_1000.predict(Xtrain)\n",
        "xgb2_1000.predict(Xtest)\n",
        "\n",
        "pred_time = time.time() - pred_start\n",
        "\n",
        "train_pred_time = train_time + pred_time\n",
        "train_pred_time"
      ]
    },
    {
      "cell_type": "code",
      "execution_count": null,
      "id": "a9227248-67d2-4c48-806b-64b93440e547",
      "metadata": {
        "id": "a9227248-67d2-4c48-806b-64b93440e547",
        "outputId": "972dc619-62af-4aa1-b15a-a15dcec1f39a"
      },
      "outputs": [
        {
          "data": {
            "text/plain": [
              "74.19106886892726"
            ]
          },
          "execution_count": 38,
          "metadata": {},
          "output_type": "execute_result"
        }
      ],
      "source": [
        "#model efficiency\n",
        "xgb2_1000_eff = xgb2_avg_rmse / train_pred_time\n",
        "\n",
        "#Dividing to scale the value\n",
        "xgb2_1000_eff / 100000"
      ]
    },
    {
      "cell_type": "code",
      "execution_count": null,
      "id": "c4d08aca-6f83-4b8a-ab4f-f53726123702",
      "metadata": {
        "id": "c4d08aca-6f83-4b8a-ab4f-f53726123702"
      },
      "outputs": [],
      "source": [
        "## DL Network 1,000\n",
        "#metrics for evaluation\n",
        "metrics = [tf.keras.metrics.RootMeanSquaredError(name ='root_mean_squared_error', dtype = None),\n",
        "tf.keras.metrics.R2Score(class_aggregation = 'uniform_average',num_regressors = 0, name = \"r2_score\", dtype = None),\n",
        "tf.keras.metrics.MeanAbsoluteError(name = 'mean_absolute_error',dtype = None)]\n"
      ]
    },
    {
      "cell_type": "code",
      "execution_count": null,
      "id": "56baec5a-fa26-4a79-8858-32a1ff15786a",
      "metadata": {
        "id": "56baec5a-fa26-4a79-8858-32a1ff15786a"
      },
      "outputs": [],
      "source": [
        "## DL Network sequential model with 3 dense layers with relu and linear activation functions 1,000"
      ]
    },
    {
      "cell_type": "code",
      "execution_count": null,
      "id": "bcd945e5-c236-4246-be22-0021375c34a7",
      "metadata": {
        "id": "bcd945e5-c236-4246-be22-0021375c34a7"
      },
      "outputs": [],
      "source": [
        "#first model\n",
        "def dl_model_config():\n",
        "#Sequential model with 3 dense layers with relu and linear activation functions\n",
        "dl_model = Sequential()\n",
        "dl_model.add(Dense(64,\n",
        "                   input_dim = Xtrn.shape[1],\n",
        "                   activation='relu'))\n",
        "dl_model.add(Dense(32,\n",
        "                   activation = 'relu'))\n",
        "dl_model.add(Dense(1,\n",
        "                   activation = 'linear'))\n",
        "dl_model.compile(optimizer = 'rmsprop',\n",
        "                 loss = 'mse',\n",
        "                 metrics = metrics)\n",
        "return dl_model"
      ]
    },
    {
      "cell_type": "code",
      "execution_count": null,
      "id": "5002c849-a8ee-4562-adc5-16cb03d3b9fe",
      "metadata": {
        "id": "5002c849-a8ee-4562-adc5-16cb03d3b9fe",
        "outputId": "f3459ff6-33d5-4567-8b1c-3bf3e5c3f1fc"
      },
      "outputs": [
        {
          "name": "stderr",
          "output_type": "stream",
          "text": [
            "C:\\Users\\cmnea\\AppData\\Local\\Programs\\Python\\Python312\\Lib\\site-packages\\keras\\src\\layers\\core\\dense.py:87: UserWarning: Do not pass an `input_shape`/`input_dim` argument to a layer. When using Sequential models, prefer using an `Input(shape)` object as the first layer in the model instead.\n",
            "  super().__init__(activity_regularizer=activity_regularizer, **kwargs)\n"
          ]
        },
        {
          "data": {
            "text/html": [
              "<pre style=\"white-space:pre;overflow-x:auto;line-height:normal;font-family:Menlo,'DejaVu Sans Mono',consolas,'Courier New',monospace\"><span style=\"font-weight: bold\">Model: \"sequential\"</span>\n",
              "</pre>\n"
            ],
            "text/plain": [
              "\u001b[1mModel: \"sequential\"\u001b[0m\n"
            ]
          },
          "metadata": {},
          "output_type": "display_data"
        },
        {
          "data": {
            "text/html": [
              "<pre style=\"white-space:pre;overflow-x:auto;line-height:normal;font-family:Menlo,'DejaVu Sans Mono',consolas,'Courier New',monospace\">┏━━━━━━━━━━━━━━━━━━━━━━━━━━━━━━━━━━━━━━┳━━━━━━━━━━━━━━━━━━━━━━━━━━━━━┳━━━━━━━━━━━━━━━━━┓\n",
              "┃<span style=\"font-weight: bold\"> Layer (type)                         </span>┃<span style=\"font-weight: bold\"> Output Shape                </span>┃<span style=\"font-weight: bold\">         Param # </span>┃\n",
              "┡━━━━━━━━━━━━━━━━━━━━━━━━━━━━━━━━━━━━━━╇━━━━━━━━━━━━━━━━━━━━━━━━━━━━━╇━━━━━━━━━━━━━━━━━┩\n",
              "│ dense (<span style=\"color: #0087ff; text-decoration-color: #0087ff\">Dense</span>)                        │ (<span style=\"color: #00d7ff; text-decoration-color: #00d7ff\">None</span>, <span style=\"color: #00af00; text-decoration-color: #00af00\">64</span>)                  │             <span style=\"color: #00af00; text-decoration-color: #00af00\">320</span> │\n",
              "├──────────────────────────────────────┼─────────────────────────────┼─────────────────┤\n",
              "│ dense_1 (<span style=\"color: #0087ff; text-decoration-color: #0087ff\">Dense</span>)                      │ (<span style=\"color: #00d7ff; text-decoration-color: #00d7ff\">None</span>, <span style=\"color: #00af00; text-decoration-color: #00af00\">32</span>)                  │           <span style=\"color: #00af00; text-decoration-color: #00af00\">2,080</span> │\n",
              "├──────────────────────────────────────┼─────────────────────────────┼─────────────────┤\n",
              "│ dense_2 (<span style=\"color: #0087ff; text-decoration-color: #0087ff\">Dense</span>)                      │ (<span style=\"color: #00d7ff; text-decoration-color: #00d7ff\">None</span>, <span style=\"color: #00af00; text-decoration-color: #00af00\">1</span>)                   │              <span style=\"color: #00af00; text-decoration-color: #00af00\">33</span> │\n",
              "└──────────────────────────────────────┴─────────────────────────────┴─────────────────┘\n",
              "</pre>\n"
            ],
            "text/plain": [
              "┏━━━━━━━━━━━━━━━━━━━━━━━━━━━━━━━━━━━━━━┳━━━━━━━━━━━━━━━━━━━━━━━━━━━━━┳━━━━━━━━━━━━━━━━━┓\n",
              "┃\u001b[1m \u001b[0m\u001b[1mLayer (type)                        \u001b[0m\u001b[1m \u001b[0m┃\u001b[1m \u001b[0m\u001b[1mOutput Shape               \u001b[0m\u001b[1m \u001b[0m┃\u001b[1m \u001b[0m\u001b[1m        Param #\u001b[0m\u001b[1m \u001b[0m┃\n",
              "┡━━━━━━━━━━━━━━━━━━━━━━━━━━━━━━━━━━━━━━╇━━━━━━━━━━━━━━━━━━━━━━━━━━━━━╇━━━━━━━━━━━━━━━━━┩\n",
              "│ dense (\u001b[38;5;33mDense\u001b[0m)                        │ (\u001b[38;5;45mNone\u001b[0m, \u001b[38;5;34m64\u001b[0m)                  │             \u001b[38;5;34m320\u001b[0m │\n",
              "├──────────────────────────────────────┼─────────────────────────────┼─────────────────┤\n",
              "│ dense_1 (\u001b[38;5;33mDense\u001b[0m)                      │ (\u001b[38;5;45mNone\u001b[0m, \u001b[38;5;34m32\u001b[0m)                  │           \u001b[38;5;34m2,080\u001b[0m │\n",
              "├──────────────────────────────────────┼─────────────────────────────┼─────────────────┤\n",
              "│ dense_2 (\u001b[38;5;33mDense\u001b[0m)                      │ (\u001b[38;5;45mNone\u001b[0m, \u001b[38;5;34m1\u001b[0m)                   │              \u001b[38;5;34m33\u001b[0m │\n",
              "└──────────────────────────────────────┴─────────────────────────────┴─────────────────┘\n"
            ]
          },
          "metadata": {},
          "output_type": "display_data"
        },
        {
          "data": {
            "text/html": [
              "<pre style=\"white-space:pre;overflow-x:auto;line-height:normal;font-family:Menlo,'DejaVu Sans Mono',consolas,'Courier New',monospace\"><span style=\"font-weight: bold\"> Total params: </span><span style=\"color: #00af00; text-decoration-color: #00af00\">4,868</span> (19.02 KB)\n",
              "</pre>\n"
            ],
            "text/plain": [
              "\u001b[1m Total params: \u001b[0m\u001b[38;5;34m4,868\u001b[0m (19.02 KB)\n"
            ]
          },
          "metadata": {},
          "output_type": "display_data"
        },
        {
          "data": {
            "text/html": [
              "<pre style=\"white-space:pre;overflow-x:auto;line-height:normal;font-family:Menlo,'DejaVu Sans Mono',consolas,'Courier New',monospace\"><span style=\"font-weight: bold\"> Trainable params: </span><span style=\"color: #00af00; text-decoration-color: #00af00\">2,433</span> (9.50 KB)\n",
              "</pre>\n"
            ],
            "text/plain": [
              "\u001b[1m Trainable params: \u001b[0m\u001b[38;5;34m2,433\u001b[0m (9.50 KB)\n"
            ]
          },
          "metadata": {},
          "output_type": "display_data"
        },
        {
          "data": {
            "text/html": [
              "<pre style=\"white-space:pre;overflow-x:auto;line-height:normal;font-family:Menlo,'DejaVu Sans Mono',consolas,'Courier New',monospace\"><span style=\"font-weight: bold\"> Non-trainable params: </span><span style=\"color: #00af00; text-decoration-color: #00af00\">0</span> (0.00 B)\n",
              "</pre>\n"
            ],
            "text/plain": [
              "\u001b[1m Non-trainable params: \u001b[0m\u001b[38;5;34m0\u001b[0m (0.00 B)\n"
            ]
          },
          "metadata": {},
          "output_type": "display_data"
        },
        {
          "data": {
            "text/html": [
              "<pre style=\"white-space:pre;overflow-x:auto;line-height:normal;font-family:Menlo,'DejaVu Sans Mono',consolas,'Courier New',monospace\"><span style=\"font-weight: bold\"> Optimizer params: </span><span style=\"color: #00af00; text-decoration-color: #00af00\">2,435</span> (9.52 KB)\n",
              "</pre>\n"
            ],
            "text/plain": [
              "\u001b[1m Optimizer params: \u001b[0m\u001b[38;5;34m2,435\u001b[0m (9.52 KB)\n"
            ]
          },
          "metadata": {},
          "output_type": "display_data"
        }
      ],
      "source": [
        "# fitting model\n",
        "dl1_1000 = dl_model_config()\n",
        "dl1_1000.fit(Xtrain, ytrain,\n",
        "epochs = 300,\n",
        "batch_size = 32,\n",
        "validation_split = 0.20,\n",
        "verbose = 0)\n",
        "\n",
        "dl1_1000.summary()\n"
      ]
    },
    {
      "cell_type": "code",
      "execution_count": null,
      "id": "02046b51-d7f4-402d-b702-0eeb37f7b222",
      "metadata": {
        "id": "02046b51-d7f4-402d-b702-0eeb37f7b222",
        "outputId": "8ce953bb-cabc-4656-d427-a835a43f6d75"
      },
      "outputs": [
        {
          "data": {
            "text/plain": [
              "dict_keys(['loss', 'mean_absolute_error', 'r2_score', 'root_mean_squared_error', 'val_loss', 'val_mean_absolute_error', 'val_r2_score', 'val_root_mean_squared_error'])"
            ]
          },
          "execution_count": 51,
          "metadata": {},
          "output_type": "execute_result"
        }
      ],
      "source": [
        "dl1_1000.history.history.keys()"
      ]
    },
    {
      "cell_type": "code",
      "execution_count": null,
      "id": "e18186b8-72c7-436a-84a1-5ecce093bb39",
      "metadata": {
        "id": "e18186b8-72c7-436a-84a1-5ecce093bb39",
        "outputId": "892295c8-c819-4766-ff3b-9bec089e2c9c"
      },
      "outputs": [
        {
          "data": {
            "text/plain": [
              "<matplotlib.legend.Legend at 0x15d5809b890>"
            ]
          },
          "execution_count": 45,
          "metadata": {},
          "output_type": "execute_result"
        },
        {
          "data": {
            "image/png": "[encoded data removed]",
            "text/plain": [
              "<Figure size 640x480 with 1 Axes>"
            ]
          },
          "metadata": {},
          "output_type": "display_data"
        }
      ],
      "source": [
        "# plotting loss of training and validation sets\n",
        "plt.plot(dl1_1000.history.history['loss'],\n",
        "color = 'blue',\n",
        "label = 'training')\n",
        "plt.plot(dl1_1000.history.history['val_loss'],\n",
        "color = 'green',\n",
        "label = 'validation')\n",
        "plt.legend()\n"
      ]
    },
    {
      "cell_type": "code",
      "execution_count": null,
      "id": "df1ce76f-6a3a-4077-909d-c3f75844cabc",
      "metadata": {
        "id": "df1ce76f-6a3a-4077-909d-c3f75844cabc",
        "outputId": "a9b0bc9a-9c47-4694-a2cd-40e4e4fd4cbf"
      },
      "outputs": [
        {
          "name": "stdout",
          "output_type": "stream",
          "text": [
            "Min Training Loss (Error):  111731812597760.0\n",
            "Min Validation Loss (Error):  73828080287744.0\n"
          ]
        }
      ],
      "source": [
        "dl1_min_loss = np.min(dl1_1000.history.history['loss'])\n",
        "dl1_min_valloss = np.min(dl1_1000.history.history['val_loss'])\n",
        "\n",
        "print('Min Training Loss (Error): ' , (round(dl1_min_loss, 4)))\n",
        "print('Min Validation Loss (Error): ', (round(dl1_min_valloss, 4)))\n"
      ]
    },
    {
      "cell_type": "code",
      "execution_count": null,
      "id": "cc1753d7-517c-4011-b5ad-446680da2886",
      "metadata": {
        "id": "cc1753d7-517c-4011-b5ad-446680da2886",
        "outputId": "90cc4ebb-a2c6-4f95-eb4b-e7ba10af56e4"
      },
      "outputs": [
        {
          "name": "stdout",
          "output_type": "stream",
          "text": [
            "Average Training RMSE:  11458239.43333\n",
            "Average Validation RMSE:  9346681.44\n"
          ]
        }
      ],
      "source": [
        "dl1_trn_rmse = np.mean(dl1_1000.history.history['root_mean_squared_error'])\n",
        "dl1_val_rmse = np.mean(dl1_1000.history.history['val_root_mean_squared_error'])\n",
        "\n",
        "print('Average Training RMSE: ' , (round(dl1_train_rmse, 5)))\n",
        "print('Average Validation RMSE: ', (round(dl1_val_rmse, 5)))\n"
      ]
    },
    {
      "cell_type": "code",
      "execution_count": null,
      "id": "b1431032-c356-4954-b6c0-2c9405a6935c",
      "metadata": {
        "id": "b1431032-c356-4954-b6c0-2c9405a6935c",
        "outputId": "14d70c62-b27c-4762-f0a6-e504af4acf89"
      },
      "outputs": [
        {
          "name": "stdout",
          "output_type": "stream",
          "text": [
            "Average Training MAE:  8309362.31\n",
            "Average Validation MAE:  7228096.89833\n"
          ]
        }
      ],
      "source": [
        "dl1_trn_mae = np.mean(dl1_1000.history.history['mean_absolute_error'])\n",
        "dl1_val_mae = np.mean(dl1_1000.history.history['val_mean_absolute_error'])\n",
        "\n",
        "print('Average Training MAE: ' , (round(dl1_trn_mae, 5)))\n",
        "print('Average Validation MAE: ', (round(dl1_val_mae, 5)))"
      ]
    },
    {
      "cell_type": "code",
      "execution_count": null,
      "id": "ff893a24-53a9-45e1-b3ef-6ae7a48ea2f6",
      "metadata": {
        "id": "ff893a24-53a9-45e1-b3ef-6ae7a48ea2f6",
        "outputId": "374f888e-2a54-4903-fba7-3dcf7a9cc24d"
      },
      "outputs": [
        {
          "name": "stdout",
          "output_type": "stream",
          "text": [
            "Average Training R-squared:  -0.54011\n",
            "Average Validation R-squared:  -0.98269\n"
          ]
        }
      ],
      "source": [
        "dl1_1000_Rtrn = np.mean(dl1_1000.history.history['r2_score'])\n",
        "dl1_1000_Rval = np.mean(dl1_1000.history.history['val_r2_score'])\n",
        "\n",
        "print('Average Training R-squared: ' , (round(dl1_1000_Rtrn, 5)))\n",
        "print('Average Validation R-squared: ', (round(dl1_1000_Rval, 5)))"
      ]
    },
    {
      "cell_type": "code",
      "execution_count": null,
      "id": "8f512f86-23c0-444e-9e9b-bc3d272935f0",
      "metadata": {
        "id": "8f512f86-23c0-444e-9e9b-bc3d272935f0",
        "outputId": "760ace1d-197d-480f-cafe-cbed4900a143"
      },
      "outputs": [
        {
          "name": "stderr",
          "output_type": "stream",
          "text": [
            "C:\\Users\\cmnea\\AppData\\Local\\Programs\\Python\\Python312\\Lib\\site-packages\\keras\\src\\layers\\core\\dense.py:87: UserWarning: Do not pass an `input_shape`/`input_dim` argument to a layer. When using Sequential models, prefer using an `Input(shape)` object as the first layer in the model instead.\n",
            "  super().__init__(activity_regularizer=activity_regularizer, **kwargs)\n"
          ]
        },
        {
          "data": {
            "text/html": [
              "<pre style=\"white-space:pre;overflow-x:auto;line-height:normal;font-family:Menlo,'DejaVu Sans Mono',consolas,'Courier New',monospace\"><span style=\"font-weight: bold\">Model: \"sequential_3\"</span>\n",
              "</pre>\n"
            ],
            "text/plain": [
              "\u001b[1mModel: \"sequential_3\"\u001b[0m\n"
            ]
          },
          "metadata": {},
          "output_type": "display_data"
        },
        {
          "data": {
            "text/html": [
              "<pre style=\"white-space:pre;overflow-x:auto;line-height:normal;font-family:Menlo,'DejaVu Sans Mono',consolas,'Courier New',monospace\">┏━━━━━━━━━━━━━━━━━━━━━━━━━━━━━━━━━━━━━━┳━━━━━━━━━━━━━━━━━━━━━━━━━━━━━┳━━━━━━━━━━━━━━━━━┓\n",
              "┃<span style=\"font-weight: bold\"> Layer (type)                         </span>┃<span style=\"font-weight: bold\"> Output Shape                </span>┃<span style=\"font-weight: bold\">         Param # </span>┃\n",
              "┡━━━━━━━━━━━━━━━━━━━━━━━━━━━━━━━━━━━━━━╇━━━━━━━━━━━━━━━━━━━━━━━━━━━━━╇━━━━━━━━━━━━━━━━━┩\n",
              "│ dense_9 (<span style=\"color: #0087ff; text-decoration-color: #0087ff\">Dense</span>)                      │ (<span style=\"color: #00d7ff; text-decoration-color: #00d7ff\">None</span>, <span style=\"color: #00af00; text-decoration-color: #00af00\">64</span>)                  │             <span style=\"color: #00af00; text-decoration-color: #00af00\">320</span> │\n",
              "├──────────────────────────────────────┼─────────────────────────────┼─────────────────┤\n",
              "│ dense_10 (<span style=\"color: #0087ff; text-decoration-color: #0087ff\">Dense</span>)                     │ (<span style=\"color: #00d7ff; text-decoration-color: #00d7ff\">None</span>, <span style=\"color: #00af00; text-decoration-color: #00af00\">32</span>)                  │           <span style=\"color: #00af00; text-decoration-color: #00af00\">2,080</span> │\n",
              "├──────────────────────────────────────┼─────────────────────────────┼─────────────────┤\n",
              "│ dense_11 (<span style=\"color: #0087ff; text-decoration-color: #0087ff\">Dense</span>)                     │ (<span style=\"color: #00d7ff; text-decoration-color: #00d7ff\">None</span>, <span style=\"color: #00af00; text-decoration-color: #00af00\">1</span>)                   │              <span style=\"color: #00af00; text-decoration-color: #00af00\">33</span> │\n",
              "└──────────────────────────────────────┴─────────────────────────────┴─────────────────┘\n",
              "</pre>\n"
            ],
            "text/plain": [
              "┏━━━━━━━━━━━━━━━━━━━━━━━━━━━━━━━━━━━━━━┳━━━━━━━━━━━━━━━━━━━━━━━━━━━━━┳━━━━━━━━━━━━━━━━━┓\n",
              "┃\u001b[1m \u001b[0m\u001b[1mLayer (type)                        \u001b[0m\u001b[1m \u001b[0m┃\u001b[1m \u001b[0m\u001b[1mOutput Shape               \u001b[0m\u001b[1m \u001b[0m┃\u001b[1m \u001b[0m\u001b[1m        Param #\u001b[0m\u001b[1m \u001b[0m┃\n",
              "┡━━━━━━━━━━━━━━━━━━━━━━━━━━━━━━━━━━━━━━╇━━━━━━━━━━━━━━━━━━━━━━━━━━━━━╇━━━━━━━━━━━━━━━━━┩\n",
              "│ dense_9 (\u001b[38;5;33mDense\u001b[0m)                      │ (\u001b[38;5;45mNone\u001b[0m, \u001b[38;5;34m64\u001b[0m)                  │             \u001b[38;5;34m320\u001b[0m │\n",
              "├──────────────────────────────────────┼─────────────────────────────┼─────────────────┤\n",
              "│ dense_10 (\u001b[38;5;33mDense\u001b[0m)                     │ (\u001b[38;5;45mNone\u001b[0m, \u001b[38;5;34m32\u001b[0m)                  │           \u001b[38;5;34m2,080\u001b[0m │\n",
              "├──────────────────────────────────────┼─────────────────────────────┼─────────────────┤\n",
              "│ dense_11 (\u001b[38;5;33mDense\u001b[0m)                     │ (\u001b[38;5;45mNone\u001b[0m, \u001b[38;5;34m1\u001b[0m)                   │              \u001b[38;5;34m33\u001b[0m │\n",
              "└──────────────────────────────────────┴─────────────────────────────┴─────────────────┘\n"
            ]
          },
          "metadata": {},
          "output_type": "display_data"
        },
        {
          "data": {
            "text/html": [
              "<pre style=\"white-space:pre;overflow-x:auto;line-height:normal;font-family:Menlo,'DejaVu Sans Mono',consolas,'Courier New',monospace\"><span style=\"font-weight: bold\"> Total params: </span><span style=\"color: #00af00; text-decoration-color: #00af00\">4,868</span> (19.02 KB)\n",
              "</pre>\n"
            ],
            "text/plain": [
              "\u001b[1m Total params: \u001b[0m\u001b[38;5;34m4,868\u001b[0m (19.02 KB)\n"
            ]
          },
          "metadata": {},
          "output_type": "display_data"
        },
        {
          "data": {
            "text/html": [
              "<pre style=\"white-space:pre;overflow-x:auto;line-height:normal;font-family:Menlo,'DejaVu Sans Mono',consolas,'Courier New',monospace\"><span style=\"font-weight: bold\"> Trainable params: </span><span style=\"color: #00af00; text-decoration-color: #00af00\">2,433</span> (9.50 KB)\n",
              "</pre>\n"
            ],
            "text/plain": [
              "\u001b[1m Trainable params: \u001b[0m\u001b[38;5;34m2,433\u001b[0m (9.50 KB)\n"
            ]
          },
          "metadata": {},
          "output_type": "display_data"
        },
        {
          "data": {
            "text/html": [
              "<pre style=\"white-space:pre;overflow-x:auto;line-height:normal;font-family:Menlo,'DejaVu Sans Mono',consolas,'Courier New',monospace\"><span style=\"font-weight: bold\"> Non-trainable params: </span><span style=\"color: #00af00; text-decoration-color: #00af00\">0</span> (0.00 B)\n",
              "</pre>\n"
            ],
            "text/plain": [
              "\u001b[1m Non-trainable params: \u001b[0m\u001b[38;5;34m0\u001b[0m (0.00 B)\n"
            ]
          },
          "metadata": {},
          "output_type": "display_data"
        },
        {
          "data": {
            "text/html": [
              "<pre style=\"white-space:pre;overflow-x:auto;line-height:normal;font-family:Menlo,'DejaVu Sans Mono',consolas,'Courier New',monospace\"><span style=\"font-weight: bold\"> Optimizer params: </span><span style=\"color: #00af00; text-decoration-color: #00af00\">2,435</span> (9.52 KB)\n",
              "</pre>\n"
            ],
            "text/plain": [
              "\u001b[1m Optimizer params: \u001b[0m\u001b[38;5;34m2,435\u001b[0m (9.52 KB)\n"
            ]
          },
          "metadata": {},
          "output_type": "display_data"
        },
        {
          "name": "stdout",
          "output_type": "stream",
          "text": [
            "35.37079 seconds\n"
          ]
        }
      ],
      "source": [
        "#Timing the model fitting\n",
        "dl1_1000_time = \"\"\"\n",
        "#Fitting the first DL model\n",
        "dl1_1000 = dl_model_config()\n",
        "dl1_1000.fit(Xtrn, ytrn,\n",
        "             epochs = 300,\n",
        "             batch_size = 32,\n",
        "             validation_split = 0.20,\n",
        "             verbose = 0)\n",
        "\n",
        "dl1_1000.summary()\n",
        "\"\"\"\n",
        "\n",
        "dl1_1000_time = round(timeit.timeit(stmt = dl1_1000_time, globals=globals(), number=1), 5)\n",
        "print(dl1_1000_time, 'seconds')"
      ]
    },
    {
      "cell_type": "code",
      "execution_count": null,
      "id": "cbe303a3-4c8a-425a-a702-8f08ecb580f6",
      "metadata": {
        "id": "cbe303a3-4c8a-425a-a702-8f08ecb580f6",
        "outputId": "3ee8ad12-91c6-4d31-ced7-56943f0cc8cf"
      },
      "outputs": [
        {
          "name": "stdout",
          "output_type": "stream",
          "text": [
            "\u001b[1m25/25\u001b[0m \u001b[32m━━━━━━━━━━━━━━━━━━━━\u001b[0m\u001b[37m\u001b[0m \u001b[1m0s\u001b[0m 2ms/step - loss: 112066853601280.0000 - mean_absolute_error: 7599187.0000 - r2_score: -0.3429 - root_mean_squared_error: 10569374.0000\n",
            "\u001b[1m25/25\u001b[0m \u001b[32m━━━━━━━━━━━━━━━━━━━━\u001b[0m\u001b[37m\u001b[0m \u001b[1m0s\u001b[0m 1ms/step \n",
            "\u001b[1m7/7\u001b[0m \u001b[32m━━━━━━━━━━━━━━━━━━━━\u001b[0m\u001b[37m\u001b[0m \u001b[1m0s\u001b[0m 11ms/step\n"
          ]
        },
        {
          "data": {
            "text/plain": [
              "0.45778822898864746"
            ]
          },
          "execution_count": 57,
          "metadata": {},
          "output_type": "execute_result"
        }
      ],
      "source": [
        "train_start = time.time()\n",
        "dl1_1000.fit(Xtrain, ytrain)\n",
        "train_time = time.time() - train_start\n",
        "\n",
        "pred_start = time.time()\n",
        "\n",
        "dl1_1000.predict(Xtrain)\n",
        "dl1_1000.predict(Xtest)\n",
        "\n",
        "pred_time = time.time() - pred_start\n",
        "\n",
        "train_pred_time = train_time + pred_time\n",
        "train_pred_time\n"
      ]
    },
    {
      "cell_type": "code",
      "execution_count": null,
      "id": "044f95e7-13a5-4c57-ab5c-5e4d6c299885",
      "metadata": {
        "id": "044f95e7-13a5-4c57-ab5c-5e4d6c299885",
        "outputId": "06607366-77ad-4ffc-d803-524ae72b5d5a"
      },
      "outputs": [
        {
          "data": {
            "text/plain": [
              "227.2330256207753"
            ]
          },
          "execution_count": 59,
          "metadata": {},
          "output_type": "execute_result"
        }
      ],
      "source": [
        "# model efficiency\n",
        "dl1_avg_rmse = (dl1_train_rmse + dl1_val_rmse) / 2\n",
        "dl1_1000_eff = dl1_avg_rmse / train_pred_time\n",
        "\n",
        "dl1_1000_eff / 100000"
      ]
    },
    {
      "cell_type": "code",
      "execution_count": null,
      "id": "6a8783b3-1a0d-47a5-9b15-aadf73931c2c",
      "metadata": {
        "id": "6a8783b3-1a0d-47a5-9b15-aadf73931c2c"
      },
      "outputs": [],
      "source": [
        "## DL Network sequential model with 4 dense layers, l1 regularization, with relu and linear activation functions 1,000"
      ]
    },
    {
      "cell_type": "code",
      "execution_count": null,
      "id": "caeaeec6-020e-498a-8c52-066d17668399",
      "metadata": {
        "id": "caeaeec6-020e-498a-8c52-066d17668399"
      },
      "outputs": [],
      "source": [
        "from keras.models import Sequential\n",
        "from keras.layers import Dense, Dropout\n",
        "from keras.regularizers import l1\n",
        "\n",
        "#second model configuration\n",
        "def dl_model_config():\n",
        "\n",
        "#Sequential model with 4 dense layers, l1 regularization, with relu and linear activation functions\n",
        "dl_model = Sequential()\n",
        "dl_model.add(Dense(64,\n",
        "                   input_dim = Xtrn.shape[1],\n",
        "                   kernel_regularizer = l1(0.05),\n",
        "                   activation = 'relu'))\n",
        "dl_model.add(Dropout(0.25))\n",
        "dl_model.add(Dense(32,\n",
        "                   activation = 'relu',\n",
        "                   kernel_regularizer = l1(0.05)))\n",
        "dl_model.add(Dropout(0.25))\n",
        "dl_model.add(Dense(16,\n",
        "                   activation = 'relu',\n",
        "                   kernel_regularizer = l1(0.05)))\n",
        "dl_model.add(Dropout(0.25))\n",
        "dl_model.add(Dense(1,\n",
        "                   activation = 'linear'))\n",
        "\n",
        "#Compiling with the adam optimizer and MSE loss\n",
        "dl_model.compile(optimizer = 'adam',\n",
        "                 loss = 'mse',\n",
        "                 metrics = metrics)\n",
        "\n",
        "return dl_model\n",
        "\n"
      ]
    },
    {
      "cell_type": "code",
      "execution_count": null,
      "id": "20fe299f-b87f-4b74-b8db-afd80eda9c61",
      "metadata": {
        "id": "20fe299f-b87f-4b74-b8db-afd80eda9c61",
        "outputId": "6d116ae0-651f-49c7-8595-936c3c01814e"
      },
      "outputs": [
        {
          "ename": "ValueError",
          "evalue": "Only input tensors may be passed as positional arguments. The following argument value should be passed as a keyword argument: 0.05 (of type <class 'float'>)",
          "output_type": "error",
          "traceback": [
            "\u001b[1;31m---------------------------------------------------------------------------\u001b[0m",
            "\u001b[1;31mValueError\u001b[0m                                Traceback (most recent call last)",
            "Cell \u001b[1;32mIn[71], line 2\u001b[0m\n\u001b[0;32m      1\u001b[0m \u001b[38;5;66;03m#Fitting the second model \u001b[39;00m\n\u001b[1;32m----> 2\u001b[0m dl2_1000 \u001b[38;5;241m=\u001b[39m \u001b[43mdl_model_config\u001b[49m\u001b[43m(\u001b[49m\u001b[43m)\u001b[49m\n\u001b[0;32m      3\u001b[0m dl2_1000\u001b[38;5;241m.\u001b[39mfit(Xtrn, ytrn,\n\u001b[0;32m      4\u001b[0m              epochs \u001b[38;5;241m=\u001b[39m \u001b[38;5;241m300\u001b[39m, \n\u001b[0;32m      5\u001b[0m              batch_size \u001b[38;5;241m=\u001b[39m \u001b[38;5;241m32\u001b[39m,\n\u001b[0;32m      6\u001b[0m              validation_split \u001b[38;5;241m=\u001b[39m \u001b[38;5;241m0.20\u001b[39m,\n\u001b[0;32m      7\u001b[0m              verbose \u001b[38;5;241m=\u001b[39m \u001b[38;5;241m0\u001b[39m)\n\u001b[0;32m      9\u001b[0m dl2_1000\u001b[38;5;241m.\u001b[39msummary()\n",
            "Cell \u001b[1;32mIn[68], line 7\u001b[0m, in \u001b[0;36mdl_model_config\u001b[1;34m()\u001b[0m\n\u001b[0;32m      2\u001b[0m \u001b[38;5;28;01mdef\u001b[39;00m \u001b[38;5;21mdl_model_config\u001b[39m():\n\u001b[0;32m      3\u001b[0m     \u001b[38;5;66;03m#Sequential model with 4 dense layers, l1 regularization, with relu and linear activation functions\u001b[39;00m\n\u001b[0;32m      4\u001b[0m     dl_model \u001b[38;5;241m=\u001b[39m Sequential()\n\u001b[0;32m      5\u001b[0m     dl_model\u001b[38;5;241m.\u001b[39madd(Dense(\u001b[38;5;241m64\u001b[39m, \n\u001b[0;32m      6\u001b[0m                        input_dim \u001b[38;5;241m=\u001b[39m Xtrn\u001b[38;5;241m.\u001b[39mshape[\u001b[38;5;241m1\u001b[39m],\n\u001b[1;32m----> 7\u001b[0m                        kernel_regularizer \u001b[38;5;241m=\u001b[39m \u001b[43mdl_model\u001b[49m\u001b[43m(\u001b[49m\u001b[38;5;241;43m0.05\u001b[39;49m\u001b[43m)\u001b[49m,\n\u001b[0;32m      8\u001b[0m                        activation \u001b[38;5;241m=\u001b[39m \u001b[38;5;124m'\u001b[39m\u001b[38;5;124mrelu\u001b[39m\u001b[38;5;124m'\u001b[39m))\n\u001b[0;32m      9\u001b[0m     dl_model\u001b[38;5;241m.\u001b[39madd(Dropout(\u001b[38;5;241m0.25\u001b[39m))\n\u001b[0;32m     10\u001b[0m     dl_model\u001b[38;5;241m.\u001b[39madd(Dense(\u001b[38;5;241m32\u001b[39m,\n\u001b[0;32m     11\u001b[0m                        activation \u001b[38;5;241m=\u001b[39m \u001b[38;5;124m'\u001b[39m\u001b[38;5;124mrelu\u001b[39m\u001b[38;5;124m'\u001b[39m,\n\u001b[0;32m     12\u001b[0m                        kernel_regularizer \u001b[38;5;241m=\u001b[39m dl_model(\u001b[38;5;241m0.05\u001b[39m)))\n",
            "File \u001b[1;32m~\\AppData\\Local\\Programs\\Python\\Python312\\Lib\\site-packages\\keras\\src\\utils\\traceback_utils.py:122\u001b[0m, in \u001b[0;36mfilter_traceback.<locals>.error_handler\u001b[1;34m(*args, **kwargs)\u001b[0m\n\u001b[0;32m    119\u001b[0m     filtered_tb \u001b[38;5;241m=\u001b[39m _process_traceback_frames(e\u001b[38;5;241m.\u001b[39m__traceback__)\n\u001b[0;32m    120\u001b[0m     \u001b[38;5;66;03m# To get the full stack trace, call:\u001b[39;00m\n\u001b[0;32m    121\u001b[0m     \u001b[38;5;66;03m# `keras.config.disable_traceback_filtering()`\u001b[39;00m\n\u001b[1;32m--> 122\u001b[0m     \u001b[38;5;28;01mraise\u001b[39;00m e\u001b[38;5;241m.\u001b[39mwith_traceback(filtered_tb) \u001b[38;5;28;01mfrom\u001b[39;00m \u001b[38;5;28;01mNone\u001b[39;00m\n\u001b[0;32m    123\u001b[0m \u001b[38;5;28;01mfinally\u001b[39;00m:\n\u001b[0;32m    124\u001b[0m     \u001b[38;5;28;01mdel\u001b[39;00m filtered_tb\n",
            "File \u001b[1;32m~\\AppData\\Local\\Programs\\Python\\Python312\\Lib\\site-packages\\keras\\src\\layers\\layer.py:753\u001b[0m, in \u001b[0;36mLayer.__call__\u001b[1;34m(self, *args, **kwargs)\u001b[0m\n\u001b[0;32m    749\u001b[0m     \u001b[38;5;28;01mfor\u001b[39;00m arg \u001b[38;5;129;01min\u001b[39;00m tree\u001b[38;5;241m.\u001b[39mflatten(args):\n\u001b[0;32m    750\u001b[0m         \u001b[38;5;28;01mif\u001b[39;00m \u001b[38;5;129;01mnot\u001b[39;00m \u001b[38;5;28misinstance\u001b[39m(arg, KerasTensor) \u001b[38;5;129;01mand\u001b[39;00m \u001b[38;5;129;01mnot\u001b[39;00m backend\u001b[38;5;241m.\u001b[39mis_tensor(\n\u001b[0;32m    751\u001b[0m             arg\n\u001b[0;32m    752\u001b[0m         ):\n\u001b[1;32m--> 753\u001b[0m             \u001b[38;5;28;01mraise\u001b[39;00m \u001b[38;5;167;01mValueError\u001b[39;00m(\n\u001b[0;32m    754\u001b[0m                 \u001b[38;5;124m\"\u001b[39m\u001b[38;5;124mOnly input tensors may be passed as \u001b[39m\u001b[38;5;124m\"\u001b[39m\n\u001b[0;32m    755\u001b[0m                 \u001b[38;5;124m\"\u001b[39m\u001b[38;5;124mpositional arguments. The following argument value \u001b[39m\u001b[38;5;124m\"\u001b[39m\n\u001b[0;32m    756\u001b[0m                 \u001b[38;5;124mf\u001b[39m\u001b[38;5;124m\"\u001b[39m\u001b[38;5;124mshould be passed as a keyword argument: \u001b[39m\u001b[38;5;132;01m{\u001b[39;00marg\u001b[38;5;132;01m}\u001b[39;00m\u001b[38;5;124m \u001b[39m\u001b[38;5;124m\"\u001b[39m\n\u001b[0;32m    757\u001b[0m                 \u001b[38;5;124mf\u001b[39m\u001b[38;5;124m\"\u001b[39m\u001b[38;5;124m(of type \u001b[39m\u001b[38;5;132;01m{\u001b[39;00m\u001b[38;5;28mtype\u001b[39m(arg)\u001b[38;5;132;01m}\u001b[39;00m\u001b[38;5;124m)\u001b[39m\u001b[38;5;124m\"\u001b[39m\n\u001b[0;32m    758\u001b[0m             )\n\u001b[0;32m    760\u001b[0m \u001b[38;5;66;03m# Caches info about `call()` signature, args, kwargs.\u001b[39;00m\n\u001b[0;32m    761\u001b[0m call_spec \u001b[38;5;241m=\u001b[39m CallSpec(\u001b[38;5;28mself\u001b[39m\u001b[38;5;241m.\u001b[39m_call_signature, args, kwargs)\n",
            "\u001b[1;31mValueError\u001b[0m: Only input tensors may be passed as positional arguments. The following argument value should be passed as a keyword argument: 0.05 (of type <class 'float'>)"
          ]
        }
      ],
      "source": [
        " # fitting the second model\n",
        "dl2_1000 = dl_model_config()\n",
        "dl2_1000.fit(Xtrain, ytrain, epochs = 300, batch_size = 32,validation_split = 0.20,verbose = 0)\n",
        "\n",
        "dl2_1000.summary()"
      ]
    },
    {
      "cell_type": "code",
      "execution_count": null,
      "id": "5f853828-44ea-4bff-86ba-b4e56044b9ca",
      "metadata": {
        "id": "5f853828-44ea-4bff-86ba-b4e56044b9ca",
        "outputId": "70afaeb0-6fa8-4ee1-81f8-8409fd604cbe"
      },
      "outputs": [
        {
          "ename": "NameError",
          "evalue": "name 'dl2_1000' is not defined",
          "output_type": "error",
          "traceback": [
            "\u001b[1;31m---------------------------------------------------------------------------\u001b[0m",
            "\u001b[1;31mNameError\u001b[0m                                 Traceback (most recent call last)",
            "Cell \u001b[1;32mIn[72], line 2\u001b[0m\n\u001b[0;32m      1\u001b[0m \u001b[38;5;66;03m#Plotting the loss of both training and validation sets\u001b[39;00m\n\u001b[1;32m----> 2\u001b[0m plt\u001b[38;5;241m.\u001b[39mplot(\u001b[43mdl2_1000\u001b[49m\u001b[38;5;241m.\u001b[39mhistory\u001b[38;5;241m.\u001b[39mhistory[\u001b[38;5;124m'\u001b[39m\u001b[38;5;124mloss\u001b[39m\u001b[38;5;124m'\u001b[39m],\n\u001b[0;32m      3\u001b[0m          color \u001b[38;5;241m=\u001b[39m \u001b[38;5;124m'\u001b[39m\u001b[38;5;124mgreen\u001b[39m\u001b[38;5;124m'\u001b[39m,\n\u001b[0;32m      4\u001b[0m          label \u001b[38;5;241m=\u001b[39m \u001b[38;5;124m'\u001b[39m\u001b[38;5;124mtraining\u001b[39m\u001b[38;5;124m'\u001b[39m)\n\u001b[0;32m      5\u001b[0m plt\u001b[38;5;241m.\u001b[39mplot(dl2_1000\u001b[38;5;241m.\u001b[39mhistory\u001b[38;5;241m.\u001b[39mhistory[\u001b[38;5;124m'\u001b[39m\u001b[38;5;124mval_loss\u001b[39m\u001b[38;5;124m'\u001b[39m],\n\u001b[0;32m      6\u001b[0m          color \u001b[38;5;241m=\u001b[39m \u001b[38;5;124m'\u001b[39m\u001b[38;5;124mred\u001b[39m\u001b[38;5;124m'\u001b[39m,\n\u001b[0;32m      7\u001b[0m          label \u001b[38;5;241m=\u001b[39m \u001b[38;5;124m'\u001b[39m\u001b[38;5;124mvalidation\u001b[39m\u001b[38;5;124m'\u001b[39m)\n\u001b[0;32m      8\u001b[0m plt\u001b[38;5;241m.\u001b[39mlegend()\n",
            "\u001b[1;31mNameError\u001b[0m: name 'dl2_1000' is not defined"
          ]
        }
      ],
      "source": [
        "# plotting loss of training and validation se\n",
        "plt.plot(dl2_1000.history.history['loss'],\n",
        "         color = 'purple',\n",
        "         label = 'training')\n",
        "\n",
        "plt.plot(dl2_1000.history.history['val_loss'],\n",
        "         color = 'orange',\n",
        "         label = 'validation')\n",
        "\n",
        "plt.legend()\n"
      ]
    },
    {
      "cell_type": "code",
      "execution_count": null,
      "id": "d57dcda0-1a0f-40b3-8cdf-8df3f470899a",
      "metadata": {
        "jupyter": {
          "source_hidden": true
        },
        "id": "d57dcda0-1a0f-40b3-8cdf-8df3f470899a",
        "outputId": "9e64fcbc-7def-42a2-ef75-4a27de80272e"
      },
      "outputs": [
        {
          "ename": "NameError",
          "evalue": "name 'dl2_1000' is not defined",
          "output_type": "error",
          "traceback": [
            "\u001b[1;31m---------------------------------------------------------------------------\u001b[0m",
            "\u001b[1;31mNameError\u001b[0m                                 Traceback (most recent call last)",
            "Cell \u001b[1;32mIn[73], line 1\u001b[0m\n\u001b[1;32m----> 1\u001b[0m dl2_min_loss \u001b[38;5;241m=\u001b[39m np\u001b[38;5;241m.\u001b[39mmin(\u001b[43mdl2_1000\u001b[49m\u001b[38;5;241m.\u001b[39mhistory\u001b[38;5;241m.\u001b[39mhistory[\u001b[38;5;124m'\u001b[39m\u001b[38;5;124mloss\u001b[39m\u001b[38;5;124m'\u001b[39m])\n\u001b[0;32m      2\u001b[0m dl2_min_valloss \u001b[38;5;241m=\u001b[39m np\u001b[38;5;241m.\u001b[39mmin(dl2_1000\u001b[38;5;241m.\u001b[39mhistory\u001b[38;5;241m.\u001b[39mhistory[\u001b[38;5;124m'\u001b[39m\u001b[38;5;124mval_loss\u001b[39m\u001b[38;5;124m'\u001b[39m])\n\u001b[0;32m      4\u001b[0m \u001b[38;5;28mprint\u001b[39m(\u001b[38;5;124m'\u001b[39m\u001b[38;5;124mMin Training Loss (Error): \u001b[39m\u001b[38;5;124m'\u001b[39m , (\u001b[38;5;28mround\u001b[39m(dl2_min_loss, \u001b[38;5;241m4\u001b[39m)))\n",
            "\u001b[1;31mNameError\u001b[0m: name 'dl2_1000' is not defined"
          ]
        }
      ],
      "source": [
        "dl2_min_loss = np.min(dl2_1000.history.history['loss'])\n",
        "dl2_min_valloss = np.min(dl2_1000.history.history['val_loss'])\n",
        "print('Min Training Loss (Error): ' , (round(dl2_min_loss, 4)))\n",
        "print('Min Validation Loss (Error): ', (round(dl2_min_valloss, 4)))\n"
      ]
    },
    {
      "cell_type": "code",
      "execution_count": null,
      "id": "d015785d-9d15-4663-973c-ed432d7e4666",
      "metadata": {
        "jupyter": {
          "source_hidden": true
        },
        "id": "d015785d-9d15-4663-973c-ed432d7e4666",
        "outputId": "f40d8374-45e8-4e1a-e7ce-181ca87fa09a"
      },
      "outputs": [
        {
          "ename": "NameError",
          "evalue": "name 'dl2_1000' is not defined",
          "output_type": "error",
          "traceback": [
            "\u001b[1;31m---------------------------------------------------------------------------\u001b[0m",
            "\u001b[1;31mNameError\u001b[0m                                 Traceback (most recent call last)",
            "Cell \u001b[1;32mIn[74], line 1\u001b[0m\n\u001b[1;32m----> 1\u001b[0m dl2_trn_rmse \u001b[38;5;241m=\u001b[39m np\u001b[38;5;241m.\u001b[39mmean(\u001b[43mdl2_1000\u001b[49m\u001b[38;5;241m.\u001b[39mhistory\u001b[38;5;241m.\u001b[39mhistory[\u001b[38;5;124m'\u001b[39m\u001b[38;5;124mroot_mean_squared_error\u001b[39m\u001b[38;5;124m'\u001b[39m])\n\u001b[0;32m      2\u001b[0m dl2_val_rmse \u001b[38;5;241m=\u001b[39m np\u001b[38;5;241m.\u001b[39mmean(dl2_1000\u001b[38;5;241m.\u001b[39mhistory\u001b[38;5;241m.\u001b[39mhistory[\u001b[38;5;124m'\u001b[39m\u001b[38;5;124mval_root_mean_squared_error\u001b[39m\u001b[38;5;124m'\u001b[39m])\n\u001b[0;32m      4\u001b[0m \u001b[38;5;28mprint\u001b[39m(\u001b[38;5;124m'\u001b[39m\u001b[38;5;124mAverage Training RMSE: \u001b[39m\u001b[38;5;124m'\u001b[39m , (\u001b[38;5;28mround\u001b[39m(dl2_trn_rmse, \u001b[38;5;241m5\u001b[39m)))\n",
            "\u001b[1;31mNameError\u001b[0m: name 'dl2_1000' is not defined"
          ]
        }
      ],
      "source": [
        "dl2_train_rmse = np.mean(dl2_1000.history.history['root_mean_squared_error'])\n",
        "dl2_val_rmse = np.mean(dl2_1000.history.history['val_root_mean_squared_error'])\n",
        "print('Average Training RMSE: ' , (round(dl2_train_rmse, 5)))\n",
        "print('Average Validation RMSE: ', (round(dl2_val_rmse, 5)))\n"
      ]
    },
    {
      "cell_type": "code",
      "execution_count": null,
      "id": "fa564571-418b-4059-9f9f-f8a947f07298",
      "metadata": {
        "jupyter": {
          "source_hidden": true
        },
        "id": "fa564571-418b-4059-9f9f-f8a947f07298",
        "outputId": "72a0f671-786b-4491-ca4c-6ce5f91135d0"
      },
      "outputs": [
        {
          "ename": "NameError",
          "evalue": "name 'dl2_1000' is not defined",
          "output_type": "error",
          "traceback": [
            "\u001b[1;31m---------------------------------------------------------------------------\u001b[0m",
            "\u001b[1;31mNameError\u001b[0m                                 Traceback (most recent call last)",
            "Cell \u001b[1;32mIn[75], line 1\u001b[0m\n\u001b[1;32m----> 1\u001b[0m dl2_trn_mae \u001b[38;5;241m=\u001b[39m np\u001b[38;5;241m.\u001b[39mmean(\u001b[43mdl2_1000\u001b[49m\u001b[38;5;241m.\u001b[39mhistory\u001b[38;5;241m.\u001b[39mhistory[\u001b[38;5;124m'\u001b[39m\u001b[38;5;124mmean_absolute_error\u001b[39m\u001b[38;5;124m'\u001b[39m])\n\u001b[0;32m      2\u001b[0m dl2_val_mae \u001b[38;5;241m=\u001b[39m np\u001b[38;5;241m.\u001b[39mmean(dl2_1000\u001b[38;5;241m.\u001b[39mhistory\u001b[38;5;241m.\u001b[39mhistory[\u001b[38;5;124m'\u001b[39m\u001b[38;5;124mval_mean_absolute_error\u001b[39m\u001b[38;5;124m'\u001b[39m])\n\u001b[0;32m      4\u001b[0m \u001b[38;5;28mprint\u001b[39m(\u001b[38;5;124m'\u001b[39m\u001b[38;5;124mAverage Training MAE: \u001b[39m\u001b[38;5;124m'\u001b[39m , (\u001b[38;5;28mround\u001b[39m(dl2_trn_mae, \u001b[38;5;241m5\u001b[39m)))\n",
            "\u001b[1;31mNameError\u001b[0m: name 'dl2_1000' is not defined"
          ]
        }
      ],
      "source": [
        " dl2_trn_mae = np.mean(dl2_1000.history.history['mean_absolute_error'])\n",
        "dl2_val_mae = np.mean(dl2_1000.history.history['val_mean_absolute_error'])\n",
        "print('Average Training MAE: ' , (round(dl2_train_mae, 5)))\n",
        "print('Average Validation MAE: ', (round(dl2_val_mae, 5)))\n"
      ]
    },
    {
      "cell_type": "code",
      "execution_count": null,
      "id": "023e78ac-9618-4161-9e41-af9bf512807c",
      "metadata": {
        "id": "023e78ac-9618-4161-9e41-af9bf512807c",
        "outputId": "dfbc4ac2-e495-4ae7-b63b-f83aa2255e1b"
      },
      "outputs": [
        {
          "ename": "NameError",
          "evalue": "name 'dl2_1000' is not defined",
          "output_type": "error",
          "traceback": [
            "\u001b[1;31m---------------------------------------------------------------------------\u001b[0m",
            "\u001b[1;31mNameError\u001b[0m                                 Traceback (most recent call last)",
            "Cell \u001b[1;32mIn[76], line 1\u001b[0m\n\u001b[1;32m----> 1\u001b[0m dl2_1000_Rtrn \u001b[38;5;241m=\u001b[39m np\u001b[38;5;241m.\u001b[39mmean(\u001b[43mdl2_1000\u001b[49m\u001b[38;5;241m.\u001b[39mhistory\u001b[38;5;241m.\u001b[39mhistory[\u001b[38;5;124m'\u001b[39m\u001b[38;5;124mr2_score\u001b[39m\u001b[38;5;124m'\u001b[39m])\n\u001b[0;32m      2\u001b[0m dl2_1000_Rval \u001b[38;5;241m=\u001b[39m np\u001b[38;5;241m.\u001b[39mmean(dl2_1000\u001b[38;5;241m.\u001b[39mhistory\u001b[38;5;241m.\u001b[39mhistory[\u001b[38;5;124m'\u001b[39m\u001b[38;5;124mval_r2_score\u001b[39m\u001b[38;5;124m'\u001b[39m])\n\u001b[0;32m      4\u001b[0m \u001b[38;5;28mprint\u001b[39m(\u001b[38;5;124m'\u001b[39m\u001b[38;5;124mAverage Training R-squared: \u001b[39m\u001b[38;5;124m'\u001b[39m , (\u001b[38;5;28mround\u001b[39m(dl2_1000_Rtrn, \u001b[38;5;241m5\u001b[39m)))\n",
            "\u001b[1;31mNameError\u001b[0m: name 'dl2_1000' is not defined"
          ]
        }
      ],
      "source": [
        "dl2_1000_Rtrain = np.mean(dl2_1000.history.history['r2_score'])\n",
        "dl2_1000_Rval = np.mean(dl2_1000.history.history['val_r2_score'])\n",
        "print('Average Training R-squared: ' , (round(dl2_1000_Rtrain, 5)))\n",
        "print('Average Validation R-squared: ', (round(dl2_1000_Rval, 5)))\n"
      ]
    },
    {
      "cell_type": "code",
      "execution_count": null,
      "id": "44222190-02e1-4afd-b263-280663bd87da",
      "metadata": {
        "id": "44222190-02e1-4afd-b263-280663bd87da",
        "outputId": "815108bf-ebf9-4a38-8aca-af44b81bd7ef"
      },
      "outputs": [
        {
          "ename": "ValueError",
          "evalue": "Only input tensors may be passed as positional arguments. The following argument value should be passed as a keyword argument: 0.05 (of type <class 'float'>)",
          "output_type": "error",
          "traceback": [
            "\u001b[1;31m---------------------------------------------------------------------------\u001b[0m",
            "\u001b[1;31mValueError\u001b[0m                                Traceback (most recent call last)",
            "Cell \u001b[1;32mIn[77], line 14\u001b[0m\n\u001b[0;32m      1\u001b[0m \u001b[38;5;66;03m#Timing the model fitting\u001b[39;00m\n\u001b[0;32m      2\u001b[0m dl2_1000_time \u001b[38;5;241m=\u001b[39m \u001b[38;5;124m\"\"\"\u001b[39m\n\u001b[0;32m      3\u001b[0m \u001b[38;5;124m#Fitting the second model \u001b[39m\n\u001b[0;32m      4\u001b[0m \u001b[38;5;124mdl2_1000 = dl_model_config()\u001b[39m\n\u001b[1;32m   (...)\u001b[0m\n\u001b[0;32m     11\u001b[0m \u001b[38;5;124mdl2_1000.summary()\u001b[39m\n\u001b[0;32m     12\u001b[0m \u001b[38;5;124m\"\"\"\u001b[39m\n\u001b[1;32m---> 14\u001b[0m dl2_1000_time \u001b[38;5;241m=\u001b[39m \u001b[38;5;28mround\u001b[39m(\u001b[43mtimeit\u001b[49m\u001b[38;5;241;43m.\u001b[39;49m\u001b[43mtimeit\u001b[49m\u001b[43m(\u001b[49m\u001b[43mstmt\u001b[49m\u001b[43m \u001b[49m\u001b[38;5;241;43m=\u001b[39;49m\u001b[43m \u001b[49m\u001b[43mdl2_1000_time\u001b[49m\u001b[43m,\u001b[49m\u001b[43m \u001b[49m\u001b[38;5;28;43mglobals\u001b[39;49m\u001b[38;5;241;43m=\u001b[39;49m\u001b[38;5;28;43mglobals\u001b[39;49m\u001b[43m(\u001b[49m\u001b[43m)\u001b[49m\u001b[43m,\u001b[49m\u001b[43m \u001b[49m\u001b[43mnumber\u001b[49m\u001b[38;5;241;43m=\u001b[39;49m\u001b[38;5;241;43m1\u001b[39;49m\u001b[43m)\u001b[49m, \u001b[38;5;241m5\u001b[39m)\n\u001b[0;32m     15\u001b[0m \u001b[38;5;28mprint\u001b[39m(dl2_1000_time, \u001b[38;5;124m'\u001b[39m\u001b[38;5;124mseconds\u001b[39m\u001b[38;5;124m'\u001b[39m)\n",
            "File \u001b[1;32m~\\AppData\\Local\\Programs\\Python\\Python312\\Lib\\timeit.py:237\u001b[0m, in \u001b[0;36mtimeit\u001b[1;34m(stmt, setup, timer, number, globals)\u001b[0m\n\u001b[0;32m    234\u001b[0m \u001b[38;5;28;01mdef\u001b[39;00m \u001b[38;5;21mtimeit\u001b[39m(stmt\u001b[38;5;241m=\u001b[39m\u001b[38;5;124m\"\u001b[39m\u001b[38;5;124mpass\u001b[39m\u001b[38;5;124m\"\u001b[39m, setup\u001b[38;5;241m=\u001b[39m\u001b[38;5;124m\"\u001b[39m\u001b[38;5;124mpass\u001b[39m\u001b[38;5;124m\"\u001b[39m, timer\u001b[38;5;241m=\u001b[39mdefault_timer,\n\u001b[0;32m    235\u001b[0m            number\u001b[38;5;241m=\u001b[39mdefault_number, \u001b[38;5;28mglobals\u001b[39m\u001b[38;5;241m=\u001b[39m\u001b[38;5;28;01mNone\u001b[39;00m):\n\u001b[0;32m    236\u001b[0m \u001b[38;5;250m    \u001b[39m\u001b[38;5;124;03m\"\"\"Convenience function to create Timer object and call timeit method.\"\"\"\u001b[39;00m\n\u001b[1;32m--> 237\u001b[0m     \u001b[38;5;28;01mreturn\u001b[39;00m \u001b[43mTimer\u001b[49m\u001b[43m(\u001b[49m\u001b[43mstmt\u001b[49m\u001b[43m,\u001b[49m\u001b[43m \u001b[49m\u001b[43msetup\u001b[49m\u001b[43m,\u001b[49m\u001b[43m \u001b[49m\u001b[43mtimer\u001b[49m\u001b[43m,\u001b[49m\u001b[43m \u001b[49m\u001b[38;5;28;43mglobals\u001b[39;49m\u001b[43m)\u001b[49m\u001b[38;5;241;43m.\u001b[39;49m\u001b[43mtimeit\u001b[49m\u001b[43m(\u001b[49m\u001b[43mnumber\u001b[49m\u001b[43m)\u001b[49m\n",
            "File \u001b[1;32m~\\AppData\\Local\\Programs\\Python\\Python312\\Lib\\timeit.py:180\u001b[0m, in \u001b[0;36mTimer.timeit\u001b[1;34m(self, number)\u001b[0m\n\u001b[0;32m    178\u001b[0m gc\u001b[38;5;241m.\u001b[39mdisable()\n\u001b[0;32m    179\u001b[0m \u001b[38;5;28;01mtry\u001b[39;00m:\n\u001b[1;32m--> 180\u001b[0m     timing \u001b[38;5;241m=\u001b[39m \u001b[38;5;28;43mself\u001b[39;49m\u001b[38;5;241;43m.\u001b[39;49m\u001b[43minner\u001b[49m\u001b[43m(\u001b[49m\u001b[43mit\u001b[49m\u001b[43m,\u001b[49m\u001b[43m \u001b[49m\u001b[38;5;28;43mself\u001b[39;49m\u001b[38;5;241;43m.\u001b[39;49m\u001b[43mtimer\u001b[49m\u001b[43m)\u001b[49m\n\u001b[0;32m    181\u001b[0m \u001b[38;5;28;01mfinally\u001b[39;00m:\n\u001b[0;32m    182\u001b[0m     \u001b[38;5;28;01mif\u001b[39;00m gcold:\n",
            "File \u001b[1;32m<timeit-src>:8\u001b[0m, in \u001b[0;36minner\u001b[1;34m(_it, _timer)\u001b[0m\n",
            "Cell \u001b[1;32mIn[68], line 7\u001b[0m, in \u001b[0;36mdl_model_config\u001b[1;34m()\u001b[0m\n\u001b[0;32m      2\u001b[0m \u001b[38;5;28;01mdef\u001b[39;00m \u001b[38;5;21mdl_model_config\u001b[39m():\n\u001b[0;32m      3\u001b[0m     \u001b[38;5;66;03m#Sequential model with 4 dense layers, l1 regularization, with relu and linear activation functions\u001b[39;00m\n\u001b[0;32m      4\u001b[0m     dl_model \u001b[38;5;241m=\u001b[39m Sequential()\n\u001b[0;32m      5\u001b[0m     dl_model\u001b[38;5;241m.\u001b[39madd(Dense(\u001b[38;5;241m64\u001b[39m, \n\u001b[0;32m      6\u001b[0m                        input_dim \u001b[38;5;241m=\u001b[39m Xtrn\u001b[38;5;241m.\u001b[39mshape[\u001b[38;5;241m1\u001b[39m],\n\u001b[1;32m----> 7\u001b[0m                        kernel_regularizer \u001b[38;5;241m=\u001b[39m \u001b[43mdl_model\u001b[49m\u001b[43m(\u001b[49m\u001b[38;5;241;43m0.05\u001b[39;49m\u001b[43m)\u001b[49m,\n\u001b[0;32m      8\u001b[0m                        activation \u001b[38;5;241m=\u001b[39m \u001b[38;5;124m'\u001b[39m\u001b[38;5;124mrelu\u001b[39m\u001b[38;5;124m'\u001b[39m))\n\u001b[0;32m      9\u001b[0m     dl_model\u001b[38;5;241m.\u001b[39madd(Dropout(\u001b[38;5;241m0.25\u001b[39m))\n\u001b[0;32m     10\u001b[0m     dl_model\u001b[38;5;241m.\u001b[39madd(Dense(\u001b[38;5;241m32\u001b[39m,\n\u001b[0;32m     11\u001b[0m                        activation \u001b[38;5;241m=\u001b[39m \u001b[38;5;124m'\u001b[39m\u001b[38;5;124mrelu\u001b[39m\u001b[38;5;124m'\u001b[39m,\n\u001b[0;32m     12\u001b[0m                        kernel_regularizer \u001b[38;5;241m=\u001b[39m dl_model(\u001b[38;5;241m0.05\u001b[39m)))\n",
            "File \u001b[1;32m~\\AppData\\Local\\Programs\\Python\\Python312\\Lib\\site-packages\\keras\\src\\utils\\traceback_utils.py:122\u001b[0m, in \u001b[0;36mfilter_traceback.<locals>.error_handler\u001b[1;34m(*args, **kwargs)\u001b[0m\n\u001b[0;32m    119\u001b[0m     filtered_tb \u001b[38;5;241m=\u001b[39m _process_traceback_frames(e\u001b[38;5;241m.\u001b[39m__traceback__)\n\u001b[0;32m    120\u001b[0m     \u001b[38;5;66;03m# To get the full stack trace, call:\u001b[39;00m\n\u001b[0;32m    121\u001b[0m     \u001b[38;5;66;03m# `keras.config.disable_traceback_filtering()`\u001b[39;00m\n\u001b[1;32m--> 122\u001b[0m     \u001b[38;5;28;01mraise\u001b[39;00m e\u001b[38;5;241m.\u001b[39mwith_traceback(filtered_tb) \u001b[38;5;28;01mfrom\u001b[39;00m \u001b[38;5;28;01mNone\u001b[39;00m\n\u001b[0;32m    123\u001b[0m \u001b[38;5;28;01mfinally\u001b[39;00m:\n\u001b[0;32m    124\u001b[0m     \u001b[38;5;28;01mdel\u001b[39;00m filtered_tb\n",
            "File \u001b[1;32m~\\AppData\\Local\\Programs\\Python\\Python312\\Lib\\site-packages\\keras\\src\\layers\\layer.py:753\u001b[0m, in \u001b[0;36mLayer.__call__\u001b[1;34m(self, *args, **kwargs)\u001b[0m\n\u001b[0;32m    749\u001b[0m     \u001b[38;5;28;01mfor\u001b[39;00m arg \u001b[38;5;129;01min\u001b[39;00m tree\u001b[38;5;241m.\u001b[39mflatten(args):\n\u001b[0;32m    750\u001b[0m         \u001b[38;5;28;01mif\u001b[39;00m \u001b[38;5;129;01mnot\u001b[39;00m \u001b[38;5;28misinstance\u001b[39m(arg, KerasTensor) \u001b[38;5;129;01mand\u001b[39;00m \u001b[38;5;129;01mnot\u001b[39;00m backend\u001b[38;5;241m.\u001b[39mis_tensor(\n\u001b[0;32m    751\u001b[0m             arg\n\u001b[0;32m    752\u001b[0m         ):\n\u001b[1;32m--> 753\u001b[0m             \u001b[38;5;28;01mraise\u001b[39;00m \u001b[38;5;167;01mValueError\u001b[39;00m(\n\u001b[0;32m    754\u001b[0m                 \u001b[38;5;124m\"\u001b[39m\u001b[38;5;124mOnly input tensors may be passed as \u001b[39m\u001b[38;5;124m\"\u001b[39m\n\u001b[0;32m    755\u001b[0m                 \u001b[38;5;124m\"\u001b[39m\u001b[38;5;124mpositional arguments. The following argument value \u001b[39m\u001b[38;5;124m\"\u001b[39m\n\u001b[0;32m    756\u001b[0m                 \u001b[38;5;124mf\u001b[39m\u001b[38;5;124m\"\u001b[39m\u001b[38;5;124mshould be passed as a keyword argument: \u001b[39m\u001b[38;5;132;01m{\u001b[39;00marg\u001b[38;5;132;01m}\u001b[39;00m\u001b[38;5;124m \u001b[39m\u001b[38;5;124m\"\u001b[39m\n\u001b[0;32m    757\u001b[0m                 \u001b[38;5;124mf\u001b[39m\u001b[38;5;124m\"\u001b[39m\u001b[38;5;124m(of type \u001b[39m\u001b[38;5;132;01m{\u001b[39;00m\u001b[38;5;28mtype\u001b[39m(arg)\u001b[38;5;132;01m}\u001b[39;00m\u001b[38;5;124m)\u001b[39m\u001b[38;5;124m\"\u001b[39m\n\u001b[0;32m    758\u001b[0m             )\n\u001b[0;32m    760\u001b[0m \u001b[38;5;66;03m# Caches info about `call()` signature, args, kwargs.\u001b[39;00m\n\u001b[0;32m    761\u001b[0m call_spec \u001b[38;5;241m=\u001b[39m CallSpec(\u001b[38;5;28mself\u001b[39m\u001b[38;5;241m.\u001b[39m_call_signature, args, kwargs)\n",
            "\u001b[1;31mValueError\u001b[0m: Only input tensors may be passed as positional arguments. The following argument value should be passed as a keyword argument: 0.05 (of type <class 'float'>)"
          ]
        }
      ],
      "source": [
        " # timing model fit\n",
        "dl2_1000_time = \"\"\"\n",
        "#Fitting the second model\n",
        "dl2_1000 = dl_model_config()\n",
        "dl2_1000.fit(Xtrain, ytrain,\n",
        "epochs = 300,\n",
        "batch_size = 32,\n",
        "validation_split = 0.20,\n",
        "verbose = 0)\n",
        "dl2_1000.summary()\n",
        "\"\"\"\n",
        "dl2_1000_time = round(timeit.timeit(stmt = dl2_1000_time, globals=globals(),number=1), 5)\n",
        "print(dl2_1000_time, 'seconds')"
      ]
    },
    {
      "cell_type": "code",
      "execution_count": null,
      "id": "93610e78-97dc-4fbf-a4e2-a55c9362d837",
      "metadata": {
        "id": "93610e78-97dc-4fbf-a4e2-a55c9362d837",
        "outputId": "bf24f9fb-1bf1-430c-f6bd-6c04b7f63693"
      },
      "outputs": [
        {
          "ename": "NameError",
          "evalue": "name 'dl2_1000' is not defined",
          "output_type": "error",
          "traceback": [
            "\u001b[1;31m---------------------------------------------------------------------------\u001b[0m",
            "\u001b[1;31mNameError\u001b[0m                                 Traceback (most recent call last)",
            "Cell \u001b[1;32mIn[78], line 4\u001b[0m\n\u001b[0;32m      1\u001b[0m \u001b[38;5;66;03m#Timing the training and prediction time\u001b[39;00m\n\u001b[0;32m      2\u001b[0m train_start \u001b[38;5;241m=\u001b[39m time\u001b[38;5;241m.\u001b[39mtime()\n\u001b[1;32m----> 4\u001b[0m \u001b[43mdl2_1000\u001b[49m\u001b[38;5;241m.\u001b[39mfit(Xtrn, ytrn)\n\u001b[0;32m      6\u001b[0m train_time \u001b[38;5;241m=\u001b[39m time\u001b[38;5;241m.\u001b[39mtime() \u001b[38;5;241m-\u001b[39m train_start\n\u001b[0;32m      8\u001b[0m pred_start \u001b[38;5;241m=\u001b[39m time\u001b[38;5;241m.\u001b[39mtime()\n",
            "\u001b[1;31mNameError\u001b[0m: name 'dl2_1000' is not defined"
          ]
        }
      ],
      "source": [
        "train_start = time.time()\n",
        "dl2_1000.fit(Xtrain, ytrain)\n",
        "train_time = time.time() - train_start\n",
        "\n",
        "pred_start = time.time()\n",
        "\n",
        "dl2_1000.predict(Xtrn)\n",
        "dl2_1000.predict(Xtst)\n",
        "\n",
        "pred_time = time.time() - pred_start\n",
        "\n",
        "train_pred_time = train_time + pred_time\n",
        "train_pred_time"
      ]
    },
    {
      "cell_type": "code",
      "execution_count": null,
      "id": "e7fc45dc-a4b1-4d18-a701-ab445581b504",
      "metadata": {
        "id": "e7fc45dc-a4b1-4d18-a701-ab445581b504",
        "outputId": "99595af7-2149-4639-d169-d3bda836e35f"
      },
      "outputs": [
        {
          "ename": "NameError",
          "evalue": "name 'dl2_trn_rmse' is not defined",
          "output_type": "error",
          "traceback": [
            "\u001b[1;31m---------------------------------------------------------------------------\u001b[0m",
            "\u001b[1;31mNameError\u001b[0m                                 Traceback (most recent call last)",
            "Cell \u001b[1;32mIn[79], line 2\u001b[0m\n\u001b[0;32m      1\u001b[0m \u001b[38;5;66;03m#Measuring model efficiency by dividing the average RMSE value computed from both training and holdout sets by the calculated model train/pred time\u001b[39;00m\n\u001b[1;32m----> 2\u001b[0m dl2_avg_rmse \u001b[38;5;241m=\u001b[39m (\u001b[43mdl2_trn_rmse\u001b[49m \u001b[38;5;241m+\u001b[39m dl2_val_rmse) \u001b[38;5;241m/\u001b[39m \u001b[38;5;241m2\u001b[39m\n\u001b[0;32m      3\u001b[0m dl2_1000_eff \u001b[38;5;241m=\u001b[39m  dl2_avg_rmse \u001b[38;5;241m/\u001b[39m train_pred_time\n\u001b[0;32m      5\u001b[0m \u001b[38;5;66;03m#Dividing to scale the value\u001b[39;00m\n",
            "\u001b[1;31mNameError\u001b[0m: name 'dl2_trn_rmse' is not defined"
          ]
        }
      ],
      "source": [
        "#model efficiency\n",
        "dl2_1000_eff = dl2_avg_rmse / train_pred_time\n",
        "\n",
        "dl2_1000_eff / 100000"
      ]
    },
    {
      "cell_type": "code",
      "execution_count": null,
      "id": "caea9d9e-6929-43bb-8eb0-55eb9f1bb319",
      "metadata": {
        "id": "caea9d9e-6929-43bb-8eb0-55eb9f1bb319"
      },
      "outputs": [],
      "source": [
        "# 10,000\n",
        "# setting the predictors and the outcome variable\n",
        "Y = df_10000['Y']\n",
        "X = df_10000[['X1', 'X2', 'X3', 'X4']]"
      ]
    },
    {
      "cell_type": "code",
      "execution_count": null,
      "id": "9336005d-52ff-4992-ae54-daa838f9be0f",
      "metadata": {
        "id": "9336005d-52ff-4992-ae54-daa838f9be0f",
        "outputId": "df186851-6df1-476a-b384-ebfee88845bf"
      },
      "outputs": [
        {
          "name": "stdout",
          "output_type": "stream",
          "text": [
            "Training size:  (8000, 4) (8000,)\n",
            "Testing size:  (2000, 4) (2000,)\n"
          ]
        }
      ],
      "source": [
        "# splitting into training and testing\n",
        "Xtrain, Xtest, ytrain, ytest = \\\n",
        "train_test_split(X,\n",
        "Y,\n",
        "test_size = 0.20,\n",
        "random_state = 30)\n",
        "print('Training size: ', Xtrain.shape, ytrain.shape)\n",
        "print('Testing size: ', Xtest.shape, ytest.shape)"
      ]
    },
    {
      "cell_type": "code",
      "execution_count": null,
      "id": "7357fca4-af14-4d89-ab34-8c2177a2c280",
      "metadata": {
        "id": "7357fca4-af14-4d89-ab34-8c2177a2c280"
      },
      "outputs": [],
      "source": [
        "## GLM LBFGS 10,000"
      ]
    },
    {
      "cell_type": "code",
      "execution_count": null,
      "id": "d77dee77-ce13-4d9d-95d2-7b4248deab98",
      "metadata": {
        "jupyter": {
          "source_hidden": true
        },
        "id": "d77dee77-ce13-4d9d-95d2-7b4248deab98",
        "outputId": "03254e0c-4f7a-40c6-ae6a-55063e9c060f"
      },
      "outputs": [
        {
          "data": {
            "text/html": [
              "<style>#sk-container-id-6 {\n",
              "  /* Definition of color scheme common for light and dark mode */\n",
              "  --sklearn-color-text: black;\n",
              "  --sklearn-color-line: gray;\n",
              "  /* Definition of color scheme for unfitted estimators */\n",
              "  --sklearn-color-unfitted-level-0: #fff5e6;\n",
              "  --sklearn-color-unfitted-level-1: #f6e4d2;\n",
              "  --sklearn-color-unfitted-level-2: #ffe0b3;\n",
              "  --sklearn-color-unfitted-level-3: chocolate;\n",
              "  /* Definition of color scheme for fitted estimators */\n",
              "  --sklearn-color-fitted-level-0: #f0f8ff;\n",
              "  --sklearn-color-fitted-level-1: #d4ebff;\n",
              "  --sklearn-color-fitted-level-2: #b3dbfd;\n",
              "  --sklearn-color-fitted-level-3: cornflowerblue;\n",
              "\n",
              "  /* Specific color for light theme */\n",
              "  --sklearn-color-text-on-default-background: var(--sg-text-color, var(--theme-code-foreground, var(--jp-content-font-color1, black)));\n",
              "  --sklearn-color-background: var(--sg-background-color, var(--theme-background, var(--jp-layout-color0, white)));\n",
              "  --sklearn-color-border-box: var(--sg-text-color, var(--theme-code-foreground, var(--jp-content-font-color1, black)));\n",
              "  --sklearn-color-icon: #696969;\n",
              "\n",
              "  @media (prefers-color-scheme: dark) {\n",
              "    /* Redefinition of color scheme for dark theme */\n",
              "    --sklearn-color-text-on-default-background: var(--sg-text-color, var(--theme-code-foreground, var(--jp-content-font-color1, white)));\n",
              "    --sklearn-color-background: var(--sg-background-color, var(--theme-background, var(--jp-layout-color0, #111)));\n",
              "    --sklearn-color-border-box: var(--sg-text-color, var(--theme-code-foreground, var(--jp-content-font-color1, white)));\n",
              "    --sklearn-color-icon: #878787;\n",
              "  }\n",
              "}\n",
              "\n",
              "#sk-container-id-6 {\n",
              "  color: var(--sklearn-color-text);\n",
              "}\n",
              "\n",
              "#sk-container-id-6 pre {\n",
              "  padding: 0;\n",
              "}\n",
              "\n",
              "#sk-container-id-6 input.sk-hidden--visually {\n",
              "  border: 0;\n",
              "  clip: rect(1px 1px 1px 1px);\n",
              "  clip: rect(1px, 1px, 1px, 1px);\n",
              "  height: 1px;\n",
              "  margin: -1px;\n",
              "  overflow: hidden;\n",
              "  padding: 0;\n",
              "  position: absolute;\n",
              "  width: 1px;\n",
              "}\n",
              "\n",
              "#sk-container-id-6 div.sk-dashed-wrapped {\n",
              "  border: 1px dashed var(--sklearn-color-line);\n",
              "  margin: 0 0.4em 0.5em 0.4em;\n",
              "  box-sizing: border-box;\n",
              "  padding-bottom: 0.4em;\n",
              "  background-color: var(--sklearn-color-background);\n",
              "}\n",
              "\n",
              "#sk-container-id-6 div.sk-container {\n",
              "  /* jupyter's `normalize.less` sets `[hidden] { display: none; }`\n",
              "     but bootstrap.min.css set `[hidden] { display: none !important; }`\n",
              "     so we also need the `!important` here to be able to override the\n",
              "     default hidden behavior on the sphinx rendered scikit-learn.org.\n",
              "     See: https://github.com/scikit-learn/scikit-learn/issues/21755 */\n",
              "  display: inline-block !important;\n",
              "  position: relative;\n",
              "}\n",
              "\n",
              "#sk-container-id-6 div.sk-text-repr-fallback {\n",
              "  display: none;\n",
              "}\n",
              "\n",
              "div.sk-parallel-item,\n",
              "div.sk-serial,\n",
              "div.sk-item {\n",
              "  /* draw centered vertical line to link estimators */\n",
              "  background-image: linear-gradient(var(--sklearn-color-text-on-default-background), var(--sklearn-color-text-on-default-background));\n",
              "  background-size: 2px 100%;\n",
              "  background-repeat: no-repeat;\n",
              "  background-position: center center;\n",
              "}\n",
              "\n",
              "/* Parallel-specific style estimator block */\n",
              "\n",
              "#sk-container-id-6 div.sk-parallel-item::after {\n",
              "  content: \"\";\n",
              "  width: 100%;\n",
              "  border-bottom: 2px solid var(--sklearn-color-text-on-default-background);\n",
              "  flex-grow: 1;\n",
              "}\n",
              "\n",
              "#sk-container-id-6 div.sk-parallel {\n",
              "  display: flex;\n",
              "  align-items: stretch;\n",
              "  justify-content: center;\n",
              "  background-color: var(--sklearn-color-background);\n",
              "  position: relative;\n",
              "}\n",
              "\n",
              "#sk-container-id-6 div.sk-parallel-item {\n",
              "  display: flex;\n",
              "  flex-direction: column;\n",
              "}\n",
              "\n",
              "#sk-container-id-6 div.sk-parallel-item:first-child::after {\n",
              "  align-self: flex-end;\n",
              "  width: 50%;\n",
              "}\n",
              "\n",
              "#sk-container-id-6 div.sk-parallel-item:last-child::after {\n",
              "  align-self: flex-start;\n",
              "  width: 50%;\n",
              "}\n",
              "\n",
              "#sk-container-id-6 div.sk-parallel-item:only-child::after {\n",
              "  width: 0;\n",
              "}\n",
              "\n",
              "/* Serial-specific style estimator block */\n",
              "\n",
              "#sk-container-id-6 div.sk-serial {\n",
              "  display: flex;\n",
              "  flex-direction: column;\n",
              "  align-items: center;\n",
              "  background-color: var(--sklearn-color-background);\n",
              "  padding-right: 1em;\n",
              "  padding-left: 1em;\n",
              "}\n",
              "\n",
              "\n",
              "/* Toggleable style: style used for estimator/Pipeline/ColumnTransformer box that is\n",
              "clickable and can be expanded/collapsed.\n",
              "- Pipeline and ColumnTransformer use this feature and define the default style\n",
              "- Estimators will overwrite some part of the style using the `sk-estimator` class\n",
              "*/\n",
              "\n",
              "/* Pipeline and ColumnTransformer style (default) */\n",
              "\n",
              "#sk-container-id-6 div.sk-toggleable {\n",
              "  /* Default theme specific background. It is overwritten whether we have a\n",
              "  specific estimator or a Pipeline/ColumnTransformer */\n",
              "  background-color: var(--sklearn-color-background);\n",
              "}\n",
              "\n",
              "/* Toggleable label */\n",
              "#sk-container-id-6 label.sk-toggleable__label {\n",
              "  cursor: pointer;\n",
              "  display: block;\n",
              "  width: 100%;\n",
              "  margin-bottom: 0;\n",
              "  padding: 0.5em;\n",
              "  box-sizing: border-box;\n",
              "  text-align: center;\n",
              "}\n",
              "\n",
              "#sk-container-id-6 label.sk-toggleable__label-arrow:before {\n",
              "  /* Arrow on the left of the label */\n",
              "  content: \"▸\";\n",
              "  float: left;\n",
              "  margin-right: 0.25em;\n",
              "  color: var(--sklearn-color-icon);\n",
              "}\n",
              "\n",
              "#sk-container-id-6 label.sk-toggleable__label-arrow:hover:before {\n",
              "  color: var(--sklearn-color-text);\n",
              "}\n",
              "\n",
              "/* Toggleable content - dropdown */\n",
              "\n",
              "#sk-container-id-6 div.sk-toggleable__content {\n",
              "  max-height: 0;\n",
              "  max-width: 0;\n",
              "  overflow: hidden;\n",
              "  text-align: left;\n",
              "  /* unfitted */\n",
              "  background-color: var(--sklearn-color-unfitted-level-0);\n",
              "}\n",
              "\n",
              "#sk-container-id-6 div.sk-toggleable__content.fitted {\n",
              "  /* fitted */\n",
              "  background-color: var(--sklearn-color-fitted-level-0);\n",
              "}\n",
              "\n",
              "#sk-container-id-6 div.sk-toggleable__content pre {\n",
              "  margin: 0.2em;\n",
              "  border-radius: 0.25em;\n",
              "  color: var(--sklearn-color-text);\n",
              "  /* unfitted */\n",
              "  background-color: var(--sklearn-color-unfitted-level-0);\n",
              "}\n",
              "\n",
              "#sk-container-id-6 div.sk-toggleable__content.fitted pre {\n",
              "  /* unfitted */\n",
              "  background-color: var(--sklearn-color-fitted-level-0);\n",
              "}\n",
              "\n",
              "#sk-container-id-6 input.sk-toggleable__control:checked~div.sk-toggleable__content {\n",
              "  /* Expand drop-down */\n",
              "  max-height: 200px;\n",
              "  max-width: 100%;\n",
              "  overflow: auto;\n",
              "}\n",
              "\n",
              "#sk-container-id-6 input.sk-toggleable__control:checked~label.sk-toggleable__label-arrow:before {\n",
              "  content: \"▾\";\n",
              "}\n",
              "\n",
              "/* Pipeline/ColumnTransformer-specific style */\n",
              "\n",
              "#sk-container-id-6 div.sk-label input.sk-toggleable__control:checked~label.sk-toggleable__label {\n",
              "  color: var(--sklearn-color-text);\n",
              "  background-color: var(--sklearn-color-unfitted-level-2);\n",
              "}\n",
              "\n",
              "#sk-container-id-6 div.sk-label.fitted input.sk-toggleable__control:checked~label.sk-toggleable__label {\n",
              "  background-color: var(--sklearn-color-fitted-level-2);\n",
              "}\n",
              "\n",
              "/* Estimator-specific style */\n",
              "\n",
              "/* Colorize estimator box */\n",
              "#sk-container-id-6 div.sk-estimator input.sk-toggleable__control:checked~label.sk-toggleable__label {\n",
              "  /* unfitted */\n",
              "  background-color: var(--sklearn-color-unfitted-level-2);\n",
              "}\n",
              "\n",
              "#sk-container-id-6 div.sk-estimator.fitted input.sk-toggleable__control:checked~label.sk-toggleable__label {\n",
              "  /* fitted */\n",
              "  background-color: var(--sklearn-color-fitted-level-2);\n",
              "}\n",
              "\n",
              "#sk-container-id-6 div.sk-label label.sk-toggleable__label,\n",
              "#sk-container-id-6 div.sk-label label {\n",
              "  /* The background is the default theme color */\n",
              "  color: var(--sklearn-color-text-on-default-background);\n",
              "}\n",
              "\n",
              "/* On hover, darken the color of the background */\n",
              "#sk-container-id-6 div.sk-label:hover label.sk-toggleable__label {\n",
              "  color: var(--sklearn-color-text);\n",
              "  background-color: var(--sklearn-color-unfitted-level-2);\n",
              "}\n",
              "\n",
              "/* Label box, darken color on hover, fitted */\n",
              "#sk-container-id-6 div.sk-label.fitted:hover label.sk-toggleable__label.fitted {\n",
              "  color: var(--sklearn-color-text);\n",
              "  background-color: var(--sklearn-color-fitted-level-2);\n",
              "}\n",
              "\n",
              "/* Estimator label */\n",
              "\n",
              "#sk-container-id-6 div.sk-label label {\n",
              "  font-family: monospace;\n",
              "  font-weight: bold;\n",
              "  display: inline-block;\n",
              "  line-height: 1.2em;\n",
              "}\n",
              "\n",
              "#sk-container-id-6 div.sk-label-container {\n",
              "  text-align: center;\n",
              "}\n",
              "\n",
              "/* Estimator-specific */\n",
              "#sk-container-id-6 div.sk-estimator {\n",
              "  font-family: monospace;\n",
              "  border: 1px dotted var(--sklearn-color-border-box);\n",
              "  border-radius: 0.25em;\n",
              "  box-sizing: border-box;\n",
              "  margin-bottom: 0.5em;\n",
              "  /* unfitted */\n",
              "  background-color: var(--sklearn-color-unfitted-level-0);\n",
              "}\n",
              "\n",
              "#sk-container-id-6 div.sk-estimator.fitted {\n",
              "  /* fitted */\n",
              "  background-color: var(--sklearn-color-fitted-level-0);\n",
              "}\n",
              "\n",
              "/* on hover */\n",
              "#sk-container-id-6 div.sk-estimator:hover {\n",
              "  /* unfitted */\n",
              "  background-color: var(--sklearn-color-unfitted-level-2);\n",
              "}\n",
              "\n",
              "#sk-container-id-6 div.sk-estimator.fitted:hover {\n",
              "  /* fitted */\n",
              "  background-color: var(--sklearn-color-fitted-level-2);\n",
              "}\n",
              "\n",
              "/* Specification for estimator info (e.g. \"i\" and \"?\") */\n",
              "\n",
              "/* Common style for \"i\" and \"?\" */\n",
              "\n",
              ".sk-estimator-doc-link,\n",
              "a:link.sk-estimator-doc-link,\n",
              "a:visited.sk-estimator-doc-link {\n",
              "  float: right;\n",
              "  font-size: smaller;\n",
              "  line-height: 1em;\n",
              "  font-family: monospace;\n",
              "  background-color: var(--sklearn-color-background);\n",
              "  border-radius: 1em;\n",
              "  height: 1em;\n",
              "  width: 1em;\n",
              "  text-decoration: none !important;\n",
              "  margin-left: 1ex;\n",
              "  /* unfitted */\n",
              "  border: var(--sklearn-color-unfitted-level-1) 1pt solid;\n",
              "  color: var(--sklearn-color-unfitted-level-1);\n",
              "}\n",
              "\n",
              ".sk-estimator-doc-link.fitted,\n",
              "a:link.sk-estimator-doc-link.fitted,\n",
              "a:visited.sk-estimator-doc-link.fitted {\n",
              "  /* fitted */\n",
              "  border: var(--sklearn-color-fitted-level-1) 1pt solid;\n",
              "  color: var(--sklearn-color-fitted-level-1);\n",
              "}\n",
              "\n",
              "/* On hover */\n",
              "div.sk-estimator:hover .sk-estimator-doc-link:hover,\n",
              ".sk-estimator-doc-link:hover,\n",
              "div.sk-label-container:hover .sk-estimator-doc-link:hover,\n",
              ".sk-estimator-doc-link:hover {\n",
              "  /* unfitted */\n",
              "  background-color: var(--sklearn-color-unfitted-level-3);\n",
              "  color: var(--sklearn-color-background);\n",
              "  text-decoration: none;\n",
              "}\n",
              "\n",
              "div.sk-estimator.fitted:hover .sk-estimator-doc-link.fitted:hover,\n",
              ".sk-estimator-doc-link.fitted:hover,\n",
              "div.sk-label-container:hover .sk-estimator-doc-link.fitted:hover,\n",
              ".sk-estimator-doc-link.fitted:hover {\n",
              "  /* fitted */\n",
              "  background-color: var(--sklearn-color-fitted-level-3);\n",
              "  color: var(--sklearn-color-background);\n",
              "  text-decoration: none;\n",
              "}\n",
              "\n",
              "/* Span, style for the box shown on hovering the info icon */\n",
              ".sk-estimator-doc-link span {\n",
              "  display: none;\n",
              "  z-index: 9999;\n",
              "  position: relative;\n",
              "  font-weight: normal;\n",
              "  right: .2ex;\n",
              "  padding: .5ex;\n",
              "  margin: .5ex;\n",
              "  width: min-content;\n",
              "  min-width: 20ex;\n",
              "  max-width: 50ex;\n",
              "  color: var(--sklearn-color-text);\n",
              "  box-shadow: 2pt 2pt 4pt #999;\n",
              "  /* unfitted */\n",
              "  background: var(--sklearn-color-unfitted-level-0);\n",
              "  border: .5pt solid var(--sklearn-color-unfitted-level-3);\n",
              "}\n",
              "\n",
              ".sk-estimator-doc-link.fitted span {\n",
              "  /* fitted */\n",
              "  background: var(--sklearn-color-fitted-level-0);\n",
              "  border: var(--sklearn-color-fitted-level-3);\n",
              "}\n",
              "\n",
              ".sk-estimator-doc-link:hover span {\n",
              "  display: block;\n",
              "}\n",
              "\n",
              "/* \"?\"-specific style due to the `<a>` HTML tag */\n",
              "\n",
              "#sk-container-id-6 a.estimator_doc_link {\n",
              "  float: right;\n",
              "  font-size: 1rem;\n",
              "  line-height: 1em;\n",
              "  font-family: monospace;\n",
              "  background-color: var(--sklearn-color-background);\n",
              "  border-radius: 1rem;\n",
              "  height: 1rem;\n",
              "  width: 1rem;\n",
              "  text-decoration: none;\n",
              "  /* unfitted */\n",
              "  color: var(--sklearn-color-unfitted-level-1);\n",
              "  border: var(--sklearn-color-unfitted-level-1) 1pt solid;\n",
              "}\n",
              "\n",
              "#sk-container-id-6 a.estimator_doc_link.fitted {\n",
              "  /* fitted */\n",
              "  border: var(--sklearn-color-fitted-level-1) 1pt solid;\n",
              "  color: var(--sklearn-color-fitted-level-1);\n",
              "}\n",
              "\n",
              "/* On hover */\n",
              "#sk-container-id-6 a.estimator_doc_link:hover {\n",
              "  /* unfitted */\n",
              "  background-color: var(--sklearn-color-unfitted-level-3);\n",
              "  color: var(--sklearn-color-background);\n",
              "  text-decoration: none;\n",
              "}\n",
              "\n",
              "#sk-container-id-6 a.estimator_doc_link.fitted:hover {\n",
              "  /* fitted */\n",
              "  background-color: var(--sklearn-color-fitted-level-3);\n",
              "}\n",
              "</style><div id=\"sk-container-id-6\" class=\"sk-top-container\"><div class=\"sk-text-repr-fallback\"><pre>TweedieRegressor(alpha=1, max_iter=300, power=0, tol=1e-06)</pre><b>In a Jupyter environment, please rerun this cell to show the HTML representation or trust the notebook. <br />On GitHub, the HTML representation is unable to render, please try loading this page with nbviewer.org.</b></div><div class=\"sk-container\" hidden><div class=\"sk-item\"><div class=\"sk-estimator fitted sk-toggleable\"><input class=\"sk-toggleable__control sk-hidden--visually\" id=\"sk-estimator-id-8\" type=\"checkbox\" checked><label for=\"sk-estimator-id-8\" class=\"sk-toggleable__label fitted sk-toggleable__label-arrow fitted\">&nbsp;&nbsp;TweedieRegressor<a class=\"sk-estimator-doc-link fitted\" rel=\"noreferrer\" target=\"_blank\" href=\"https://scikit-learn.org/1.4/modules/generated/sklearn.linear_model.TweedieRegressor.html\">?<span>Documentation for TweedieRegressor</span></a><span class=\"sk-estimator-doc-link fitted\">i<span>Fitted</span></span></label><div class=\"sk-toggleable__content fitted\"><pre>TweedieRegressor(alpha=1, max_iter=300, power=0, tol=1e-06)</pre></div> </div></div></div></div>"
            ],
            "text/plain": [
              "TweedieRegressor(alpha=1, max_iter=300, power=0, tol=1e-06)"
            ]
          },
          "execution_count": 83,
          "metadata": {},
          "output_type": "execute_result"
        }
      ],
      "source": [
        "#third GLM model\n",
        "glm3_10000 = TweedieRegressor(power = 0,\n",
        "alpha = 1,\n",
        "max_iter = 300,\n",
        "tol = 1e-6,\n",
        "solver = 'lbfgs')\n",
        "glm3_10000.fit(Xtrn, ytrn)"
      ]
    },
    {
      "cell_type": "code",
      "execution_count": null,
      "id": "dbb0cbf0-c3ef-4f51-83fa-41f1e3fbf3a9",
      "metadata": {
        "jupyter": {
          "source_hidden": true
        },
        "id": "dbb0cbf0-c3ef-4f51-83fa-41f1e3fbf3a9",
        "outputId": "7892c78d-48ec-4224-ff83-244494b469de"
      },
      "outputs": [
        {
          "name": "stdout",
          "output_type": "stream",
          "text": [
            "Training set RMSE:  2838725.5085\n",
            "Holdout set RMSE:  2868557.83741\n"
          ]
        }
      ],
      "source": [
        "# predictions\n",
        "glm3_trainpreds = glm3_10000.predict(Xtrain)\n",
        "glm3_testpreds = glm3_10000.predict(Xtest)\n",
        "\n",
        "#MSE and RMSE - training set\n",
        "glm3_train_mse = mean_squared_error(ytrain, glm3_trainpreds)\n",
        "glm3_train_rmse = np.sqrt(glm3_train_mse)\n",
        "\n",
        "# MSE and RMSE - testing set\n",
        "glm3_test_mse = mean_squared_error(ytst, glm3_testpreds)\n",
        "glm3_test_rmse = np.sqrt(glm3_test_mse)\n",
        "print('Training set RMSE: ', round(glm3_train_rmse, 5))\n",
        "print('Holdout set RMSE: ', round(glm3_test_rmse, 5))\n",
        "\n"
      ]
    },
    {
      "cell_type": "code",
      "execution_count": null,
      "id": "4d072afc-441e-486f-bb02-56a500c820b9",
      "metadata": {
        "id": "4d072afc-441e-486f-bb02-56a500c820b9",
        "outputId": "6a3283fb-eb0e-4773-e6d0-f32db89fefa1"
      },
      "outputs": [
        {
          "name": "stdout",
          "output_type": "stream",
          "text": [
            "Training set R-squared:  0.9095443422315899\n",
            "Holdout set R-squared:  0.9029136633113383\n"
          ]
        }
      ],
      "source": [
        "# R-squared - training set\n",
        "glm3_10000_Rtrain = glm3_10000.score(Xtrain, ytrain)\n",
        "# R-squared - testing set\n",
        "glm3_10000_Rtest = glm3_10000.score(Xtest, ytest)\n",
        "print('Training set R-squared: ', glm3_10000_Rtrain)\n",
        "print('Holdout set R-squared: ', glm3_10000_Rtest)\n"
      ]
    },
    {
      "cell_type": "code",
      "execution_count": null,
      "id": "d32ec76e-861b-4de7-b902-f168e25165bf",
      "metadata": {
        "id": "d32ec76e-861b-4de7-b902-f168e25165bf",
        "outputId": "d2a6aa69-8036-4c2d-c6e0-d41701f3e5d1"
      },
      "outputs": [
        {
          "name": "stdout",
          "output_type": "stream",
          "text": [
            "0.07279 seconds\n"
          ]
        }
      ],
      "source": [
        "#timing model\n",
        "glm3_10000_time = \"\"\"\n",
        "glm3_10000 = TweedieRegressor(power = 0,\n",
        "alpha = 1,\n",
        "max_iter = 300,\n",
        "tol = 1e-6,\n",
        "solver = 'lbfgs')\n",
        "#Fitting the model\n",
        "glm3_10000.fit(Xtrain, ytrain)\n",
        "\"\"\"\n",
        "glm3_10000_time = round(timeit.timeit(stmt = glm3_10000_time,globals=globals(), number=1), 5)\n",
        "print(glm3_10000_time, 'seconds')\n"
      ]
    },
    {
      "cell_type": "code",
      "execution_count": null,
      "id": "78b88fea-e096-42f3-a556-53d616c69e03",
      "metadata": {
        "id": "78b88fea-e096-42f3-a556-53d616c69e03",
        "outputId": "e5c7a215-c7a4-46fe-ae49-147fa6648b35"
      },
      "outputs": [
        {
          "data": {
            "text/plain": [
              "0.08741211891174316"
            ]
          },
          "execution_count": 87,
          "metadata": {},
          "output_type": "execute_result"
        }
      ],
      "source": [
        "train_start = time.time()\n",
        "glm3_10000.fit(Xtrain, ytrain)\n",
        "train_time = time.time() - train_start\n",
        "\n",
        "pred_start = time.time()\n",
        "\n",
        "glm3_10000.predict(Xtrain)\n",
        "glm3_10000.predict(Xtest)\n",
        "\n",
        "pred_time = time.time() - pred_start\n",
        "\n",
        "train_pred_time = train_time + pred_time\n",
        "train_pred_time\n",
        "\n"
      ]
    },
    {
      "cell_type": "code",
      "execution_count": null,
      "id": "fa8352b3-d9c3-4048-99da-2ceb56d763c3",
      "metadata": {
        "jupyter": {
          "source_hidden": true
        },
        "id": "fa8352b3-d9c3-4048-99da-2ceb56d763c3",
        "outputId": "3d0ea1c4-3d10-43c0-dd9d-8780699743fa"
      },
      "outputs": [
        {
          "data": {
            "text/plain": [
              "326.4583570889415"
            ]
          },
          "execution_count": 88,
          "metadata": {},
          "output_type": "execute_result"
        }
      ],
      "source": [
        "#model efficiency\n",
        "glm3_avg_rmse = (glm3_train_rmse + glm3_test_rmse) / 2\n",
        "glm3_10000_eff = glm3_avg_rmse / train_pred_time\n",
        "glm3_10000_eff / 100000"
      ]
    },
    {
      "cell_type": "code",
      "execution_count": null,
      "id": "3af18248-93be-4435-bf23-386385db7706",
      "metadata": {
        "id": "3af18248-93be-4435-bf23-386385db7706"
      },
      "outputs": [],
      "source": [
        "## GLM Newton-Cholesky 10,000"
      ]
    },
    {
      "cell_type": "code",
      "execution_count": null,
      "id": "31dfe99b-910c-4abe-b826-da98ad9c560a",
      "metadata": {
        "jupyter": {
          "source_hidden": true
        },
        "id": "31dfe99b-910c-4abe-b826-da98ad9c560a",
        "outputId": "04188fa3-29d3-4038-aada-3713e9dc6506"
      },
      "outputs": [
        {
          "name": "stderr",
          "output_type": "stream",
          "text": [
            "C:\\Users\\cmnea\\AppData\\Local\\Programs\\Python\\Python312\\Lib\\site-packages\\sklearn\\linear_model\\_glm\\_newton_solver.py:423: ConvergenceWarning: Newton solver did not converge after 300 iterations.\n",
            "  warnings.warn(\n"
          ]
        },
        {
          "data": {
            "text/html": [
              "<style>#sk-container-id-7 {\n",
              "  /* Definition of color scheme common for light and dark mode */\n",
              "  --sklearn-color-text: black;\n",
              "  --sklearn-color-line: gray;\n",
              "  /* Definition of color scheme for unfitted estimators */\n",
              "  --sklearn-color-unfitted-level-0: #fff5e6;\n",
              "  --sklearn-color-unfitted-level-1: #f6e4d2;\n",
              "  --sklearn-color-unfitted-level-2: #ffe0b3;\n",
              "  --sklearn-color-unfitted-level-3: chocolate;\n",
              "  /* Definition of color scheme for fitted estimators */\n",
              "  --sklearn-color-fitted-level-0: #f0f8ff;\n",
              "  --sklearn-color-fitted-level-1: #d4ebff;\n",
              "  --sklearn-color-fitted-level-2: #b3dbfd;\n",
              "  --sklearn-color-fitted-level-3: cornflowerblue;\n",
              "\n",
              "  /* Specific color for light theme */\n",
              "  --sklearn-color-text-on-default-background: var(--sg-text-color, var(--theme-code-foreground, var(--jp-content-font-color1, black)));\n",
              "  --sklearn-color-background: var(--sg-background-color, var(--theme-background, var(--jp-layout-color0, white)));\n",
              "  --sklearn-color-border-box: var(--sg-text-color, var(--theme-code-foreground, var(--jp-content-font-color1, black)));\n",
              "  --sklearn-color-icon: #696969;\n",
              "\n",
              "  @media (prefers-color-scheme: dark) {\n",
              "    /* Redefinition of color scheme for dark theme */\n",
              "    --sklearn-color-text-on-default-background: var(--sg-text-color, var(--theme-code-foreground, var(--jp-content-font-color1, white)));\n",
              "    --sklearn-color-background: var(--sg-background-color, var(--theme-background, var(--jp-layout-color0, #111)));\n",
              "    --sklearn-color-border-box: var(--sg-text-color, var(--theme-code-foreground, var(--jp-content-font-color1, white)));\n",
              "    --sklearn-color-icon: #878787;\n",
              "  }\n",
              "}\n",
              "\n",
              "#sk-container-id-7 {\n",
              "  color: var(--sklearn-color-text);\n",
              "}\n",
              "\n",
              "#sk-container-id-7 pre {\n",
              "  padding: 0;\n",
              "}\n",
              "\n",
              "#sk-container-id-7 input.sk-hidden--visually {\n",
              "  border: 0;\n",
              "  clip: rect(1px 1px 1px 1px);\n",
              "  clip: rect(1px, 1px, 1px, 1px);\n",
              "  height: 1px;\n",
              "  margin: -1px;\n",
              "  overflow: hidden;\n",
              "  padding: 0;\n",
              "  position: absolute;\n",
              "  width: 1px;\n",
              "}\n",
              "\n",
              "#sk-container-id-7 div.sk-dashed-wrapped {\n",
              "  border: 1px dashed var(--sklearn-color-line);\n",
              "  margin: 0 0.4em 0.5em 0.4em;\n",
              "  box-sizing: border-box;\n",
              "  padding-bottom: 0.4em;\n",
              "  background-color: var(--sklearn-color-background);\n",
              "}\n",
              "\n",
              "#sk-container-id-7 div.sk-container {\n",
              "  /* jupyter's `normalize.less` sets `[hidden] { display: none; }`\n",
              "     but bootstrap.min.css set `[hidden] { display: none !important; }`\n",
              "     so we also need the `!important` here to be able to override the\n",
              "     default hidden behavior on the sphinx rendered scikit-learn.org.\n",
              "     See: https://github.com/scikit-learn/scikit-learn/issues/21755 */\n",
              "  display: inline-block !important;\n",
              "  position: relative;\n",
              "}\n",
              "\n",
              "#sk-container-id-7 div.sk-text-repr-fallback {\n",
              "  display: none;\n",
              "}\n",
              "\n",
              "div.sk-parallel-item,\n",
              "div.sk-serial,\n",
              "div.sk-item {\n",
              "  /* draw centered vertical line to link estimators */\n",
              "  background-image: linear-gradient(var(--sklearn-color-text-on-default-background), var(--sklearn-color-text-on-default-background));\n",
              "  background-size: 2px 100%;\n",
              "  background-repeat: no-repeat;\n",
              "  background-position: center center;\n",
              "}\n",
              "\n",
              "/* Parallel-specific style estimator block */\n",
              "\n",
              "#sk-container-id-7 div.sk-parallel-item::after {\n",
              "  content: \"\";\n",
              "  width: 100%;\n",
              "  border-bottom: 2px solid var(--sklearn-color-text-on-default-background);\n",
              "  flex-grow: 1;\n",
              "}\n",
              "\n",
              "#sk-container-id-7 div.sk-parallel {\n",
              "  display: flex;\n",
              "  align-items: stretch;\n",
              "  justify-content: center;\n",
              "  background-color: var(--sklearn-color-background);\n",
              "  position: relative;\n",
              "}\n",
              "\n",
              "#sk-container-id-7 div.sk-parallel-item {\n",
              "  display: flex;\n",
              "  flex-direction: column;\n",
              "}\n",
              "\n",
              "#sk-container-id-7 div.sk-parallel-item:first-child::after {\n",
              "  align-self: flex-end;\n",
              "  width: 50%;\n",
              "}\n",
              "\n",
              "#sk-container-id-7 div.sk-parallel-item:last-child::after {\n",
              "  align-self: flex-start;\n",
              "  width: 50%;\n",
              "}\n",
              "\n",
              "#sk-container-id-7 div.sk-parallel-item:only-child::after {\n",
              "  width: 0;\n",
              "}\n",
              "\n",
              "/* Serial-specific style estimator block */\n",
              "\n",
              "#sk-container-id-7 div.sk-serial {\n",
              "  display: flex;\n",
              "  flex-direction: column;\n",
              "  align-items: center;\n",
              "  background-color: var(--sklearn-color-background);\n",
              "  padding-right: 1em;\n",
              "  padding-left: 1em;\n",
              "}\n",
              "\n",
              "\n",
              "/* Toggleable style: style used for estimator/Pipeline/ColumnTransformer box that is\n",
              "clickable and can be expanded/collapsed.\n",
              "- Pipeline and ColumnTransformer use this feature and define the default style\n",
              "- Estimators will overwrite some part of the style using the `sk-estimator` class\n",
              "*/\n",
              "\n",
              "/* Pipeline and ColumnTransformer style (default) */\n",
              "\n",
              "#sk-container-id-7 div.sk-toggleable {\n",
              "  /* Default theme specific background. It is overwritten whether we have a\n",
              "  specific estimator or a Pipeline/ColumnTransformer */\n",
              "  background-color: var(--sklearn-color-background);\n",
              "}\n",
              "\n",
              "/* Toggleable label */\n",
              "#sk-container-id-7 label.sk-toggleable__label {\n",
              "  cursor: pointer;\n",
              "  display: block;\n",
              "  width: 100%;\n",
              "  margin-bottom: 0;\n",
              "  padding: 0.5em;\n",
              "  box-sizing: border-box;\n",
              "  text-align: center;\n",
              "}\n",
              "\n",
              "#sk-container-id-7 label.sk-toggleable__label-arrow:before {\n",
              "  /* Arrow on the left of the label */\n",
              "  content: \"▸\";\n",
              "  float: left;\n",
              "  margin-right: 0.25em;\n",
              "  color: var(--sklearn-color-icon);\n",
              "}\n",
              "\n",
              "#sk-container-id-7 label.sk-toggleable__label-arrow:hover:before {\n",
              "  color: var(--sklearn-color-text);\n",
              "}\n",
              "\n",
              "/* Toggleable content - dropdown */\n",
              "\n",
              "#sk-container-id-7 div.sk-toggleable__content {\n",
              "  max-height: 0;\n",
              "  max-width: 0;\n",
              "  overflow: hidden;\n",
              "  text-align: left;\n",
              "  /* unfitted */\n",
              "  background-color: var(--sklearn-color-unfitted-level-0);\n",
              "}\n",
              "\n",
              "#sk-container-id-7 div.sk-toggleable__content.fitted {\n",
              "  /* fitted */\n",
              "  background-color: var(--sklearn-color-fitted-level-0);\n",
              "}\n",
              "\n",
              "#sk-container-id-7 div.sk-toggleable__content pre {\n",
              "  margin: 0.2em;\n",
              "  border-radius: 0.25em;\n",
              "  color: var(--sklearn-color-text);\n",
              "  /* unfitted */\n",
              "  background-color: var(--sklearn-color-unfitted-level-0);\n",
              "}\n",
              "\n",
              "#sk-container-id-7 div.sk-toggleable__content.fitted pre {\n",
              "  /* unfitted */\n",
              "  background-color: var(--sklearn-color-fitted-level-0);\n",
              "}\n",
              "\n",
              "#sk-container-id-7 input.sk-toggleable__control:checked~div.sk-toggleable__content {\n",
              "  /* Expand drop-down */\n",
              "  max-height: 200px;\n",
              "  max-width: 100%;\n",
              "  overflow: auto;\n",
              "}\n",
              "\n",
              "#sk-container-id-7 input.sk-toggleable__control:checked~label.sk-toggleable__label-arrow:before {\n",
              "  content: \"▾\";\n",
              "}\n",
              "\n",
              "/* Pipeline/ColumnTransformer-specific style */\n",
              "\n",
              "#sk-container-id-7 div.sk-label input.sk-toggleable__control:checked~label.sk-toggleable__label {\n",
              "  color: var(--sklearn-color-text);\n",
              "  background-color: var(--sklearn-color-unfitted-level-2);\n",
              "}\n",
              "\n",
              "#sk-container-id-7 div.sk-label.fitted input.sk-toggleable__control:checked~label.sk-toggleable__label {\n",
              "  background-color: var(--sklearn-color-fitted-level-2);\n",
              "}\n",
              "\n",
              "/* Estimator-specific style */\n",
              "\n",
              "/* Colorize estimator box */\n",
              "#sk-container-id-7 div.sk-estimator input.sk-toggleable__control:checked~label.sk-toggleable__label {\n",
              "  /* unfitted */\n",
              "  background-color: var(--sklearn-color-unfitted-level-2);\n",
              "}\n",
              "\n",
              "#sk-container-id-7 div.sk-estimator.fitted input.sk-toggleable__control:checked~label.sk-toggleable__label {\n",
              "  /* fitted */\n",
              "  background-color: var(--sklearn-color-fitted-level-2);\n",
              "}\n",
              "\n",
              "#sk-container-id-7 div.sk-label label.sk-toggleable__label,\n",
              "#sk-container-id-7 div.sk-label label {\n",
              "  /* The background is the default theme color */\n",
              "  color: var(--sklearn-color-text-on-default-background);\n",
              "}\n",
              "\n",
              "/* On hover, darken the color of the background */\n",
              "#sk-container-id-7 div.sk-label:hover label.sk-toggleable__label {\n",
              "  color: var(--sklearn-color-text);\n",
              "  background-color: var(--sklearn-color-unfitted-level-2);\n",
              "}\n",
              "\n",
              "/* Label box, darken color on hover, fitted */\n",
              "#sk-container-id-7 div.sk-label.fitted:hover label.sk-toggleable__label.fitted {\n",
              "  color: var(--sklearn-color-text);\n",
              "  background-color: var(--sklearn-color-fitted-level-2);\n",
              "}\n",
              "\n",
              "/* Estimator label */\n",
              "\n",
              "#sk-container-id-7 div.sk-label label {\n",
              "  font-family: monospace;\n",
              "  font-weight: bold;\n",
              "  display: inline-block;\n",
              "  line-height: 1.2em;\n",
              "}\n",
              "\n",
              "#sk-container-id-7 div.sk-label-container {\n",
              "  text-align: center;\n",
              "}\n",
              "\n",
              "/* Estimator-specific */\n",
              "#sk-container-id-7 div.sk-estimator {\n",
              "  font-family: monospace;\n",
              "  border: 1px dotted var(--sklearn-color-border-box);\n",
              "  border-radius: 0.25em;\n",
              "  box-sizing: border-box;\n",
              "  margin-bottom: 0.5em;\n",
              "  /* unfitted */\n",
              "  background-color: var(--sklearn-color-unfitted-level-0);\n",
              "}\n",
              "\n",
              "#sk-container-id-7 div.sk-estimator.fitted {\n",
              "  /* fitted */\n",
              "  background-color: var(--sklearn-color-fitted-level-0);\n",
              "}\n",
              "\n",
              "/* on hover */\n",
              "#sk-container-id-7 div.sk-estimator:hover {\n",
              "  /* unfitted */\n",
              "  background-color: var(--sklearn-color-unfitted-level-2);\n",
              "}\n",
              "\n",
              "#sk-container-id-7 div.sk-estimator.fitted:hover {\n",
              "  /* fitted */\n",
              "  background-color: var(--sklearn-color-fitted-level-2);\n",
              "}\n",
              "\n",
              "/* Specification for estimator info (e.g. \"i\" and \"?\") */\n",
              "\n",
              "/* Common style for \"i\" and \"?\" */\n",
              "\n",
              ".sk-estimator-doc-link,\n",
              "a:link.sk-estimator-doc-link,\n",
              "a:visited.sk-estimator-doc-link {\n",
              "  float: right;\n",
              "  font-size: smaller;\n",
              "  line-height: 1em;\n",
              "  font-family: monospace;\n",
              "  background-color: var(--sklearn-color-background);\n",
              "  border-radius: 1em;\n",
              "  height: 1em;\n",
              "  width: 1em;\n",
              "  text-decoration: none !important;\n",
              "  margin-left: 1ex;\n",
              "  /* unfitted */\n",
              "  border: var(--sklearn-color-unfitted-level-1) 1pt solid;\n",
              "  color: var(--sklearn-color-unfitted-level-1);\n",
              "}\n",
              "\n",
              ".sk-estimator-doc-link.fitted,\n",
              "a:link.sk-estimator-doc-link.fitted,\n",
              "a:visited.sk-estimator-doc-link.fitted {\n",
              "  /* fitted */\n",
              "  border: var(--sklearn-color-fitted-level-1) 1pt solid;\n",
              "  color: var(--sklearn-color-fitted-level-1);\n",
              "}\n",
              "\n",
              "/* On hover */\n",
              "div.sk-estimator:hover .sk-estimator-doc-link:hover,\n",
              ".sk-estimator-doc-link:hover,\n",
              "div.sk-label-container:hover .sk-estimator-doc-link:hover,\n",
              ".sk-estimator-doc-link:hover {\n",
              "  /* unfitted */\n",
              "  background-color: var(--sklearn-color-unfitted-level-3);\n",
              "  color: var(--sklearn-color-background);\n",
              "  text-decoration: none;\n",
              "}\n",
              "\n",
              "div.sk-estimator.fitted:hover .sk-estimator-doc-link.fitted:hover,\n",
              ".sk-estimator-doc-link.fitted:hover,\n",
              "div.sk-label-container:hover .sk-estimator-doc-link.fitted:hover,\n",
              ".sk-estimator-doc-link.fitted:hover {\n",
              "  /* fitted */\n",
              "  background-color: var(--sklearn-color-fitted-level-3);\n",
              "  color: var(--sklearn-color-background);\n",
              "  text-decoration: none;\n",
              "}\n",
              "\n",
              "/* Span, style for the box shown on hovering the info icon */\n",
              ".sk-estimator-doc-link span {\n",
              "  display: none;\n",
              "  z-index: 9999;\n",
              "  position: relative;\n",
              "  font-weight: normal;\n",
              "  right: .2ex;\n",
              "  padding: .5ex;\n",
              "  margin: .5ex;\n",
              "  width: min-content;\n",
              "  min-width: 20ex;\n",
              "  max-width: 50ex;\n",
              "  color: var(--sklearn-color-text);\n",
              "  box-shadow: 2pt 2pt 4pt #999;\n",
              "  /* unfitted */\n",
              "  background: var(--sklearn-color-unfitted-level-0);\n",
              "  border: .5pt solid var(--sklearn-color-unfitted-level-3);\n",
              "}\n",
              "\n",
              ".sk-estimator-doc-link.fitted span {\n",
              "  /* fitted */\n",
              "  background: var(--sklearn-color-fitted-level-0);\n",
              "  border: var(--sklearn-color-fitted-level-3);\n",
              "}\n",
              "\n",
              ".sk-estimator-doc-link:hover span {\n",
              "  display: block;\n",
              "}\n",
              "\n",
              "/* \"?\"-specific style due to the `<a>` HTML tag */\n",
              "\n",
              "#sk-container-id-7 a.estimator_doc_link {\n",
              "  float: right;\n",
              "  font-size: 1rem;\n",
              "  line-height: 1em;\n",
              "  font-family: monospace;\n",
              "  background-color: var(--sklearn-color-background);\n",
              "  border-radius: 1rem;\n",
              "  height: 1rem;\n",
              "  width: 1rem;\n",
              "  text-decoration: none;\n",
              "  /* unfitted */\n",
              "  color: var(--sklearn-color-unfitted-level-1);\n",
              "  border: var(--sklearn-color-unfitted-level-1) 1pt solid;\n",
              "}\n",
              "\n",
              "#sk-container-id-7 a.estimator_doc_link.fitted {\n",
              "  /* fitted */\n",
              "  border: var(--sklearn-color-fitted-level-1) 1pt solid;\n",
              "  color: var(--sklearn-color-fitted-level-1);\n",
              "}\n",
              "\n",
              "/* On hover */\n",
              "#sk-container-id-7 a.estimator_doc_link:hover {\n",
              "  /* unfitted */\n",
              "  background-color: var(--sklearn-color-unfitted-level-3);\n",
              "  color: var(--sklearn-color-background);\n",
              "  text-decoration: none;\n",
              "}\n",
              "\n",
              "#sk-container-id-7 a.estimator_doc_link.fitted:hover {\n",
              "  /* fitted */\n",
              "  background-color: var(--sklearn-color-fitted-level-3);\n",
              "}\n",
              "</style><div id=\"sk-container-id-7\" class=\"sk-top-container\"><div class=\"sk-text-repr-fallback\"><pre>TweedieRegressor(alpha=1, max_iter=300, power=1, solver=&#x27;newton-cholesky&#x27;,\n",
              "                 tol=1e-06)</pre><b>In a Jupyter environment, please rerun this cell to show the HTML representation or trust the notebook. <br />On GitHub, the HTML representation is unable to render, please try loading this page with nbviewer.org.</b></div><div class=\"sk-container\" hidden><div class=\"sk-item\"><div class=\"sk-estimator fitted sk-toggleable\"><input class=\"sk-toggleable__control sk-hidden--visually\" id=\"sk-estimator-id-9\" type=\"checkbox\" checked><label for=\"sk-estimator-id-9\" class=\"sk-toggleable__label fitted sk-toggleable__label-arrow fitted\">&nbsp;&nbsp;TweedieRegressor<a class=\"sk-estimator-doc-link fitted\" rel=\"noreferrer\" target=\"_blank\" href=\"https://scikit-learn.org/1.4/modules/generated/sklearn.linear_model.TweedieRegressor.html\">?<span>Documentation for TweedieRegressor</span></a><span class=\"sk-estimator-doc-link fitted\">i<span>Fitted</span></span></label><div class=\"sk-toggleable__content fitted\"><pre>TweedieRegressor(alpha=1, max_iter=300, power=1, solver=&#x27;newton-cholesky&#x27;,\n",
              "                 tol=1e-06)</pre></div> </div></div></div></div>"
            ],
            "text/plain": [
              "TweedieRegressor(alpha=1, max_iter=300, power=1, solver='newton-cholesky',\n",
              "                 tol=1e-06)"
            ]
          },
          "execution_count": 90,
          "metadata": {},
          "output_type": "execute_result"
        }
      ],
      "source": [
        "#fourth GLM model\n",
        "glm4_10000 = TweedieRegressor(power = 1,\n",
        "alpha = 1,\n",
        "max_iter = 300,\n",
        "tol = 1e-6,\n",
        "solver = 'newton-cholesky')\n",
        "glm4_10000.fit(Xtrain, ytrain)\n"
      ]
    },
    {
      "cell_type": "code",
      "execution_count": null,
      "id": "6a96a87d-fee2-4b13-adff-7dac061a127a",
      "metadata": {
        "jupyter": {
          "source_hidden": true
        },
        "id": "6a96a87d-fee2-4b13-adff-7dac061a127a",
        "outputId": "99fdc4b7-c6aa-4eb7-ce9b-8b5ea5ea1b50"
      },
      "outputs": [
        {
          "name": "stdout",
          "output_type": "stream",
          "text": [
            "Training set RMSE:  1683566.78363\n",
            "Holdout set RMSE:  1745325.03202\n"
          ]
        }
      ],
      "source": [
        "#predictions\n",
        "glm4_trainpreds = glm4_10000.predict(Xtrain)\n",
        "glm4_testpreds = glm4_10000.predict(Xtest)\n",
        "# calculating MSE and RMSE - training set\n",
        "glm4_train_mse = mean_squared_error(ytrn, glm4_trainpreds)\n",
        "glm4_train_rmse = np.sqrt(glm4_train_mse)\n",
        "# calculating MSE and RMSE - holdout set\n",
        "glm4_test_mse = mean_squared_error(ytest, glm4_testpreds)\n",
        "glm4_test_rmse = np.sqrt(glm4_test_mse)\n",
        "print('Training set RMSE: ', round(glm4_train_rmse, 5))\n",
        "print('Holdout set RMSE: ', round(glm4_test_rmse, 5))\n"
      ]
    },
    {
      "cell_type": "code",
      "execution_count": null,
      "id": "651c216b-8557-49de-8567-fab42f189de9",
      "metadata": {
        "id": "651c216b-8557-49de-8567-fab42f189de9",
        "outputId": "96d8840e-1834-4c64-cc4a-b75507b7add6"
      },
      "outputs": [
        {
          "name": "stdout",
          "output_type": "stream",
          "text": [
            "Training set R-squared:  0.9685965494187154\n",
            "Holdout set R-squared:  0.9672198467907592\n"
          ]
        }
      ],
      "source": [
        "# R-squared - training set\n",
        "glm4_10000_Rtrain = glm4_10000.score(Xtrain, ytrain)\n",
        "# R-squared - testing set\n",
        "glm4_10000_Rtest = glm4_10000.score(Xtest, ytest)\n",
        "print('Training set R-squared: ', glm4_10000_Rtrain)\n",
        "print('Holdout set R-squared: ', glm4_10000_Rtest)\n"
      ]
    },
    {
      "cell_type": "code",
      "execution_count": null,
      "id": "bc9505f8-a275-44a7-b769-86417e25fa41",
      "metadata": {
        "id": "bc9505f8-a275-44a7-b769-86417e25fa41",
        "outputId": "871ff120-24fb-4fd5-c887-1640924e045a"
      },
      "outputs": [
        {
          "name": "stdout",
          "output_type": "stream",
          "text": [
            "0.25451 seconds\n"
          ]
        },
        {
          "name": "stderr",
          "output_type": "stream",
          "text": [
            "C:\\Users\\cmnea\\AppData\\Local\\Programs\\Python\\Python312\\Lib\\site-packages\\sklearn\\linear_model\\_glm\\_newton_solver.py:423: ConvergenceWarning: Newton solver did not converge after 300 iterations.\n",
            "  warnings.warn(\n"
          ]
        }
      ],
      "source": [
        "# timing model fit\n",
        "glm4_10000_time = \"\"\"\n",
        "glm4_10000 = TweedieRegressor(power = 1,\n",
        "alpha = 1,\n",
        "max_iter = 300,\n",
        "tol = 1e-6,\n",
        "solver = 'newton-cholesky')\n",
        "glm4_10000.fit(Xtrn, ytrn)\n",
        "\"\"\"\n",
        "glm4_10000_time = round(timeit.timeit(stmt = glm4_10000_time,globals=globals(), number=1), 5)\n",
        "print(glm4_10000_time, 'seconds')\n"
      ]
    },
    {
      "cell_type": "code",
      "execution_count": null,
      "id": "fc447769-5dbb-432b-a291-406f649acb91",
      "metadata": {
        "id": "fc447769-5dbb-432b-a291-406f649acb91",
        "outputId": "465d03ca-4d6d-4acd-b788-f45d4a3422ab"
      },
      "outputs": [
        {
          "name": "stderr",
          "output_type": "stream",
          "text": [
            "C:\\Users\\cmnea\\AppData\\Local\\Programs\\Python\\Python312\\Lib\\site-packages\\sklearn\\linear_model\\_glm\\_newton_solver.py:423: ConvergenceWarning: Newton solver did not converge after 300 iterations.\n",
            "  warnings.warn(\n"
          ]
        },
        {
          "data": {
            "text/plain": [
              "0.16466760635375977"
            ]
          },
          "execution_count": 94,
          "metadata": {},
          "output_type": "execute_result"
        }
      ],
      "source": [
        "train_start = time.time()\n",
        "glm4_10000.fit(Xtrain, ytrain)\n",
        "train_time = time.time() - train_start\n",
        "pred_start = time.time()\n",
        "glm4_10000.predict(Xtrain)\n",
        "glm4_10000.predict(Xtest)\n",
        "pred_time = time.time() - pred_start\n",
        "train_pred_time = train_time + pred_time\n",
        "train_pred_time"
      ]
    },
    {
      "cell_type": "code",
      "execution_count": null,
      "id": "96a664a2-8286-4a9f-a2e7-9bafc472d2b0",
      "metadata": {
        "jupyter": {
          "source_hidden": true
        },
        "id": "96a664a2-8286-4a9f-a2e7-9bafc472d2b0",
        "outputId": "6d45d2d7-1580-41d0-ee21-a9c503490bb3"
      },
      "outputs": [
        {
          "data": {
            "text/plain": [
              "104.11555410260596"
            ]
          },
          "execution_count": 95,
          "metadata": {},
          "output_type": "execute_result"
        }
      ],
      "source": [
        "#model efficiency\n",
        "glm4_avg_rmse = (glm4_train_rmse + glm4_test_rmse) / 2\n",
        "glm4_10000_eff = glm4_avg_rmse / train_pred_time\n",
        "glm4_10000_eff / 100000\n"
      ]
    },
    {
      "cell_type": "code",
      "execution_count": null,
      "id": "c3785d73-c0fc-47f9-8e2d-480ef39ad870",
      "metadata": {
        "id": "c3785d73-c0fc-47f9-8e2d-480ef39ad870",
        "outputId": "713c0361-ed19-4d46-a910-54b1824970ec"
      },
      "outputs": [
        {
          "name": "stdout",
          "output_type": "stream",
          "text": [
            "Fitting 5 folds for each of 3780 candidates, totalling 18900 fits\n"
          ]
        },
        {
          "ename": "KeyboardInterrupt",
          "evalue": "",
          "output_type": "error",
          "traceback": [
            "\u001b[1;31m---------------------------------------------------------------------------\u001b[0m",
            "\u001b[1;31mKeyboardInterrupt\u001b[0m                         Traceback (most recent call last)",
            "Cell \u001b[1;32mIn[97], line 23\u001b[0m\n\u001b[0;32m     15\u001b[0m grid_search \u001b[38;5;241m=\u001b[39m GridSearchCV(estimator \u001b[38;5;241m=\u001b[39m xgb_grid_10000,\n\u001b[0;32m     16\u001b[0m                            param_grid \u001b[38;5;241m=\u001b[39m tuning_grid,\n\u001b[0;32m     17\u001b[0m                            scoring \u001b[38;5;241m=\u001b[39m \u001b[38;5;124m'\u001b[39m\u001b[38;5;124mneg_mean_squared_error\u001b[39m\u001b[38;5;124m'\u001b[39m,\n\u001b[0;32m     18\u001b[0m                            cv \u001b[38;5;241m=\u001b[39m \u001b[38;5;241m5\u001b[39m,\n\u001b[0;32m     19\u001b[0m                            n_jobs \u001b[38;5;241m=\u001b[39m \u001b[38;5;241m-\u001b[39m\u001b[38;5;241m1\u001b[39m,\n\u001b[0;32m     20\u001b[0m                            verbose \u001b[38;5;241m=\u001b[39m \u001b[38;5;241m2\u001b[39m)\n\u001b[0;32m     22\u001b[0m \u001b[38;5;66;03m#Fitting the grid search\u001b[39;00m\n\u001b[1;32m---> 23\u001b[0m \u001b[43mgrid_search\u001b[49m\u001b[38;5;241;43m.\u001b[39;49m\u001b[43mfit\u001b[49m\u001b[43m(\u001b[49m\u001b[43mXtrn\u001b[49m\u001b[43m,\u001b[49m\u001b[43m \u001b[49m\u001b[43mytrn\u001b[49m\u001b[43m)\u001b[49m\n",
            "File \u001b[1;32m~\\AppData\\Local\\Programs\\Python\\Python312\\Lib\\site-packages\\sklearn\\base.py:1474\u001b[0m, in \u001b[0;36m_fit_context.<locals>.decorator.<locals>.wrapper\u001b[1;34m(estimator, *args, **kwargs)\u001b[0m\n\u001b[0;32m   1467\u001b[0m     estimator\u001b[38;5;241m.\u001b[39m_validate_params()\n\u001b[0;32m   1469\u001b[0m \u001b[38;5;28;01mwith\u001b[39;00m config_context(\n\u001b[0;32m   1470\u001b[0m     skip_parameter_validation\u001b[38;5;241m=\u001b[39m(\n\u001b[0;32m   1471\u001b[0m         prefer_skip_nested_validation \u001b[38;5;129;01mor\u001b[39;00m global_skip_validation\n\u001b[0;32m   1472\u001b[0m     )\n\u001b[0;32m   1473\u001b[0m ):\n\u001b[1;32m-> 1474\u001b[0m     \u001b[38;5;28;01mreturn\u001b[39;00m \u001b[43mfit_method\u001b[49m\u001b[43m(\u001b[49m\u001b[43mestimator\u001b[49m\u001b[43m,\u001b[49m\u001b[43m \u001b[49m\u001b[38;5;241;43m*\u001b[39;49m\u001b[43margs\u001b[49m\u001b[43m,\u001b[49m\u001b[43m \u001b[49m\u001b[38;5;241;43m*\u001b[39;49m\u001b[38;5;241;43m*\u001b[39;49m\u001b[43mkwargs\u001b[49m\u001b[43m)\u001b[49m\n",
            "File \u001b[1;32m~\\AppData\\Local\\Programs\\Python\\Python312\\Lib\\site-packages\\sklearn\\model_selection\\_search.py:970\u001b[0m, in \u001b[0;36mBaseSearchCV.fit\u001b[1;34m(self, X, y, **params)\u001b[0m\n\u001b[0;32m    964\u001b[0m     results \u001b[38;5;241m=\u001b[39m \u001b[38;5;28mself\u001b[39m\u001b[38;5;241m.\u001b[39m_format_results(\n\u001b[0;32m    965\u001b[0m         all_candidate_params, n_splits, all_out, all_more_results\n\u001b[0;32m    966\u001b[0m     )\n\u001b[0;32m    968\u001b[0m     \u001b[38;5;28;01mreturn\u001b[39;00m results\n\u001b[1;32m--> 970\u001b[0m \u001b[38;5;28;43mself\u001b[39;49m\u001b[38;5;241;43m.\u001b[39;49m\u001b[43m_run_search\u001b[49m\u001b[43m(\u001b[49m\u001b[43mevaluate_candidates\u001b[49m\u001b[43m)\u001b[49m\n\u001b[0;32m    972\u001b[0m \u001b[38;5;66;03m# multimetric is determined here because in the case of a callable\u001b[39;00m\n\u001b[0;32m    973\u001b[0m \u001b[38;5;66;03m# self.scoring the return type is only known after calling\u001b[39;00m\n\u001b[0;32m    974\u001b[0m first_test_score \u001b[38;5;241m=\u001b[39m all_out[\u001b[38;5;241m0\u001b[39m][\u001b[38;5;124m\"\u001b[39m\u001b[38;5;124mtest_scores\u001b[39m\u001b[38;5;124m\"\u001b[39m]\n",
            "File \u001b[1;32m~\\AppData\\Local\\Programs\\Python\\Python312\\Lib\\site-packages\\sklearn\\model_selection\\_search.py:1527\u001b[0m, in \u001b[0;36mGridSearchCV._run_search\u001b[1;34m(self, evaluate_candidates)\u001b[0m\n\u001b[0;32m   1525\u001b[0m \u001b[38;5;28;01mdef\u001b[39;00m \u001b[38;5;21m_run_search\u001b[39m(\u001b[38;5;28mself\u001b[39m, evaluate_candidates):\n\u001b[0;32m   1526\u001b[0m \u001b[38;5;250m    \u001b[39m\u001b[38;5;124;03m\"\"\"Search all candidates in param_grid\"\"\"\u001b[39;00m\n\u001b[1;32m-> 1527\u001b[0m     \u001b[43mevaluate_candidates\u001b[49m\u001b[43m(\u001b[49m\u001b[43mParameterGrid\u001b[49m\u001b[43m(\u001b[49m\u001b[38;5;28;43mself\u001b[39;49m\u001b[38;5;241;43m.\u001b[39;49m\u001b[43mparam_grid\u001b[49m\u001b[43m)\u001b[49m\u001b[43m)\u001b[49m\n",
            "File \u001b[1;32m~\\AppData\\Local\\Programs\\Python\\Python312\\Lib\\site-packages\\sklearn\\model_selection\\_search.py:916\u001b[0m, in \u001b[0;36mBaseSearchCV.fit.<locals>.evaluate_candidates\u001b[1;34m(candidate_params, cv, more_results)\u001b[0m\n\u001b[0;32m    908\u001b[0m \u001b[38;5;28;01mif\u001b[39;00m \u001b[38;5;28mself\u001b[39m\u001b[38;5;241m.\u001b[39mverbose \u001b[38;5;241m>\u001b[39m \u001b[38;5;241m0\u001b[39m:\n\u001b[0;32m    909\u001b[0m     \u001b[38;5;28mprint\u001b[39m(\n\u001b[0;32m    910\u001b[0m         \u001b[38;5;124m\"\u001b[39m\u001b[38;5;124mFitting \u001b[39m\u001b[38;5;132;01m{0}\u001b[39;00m\u001b[38;5;124m folds for each of \u001b[39m\u001b[38;5;132;01m{1}\u001b[39;00m\u001b[38;5;124m candidates,\u001b[39m\u001b[38;5;124m\"\u001b[39m\n\u001b[0;32m    911\u001b[0m         \u001b[38;5;124m\"\u001b[39m\u001b[38;5;124m totalling \u001b[39m\u001b[38;5;132;01m{2}\u001b[39;00m\u001b[38;5;124m fits\u001b[39m\u001b[38;5;124m\"\u001b[39m\u001b[38;5;241m.\u001b[39mformat(\n\u001b[0;32m    912\u001b[0m             n_splits, n_candidates, n_candidates \u001b[38;5;241m*\u001b[39m n_splits\n\u001b[0;32m    913\u001b[0m         )\n\u001b[0;32m    914\u001b[0m     )\n\u001b[1;32m--> 916\u001b[0m out \u001b[38;5;241m=\u001b[39m \u001b[43mparallel\u001b[49m\u001b[43m(\u001b[49m\n\u001b[0;32m    917\u001b[0m \u001b[43m    \u001b[49m\u001b[43mdelayed\u001b[49m\u001b[43m(\u001b[49m\u001b[43m_fit_and_score\u001b[49m\u001b[43m)\u001b[49m\u001b[43m(\u001b[49m\n\u001b[0;32m    918\u001b[0m \u001b[43m        \u001b[49m\u001b[43mclone\u001b[49m\u001b[43m(\u001b[49m\u001b[43mbase_estimator\u001b[49m\u001b[43m)\u001b[49m\u001b[43m,\u001b[49m\n\u001b[0;32m    919\u001b[0m \u001b[43m        \u001b[49m\u001b[43mX\u001b[49m\u001b[43m,\u001b[49m\n\u001b[0;32m    920\u001b[0m \u001b[43m        \u001b[49m\u001b[43my\u001b[49m\u001b[43m,\u001b[49m\n\u001b[0;32m    921\u001b[0m \u001b[43m        \u001b[49m\u001b[43mtrain\u001b[49m\u001b[38;5;241;43m=\u001b[39;49m\u001b[43mtrain\u001b[49m\u001b[43m,\u001b[49m\n\u001b[0;32m    922\u001b[0m \u001b[43m        \u001b[49m\u001b[43mtest\u001b[49m\u001b[38;5;241;43m=\u001b[39;49m\u001b[43mtest\u001b[49m\u001b[43m,\u001b[49m\n\u001b[0;32m    923\u001b[0m \u001b[43m        \u001b[49m\u001b[43mparameters\u001b[49m\u001b[38;5;241;43m=\u001b[39;49m\u001b[43mparameters\u001b[49m\u001b[43m,\u001b[49m\n\u001b[0;32m    924\u001b[0m \u001b[43m        \u001b[49m\u001b[43msplit_progress\u001b[49m\u001b[38;5;241;43m=\u001b[39;49m\u001b[43m(\u001b[49m\u001b[43msplit_idx\u001b[49m\u001b[43m,\u001b[49m\u001b[43m \u001b[49m\u001b[43mn_splits\u001b[49m\u001b[43m)\u001b[49m\u001b[43m,\u001b[49m\n\u001b[0;32m    925\u001b[0m \u001b[43m        \u001b[49m\u001b[43mcandidate_progress\u001b[49m\u001b[38;5;241;43m=\u001b[39;49m\u001b[43m(\u001b[49m\u001b[43mcand_idx\u001b[49m\u001b[43m,\u001b[49m\u001b[43m \u001b[49m\u001b[43mn_candidates\u001b[49m\u001b[43m)\u001b[49m\u001b[43m,\u001b[49m\n\u001b[0;32m    926\u001b[0m \u001b[43m        \u001b[49m\u001b[38;5;241;43m*\u001b[39;49m\u001b[38;5;241;43m*\u001b[39;49m\u001b[43mfit_and_score_kwargs\u001b[49m\u001b[43m,\u001b[49m\n\u001b[0;32m    927\u001b[0m \u001b[43m    \u001b[49m\u001b[43m)\u001b[49m\n\u001b[0;32m    928\u001b[0m \u001b[43m    \u001b[49m\u001b[38;5;28;43;01mfor\u001b[39;49;00m\u001b[43m \u001b[49m\u001b[43m(\u001b[49m\u001b[43mcand_idx\u001b[49m\u001b[43m,\u001b[49m\u001b[43m \u001b[49m\u001b[43mparameters\u001b[49m\u001b[43m)\u001b[49m\u001b[43m,\u001b[49m\u001b[43m \u001b[49m\u001b[43m(\u001b[49m\u001b[43msplit_idx\u001b[49m\u001b[43m,\u001b[49m\u001b[43m \u001b[49m\u001b[43m(\u001b[49m\u001b[43mtrain\u001b[49m\u001b[43m,\u001b[49m\u001b[43m \u001b[49m\u001b[43mtest\u001b[49m\u001b[43m)\u001b[49m\u001b[43m)\u001b[49m\u001b[43m \u001b[49m\u001b[38;5;129;43;01min\u001b[39;49;00m\u001b[43m \u001b[49m\u001b[43mproduct\u001b[49m\u001b[43m(\u001b[49m\n\u001b[0;32m    929\u001b[0m \u001b[43m        \u001b[49m\u001b[38;5;28;43menumerate\u001b[39;49m\u001b[43m(\u001b[49m\u001b[43mcandidate_params\u001b[49m\u001b[43m)\u001b[49m\u001b[43m,\u001b[49m\n\u001b[0;32m    930\u001b[0m \u001b[43m        \u001b[49m\u001b[38;5;28;43menumerate\u001b[39;49m\u001b[43m(\u001b[49m\u001b[43mcv\u001b[49m\u001b[38;5;241;43m.\u001b[39;49m\u001b[43msplit\u001b[49m\u001b[43m(\u001b[49m\u001b[43mX\u001b[49m\u001b[43m,\u001b[49m\u001b[43m \u001b[49m\u001b[43my\u001b[49m\u001b[43m,\u001b[49m\u001b[43m \u001b[49m\u001b[38;5;241;43m*\u001b[39;49m\u001b[38;5;241;43m*\u001b[39;49m\u001b[43mrouted_params\u001b[49m\u001b[38;5;241;43m.\u001b[39;49m\u001b[43msplitter\u001b[49m\u001b[38;5;241;43m.\u001b[39;49m\u001b[43msplit\u001b[49m\u001b[43m)\u001b[49m\u001b[43m)\u001b[49m\u001b[43m,\u001b[49m\n\u001b[0;32m    931\u001b[0m \u001b[43m    \u001b[49m\u001b[43m)\u001b[49m\n\u001b[0;32m    932\u001b[0m \u001b[43m\u001b[49m\u001b[43m)\u001b[49m\n\u001b[0;32m    934\u001b[0m \u001b[38;5;28;01mif\u001b[39;00m \u001b[38;5;28mlen\u001b[39m(out) \u001b[38;5;241m<\u001b[39m \u001b[38;5;241m1\u001b[39m:\n\u001b[0;32m    935\u001b[0m     \u001b[38;5;28;01mraise\u001b[39;00m \u001b[38;5;167;01mValueError\u001b[39;00m(\n\u001b[0;32m    936\u001b[0m         \u001b[38;5;124m\"\u001b[39m\u001b[38;5;124mNo fits were performed. \u001b[39m\u001b[38;5;124m\"\u001b[39m\n\u001b[0;32m    937\u001b[0m         \u001b[38;5;124m\"\u001b[39m\u001b[38;5;124mWas the CV iterator empty? \u001b[39m\u001b[38;5;124m\"\u001b[39m\n\u001b[0;32m    938\u001b[0m         \u001b[38;5;124m\"\u001b[39m\u001b[38;5;124mWere there no candidates?\u001b[39m\u001b[38;5;124m\"\u001b[39m\n\u001b[0;32m    939\u001b[0m     )\n",
            "File \u001b[1;32m~\\AppData\\Local\\Programs\\Python\\Python312\\Lib\\site-packages\\sklearn\\utils\\parallel.py:67\u001b[0m, in \u001b[0;36mParallel.__call__\u001b[1;34m(self, iterable)\u001b[0m\n\u001b[0;32m     62\u001b[0m config \u001b[38;5;241m=\u001b[39m get_config()\n\u001b[0;32m     63\u001b[0m iterable_with_config \u001b[38;5;241m=\u001b[39m (\n\u001b[0;32m     64\u001b[0m     (_with_config(delayed_func, config), args, kwargs)\n\u001b[0;32m     65\u001b[0m     \u001b[38;5;28;01mfor\u001b[39;00m delayed_func, args, kwargs \u001b[38;5;129;01min\u001b[39;00m iterable\n\u001b[0;32m     66\u001b[0m )\n\u001b[1;32m---> 67\u001b[0m \u001b[38;5;28;01mreturn\u001b[39;00m \u001b[38;5;28;43msuper\u001b[39;49m\u001b[43m(\u001b[49m\u001b[43m)\u001b[49m\u001b[38;5;241;43m.\u001b[39;49m\u001b[38;5;21;43m__call__\u001b[39;49m\u001b[43m(\u001b[49m\u001b[43miterable_with_config\u001b[49m\u001b[43m)\u001b[49m\n",
            "File \u001b[1;32m~\\AppData\\Local\\Programs\\Python\\Python312\\Lib\\site-packages\\joblib\\parallel.py:2007\u001b[0m, in \u001b[0;36mParallel.__call__\u001b[1;34m(self, iterable)\u001b[0m\n\u001b[0;32m   2001\u001b[0m \u001b[38;5;66;03m# The first item from the output is blank, but it makes the interpreter\u001b[39;00m\n\u001b[0;32m   2002\u001b[0m \u001b[38;5;66;03m# progress until it enters the Try/Except block of the generator and\u001b[39;00m\n\u001b[0;32m   2003\u001b[0m \u001b[38;5;66;03m# reaches the first `yield` statement. This starts the asynchronous\u001b[39;00m\n\u001b[0;32m   2004\u001b[0m \u001b[38;5;66;03m# dispatch of the tasks to the workers.\u001b[39;00m\n\u001b[0;32m   2005\u001b[0m \u001b[38;5;28mnext\u001b[39m(output)\n\u001b[1;32m-> 2007\u001b[0m \u001b[38;5;28;01mreturn\u001b[39;00m output \u001b[38;5;28;01mif\u001b[39;00m \u001b[38;5;28mself\u001b[39m\u001b[38;5;241m.\u001b[39mreturn_generator \u001b[38;5;28;01melse\u001b[39;00m \u001b[38;5;28;43mlist\u001b[39;49m\u001b[43m(\u001b[49m\u001b[43moutput\u001b[49m\u001b[43m)\u001b[49m\n",
            "File \u001b[1;32m~\\AppData\\Local\\Programs\\Python\\Python312\\Lib\\site-packages\\joblib\\parallel.py:1650\u001b[0m, in \u001b[0;36mParallel._get_outputs\u001b[1;34m(self, iterator, pre_dispatch)\u001b[0m\n\u001b[0;32m   1647\u001b[0m     \u001b[38;5;28;01myield\u001b[39;00m\n\u001b[0;32m   1649\u001b[0m     \u001b[38;5;28;01mwith\u001b[39;00m \u001b[38;5;28mself\u001b[39m\u001b[38;5;241m.\u001b[39m_backend\u001b[38;5;241m.\u001b[39mretrieval_context():\n\u001b[1;32m-> 1650\u001b[0m         \u001b[38;5;28;01myield from\u001b[39;00m \u001b[38;5;28mself\u001b[39m\u001b[38;5;241m.\u001b[39m_retrieve()\n\u001b[0;32m   1652\u001b[0m \u001b[38;5;28;01mexcept\u001b[39;00m \u001b[38;5;167;01mGeneratorExit\u001b[39;00m:\n\u001b[0;32m   1653\u001b[0m     \u001b[38;5;66;03m# The generator has been garbage collected before being fully\u001b[39;00m\n\u001b[0;32m   1654\u001b[0m     \u001b[38;5;66;03m# consumed. This aborts the remaining tasks if possible and warn\u001b[39;00m\n\u001b[0;32m   1655\u001b[0m     \u001b[38;5;66;03m# the user if necessary.\u001b[39;00m\n\u001b[0;32m   1656\u001b[0m     \u001b[38;5;28mself\u001b[39m\u001b[38;5;241m.\u001b[39m_exception \u001b[38;5;241m=\u001b[39m \u001b[38;5;28;01mTrue\u001b[39;00m\n",
            "File \u001b[1;32m~\\AppData\\Local\\Programs\\Python\\Python312\\Lib\\site-packages\\joblib\\parallel.py:1762\u001b[0m, in \u001b[0;36mParallel._retrieve\u001b[1;34m(self)\u001b[0m\n\u001b[0;32m   1757\u001b[0m \u001b[38;5;66;03m# If the next job is not ready for retrieval yet, we just wait for\u001b[39;00m\n\u001b[0;32m   1758\u001b[0m \u001b[38;5;66;03m# async callbacks to progress.\u001b[39;00m\n\u001b[0;32m   1759\u001b[0m \u001b[38;5;28;01mif\u001b[39;00m ((\u001b[38;5;28mlen\u001b[39m(\u001b[38;5;28mself\u001b[39m\u001b[38;5;241m.\u001b[39m_jobs) \u001b[38;5;241m==\u001b[39m \u001b[38;5;241m0\u001b[39m) \u001b[38;5;129;01mor\u001b[39;00m\n\u001b[0;32m   1760\u001b[0m     (\u001b[38;5;28mself\u001b[39m\u001b[38;5;241m.\u001b[39m_jobs[\u001b[38;5;241m0\u001b[39m]\u001b[38;5;241m.\u001b[39mget_status(\n\u001b[0;32m   1761\u001b[0m         timeout\u001b[38;5;241m=\u001b[39m\u001b[38;5;28mself\u001b[39m\u001b[38;5;241m.\u001b[39mtimeout) \u001b[38;5;241m==\u001b[39m TASK_PENDING)):\n\u001b[1;32m-> 1762\u001b[0m     \u001b[43mtime\u001b[49m\u001b[38;5;241;43m.\u001b[39;49m\u001b[43msleep\u001b[49m\u001b[43m(\u001b[49m\u001b[38;5;241;43m0.01\u001b[39;49m\u001b[43m)\u001b[49m\n\u001b[0;32m   1763\u001b[0m     \u001b[38;5;28;01mcontinue\u001b[39;00m\n\u001b[0;32m   1765\u001b[0m \u001b[38;5;66;03m# We need to be careful: the job list can be filling up as\u001b[39;00m\n\u001b[0;32m   1766\u001b[0m \u001b[38;5;66;03m# we empty it and Python list are not thread-safe by\u001b[39;00m\n\u001b[0;32m   1767\u001b[0m \u001b[38;5;66;03m# default hence the use of the lock\u001b[39;00m\n",
            "\u001b[1;31mKeyboardInterrupt\u001b[0m: "
          ]
        }
      ],
      "source": [
        " ## XGBoost 10,000\n",
        "#parameters\n",
        "tuning_grid = {\n",
        "'max_depth': [3, 4, 5, 6, 7, 8, 9],\n",
        "'n_estimators': [10, 50, 100, 200, 300],\n",
        "'learning_rate': [0.1, 0.5, 0.8],\n",
        "'colsample_bytree': [0.6, 0.8, 1.0],\n",
        "'reg_alpha': [0, 0.5, 1, 2],\n",
        "'reg_lambda': [0, 1, 2]\n",
        "}\n",
        "\n",
        "xgb_grid_10000 = XGBRegressor(objective = 'reg:tweedie', random_state = 30)\n",
        "#GridSearchCV object\n",
        "grid_search = GridSearchCV(estimator = xgb_grid_10000,\n",
        "param_grid = tuning_grid,\n",
        "scoring = 'neg_mean_squared_error',\n",
        "cv = 5,\n",
        "n_jobs = -1,\n",
        "verbose = 2)\n",
        "# fitting grid search\n",
        "grid_search.fit(Xtrain, ytrain)\n",
        "\n",
        "\n"
      ]
    },
    {
      "cell_type": "code",
      "execution_count": null,
      "id": "b2ec9a66-aab3-4992-b7d8-cefd26ca6b3f",
      "metadata": {
        "jupyter": {
          "source_hidden": true
        },
        "id": "b2ec9a66-aab3-4992-b7d8-cefd26ca6b3f"
      },
      "outputs": [],
      "source": [
        "#best params\n",
        "grid_search.best_params_"
      ]
    },
    {
      "cell_type": "code",
      "execution_count": null,
      "id": "07e34d98-7a36-414f-bf41-db8dd757f22d",
      "metadata": {
        "id": "07e34d98-7a36-414f-bf41-db8dd757f22d"
      },
      "outputs": [],
      "source": [
        "## XGBoost 5-fold Cross Validation 10,000"
      ]
    },
    {
      "cell_type": "code",
      "execution_count": null,
      "id": "d7bb8bf7-3111-4f46-85a3-845a40d5a07d",
      "metadata": {
        "id": "d7bb8bf7-3111-4f46-85a3-845a40d5a07d"
      },
      "outputs": [],
      "source": [
        "#5-fold cross validation\n",
        "kfoldcv = KFold(n_splits = 5)\n",
        "#third model\n",
        "xgb3_10000 = XGBRegressor(alpha = 1,\n",
        "learning_rate = 0.5,\n",
        "max_depth = 3,\n",
        "n_estimators = 300,\n",
        "colsample_bytree = 0.8,\n",
        "reg_lambda = 1,\n",
        "objective = 'reg:tweedie',\n",
        "random_state = 30)\n",
        "#fitting model\n",
        "xgb3_10000.fit(Xtrain, ytrain\n"
      ]
    },
    {
      "cell_type": "code",
      "execution_count": null,
      "id": "99abc19b-290e-417f-acf3-781dd6c06502",
      "metadata": {
        "id": "99abc19b-290e-417f-acf3-781dd6c06502"
      },
      "outputs": [],
      "source": [
        "#negative score\n",
        "xgb3_train_rslt = cross_val_score(xgb3_10000,\n",
        "Xtairn, ytrain,\n",
        "scoring = 'neg_root_mean_squared_error',\n",
        "cv = kfoldcv,\n",
        "n_jobs = -1)\n",
        "#negative score\n",
        "xgb3_test_rslt = cross_val_score(xgb3_10000,\n",
        "Xtest, ytest,\n",
        "scoring = 'neg_root_mean_squared_error',\n",
        "cv = kfoldcv,\n",
        "n_jobs = -1)\n",
        "#inverting values\n",
        "xgb3_train_rmse = np.mean(-xgb3_train_rslt)\n",
        "#inverting values\n",
        "xgb3_test_rmse = np.mean(-xgb3_test_rslt)\n",
        "print('Training set RMSE: ', round(xgb3_train_rmse, 5))\n",
        "print('Training set RMSE: ', round(xgb3_test_rmse, 5))\n"
      ]
    },
    {
      "cell_type": "code",
      "execution_count": null,
      "id": "3ddd1d0c-3395-4c6f-ab41-7ee0237bc609",
      "metadata": {
        "id": "3ddd1d0c-3395-4c6f-ab41-7ee0237bc609"
      },
      "outputs": [],
      "source": [
        "# R-squared - training set\n",
        "xgb3_10000_Rtrain = xgb3_10000.score(Xtrain, ytrain)\n",
        "#R-squared - testing set\n",
        "xgb3_10000_Rtest = xgb3_10000.score(Xtest, ytest)\n",
        "print('Training set R-squared: ', xgb3_10000_Rtrain)\n",
        "print('Holdout set R-squared: ', xgb3_10000_Rtest)\n"
      ]
    },
    {
      "cell_type": "code",
      "execution_count": null,
      "id": "3d850c6c-db77-413b-84b7-380a89000ce1",
      "metadata": {
        "id": "3d850c6c-db77-413b-84b7-380a89000ce1"
      },
      "outputs": [],
      "source": [
        "#timing model\n",
        "xgb3_10000_time = \"\"\"\n",
        "xgb3_10000 = XGBRegressor(alpha = 1,\n",
        "learning_rate = 0.5,\n",
        "max_depth = 3,\n",
        "n_estimators = 300,\n",
        "colsample_bytree = 0.8,\n",
        "reg_lambda = 0,\n",
        "objective = 'reg:tweedie',\n",
        "random_state = 30)\n",
        "xgb3_10000.fit(Xtrain, ytrain)\n",
        "\"\"\"\n",
        "xgb3_10000_time = round(timeit.timeit(stmt = xgb3_10000_time,␣\n",
        "↪globals=globals(), number=1), 5)\n",
        "print(xgb3_10000_time, 'seconds')\n"
      ]
    },
    {
      "cell_type": "code",
      "execution_count": null,
      "id": "c8747734-582d-4307-a790-541484cceb92",
      "metadata": {
        "id": "c8747734-582d-4307-a790-541484cceb92"
      },
      "outputs": [],
      "source": [
        "train_start = time.time()\n",
        "xgb3_10000.fit(Xtrain, ytrain)\n",
        "train_time = time.time() - train_start\n",
        "pred_start = time.time()\n",
        "xgb3_10000.predict(Xtrain)\n",
        "xgb3_10000.predict(Xtest)\n",
        "pred_time = time.time() - pred_start\n",
        "train_pred_time = train_time + pred_time\n",
        "train_pred_time"
      ]
    },
    {
      "cell_type": "code",
      "execution_count": null,
      "id": "223f0e01-b31b-4d9e-b5cb-1c3717b91db6",
      "metadata": {
        "jupyter": {
          "source_hidden": true
        },
        "id": "223f0e01-b31b-4d9e-b5cb-1c3717b91db6"
      },
      "outputs": [],
      "source": [
        "#model efficiency\n",
        "xgb3_avg_rmse = (xgb3_train_rmse + xgb3_test_rmse) / 2\n",
        "xgb3_10000_eff = xgb3_avg_rmse / train_pred_time\n",
        "xgb3_10000_eff / 100000"
      ]
    },
    {
      "cell_type": "code",
      "execution_count": null,
      "id": "a076c9fe-a54a-407e-9b8f-3cb9b8b3564e",
      "metadata": {
        "id": "a076c9fe-a54a-407e-9b8f-3cb9b8b3564e"
      },
      "outputs": [],
      "source": [
        "## XGBoost Repeated 5-fold Cross Validation with 5 repeats 10,000"
      ]
    },
    {
      "cell_type": "code",
      "execution_count": null,
      "id": "9dc7aa97-ce6c-42d2-9feb-bf1cfab4d4bf",
      "metadata": {
        "jupyter": {
          "source_hidden": true
        },
        "id": "9dc7aa97-ce6c-42d2-9feb-bf1cfab4d4bf"
      },
      "outputs": [],
      "source": [
        "#repeated 5-fold cross validation with 5 repeats\n",
        "rpt_kfoldcv = RepeatedKFold(n_splits = 5,\n",
        "n_repeats = 5,\n",
        "random_state = 30)\n",
        "#fourth model\n",
        "xgb4_10000 = XGBRegressor(alpha = 2,\n",
        "learning_rate = 0.5,\n",
        "max_depth = 3,\n",
        "n_estimators = 300,\n",
        "colsample_bytree = 0.8,\n",
        "reg_lambda = 1,\n",
        "objective = 'reg:tweedie',\n",
        "random_state = 30)\n",
        "xgb4_10000.fit(Xtrain, ytrain)"
      ]
    },
    {
      "cell_type": "code",
      "execution_count": null,
      "id": "d4c54461-f0d8-407a-9752-bde6605c6586",
      "metadata": {
        "jupyter": {
          "source_hidden": true
        },
        "id": "d4c54461-f0d8-407a-9752-bde6605c6586"
      },
      "outputs": [],
      "source": [
        " #negativbe scoring\n",
        "xgb4_train_rslt = cross_val_score(xgb4_10000,\n",
        "Xtrain, ytrain,\n",
        "scoring = 'neg_root_mean_squared_error',\n",
        "cv = rpt_kfoldcv,\n",
        "n_jobs = -1)\n",
        "#negative scoring\n",
        "xgb4_test_rslt = cross_val_score(xgb4_10000,\n",
        "Xtest, ytest,\n",
        "scoring = 'neg_root_mean_squared_error',\n",
        "cv = rpt_kfoldcv,\n",
        "n_jobs = -1)\n",
        "# inverting results\n",
        "xgb4_train_rmse = np.mean(-xgb4_train_rslt)\n",
        "xgb4_test_rmse = np.mean(-xgb4_test_rslt)\n",
        "print('Training set RMSE: ', round(xgb4_train_rmse, 5))\n",
        "print('Training set RMSE: ', round(xgb4_tst_rmse, 5))"
      ]
    },
    {
      "cell_type": "code",
      "execution_count": null,
      "id": "cc767c33-1406-4061-90e5-da9604d8b14d",
      "metadata": {
        "id": "cc767c33-1406-4061-90e5-da9604d8b14d"
      },
      "outputs": [],
      "source": [
        "#R-squared - training set\n",
        "xgb4_10000_Rtrain = xgb4_10000.score(Xtrain, ytrain)\n",
        "# R-squared - testing set\n",
        "xgb4_10000_Rtest = xgb4_10000.score(Xtest, ytest)\n",
        "print('Training set R-squared: ', xgb4_10000_Rtrain)\n",
        "print('Holdout set R-squared: ', xgb4_10000_Rtest)\n"
      ]
    },
    {
      "cell_type": "code",
      "execution_count": null,
      "id": "4348420e-d935-48b8-8c06-be05431e2f90",
      "metadata": {
        "id": "4348420e-d935-48b8-8c06-be05431e2f90"
      },
      "outputs": [],
      "source": [
        "#timing model fit\n",
        "xgb4_10000_time = \"\"\"\n",
        "xgb4_10000 = XGBRegressor(alpha = 1,\n",
        "learning_rate = 0.5,\n",
        "max_depth = 3,\n",
        "n_estimators = 300,\n",
        "colsample_bytree = 1,\n",
        "reg_lambda = 1,\n",
        "objective = 'reg:tweedie',\n",
        "random_state = 30)\n",
        "xgb4_10000.fit(Xtrain, ytrain)\n",
        "\"\"\"\n",
        "xgb4_10000_time = round(timeit.timeit(stmt = xgb4_10000_time,␣\n",
        "↪globals=globals(), number=1), 5)\n",
        "print(xgb4_10000_time, 'seconds')"
      ]
    },
    {
      "cell_type": "code",
      "execution_count": null,
      "id": "7609c917-b171-41cd-81e3-1adc415ff896",
      "metadata": {
        "id": "7609c917-b171-41cd-81e3-1adc415ff896"
      },
      "outputs": [],
      "source": [
        "train_start = time.time()\n",
        "xgb4_10000.fit(Xtrain, ytrain)\n",
        "train_time = time.time() - train_start\n",
        "pred_start = time.time()\n",
        "xgb4_10000.predict(Xtrain)\n",
        "xgb4_10000.predict(Xtest)\n",
        "pred_time = time.time() - pred_start\n",
        "train_pred_time = train_time + pred_time\n",
        "train_pred_time"
      ]
    },
    {
      "cell_type": "code",
      "execution_count": null,
      "id": "4ffa05ad-af3c-47f5-b7a3-0727086cc806",
      "metadata": {
        "jupyter": {
          "source_hidden": true
        },
        "id": "4ffa05ad-af3c-47f5-b7a3-0727086cc806"
      },
      "outputs": [],
      "source": [
        "#model efficiency\n",
        "xgb4_avg_rmse = (xgb4_train_rmse + xgb4_test_rmse) / 2\n",
        "xgb4_10000_eff = xgb4_avg_rmse / train_pred_time\n",
        "xgb4_10000_eff / 100000"
      ]
    },
    {
      "cell_type": "code",
      "execution_count": null,
      "id": "d13e0866-40a1-46c9-9815-c8e6431ebe16",
      "metadata": {
        "jupyter": {
          "source_hidden": true
        },
        "id": "d13e0866-40a1-46c9-9815-c8e6431ebe16"
      },
      "outputs": [],
      "source": [
        "## DL Network 10,000\n",
        "#metrics\n",
        "metrics = [tf.keras.metrics.RootMeanSquaredError(name ='root_mean_squared_error', dtype = None),\n",
        "tf.keras.metrics.R2Score(class_aggregation = 'uniform_average',num_regressors = 0, name = \"r2_score\", dtype = None),\n",
        "tf.keras.metrics.MeanAbsoluteError(name = 'mean_absolute_error',dtype = None)]\n"
      ]
    },
    {
      "cell_type": "code",
      "execution_count": null,
      "id": "42ca7d09-ceae-453a-9552-a4d113d9a5ae",
      "metadata": {
        "id": "42ca7d09-ceae-453a-9552-a4d113d9a5ae"
      },
      "outputs": [],
      "source": [
        "## DL Network sequential model with 3 dense layers with relu and linear activation functions 10,000"
      ]
    },
    {
      "cell_type": "code",
      "execution_count": null,
      "id": "c61cf438-62f9-4681-b7fa-87e347532b45",
      "metadata": {
        "jupyter": {
          "source_hidden": true
        },
        "id": "c61cf438-62f9-4681-b7fa-87e347532b45"
      },
      "outputs": [],
      "source": [
        "# third model\n",
        "def dl_model_config():\n",
        "#Sequential model with 3 dense layers with relu and linear activation␣\n",
        "↪functions\n",
        "dl_model = Sequential()\n",
        "dl_model.add(Dense(64,\n",
        "input_dim = Xtrain.shape[1],\n",
        "activation='relu'))\n",
        "dl_model.add(Dense(32,\n",
        "activation = 'relu'))\n",
        "dl_model.add(Dense(1,\n",
        "activation = 'linear'))\n",
        "dl_model.compile(optimizer = 'rmsprop',\n",
        "loss = 'mse',\n",
        "metrics = metrics)\n",
        "return dl_model"
      ]
    },
    {
      "cell_type": "code",
      "execution_count": null,
      "id": "a428c0da-2d17-4c31-967c-96906354aaa3",
      "metadata": {
        "jupyter": {
          "source_hidden": true
        },
        "id": "a428c0da-2d17-4c31-967c-96906354aaa3"
      },
      "outputs": [],
      "source": [
        " #fitting model\n",
        "dl3_10000 = dl_model_config()\n",
        "dl3_10000.fit(Xtrain, ytrain,\n",
        "epochs = 300,\n",
        "batch_size = 32,\n",
        "validation_split = 0.20,\n",
        "verbose = 0)\n",
        "dl3_10000.summary()"
      ]
    },
    {
      "cell_type": "code",
      "execution_count": null,
      "id": "75817f0f-0056-4cb7-97cf-f6dab4f1eb17",
      "metadata": {
        "jupyter": {
          "source_hidden": true
        },
        "id": "75817f0f-0056-4cb7-97cf-f6dab4f1eb17"
      },
      "outputs": [],
      "source": [
        "#Plotting the loss of both training and validation sets\n",
        "plt.plot(dl3_10000.history.history['loss'],\n",
        "color = 'red',\n",
        "label = 'training')\n",
        "plt.plot(dl3_10000.history.history['val_loss'],\n",
        "color = 'green',\n",
        "label = 'validation')\n",
        "plt.legend()\n"
      ]
    },
    {
      "cell_type": "code",
      "execution_count": null,
      "id": "576456f8-28c1-4a01-bfdc-bc027f726fb7",
      "metadata": {
        "jupyter": {
          "source_hidden": true
        },
        "id": "576456f8-28c1-4a01-bfdc-bc027f726fb7"
      },
      "outputs": [],
      "source": [
        "dl3_min_loss = np.min(dl3_10000.history.history['loss'])\n",
        "dl3_min_valloss = np.min(dl3_10000.history.history['val_loss'])\n",
        "print('Min Training Loss (Error): ' , (round(dl3_min_loss, 4)))\n",
        "print('Min Validation Loss (Error): ', (round(dl3_min_valloss, 4)))\n"
      ]
    },
    {
      "cell_type": "code",
      "execution_count": null,
      "id": "a9126c68-2ade-4ca6-9534-4e91c6fe4c33",
      "metadata": {
        "jupyter": {
          "source_hidden": true
        },
        "id": "a9126c68-2ade-4ca6-9534-4e91c6fe4c33"
      },
      "outputs": [],
      "source": [
        "dl3_train_rmse = np.mean(dl3_10000.history.history['root_mean_squared_error'])\n",
        "dl3_val_rmse = np.mean(dl3_10000.history.history['val_root_mean_squared_error'])\n",
        "print('Average Training RMSE: ' , (round(dl3_train_rmse, 5)))\n",
        "print('Average Validation RMSE: ', (round(dl3_val_rmse, 5)))\n"
      ]
    },
    {
      "cell_type": "code",
      "execution_count": null,
      "id": "f8bf18ee-8048-46cd-a668-47be099b081c",
      "metadata": {
        "jupyter": {
          "source_hidden": true
        },
        "id": "f8bf18ee-8048-46cd-a668-47be099b081c"
      },
      "outputs": [],
      "source": [
        "dl3_train_mae = np.mean(dl3_10000.history.history['mean_absolute_error'])\n",
        "dl3_val_mae = np.mean(dl3_10000.history.history['val_mean_absolute_error'])\n",
        "print('Average Training MAE: ' , (round(dl3_train_mae, 5)))\n",
        "print('Average Validation MAE: ', (round(dl3_val_mae, 5)))\n"
      ]
    },
    {
      "cell_type": "code",
      "execution_count": null,
      "id": "79b2a7ce-f04f-4fa2-9ddb-a2b061ba4341",
      "metadata": {
        "id": "79b2a7ce-f04f-4fa2-9ddb-a2b061ba4341"
      },
      "outputs": [],
      "source": [
        "dl3_10000_Rtrain = np.mean(dl3_10000.history.history['r2_score'])\n",
        "dl3_10000_Rval = np.mean(dl3_10000.history.history['val_r2_score'])\n",
        "print('Average Training R-squared: ' , (round(dl3_10000_Rtrain, 5)))\n",
        "print('Average Validation R-squared: ', (round(dl3_10000_Rval, 5)))\n"
      ]
    },
    {
      "cell_type": "code",
      "execution_count": null,
      "id": "923a9191-b912-45d6-8010-b4cb7d6897ed",
      "metadata": {
        "id": "923a9191-b912-45d6-8010-b4cb7d6897ed"
      },
      "outputs": [],
      "source": [
        "# timing model\n",
        "dl3_10000_time = \"\"\"\n",
        "dl3_10000 = dl_model_config()\n",
        "dl3_10000.fit(Xtrain, ytrain,\n",
        "epochs = 300,\n",
        "batch_size = 32,\n",
        "validation_split = 0.20,\n",
        "verbose = 0)\n",
        "dl3_10000.summary()\n",
        "\"\"\"\n",
        "dl3_10000_time = round(timeit.timeit(stmt = dl3_10000_time, globals=globals(),number=1), 5)\n",
        "print(dl3_10000_time, 'seconds')\n"
      ]
    },
    {
      "cell_type": "code",
      "execution_count": null,
      "id": "88dfcaa8-177f-4432-813e-e92bbfc2c091",
      "metadata": {
        "id": "88dfcaa8-177f-4432-813e-e92bbfc2c091"
      },
      "outputs": [],
      "source": [
        "train_start = time.time()\n",
        "dl3_10000.fit(Xtrain, ytrain)\n",
        "train_time = time.time() - train_start\n",
        "pred_start = time.time()\n",
        "dl3_10000.predict(Xtrain)\n",
        "dl3_10000.predict(Xtest)\n",
        "pred_time = time.time() - pred_start\n",
        "train_pred_time = train_time + pred_time\n",
        "train_pred_time\n"
      ]
    },
    {
      "cell_type": "code",
      "execution_count": null,
      "id": "e7ca50f7-9250-4f39-95b7-6f8ec12ccaf1",
      "metadata": {
        "jupyter": {
          "source_hidden": true
        },
        "id": "e7ca50f7-9250-4f39-95b7-6f8ec12ccaf1"
      },
      "outputs": [],
      "source": [
        "# model efficiency\n",
        "dl3_avg_rmse = (dl3_train_rmse + dl3_val_rmse) / 2\n",
        "dl3_10000_eff = dl3_avg_rmse / train_pred_time\n",
        "dl3_10000_eff / 100000"
      ]
    },
    {
      "cell_type": "code",
      "execution_count": null,
      "id": "74a452c0-269b-4194-ae35-de3f8f4e942e",
      "metadata": {
        "id": "74a452c0-269b-4194-ae35-de3f8f4e942e"
      },
      "outputs": [],
      "source": [
        "## DL Network sequential model with 4 dense layers, l1 regularization, with relu and linear activation functions 10,000"
      ]
    },
    {
      "cell_type": "code",
      "execution_count": null,
      "id": "eec06d9a-1478-461f-a7ab-43a171e9b88c",
      "metadata": {
        "jupyter": {
          "source_hidden": true
        },
        "id": "eec06d9a-1478-461f-a7ab-43a171e9b88c"
      },
      "outputs": [],
      "source": [
        "#fourth model configuration\n",
        "def dl_model_config():\n",
        "#Sequential model with 4 dense layers, l1 regularization, with relu and␣\n",
        "↪linear activation functions\n",
        "dl_model = Sequential()\n",
        "dl_model.add(Dense(64,\n",
        "input_dim = Xtrain.shape[1],\n",
        "kernel_regularizer = l1(0.05),\n",
        "activation = 'relu'))\n",
        "dl_model.add(Dropout(0.25))\n",
        "dl_model.add(Dense(32,\n",
        "activation = 'relu',\n",
        "kernel_regularizer = l1(0.05)))\n",
        "dl_model.add(Dropout(0.25))\n",
        "dl_model.add(Dense(16,\n",
        "activation = 'relu',\n",
        "kernel_regularizer = l1(0.05)))\n",
        "dl_model.add(Dropout(0.25))\n",
        "dl_model.add(Dense(1,activation = 'linear'))\n",
        "dl_model.compile(optimizer = 'adam',\n",
        "loss = 'mse',\n",
        "metrics = metrics)\n",
        "return dl_model"
      ]
    },
    {
      "cell_type": "code",
      "execution_count": null,
      "id": "3360a25d-465b-478f-bc27-c3a5f3bc8930",
      "metadata": {
        "jupyter": {
          "source_hidden": true
        },
        "id": "3360a25d-465b-478f-bc27-c3a5f3bc8930"
      },
      "outputs": [],
      "source": [
        "# fitting fourth model\n",
        "dl4_10000 = dl_model_config()\n",
        "dl4_10000.fit(Xtrain, ytrain,\n",
        "epochs = 300,\n",
        "batch_size = 32,\n",
        "validation_split = 0.20,\n",
        "verbose = 0)\n",
        "dl4_10000.summary()\n"
      ]
    },
    {
      "cell_type": "code",
      "execution_count": null,
      "id": "6096ee72-5895-481e-a280-90b6cccd87c7",
      "metadata": {
        "jupyter": {
          "source_hidden": true
        },
        "id": "6096ee72-5895-481e-a280-90b6cccd87c7"
      },
      "outputs": [],
      "source": [
        "# plotting loss of training and validation sets\n",
        "plt.plot(dl4_10000.history.history['loss'],\n",
        "color = 'blue',\n",
        "label = 'training')\n",
        "plt.plot(dl4_10000.history.history['val_loss'],\n",
        "color = 'purple',\n",
        "label = 'validation')\n",
        "plt.legend()"
      ]
    },
    {
      "cell_type": "code",
      "execution_count": null,
      "id": "adcc49e9-43e9-4d19-af9d-f260d9ace96f",
      "metadata": {
        "jupyter": {
          "source_hidden": true
        },
        "id": "adcc49e9-43e9-4d19-af9d-f260d9ace96f"
      },
      "outputs": [],
      "source": [
        "dl4_min_loss = np.min(dl4_10000.history.history['loss'])\n",
        "dl4_min_valloss = np.min(dl4_10000.history.history['val_loss'])\n",
        "print('Min Training Loss (Error): ' , (round(dl4_min_loss, 4)))\n",
        "print('Min Validation Loss (Error): ', (round(dl4_min_valloss, 4)))\n"
      ]
    },
    {
      "cell_type": "code",
      "execution_count": null,
      "id": "69a82035-59cb-4628-a7de-532b120f098c",
      "metadata": {
        "jupyter": {
          "source_hidden": true
        },
        "id": "69a82035-59cb-4628-a7de-532b120f098c"
      },
      "outputs": [],
      "source": [
        " dl4_train_rmse = np.mean(dl4_10000.history.history['root_mean_squared_error'])\n",
        "dl4_val_rmse = np.mean(dl4_10000.history.history['val_root_mean_squared_error'])\n",
        "print('Average Training RMSE: ' , (round(dl4_train_rmse, 5)))\n",
        "print('Average Validation RMSE: ', (round(dl4_val_rmse, 5)))\n"
      ]
    },
    {
      "cell_type": "code",
      "execution_count": null,
      "id": "35e8ac79-9b83-4c36-a197-cc8b9ee58fac",
      "metadata": {
        "jupyter": {
          "source_hidden": true
        },
        "id": "35e8ac79-9b83-4c36-a197-cc8b9ee58fac"
      },
      "outputs": [],
      "source": [
        "dl4_train_mae = np.mean(dl4_10000.history.history['mean_absolute_error'])\n",
        "dl4_val_mae = np.mean(dl4_10000.history.history['val_mean_absolute_error'])\n",
        "print('Average Training MAE: ' , (round(dl4_train_mae, 5)))\n",
        "print('Average Validation MAE: ', (round(dl4_val_mae, 5)))\n"
      ]
    },
    {
      "cell_type": "code",
      "execution_count": null,
      "id": "82624f62-3407-431b-862c-69ff604a6e69",
      "metadata": {
        "id": "82624f62-3407-431b-862c-69ff604a6e69"
      },
      "outputs": [],
      "source": [
        "dl4_10000_Rtrain = np.mean(dl4_10000.history.history['r2_score'])\n",
        "dl4_10000_Rval = np.mean(dl4_10000.history.history['val_r2_score'])\n",
        "print('Average Training R-squared: ' , (round(dl4_10000_Rtrain, 5)))\n",
        "print('Average Validation R-squared: ', (round(dl4_10000_Rval, 5)))"
      ]
    },
    {
      "cell_type": "code",
      "execution_count": null,
      "id": "2377bfaf-6768-466c-96ba-be44792062a2",
      "metadata": {
        "id": "2377bfaf-6768-466c-96ba-be44792062a2"
      },
      "outputs": [],
      "source": [
        "dl4_10000_time = \"\"\"\n",
        "dl4_10000 = dl_model_config()\n",
        "dl4_10000.fit(Xtrain, ytrain,\n",
        "epochs = 300,\n",
        "batch_size = 32,\n",
        "validation_split = 0.20,\n",
        "verbose = 0)\n",
        "dl4_10000.summary()\n",
        "\"\"\"\n",
        "dl4_10000_time = round(timeit.timeit(stmt = dl4_10000_time, globals=globals(),number=1), 5)\n",
        "print(dl4_10000_time, 'seconds')\n"
      ]
    },
    {
      "cell_type": "code",
      "execution_count": null,
      "id": "3aebe21b-91c6-4d85-83c8-850f4b45f24c",
      "metadata": {
        "id": "3aebe21b-91c6-4d85-83c8-850f4b45f24c"
      },
      "outputs": [],
      "source": [
        "train_start = time.time()\n",
        "dl4_10000.fit(Xtrain, ytrain)\n",
        "train_time = time.time() - train_start\n",
        "pred_start = time.time()\n",
        "dl4_10000.predict(Xtrain)\n",
        "dl4_10000.predict(Xtest)\n",
        "pred_time = time.time() - pred_start\n",
        "train_pred_time = train_time + pred_time\n",
        "train_pred_time\n"
      ]
    },
    {
      "cell_type": "code",
      "execution_count": null,
      "id": "ece9543c-284d-4564-832f-f80824ec1655",
      "metadata": {
        "jupyter": {
          "source_hidden": true
        },
        "id": "ece9543c-284d-4564-832f-f80824ec1655"
      },
      "outputs": [],
      "source": [
        "# model efficiency\n",
        "dl4_avg_rmse = (dl4_train_rmse + dl4_val_rmse) / 2\n",
        "dl4_10000_eff = dl4_avg_rmse / train_pred_time\n",
        "dl4_10000_eff / 100000"
      ]
    },
    {
      "cell_type": "code",
      "execution_count": null,
      "id": "ab7a2e7c-0982-4925-bf11-175989828352",
      "metadata": {
        "id": "ab7a2e7c-0982-4925-bf11-175989828352"
      },
      "outputs": [],
      "source": [
        "## 100,000"
      ]
    },
    {
      "cell_type": "code",
      "execution_count": null,
      "id": "76936d0e-aaba-4da3-9b45-71607c431220",
      "metadata": {
        "id": "76936d0e-aaba-4da3-9b45-71607c431220"
      },
      "outputs": [],
      "source": [
        "## GLM LBFGS 100,000"
      ]
    },
    {
      "cell_type": "code",
      "execution_count": null,
      "id": "137c4070-0ccd-45e2-a266-61dcff362cc7",
      "metadata": {
        "jupyter": {
          "source_hidden": true
        },
        "id": "137c4070-0ccd-45e2-a266-61dcff362cc7"
      },
      "outputs": [],
      "source": [
        "#fifth GLM model\n",
        "glm5_100000 = TweedieRegressor(power = 0,\n",
        "                               alpha = 1,\n",
        "max_iter = 300,\n",
        "tol = 1e-6,\n",
        "solver = 'lbfgs')\n",
        "glm5_100000.fit(Xtrain, ytrain)"
      ]
    },
    {
      "cell_type": "code",
      "execution_count": null,
      "id": "10829351-0a6f-4d9e-84e7-3142015bdad3",
      "metadata": {
        "jupyter": {
          "source_hidden": true
        },
        "id": "10829351-0a6f-4d9e-84e7-3142015bdad3"
      },
      "outputs": [],
      "source": [
        " # predictions\n",
        "glm5_trainpreds = glm5_100000.predict(Xtrain)\n",
        "glm5_testpreds = glm5_100000.predict(Xtest)\n",
        "#MSE and RMSE - training set\n",
        "glm5_train_mse = mean_squared_error(ytrain, glm5_trainpreds)\n",
        "glm5_train_rmse = np.sqrt(glm5_train_mse)\n",
        "# MSE and RMSE - training set\n",
        "glm5_test_mse = mean_squared_error(ytest, glm5_testpreds)\n",
        "glm5_test_rmse = np.sqrt(glm5_test_mse)\n",
        "print('Training set RMSE: ', round(glm5_train_rmse, 5))\n",
        "print('Holdout set RMSE: ', round(glm5_test_rmse, 5))\n"
      ]
    },
    {
      "cell_type": "code",
      "execution_count": null,
      "id": "0b61aff6-4e81-40bf-a955-3456d9cc607d",
      "metadata": {
        "id": "0b61aff6-4e81-40bf-a955-3456d9cc607d"
      },
      "outputs": [],
      "source": [
        "# R-squared - training set\n",
        "glm5_100000_Rtrain = glm5_100000.score(Xtrain, ytrain)\n",
        "# R-squared - testing set\n",
        "glm5_100000_Rtest = glm5_100000.score(Xtest, ytest)\n",
        "print('Training set R-squared: ', glm5_100000_Rtrain)\n",
        "print('Holdout set R-squared: ', glm5_100000_Rtest)\n"
      ]
    },
    {
      "cell_type": "code",
      "execution_count": null,
      "id": "ff7f4520-b507-4f15-b3a3-b10942bfe74c",
      "metadata": {
        "id": "ff7f4520-b507-4f15-b3a3-b10942bfe74c"
      },
      "outputs": [],
      "source": [
        "glm5_100000_time = \"\"\"\n",
        "glm5_100000 = TweedieRegressor(power = 0,\n",
        "alpha = 1,\n",
        "max_iter = 300,\n",
        "tol = 1e-6,\n",
        "solver = 'lbfgs')\n",
        "#Fitting the model\n",
        "glm5_100000.fit(Xtrain, ytrain)\n",
        "\"\"\"\n",
        "\n",
        "glm5_100000_time = round(timeit.timeit(stmt = glm5_100000_time,globals=globals(), number=1), 5)\n",
        "print(glm5_100000_time, 'seconds')\n"
      ]
    },
    {
      "cell_type": "code",
      "execution_count": null,
      "id": "008b66c5-cfc0-4247-83b4-cb7f6b7416ee",
      "metadata": {
        "id": "008b66c5-cfc0-4247-83b4-cb7f6b7416ee"
      },
      "outputs": [],
      "source": [
        "train_start = time.time()\n",
        "glm5_100000.fit(Xtrain, ytrain)\n",
        "train_time = time.time() - train_start\n",
        "pred_start = time.time()\n",
        "glm5_100000.predict(Xtrain)\n",
        "glm5_100000.predict(Xtest)\n",
        "pred_time = time.time() - pred_start\n",
        "train_pred_time = train_time + pred_time\n",
        "train_pred_time"
      ]
    },
    {
      "cell_type": "code",
      "execution_count": null,
      "id": "5e02bb88-c95a-48ac-9920-455d9c3ca326",
      "metadata": {
        "jupyter": {
          "source_hidden": true
        },
        "id": "5e02bb88-c95a-48ac-9920-455d9c3ca326"
      },
      "outputs": [],
      "source": [
        "#model efficiency\n",
        "glm5_avg_rmse = (glm5_train_rmse + glm5_test_rmse) / 2\n",
        "glm5_100000_eff = glm5_avg_rmse / train_pred_time\n",
        "glm5_100000_eff / 100000\n"
      ]
    },
    {
      "cell_type": "code",
      "execution_count": null,
      "id": "1d2539f5-caea-4f71-ab7f-d3df089328b0",
      "metadata": {
        "id": "1d2539f5-caea-4f71-ab7f-d3df089328b0"
      },
      "outputs": [],
      "source": [
        "## GLM Newton-Cholesky 100,000"
      ]
    },
    {
      "cell_type": "code",
      "execution_count": null,
      "id": "5251408b-0ee7-4873-bebc-4f5fa4b7eabe",
      "metadata": {
        "jupyter": {
          "source_hidden": true
        },
        "id": "5251408b-0ee7-4873-bebc-4f5fa4b7eabe"
      },
      "outputs": [],
      "source": [
        "#sixth GLM model\n",
        "glm6_100000 = TweedieRegressor(power = 1,\n",
        "alpha = 1,\n",
        "max_iter = 300,\n",
        "tol = 1e-6,\n",
        "solver = 'newton-cholesky')\n",
        "glm6_100000.fit(Xtrain, ytrain)\n"
      ]
    },
    {
      "cell_type": "code",
      "execution_count": null,
      "id": "fdbbe8ff-8b2b-45c2-9910-88516302fa47",
      "metadata": {
        "jupyter": {
          "source_hidden": true
        },
        "id": "fdbbe8ff-8b2b-45c2-9910-88516302fa47"
      },
      "outputs": [],
      "source": [
        "#predictions\n",
        "glm6_trainpreds = glm6_100000.predict(Xtrain)\n",
        "glm6_testpreds = glm6_100000.predict(Xtest)\n",
        "#MSE and RMSE - training set\n",
        "glm6_train_mse = mean_squared_error(ytrain, glm6_trainpreds)\n",
        "glm6_train_rmse = np.sqrt(glm6_train_mse)\n",
        "#MSE and RMSE - testing set\n",
        "glm6_test_mse = mean_squared_error(ytest, glm6_testpreds)\n",
        "glm6_test_rmse = np.sqrt(glm6_test_mse)\n",
        "print('Training set RMSE: ', round(glm6_train_rmse, 5))\n",
        "print('Holdout set RMSE: ', round(glm6_test_rmse, 5))\n"
      ]
    },
    {
      "cell_type": "code",
      "execution_count": null,
      "id": "7b7430b5-ce96-40eb-8e7f-95ed90fff202",
      "metadata": {
        "id": "7b7430b5-ce96-40eb-8e7f-95ed90fff202"
      },
      "outputs": [],
      "source": [
        "#R-squared - training set\n",
        "glm6_100000_Rtrain = glm6_100000.score(Xtrain, ytrain)\n",
        "# R-squared for testing set\n",
        "glm6_100000_Rtest = glm6_100000.score(Xtest, ytest)\n",
        "print('Training set R-squared: ', glm6_100000_Rtrain)\n",
        "print('Holdout set R-squared: ', glm6_100000_Rtest)"
      ]
    },
    {
      "cell_type": "code",
      "execution_count": null,
      "id": "41d78530-3bc0-47fa-9054-545f48e3dc5c",
      "metadata": {
        "id": "41d78530-3bc0-47fa-9054-545f48e3dc5c"
      },
      "outputs": [],
      "source": [
        "glm6_100000_time = \"\"\"\n",
        "glm6_100000 = TweedieRegressor(power = 0,\n",
        "alpha = 1,\n",
        "max_iter = 300,\n",
        "tol = 1e-6,\n",
        "solver = 'newton-cholesky')\n",
        "glm6_100000.fit(Xtrain, ytrain)\n",
        "\"\"\"\n",
        "glm6_100000_time = round(timeit.timeit(stmt = glm6_100000_time,globals=globals(), number=1), 5)\n",
        "print(glm6_100000_time, 'seconds')\n"
      ]
    },
    {
      "cell_type": "code",
      "execution_count": null,
      "id": "e3c5c398-3234-46c9-adbb-357d0338a81b",
      "metadata": {
        "id": "e3c5c398-3234-46c9-adbb-357d0338a81b"
      },
      "outputs": [],
      "source": [
        "train_start = time.time()\n",
        "glm6_100000.fit(Xtrain, ytrain)\n",
        "train_time = time.time() - train_start\n",
        "pred_start = time.time()\n",
        "glm6_100000.predict(Xtrain)\n",
        "glm6_100000.predict(Xtest)\n",
        "pred_time = time.time() - pred_start\n",
        "train_pred_time = train_time + pred_time\n",
        "train_pred_time"
      ]
    },
    {
      "cell_type": "code",
      "execution_count": null,
      "id": "6d3be367-71d5-45ba-ac99-1e8f9e639bf5",
      "metadata": {
        "jupyter": {
          "source_hidden": true
        },
        "id": "6d3be367-71d5-45ba-ac99-1e8f9e639bf5"
      },
      "outputs": [],
      "source": [
        "#model efficiency\n",
        "glm6_100000_eff = glm6_avg_rmse / train_pred_time\n",
        "glm6_100000_eff / 100000"
      ]
    },
    {
      "cell_type": "code",
      "execution_count": null,
      "id": "05aca874-fd5c-49ed-addc-d202d1922def",
      "metadata": {
        "jupyter": {
          "source_hidden": true
        },
        "id": "05aca874-fd5c-49ed-addc-d202d1922def"
      },
      "outputs": [],
      "source": [
        "## XGBoost 100,000\n",
        "#parameters\n",
        "tuning_grid = {\n",
        "'max_depth': [3, 4, 5, 6, 7, 8, 9],\n",
        "'n_estimators': [10, 50, 100, 200, 300],\n",
        "'learning_rate': [0.1, 0.5, 0.8],\n",
        "'colsample_bytree': [0.6, 0.8, 1.0],\n",
        "'reg_alpha': [0, 0.5, 1, 2],\n",
        "'reg_lambda': [0, 1, 2]\n",
        "}\n",
        "xgb_grid_100000 = XGBRegressor(objective = 'reg:tweedie', random_state = 30)\n",
        "grid_search = GridSearchCV(estimator = xgb_grid_100000,\n",
        "param_grid = tuning_grid,\n",
        "scoring = 'neg_mean_squared_error',\n",
        "cv = 5,\n",
        "n_jobs = -1,\n",
        "verbose = 2)\n",
        "grid_search.fit(Xtrain, ytrain)\n",
        "grid_search.best_params_\n"
      ]
    },
    {
      "cell_type": "code",
      "execution_count": null,
      "id": "7db61499-8606-4379-af8a-a34eb7b392da",
      "metadata": {
        "id": "7db61499-8606-4379-af8a-a34eb7b392da"
      },
      "outputs": [],
      "source": [
        "## XGBoost 5-fold Cross Validation 100,000"
      ]
    },
    {
      "cell_type": "code",
      "execution_count": null,
      "id": "0b857e20-eaa2-4ad2-8281-7a5848aec59e",
      "metadata": {
        "jupyter": {
          "source_hidden": true
        },
        "id": "0b857e20-eaa2-4ad2-8281-7a5848aec59e"
      },
      "outputs": [],
      "source": [
        "#5-fold cross validation\n",
        "kfoldcv = KFold(n_splits = 5)\n"
      ]
    },
    {
      "cell_type": "code",
      "execution_count": null,
      "id": "79e79136-111f-4e70-9a6a-442b462d18fb",
      "metadata": {
        "jupyter": {
          "source_hidden": true
        },
        "id": "79e79136-111f-4e70-9a6a-442b462d18fb"
      },
      "outputs": [],
      "source": [
        "#Fitting fifth model\n",
        "xgb5_100000 = XGBRegressor(alpha = 0,\n",
        "learning_rate = 0.1,\n",
        "max_depth = 7,\n",
        "n_estimators = 300,\n",
        "colsample_bytree = 1,\n",
        "reg_lambda = 1,\n",
        "objective = 'reg:tweedie',\n",
        "random_state = 30)\n"
      ]
    },
    {
      "cell_type": "code",
      "execution_count": null,
      "id": "a9866bb7-2f4c-469e-9bc3-5c9cddc95c98",
      "metadata": {
        "jupyter": {
          "source_hidden": true
        },
        "id": "a9866bb7-2f4c-469e-9bc3-5c9cddc95c98"
      },
      "outputs": [],
      "source": [
        "# fitting model\n",
        "xgb5_100000.fit(Xtrain, ytrain)"
      ]
    },
    {
      "cell_type": "code",
      "execution_count": null,
      "id": "6f09c54f-f442-4ea4-b14a-63de95aa7b22",
      "metadata": {
        "jupyter": {
          "source_hidden": true
        },
        "id": "6f09c54f-f442-4ea4-b14a-63de95aa7b22"
      },
      "outputs": [],
      "source": [
        "#negative scoring\n",
        "xgb5_train_rslt = cross_val_score(xgb5_100000,\n",
        "Xtrain, ytrain,\n",
        "scoring = 'neg_root_mean_squared_error',\n",
        "cv = kfoldcv,\n",
        "n_jobs = -1)"
      ]
    },
    {
      "cell_type": "code",
      "execution_count": null,
      "id": "e07b5559-df73-49cb-86cf-bc8d4007126a",
      "metadata": {
        "jupyter": {
          "source_hidden": true
        },
        "id": "e07b5559-df73-49cb-86cf-bc8d4007126a"
      },
      "outputs": [],
      "source": [
        " #negative scoring\n",
        "xgb5_test_rslt = cross_val_score(xgb5_100000,\n",
        "Xtest, ytest,\n",
        "scoring = 'neg_root_mean_squared_error',\n",
        "cv = kfoldcv,\n",
        "n_jobs = -1)"
      ]
    },
    {
      "cell_type": "code",
      "execution_count": null,
      "id": "30602454-cd03-4340-8818-69c77b463561",
      "metadata": {
        "jupyter": {
          "source_hidden": true
        },
        "id": "30602454-cd03-4340-8818-69c77b463561"
      },
      "outputs": [],
      "source": [
        "# inverting outcome\n",
        "xgb5_train_rmse = np.mean(-xgb5_train_rslt)"
      ]
    },
    {
      "cell_type": "code",
      "execution_count": null,
      "id": "a69ef3d0-056e-4028-b277-29d3c418c658",
      "metadata": {
        "jupyter": {
          "source_hidden": true
        },
        "id": "a69ef3d0-056e-4028-b277-29d3c418c658"
      },
      "outputs": [],
      "source": [
        "#inverting outcome\n",
        "xgb5_test_rmse = np.mean(-xgb5_test_rslt)"
      ]
    },
    {
      "cell_type": "code",
      "execution_count": null,
      "id": "2c3e51e7-cfc3-43d2-a2c3-e4a37423e9b4",
      "metadata": {
        "jupyter": {
          "source_hidden": true
        },
        "id": "2c3e51e7-cfc3-43d2-a2c3-e4a37423e9b4"
      },
      "outputs": [],
      "source": [
        "print('Training set RMSE: ', round(xgb5_train_rmse, 5))\n",
        "print('Training set RMSE: ', round(xgb5_test_rmse, 5))"
      ]
    },
    {
      "cell_type": "code",
      "execution_count": null,
      "id": "44c2a38b-41cb-46dc-8fb1-71c82395d2ab",
      "metadata": {
        "id": "44c2a38b-41cb-46dc-8fb1-71c82395d2ab"
      },
      "outputs": [],
      "source": [
        "#R-squared - training set\n",
        "xgb5_100000_Rtrn = xgb5_100000.score(Xtrain, ytrain)\n",
        "# R-squared - testing set\n",
        "xgb5_100000_Rtst = xgb5_100000.score(Xtest, ytest)\n",
        "print('Training set R-squared: ', xgb5_100000_Rtrain)\n",
        "print('Holdout set R-squared: ', xgb5_100000_Rtest)\n"
      ]
    },
    {
      "cell_type": "code",
      "execution_count": null,
      "id": "1ec5da54-617b-41b0-bfc7-0ce447934eda",
      "metadata": {
        "id": "1ec5da54-617b-41b0-bfc7-0ce447934eda"
      },
      "outputs": [],
      "source": [
        " xgb5_100000_time = \"\"\"\n",
        "xgb5_100000 = XGBRegressor(alpha = 0,\n",
        "learning_rate = 0.1,\n",
        "max_depth = 7,\n",
        "n_estimators = 300,\n",
        "colsample_bytree = 1,\n",
        "reg_lambda = 1,\n",
        "objective = 'reg:tweedie',\n",
        "random_state = 30)\n",
        "xgb5_100000.fit(Xtrain, ytrain)\n",
        "\"\"\"\n",
        "xgb5_100000_time = round(timeit.timeit(stmt = xgb5_100000_time,globals=globals(), number=1), 5)\n",
        "print(xgb5_100000_time, 'seconds')\n"
      ]
    },
    {
      "cell_type": "code",
      "execution_count": null,
      "id": "4f8386e2-10db-480d-a11c-aad01755ca87",
      "metadata": {
        "id": "4f8386e2-10db-480d-a11c-aad01755ca87"
      },
      "outputs": [],
      "source": [
        "train_start = time.time()\n",
        "xgb5_100000.fit(Xtrain, ytrain)\n",
        "train_time = time.time() - train_start\n",
        "pred_start = time.time()\n",
        "xgb5_100000.predict(Xtrn)\n",
        "xgb5_100000.predict(Xtst)\n",
        "pred_time = time.time() - pred_start\n",
        "train_pred_time = train_time + pred_time\n",
        "train_pred_time"
      ]
    },
    {
      "cell_type": "code",
      "execution_count": null,
      "id": "bdd4495c-7c75-4e2a-9703-d1385125c106",
      "metadata": {
        "jupyter": {
          "source_hidden": true
        },
        "id": "bdd4495c-7c75-4e2a-9703-d1385125c106"
      },
      "outputs": [],
      "source": [
        "#model efficiency\n",
        "xgb5_avg_rmse = (xgb5_train_rmse + xgb5_test_rmse) / 2\n",
        "xgb5_100000_eff = xgb5_avg_rmse / train_pred_time\n",
        "xgb5_100000_eff / 100000"
      ]
    },
    {
      "cell_type": "code",
      "execution_count": null,
      "id": "46a3f1eb-6647-4850-a5c7-5b652097687d",
      "metadata": {
        "id": "46a3f1eb-6647-4850-a5c7-5b652097687d"
      },
      "outputs": [],
      "source": [
        "## XGBoost Repeated 5-fold Cross Validation with 5 repeats 100000"
      ]
    },
    {
      "cell_type": "code",
      "execution_count": null,
      "id": "034f949f-da28-4c43-b1c6-30b696e27173",
      "metadata": {
        "jupyter": {
          "source_hidden": true
        },
        "id": "034f949f-da28-4c43-b1c6-30b696e27173"
      },
      "outputs": [],
      "source": [
        "#repeated 5-fold cross validation with 5 repeats\n",
        "rpt_kfoldcv = RepeatedKFold(n_splits = 5,\n",
        "n_repeats = 5,\n",
        "random_state = 30)"
      ]
    },
    {
      "cell_type": "code",
      "execution_count": null,
      "id": "47f7a659-4c41-427e-bdc9-faf235785167",
      "metadata": {
        "jupyter": {
          "source_hidden": true
        },
        "id": "47f7a659-4c41-427e-bdc9-faf235785167"
      },
      "outputs": [],
      "source": [
        " #sixth model\n",
        "xgb6_100000 = XGBRegressor(alpha = 0,\n",
        "learning_rate = 0.1,\n",
        "max_depth = 7,\n",
        "n_estimators = 300,\n",
        "colsample_bytree = 1,\n",
        "reg_lambda = 1,\n",
        "objective = 'reg:tweedie',\n",
        "random_state = 30)"
      ]
    },
    {
      "cell_type": "code",
      "execution_count": null,
      "id": "22832224-1aa3-4454-8e63-61b5dae62ce1",
      "metadata": {
        "jupyter": {
          "source_hidden": true
        },
        "id": "22832224-1aa3-4454-8e63-61b5dae62ce1"
      },
      "outputs": [],
      "source": [
        "#Model fitting\n",
        "xgb6_100000.fit(Xtrain, ytrain)"
      ]
    },
    {
      "cell_type": "code",
      "execution_count": null,
      "id": "88445353-d697-4d8d-a4d8-74bf5cb58bdc",
      "metadata": {
        "jupyter": {
          "source_hidden": true
        },
        "id": "88445353-d697-4d8d-a4d8-74bf5cb58bdc"
      },
      "outputs": [],
      "source": [
        " #negative scoring\n",
        "xgb6_train_rslt = cross_val_score(xgb6_100000,\n",
        "Xtrain, ytrain,\n",
        "scoring = 'neg_root_mean_squared_error',\n",
        "cv = rpt_kfoldcv,\n",
        "n_jobs = -1)\n"
      ]
    },
    {
      "cell_type": "code",
      "execution_count": null,
      "id": "6feb7dd4-e597-4cdc-bcaa-06b2a3607bb8",
      "metadata": {
        "jupyter": {
          "source_hidden": true
        },
        "id": "6feb7dd4-e597-4cdc-bcaa-06b2a3607bb8"
      },
      "outputs": [],
      "source": [
        "#negative scoring\n",
        "xgb6_tst_rslt = cross_val_score(xgb6_100000,\n",
        "Xtest, ytest,\n",
        "scoring = 'neg_root_mean_squared_error',\n",
        "cv = rpt_kfoldcv,\n",
        "n_jobs = -1)\n"
      ]
    },
    {
      "cell_type": "code",
      "execution_count": null,
      "id": "c6e40c5a-a6a4-4ea4-8849-b29e30808e68",
      "metadata": {
        "jupyter": {
          "source_hidden": true
        },
        "id": "c6e40c5a-a6a4-4ea4-8849-b29e30808e68"
      },
      "outputs": [],
      "source": [
        "#inverting outcome\n",
        "xgb6_train_rmse = np.mean(-xgb6_train_rslt)\n"
      ]
    },
    {
      "cell_type": "code",
      "execution_count": null,
      "id": "cc921b89-f063-4c42-84e8-7a1ea889df7c",
      "metadata": {
        "jupyter": {
          "source_hidden": true
        },
        "id": "cc921b89-f063-4c42-84e8-7a1ea889df7c"
      },
      "outputs": [],
      "source": [
        "#inverting outcome\n",
        "xgb6_test_rmse = np.mean(-xgb6_test_rslt)"
      ]
    },
    {
      "cell_type": "code",
      "execution_count": null,
      "id": "5505104b-a95c-43b3-9c4a-64e5c3be1128",
      "metadata": {
        "jupyter": {
          "source_hidden": true
        },
        "id": "5505104b-a95c-43b3-9c4a-64e5c3be1128"
      },
      "outputs": [],
      "source": [
        "print('Training set RMSE: ', round(xgb6_train_rmse, 5))\n",
        "print('Training set RMSE: ', round(xgb6_test_rmse, 5))"
      ]
    },
    {
      "cell_type": "code",
      "execution_count": null,
      "id": "6f29d315-1ad5-49de-9ee5-1c6ebd71a022",
      "metadata": {
        "id": "6f29d315-1ad5-49de-9ee5-1c6ebd71a022"
      },
      "outputs": [],
      "source": [
        "#R-squared - training set\n",
        "xgb6_100000_Rtrain = xgb6_100000.score(Xtrain, ytrain)\n",
        "# R-squared - testing set\n",
        "xgb6_100000_Rtest = xgb6_100000.score(Xtest, ytest)"
      ]
    },
    {
      "cell_type": "code",
      "execution_count": null,
      "id": "0365ae31-b802-4de4-b25f-540cf2284697",
      "metadata": {
        "id": "0365ae31-b802-4de4-b25f-540cf2284697"
      },
      "outputs": [],
      "source": [
        "xgb6_100000_time = \"\"\"\n",
        "xgb6_100000 = XGBRegressor(alpha = 1,\n",
        "learning_rate = 0.5,\n",
        "max_depth = 3,\n",
        "n_estimators = 300,\n",
        "colsample_bytree = 1,\n",
        "reg_lambda = 1,\n",
        "objective = 'reg:tweedie',\n",
        "random_state = 30)\n",
        "xgb6_100000.fit(Xtrain, ytrain)\n",
        "\"\"\"\n",
        "xgb6_100000_time = round(timeit.timeit(stmt = xgb6_100000_time,globals=globals(), number=1), 5)\n",
        "print(xgb6_100000_time, 'seconds')\n"
      ]
    },
    {
      "cell_type": "code",
      "execution_count": null,
      "id": "4063836b-51e6-4662-8508-b9a60dfd6a56",
      "metadata": {
        "id": "4063836b-51e6-4662-8508-b9a60dfd6a56"
      },
      "outputs": [],
      "source": [
        "train_start = time.time()\n",
        "xgb6_100000.fit(Xtrain, ytrain)\n",
        "train_time = time.time() - train_start\n",
        "pred_start = time.time()\n",
        "xgb6_100000.predict(Xtrain)\n",
        "xgb6_100000.predict(Xtest)\n",
        "pred_time = time.time() - pred_start\n",
        "train_pred_time = train_time + pred_time\n",
        "train_pred_time"
      ]
    },
    {
      "cell_type": "code",
      "execution_count": null,
      "id": "f4a10189-f989-49a3-8042-84febdeab66b",
      "metadata": {
        "jupyter": {
          "source_hidden": true
        },
        "id": "f4a10189-f989-49a3-8042-84febdeab66b"
      },
      "outputs": [],
      "source": [
        "# model efficiency\n",
        "xgb6_avg_rmse = (xgb6_train_rmse + xgb6_test_rmse) / 2\n",
        "xgb6_100000_eff = xgb6_avg_rmse / train_pred_time"
      ]
    },
    {
      "cell_type": "code",
      "execution_count": null,
      "id": "59ff338c-022f-451c-ae23-3c6aa9802de1",
      "metadata": {
        "jupyter": {
          "source_hidden": true
        },
        "id": "59ff338c-022f-451c-ae23-3c6aa9802de1"
      },
      "outputs": [],
      "source": [
        "\n",
        "xgb6_100000_eff / 100000"
      ]
    },
    {
      "cell_type": "code",
      "execution_count": null,
      "id": "d916ba70-bb9e-4f60-8273-db092d6bae3a",
      "metadata": {
        "jupyter": {
          "source_hidden": true
        },
        "id": "d916ba70-bb9e-4f60-8273-db092d6bae3a"
      },
      "outputs": [],
      "source": [
        "## DL Network 100,000\n",
        "#metrics\n",
        "metrics = [tf.keras.metrics.RootMeanSquaredError(name ='root_mean_squared_error', dtype = None),\n",
        "tf.keras.metrics.R2Score(class_aggregation = 'uniform_average',num_regressors = 0, name = \"r2_score\", dtype = None),\n",
        "tf.keras.metrics.MeanAbsoluteError(name = 'mean_absolute_error',dtype = None)]\n"
      ]
    },
    {
      "cell_type": "code",
      "execution_count": null,
      "id": "f708837c-17dc-4715-84a4-e22f5839386c",
      "metadata": {
        "id": "f708837c-17dc-4715-84a4-e22f5839386c"
      },
      "outputs": [],
      "source": [
        "## DL Network sequential model with 3 dense layers with relu and linear activation functions 100,000"
      ]
    },
    {
      "cell_type": "code",
      "execution_count": null,
      "id": "4ca6f8a5-a578-4e59-8594-fae74c23f52d",
      "metadata": {
        "jupyter": {
          "source_hidden": true
        },
        "id": "4ca6f8a5-a578-4e59-8594-fae74c23f52d"
      },
      "outputs": [],
      "source": [
        " def dl_model_config():\n",
        "#Sequential model with 3 dense layers with relu and linear activation functions\n",
        "dl_model = Sequential()\n",
        "dl_model.add(Dense(64,\n",
        "input_dim = Xtrain.shape[1],\n",
        "activation='relu'))\n",
        "dl_model.add(Dense(32,\n",
        "activation = 'relu'))\n",
        "dl_model.add(Dense(1,\n",
        "activation = 'linear'))\n"
      ]
    },
    {
      "cell_type": "code",
      "execution_count": null,
      "id": "ae0e1eac-dfb2-4949-b08f-b6d1dabbeab7",
      "metadata": {
        "jupyter": {
          "source_hidden": true
        },
        "id": "ae0e1eac-dfb2-4949-b08f-b6d1dabbeab7"
      },
      "outputs": [],
      "source": [
        "dl_model.compile(optimizer = 'rmsprop',\n",
        "loss = 'mse',\n",
        "metrics = metrics)\n",
        "return dl_model\n"
      ]
    },
    {
      "cell_type": "code",
      "execution_count": null,
      "id": "ec998093-3af3-4f98-9f80-9c37ed4d6e5e",
      "metadata": {
        "jupyter": {
          "source_hidden": true
        },
        "id": "ec998093-3af3-4f98-9f80-9c37ed4d6e5e"
      },
      "outputs": [],
      "source": [
        "dl5_100000 = dl_model_config()\n",
        "dl5_100000.fit(Xtrain, ytrain,\n",
        "epochs = 300,\n",
        "batch_size = 32,\n",
        "validation_split = 0.20,\n",
        "verbose = 0)\n",
        "dl5_100000.summary()"
      ]
    },
    {
      "cell_type": "code",
      "execution_count": null,
      "id": "19f97870-2af8-45d7-8eea-94892a30cc12",
      "metadata": {
        "jupyter": {
          "source_hidden": true
        },
        "id": "19f97870-2af8-45d7-8eea-94892a30cc12"
      },
      "outputs": [],
      "source": [
        "plt.plot(dl5_100000.history.history['loss'],\n",
        "color = 'red,\n",
        "label = 'training')\n",
        "plt.plot(dl5_100000.history.history['val_loss'],\n",
        "color = 'blue',\n",
        "label = 'validation')\n",
        "plt.legend()"
      ]
    },
    {
      "cell_type": "code",
      "execution_count": null,
      "id": "0115a86c-6d0a-4125-803b-40957c0e30d3",
      "metadata": {
        "jupyter": {
          "source_hidden": true
        },
        "id": "0115a86c-6d0a-4125-803b-40957c0e30d3"
      },
      "outputs": [],
      "source": [
        "dl5_min_loss = np.min(dl5_100000.history.history['loss'])\n",
        "dl5_min_valloss = np.min(dl5_100000.history.history['val_loss'])\n",
        "print('Min Training Loss (Error): ' , (round(dl5_min_loss, 4)))\n",
        "print('Min Validation Loss (Error): ', (round(dl5_min_valloss, 4)))\n"
      ]
    },
    {
      "cell_type": "code",
      "execution_count": null,
      "id": "86573307-cb46-4944-8b18-780afb2b550f",
      "metadata": {
        "jupyter": {
          "source_hidden": true
        },
        "id": "86573307-cb46-4944-8b18-780afb2b550f"
      },
      "outputs": [],
      "source": [
        "dl5_train_rmse = np.mean(dl5_100000.history.history['root_mean_squared_error'])\n",
        "dl5_val_rmse = np.mean(dl5_100000.history.history['val_root_mean_squared_error'])\n",
        "print('Average Training RMSE: ' , (round(dl5_train_rmse, 5)))\n",
        "print('Average Validation RMSE: ', (round(dl5_val_rmse, 5)))"
      ]
    },
    {
      "cell_type": "code",
      "execution_count": null,
      "id": "3c52621e-aa33-49ed-b8a5-94d02c9b534b",
      "metadata": {
        "jupyter": {
          "source_hidden": true
        },
        "id": "3c52621e-aa33-49ed-b8a5-94d02c9b534b"
      },
      "outputs": [],
      "source": [
        "dl5_train_mae = np.mean(dl5_100000.history.history['mean_absolute_error'])\n",
        "dl5_val_mae = np.mean(dl5_100000.history.history['val_mean_absolute_error'])\n",
        "print('Average Training MAE: ' , (round(dl5_train_mae, 5)))\n",
        "print('Average Validation MAE: ', (round(dl5_val_mae, 5)))\n"
      ]
    },
    {
      "cell_type": "code",
      "execution_count": null,
      "id": "7325a617-e612-4db1-9d21-72688b53f37b",
      "metadata": {
        "id": "7325a617-e612-4db1-9d21-72688b53f37b"
      },
      "outputs": [],
      "source": [
        " dl5_100000_Rtrain = np.mean(dl5_100000.history.history['r2_score'])\n",
        "dl5_100000_Rval = np.mean(dl5_100000.history.history['val_r2_score'])\n",
        "print('Average Training R-squared: ' , (round(dl5_100000_Rtrain, 5)))\n",
        "print('Average Validation R-squared: ', (round(dl5_100000_Rval, 5)))"
      ]
    },
    {
      "cell_type": "code",
      "execution_count": null,
      "id": "9ccec6e4-6f2e-4845-ac55-6d9e7245aa46",
      "metadata": {
        "id": "9ccec6e4-6f2e-4845-ac55-6d9e7245aa46"
      },
      "outputs": [],
      "source": [
        "dl5_100000_time = \"\"\"\n",
        "dl5_100000 = dl_model_config()\n",
        "dl5_100000.fit(Xtrain, ytrain,\n",
        "epochs = 300,\n",
        "batch_size = 32,\n",
        "validation_split = 0.20,\n",
        "verbose = 0)\n",
        "dl5_100000.summary()\n",
        "\"\"\"\n",
        "dl5_100000_time = round(timeit.timeit(stmt = dl5_100000_time,globals=globals(), number=1), 5)\n",
        "print(dl5_100000_time, 'seconds')\n"
      ]
    },
    {
      "cell_type": "code",
      "execution_count": null,
      "id": "1a8e57ee-059d-4483-bfb6-7708cf8c3850",
      "metadata": {
        "id": "1a8e57ee-059d-4483-bfb6-7708cf8c3850"
      },
      "outputs": [],
      "source": [
        "train_start = time.time()\n",
        "dl5_100000.fit(Xtrain, ytrain)\n",
        "train_time = time.time() - train_start\n",
        "pred_start = time.time()\n",
        "dl5_100000.predict(Xtrain)\n",
        "dl5_100000.predict(Xtest)\n",
        "pred_time = time.time() - pred_start\n",
        "train_pred_time = train_time + pred_time\n",
        "train_pred_time"
      ]
    },
    {
      "cell_type": "code",
      "execution_count": null,
      "id": "0b75372c-dd31-44b0-9dad-1394d4011be3",
      "metadata": {
        "jupyter": {
          "source_hidden": true
        },
        "id": "0b75372c-dd31-44b0-9dad-1394d4011be3"
      },
      "outputs": [],
      "source": [
        "dl5_avg_rmse = (dl5_train_rmse + dl5_val_rmse) / 2\n",
        "dl5_100000_eff = dl5_avg_rmse / train_pred_time\n",
        "dl5_100000_eff / 100000"
      ]
    },
    {
      "cell_type": "code",
      "execution_count": null,
      "id": "1983b517-b1c5-4619-8543-c34cf462e98a",
      "metadata": {
        "id": "1983b517-b1c5-4619-8543-c34cf462e98a"
      },
      "outputs": [],
      "source": [
        "## DL Network sequential model with 4 dense layers, l1 regularization, with relu and linear activation functions 100,000"
      ]
    },
    {
      "cell_type": "code",
      "execution_count": null,
      "id": "fb42e770-b7d2-40b5-9579-76930040a113",
      "metadata": {
        "jupyter": {
          "source_hidden": true
        },
        "id": "fb42e770-b7d2-40b5-9579-76930040a113"
      },
      "outputs": [],
      "source": [
        "def dl_model_config():\n",
        "#Sequential model with 4 dense layers, l1 regularization, with relu and␣\n",
        "↪linear activation functions\n",
        "dl_model = Sequential()\n",
        "dl_model.add(Dense(64,\n",
        "input_dim = Xtrain.shape[1],\n",
        "kernel_regularizer = l1(0.05),\n",
        "activation = 'relu'))\n",
        "dl_model.add(Dropout(0.25))\n",
        "dl_model.add(Dense(32,\n",
        "activation = 'relu',\n",
        "kernel_regularizer = l1(0.05)))\n",
        "dl_model.add(Dropout(0.25))\n",
        "dl_model.add(Dense(16,\n",
        "activation = 'relu',\n",
        "kernel_regularizer = l1(0.05)))\n",
        "dl_model.add(Dropout(0.25))\n",
        "dl_model.add(Dense(1,\n",
        "activation = 'linear'))\n",
        "dl_model.compile(optimizer = 'adam',\n",
        "loss = 'mse',\n",
        "metrics = metrics)\n",
        "return dl_model"
      ]
    },
    {
      "cell_type": "code",
      "execution_count": null,
      "id": "cbf5a87c-66e0-402f-869a-747fdcaed4e6",
      "metadata": {
        "jupyter": {
          "source_hidden": true
        },
        "id": "cbf5a87c-66e0-402f-869a-747fdcaed4e6"
      },
      "outputs": [],
      "source": [
        "# fitting sixth model\n",
        "dl6_100000 = dl_model_config()\n",
        "dl6_100000.fit(Xtrain, ytrain,\n",
        "epochs = 300,\n",
        "batch_size = 32,\n",
        "validation_split = 0.20,\n",
        "verbose = 0)\n",
        "dl6_100000.summary()\n"
      ]
    },
    {
      "cell_type": "code",
      "execution_count": null,
      "id": "48514b2d-87df-4942-b830-b40b64b17c21",
      "metadata": {
        "jupyter": {
          "source_hidden": true
        },
        "id": "48514b2d-87df-4942-b830-b40b64b17c21"
      },
      "outputs": [],
      "source": [
        "plt.plot(dl6_100000.history.history['loss'],\n",
        "color = 'blue',\n",
        "label = 'training')\n",
        "plt.plot(dl6_100000.history.history['val_loss'],\n",
        "color = 'green',\n",
        "label = 'validation')\n",
        "plt.legend()\n"
      ]
    },
    {
      "cell_type": "code",
      "execution_count": null,
      "id": "e8ffa0be-a837-4a63-b2bc-8168bde3b219",
      "metadata": {
        "jupyter": {
          "source_hidden": true
        },
        "id": "e8ffa0be-a837-4a63-b2bc-8168bde3b219"
      },
      "outputs": [],
      "source": [
        "dl6_min_loss = np.min(dl6_100000.history.history['loss'])\n",
        "dl6_min_valloss = np.min(dl6_100000.history.history['val_loss'])\n",
        "print('Min Training Loss (Error): ' , (round(dl6_min_loss, 4)))\n",
        "print('Min Validation Loss (Error): ', (round(dl6_min_valloss, 4)))\n"
      ]
    },
    {
      "cell_type": "code",
      "execution_count": null,
      "id": "e6acb8db-efb0-430d-a52c-fd349d329cf1",
      "metadata": {
        "jupyter": {
          "source_hidden": true
        },
        "id": "e6acb8db-efb0-430d-a52c-fd349d329cf1"
      },
      "outputs": [],
      "source": [
        "dl6_train_rmse = np.mean(dl6_100000.history.history['root_mean_squared_error'])\n",
        "dl6_val_rmse = np.mean(dl6_100000.history.history['val_root_mean_squared_error'])\n",
        "print('Average Training RMSE: ' , (round(dl6_train_rmse, 5)))\n",
        "print('Average Validation RMSE: ', (round(dl6_val_rmse, 5)))\n",
        "\n"
      ]
    },
    {
      "cell_type": "code",
      "execution_count": null,
      "id": "a5bdea53-796e-47af-937e-0a1d14d3e01d",
      "metadata": {
        "jupyter": {
          "source_hidden": true
        },
        "id": "a5bdea53-796e-47af-937e-0a1d14d3e01d"
      },
      "outputs": [],
      "source": [
        "dl6_train_mae = np.mean(dl6_100000.history.history['mean_absolute_error'])\n",
        "dl6_val_mae = np.mean(dl6_100000.history.history['val_mean_absolute_error'])\n",
        "print('Average Training MAE: ' , (round(dl6_train_mae, 5)))\n",
        "print('Average Validation MAE: ', (round(dl6_val_mae, 5)))\n"
      ]
    },
    {
      "cell_type": "code",
      "execution_count": null,
      "id": "d19a449c-01f0-407c-b4b3-bb142c656f72",
      "metadata": {
        "id": "d19a449c-01f0-407c-b4b3-bb142c656f72"
      },
      "outputs": [],
      "source": [
        "dl6_100000_Rtrain = np.mean(dl6_100000.history.history['r2_score'])\n",
        "dl6_100000_Rval = np.mean(dl6_100000.history.history['val_r2_score'])\n",
        "print('Average Training R-squared: ' , (round(dl6_100000_Rtrain, 5)))\n",
        "print('Average Validation R-squared: ', (round(dl6_100000_Rval, 5)))\n"
      ]
    },
    {
      "cell_type": "code",
      "execution_count": null,
      "id": "7dccd7e6-2891-4998-b7e6-18e49b90e475",
      "metadata": {
        "id": "7dccd7e6-2891-4998-b7e6-18e49b90e475"
      },
      "outputs": [],
      "source": [
        "dl6_100000_time = \"\"\"\n",
        "dl6_100000 = dl_model_config()\n",
        "dl6_100000.fit(Xtrain, ytrain,\n",
        "epochs = 300,\n",
        "batch_size = 32,\n",
        "validation_split = 0.20,\n",
        "verbose = 0)\n",
        "dl6_100000.summary()\n",
        "\"\"\"\n",
        "dl6_100000_time = round(timeit.timeit(stmt = dl6_100000_time,␣\n",
        "↪globals=globals(), number=1), 5)\n",
        "print(dl6_100000_time, 'seconds')\n"
      ]
    },
    {
      "cell_type": "code",
      "execution_count": null,
      "id": "03cf87c6-1f3c-4423-8f20-13b03c8203a6",
      "metadata": {
        "id": "03cf87c6-1f3c-4423-8f20-13b03c8203a6"
      },
      "outputs": [],
      "source": [
        "train_start = time.time()\n",
        "dl6_100000.fit(Xtrain, ytrain)\n",
        "train_time = time.time() - train_start\n",
        "pred_start = time.time()\n",
        "dl6_100000.predict(Xtrain)\n",
        "dl6_100000.predict(Xtest)\n",
        "pred_time = time.time() - pred_start\n",
        "train_pred_time = train_time + pred_time\n",
        "train_pred_time"
      ]
    },
    {
      "cell_type": "code",
      "execution_count": null,
      "id": "eb8cfb9d-097b-4f78-98a0-7b1bfcced471",
      "metadata": {
        "jupyter": {
          "source_hidden": true
        },
        "id": "eb8cfb9d-097b-4f78-98a0-7b1bfcced471"
      },
      "outputs": [],
      "source": [
        " #model efficiency\n",
        "dl6_avg_rmse = (dl6_train_rmse + dl6_val_rmse) / 2\n",
        "dl6_100000_eff = dl6_avg_rmse / train_pred_time\n",
        "#Dividing to scale the value\n",
        "dl6_100000_eff / 100000"
      ]
    },
    {
      "cell_type": "code",
      "execution_count": null,
      "id": "4ec44040-153f-43a9-a4e0-58198211d7fe",
      "metadata": {
        "id": "4ec44040-153f-43a9-a4e0-58198211d7fe"
      },
      "outputs": [],
      "source": [
        "\n",
        "##Summarization of results and data visulization of required metrics"
      ]
    },
    {
      "cell_type": "code",
      "execution_count": null,
      "id": "19b64e14-7287-4328-abc0-64d729ded906",
      "metadata": {
        "jupyter": {
          "source_hidden": true
        },
        "id": "19b64e14-7287-4328-abc0-64d729ded906"
      },
      "outputs": [],
      "source": [
        "table_cols = ['No. of Rows (Data size)', 'Method', 'Configuration',\n",
        "'Training Set Performance (RMSE)', 'Generalization Set Performance (RMSE)',\n",
        "'Training Time (seconds)', 'Efficiency']\n",
        "sum_table = pd.DataFrame(columns = table_cols)\n",
        "sum_table"
      ]
    },
    {
      "cell_type": "code",
      "execution_count": null,
      "id": "1720d7d5-cfc4-4d34-811a-acc61e982149",
      "metadata": {
        "jupyter": {
          "source_hidden": true
        },
        "id": "1720d7d5-cfc4-4d34-811a-acc61e982149"
      },
      "outputs": [],
      "source": [
        "#loop\n",
        "table_input = [[1000, 'GLM', 'Solver 1', glm1_trn_rmse, glm1_tst_rmse,glm1_1000_time, glm1_eff_scl],\n",
        "[1000, 'GLM', 'Solver 2', glm2_trn_rmse, glm2_tst_rmse,glm2_1000_time, glm2_eff_scl],\n",
        "[1000, 'XGBoost', 'Configuration 1', xgb1_trn_rmse,xgb1_tst_rmse, xgb1_1000_time, xgb1_eff_scl],\n",
        "[1000, 'XGBoost', 'Configuration 2', xgb2_trn_rmse,xgb2_tst_rmse, xgb2_1000_time, xgb2_eff_scl],\n",
        "[1000, 'DL Network', 'Configuration 1', dl1_trn_rmse,dl1_val_rmse, dl1_1000_time, dl1_eff_scl],\n",
        "[1000, 'DL Network', 'Configuration 2', dl2_trn_rmse,dl2_val_rmse, dl2_1000_time, dl2_eff_scl],\n",
        "[10000, 'GLM', 'Solver 1', glm3_trn_rmse, glm3_tst_rmse,glm3_10000_time, glm3_eff_scl],\n",
        "[10000, 'GLM', 'Solver 2', glm4_trn_rmse, glm4_tst_rmse,glm4_10000_time, glm4_eff_scl],\n",
        "[10000, 'XGBoost', 'Configuration 1', xgb3_trn_rmse,xgb3_tst_rmse, xgb3_10000_time, xgb3_eff_scl],\n",
        "[10000, 'XGBoost', 'Configuration 2', xgb4_trn_rmse,xgb4_tst_rmse, xgb4_10000_time, xgb4_eff_scl],\n",
        "[10000, 'DL Network', 'Configuration 1', dl3_trn_rmse,dl3_val_rmse, dl3_10000_time, dl3_eff_scl],\n",
        "[10000, 'DL Network', 'Configuration 2', dl4_trn_rmse,dl4_val_rmse, dl4_10000_time, dl4_eff_scl],\n",
        "[100000, 'GLM', 'Solver 1', glm5_trn_rmse, glm5_tst_rmse,glm5_100000_time, glm5_eff_scl],\n",
        "[100000, 'GLM', 'Solver 2', glm6_trn_rmse, glm6_tst_rmse,glm6_100000_time, glm6_eff_scl],\n",
        "[100000, 'XGBoost', 'Configuration 1', xgb5_trn_rmse,xgb5_tst_rmse, xgb5_100000_time, xgb5_eff_scl],\n",
        "[100000, 'XGBoost', 'Configuration 2', xgb6_trn_rmse,xgb6_tst_rmse, xgb6_100000_time, xgb6_eff_scl],\n",
        "[100000, 'DL Network', 'Configuration 1', dl5_trn_rmse,dl5_val_rmse, dl5_100000_time, dl5_eff_scl],\n",
        "[100000, 'DL Network', 'Configuration 2', dl6_trn_rmse,dl6_val_rmse, dl6_100000_time, dl6_eff_scl]]\n",
        "\n",
        "\n",
        "for rows in table_input:\n",
        "sum_table.loc[len(sum_table)] = rows\n"
      ]
    },
    {
      "cell_type": "code",
      "execution_count": null,
      "id": "52671046-4b8d-4a76-98f7-dfebad413510",
      "metadata": {
        "jupyter": {
          "source_hidden": true
        },
        "id": "52671046-4b8d-4a76-98f7-dfebad413510"
      },
      "outputs": [],
      "source": []
    },
    {
      "cell_type": "code",
      "execution_count": null,
      "id": "b7a57cb3-e529-4670-8aa7-36844a4b33f7",
      "metadata": {
        "id": "b7a57cb3-e529-4670-8aa7-36844a4b33f7"
      },
      "outputs": [],
      "source": [
        "# Plotting"
      ]
    },
    {
      "cell_type": "code",
      "execution_count": null,
      "id": "bf75f918-aa6f-4aaf-a132-6c77bdad0c84",
      "metadata": {
        "id": "bf75f918-aa6f-4aaf-a132-6c77bdad0c84"
      },
      "outputs": [],
      "source": []
    },
    {
      "cell_type": "code",
      "execution_count": null,
      "id": "64abcd74-28d3-422d-984c-b1cd75aff02f",
      "metadata": {
        "id": "64abcd74-28d3-422d-984c-b1cd75aff02f"
      },
      "outputs": [],
      "source": []
    },
    {
      "cell_type": "code",
      "execution_count": null,
      "id": "d4453c86-9908-4aa2-ab53-95f427dccb85",
      "metadata": {
        "jupyter": {
          "source_hidden": true
        },
        "id": "d4453c86-9908-4aa2-ab53-95f427dccb85"
      },
      "outputs": [],
      "source": [
        " #data\n",
        "data_sz = [1000, 10000, 100000]\n",
        "#assigning data\n",
        "glm_data = sum_table[sum_table['Method'] == 'GLM']\n",
        "xgb_data = sum_table[sum_table['Method'] == 'XGBoost']\n",
        "dl_data = sum_table[sum_table['Method'] == 'DL Network']\n"
      ]
    },
    {
      "cell_type": "code",
      "execution_count": null,
      "id": "6afc0e74-b415-463c-a9cf-f1d2ee554826",
      "metadata": {
        "id": "6afc0e74-b415-463c-a9cf-f1d2ee554826"
      },
      "outputs": [],
      "source": [
        "#GLM Plots"
      ]
    },
    {
      "cell_type": "code",
      "execution_count": null,
      "id": "6a5f1e28-7304-4884-8c6c-463cd3310ca2",
      "metadata": {
        "jupyter": {
          "source_hidden": true
        },
        "id": "6a5f1e28-7304-4884-8c6c-463cd3310ca2"
      },
      "outputs": [],
      "source": [
        "glm_data['No. of Rows (Data size)'] = pd.Categorical(glm_data['No. of Rows(Data size)'],\n",
        "categories=[1000, 10000,100000])"
      ]
    },
    {
      "cell_type": "code",
      "execution_count": null,
      "id": "3feb3032-041c-45c8-8bc2-f661cdc54ebc",
      "metadata": {
        "jupyter": {
          "source_hidden": true
        },
        "id": "3feb3032-041c-45c8-8bc2-f661cdc54ebc"
      },
      "outputs": [],
      "source": [
        "# GLM training time by size of data\n",
        "plt.figure(figsize=(4, 4))\n",
        "sns.barplot(data = glm_data,\n",
        "x = 'No. of Rows (Data size)',\n",
        "y = 'Training Time (seconds)',\n",
        "hue = 'Configuration')\n",
        "plt.title('GLM fit time by dataset size')\n",
        "plt.xlabel('Data size')\n",
        "plt.ylabel('Fitting time (secs)')\n",
        "plt.legend()"
      ]
    },
    {
      "cell_type": "code",
      "execution_count": null,
      "id": "05c6671c-16d8-40a5-810b-f9b9828eba49",
      "metadata": {
        "jupyter": {
          "source_hidden": true
        },
        "id": "05c6671c-16d8-40a5-810b-f9b9828eba49"
      },
      "outputs": [],
      "source": [
        "# GLM performance by size of data\n",
        "plt.figure(figsize = (4, 4))\n",
        "sns.barplot(data = glm_data,\n",
        "x = 'No. of Rows (Data size)',\n",
        "y = 'Generalization Set Performance (RMSE)',\n",
        "hue = 'Configuration')\n",
        "plt.title('GLM RMSE by dataset size')\n",
        "plt.xlabel('Data size')\n",
        "plt.ylabel('Gen set RMSE')\n",
        "plt.legend()"
      ]
    },
    {
      "cell_type": "code",
      "execution_count": null,
      "id": "711f7127-49c9-43fe-a991-bebb5d2cbc0f",
      "metadata": {
        "id": "711f7127-49c9-43fe-a991-bebb5d2cbc0f"
      },
      "outputs": [],
      "source": []
    },
    {
      "cell_type": "code",
      "execution_count": null,
      "id": "7977ecde-dd8f-429f-ba5a-9443c8aff0ea",
      "metadata": {
        "id": "7977ecde-dd8f-429f-ba5a-9443c8aff0ea"
      },
      "outputs": [],
      "source": [
        "## XGBoost Plots"
      ]
    },
    {
      "cell_type": "code",
      "execution_count": null,
      "id": "99867882-9463-4bc1-87e8-e5cfd713efac",
      "metadata": {
        "jupyter": {
          "source_hidden": true
        },
        "id": "99867882-9463-4bc1-87e8-e5cfd713efac"
      },
      "outputs": [],
      "source": [
        "xgb_data['No. of Rows (Data size)'] = pd.Categorical(xgb_data['No. of Rows(Data size)'],\n",
        "categories=[1000, 10000,100000])"
      ]
    },
    {
      "cell_type": "code",
      "execution_count": null,
      "id": "dfb3474d-3a10-4587-9c47-0ccb6216786a",
      "metadata": {
        "jupyter": {
          "source_hidden": true
        },
        "id": "dfb3474d-3a10-4587-9c47-0ccb6216786a"
      },
      "outputs": [],
      "source": [
        "# XGBoost training time - size of data\n",
        "plt.figure(figsize = (4, 4))\n",
        "sns.barplot(data = xgb_data,\n",
        "x = 'No. of Rows (Data size)',\n",
        "y = 'Training Time (seconds)',\n",
        "hue = 'Configuration')\n",
        "plt.title('XGB fit time by dataset size')\n",
        "plt.xlabel('Data size')\n",
        "plt.ylabel('Fitting time (secs)')\n",
        "plt.legend()\n"
      ]
    },
    {
      "cell_type": "code",
      "execution_count": null,
      "id": "f30aa841-feb3-47fe-95dc-913b2d8a7256",
      "metadata": {
        "jupyter": {
          "source_hidden": true
        },
        "id": "f30aa841-feb3-47fe-95dc-913b2d8a7256"
      },
      "outputs": [],
      "source": [
        "# XGBoost performance - size of data\n",
        "plt.figure(figsize = (4, 4))\n",
        "sns.barplot(data = xgb_data,\n",
        "x = 'No. of Rows (Data size)',\n",
        "y = 'Generalization Set Performance (RMSE)',\n",
        "hue = 'Configuration')\n",
        "plt.title('XGB RMSE by dataset size')\n",
        "plt.xlabel('Data size')\n",
        "plt.ylabel('Gen set RMSE')\n",
        "plt.legend()\n"
      ]
    },
    {
      "cell_type": "code",
      "execution_count": null,
      "id": "9993c606-d09a-4eff-942b-69f24db5caa1",
      "metadata": {
        "id": "9993c606-d09a-4eff-942b-69f24db5caa1"
      },
      "outputs": [],
      "source": []
    },
    {
      "cell_type": "code",
      "execution_count": null,
      "id": "5ce3f7e1-bc04-408f-9d95-4b27676e7079",
      "metadata": {
        "id": "5ce3f7e1-bc04-408f-9d95-4b27676e7079"
      },
      "outputs": [],
      "source": [
        "## DL Network Plots"
      ]
    },
    {
      "cell_type": "code",
      "execution_count": null,
      "id": "705be7c5-0fb4-4ab6-bf37-b55307c6288b",
      "metadata": {
        "jupyter": {
          "source_hidden": true
        },
        "id": "705be7c5-0fb4-4ab6-bf37-b55307c6288b"
      },
      "outputs": [],
      "source": [
        "dl_data['No. of Rows (Data size)'] = pd.Categorical(dl_data['No. of Rows (Datasize)'],100000])"
      ]
    },
    {
      "cell_type": "code",
      "execution_count": null,
      "id": "2811f2e9-81d6-401f-8f19-2b8534062e55",
      "metadata": {
        "jupyter": {
          "source_hidden": true
        },
        "id": "2811f2e9-81d6-401f-8f19-2b8534062e55"
      },
      "outputs": [],
      "source": [
        "# DL Network\n",
        "plt.figure(figsize = (4, 4))\n",
        "sns.barplot(data = dl_data,\n",
        "x = 'No. of Rows (Data size)',\n",
        "y = 'Training Time (seconds)',\n",
        "hue = 'Configuration')\n",
        "plt.title('DL fit time by dataset size')\n",
        "plt.xlabel('Data size')\n",
        "plt.ylabel('Fitting time (secs)')\n",
        "plt.legend()"
      ]
    },
    {
      "cell_type": "code",
      "execution_count": null,
      "id": "483d403c-350d-4740-8e3b-daa494f102e7",
      "metadata": {
        "jupyter": {
          "source_hidden": true
        },
        "id": "483d403c-350d-4740-8e3b-daa494f102e7"
      },
      "outputs": [],
      "source": [
        "# Dl Network\n",
        "plt.figure(figsize = (4, 4))\n",
        "sns.barplot(data = dl_data,\n",
        "x = 'No. of Rows (Data size)',\n",
        "y = 'Generalization Set Performance (RMSE)',\n",
        "hue = 'Configuration')\n",
        "plt.title('DL RMSE by dataset size')\n",
        "plt.xlabel('Data size')\n",
        "plt.ylabel('Gen set RMSE')\n",
        "plt.legend()\n"
      ]
    },
    {
      "cell_type": "code",
      "execution_count": null,
      "id": "6a694a49-52b5-4a07-8e8f-a0b60eb98b0f",
      "metadata": {
        "id": "6a694a49-52b5-4a07-8e8f-a0b60eb98b0f"
      },
      "outputs": [],
      "source": []
    },
    {
      "cell_type": "code",
      "execution_count": null,
      "id": "6577a2eb-a0fd-414a-8e32-fb750874fadb",
      "metadata": {
        "id": "6577a2eb-a0fd-414a-8e32-fb750874fadb"
      },
      "outputs": [],
      "source": []
    },
    {
      "cell_type": "code",
      "execution_count": null,
      "id": "e9b7fc4e-cc89-4556-8eef-90e287e83cf8",
      "metadata": {
        "id": "e9b7fc4e-cc89-4556-8eef-90e287e83cf8"
      },
      "outputs": [],
      "source": [
        "## GLM Plot"
      ]
    },
    {
      "cell_type": "code",
      "execution_count": null,
      "id": "eeb954e2-8888-48fc-8334-9a3be7c3456c",
      "metadata": {
        "jupyter": {
          "source_hidden": true
        },
        "id": "eeb954e2-8888-48fc-8334-9a3be7c3456c"
      },
      "outputs": [],
      "source": [
        " #GLM - model fitting time\n",
        "plt.figure(figsize = (4, 4))\n",
        "sns.lineplot(data = glm_data,\n",
        "x = 'Training Time (seconds)',\n",
        "y = 'Generalization Set Performance (RMSE)',\n",
        "hue = 'Configuration',\n",
        "style = 'Configuration',\n",
        "markers = True)\n",
        "plt.title('GLM RMSE vs. fit time')\n",
        "plt.xlabel('Fitting time (secs)')\n",
        "plt.ylabel('Gen set RMSE')\n",
        "plt.legend()\n"
      ]
    },
    {
      "cell_type": "code",
      "execution_count": null,
      "id": "0feb229c-f16b-4561-a532-79ec8e406944",
      "metadata": {
        "id": "0feb229c-f16b-4561-a532-79ec8e406944"
      },
      "outputs": [],
      "source": [
        "## XGBoost Plot"
      ]
    },
    {
      "cell_type": "code",
      "execution_count": null,
      "id": "a913893d-abd6-4932-9531-867b07c17459",
      "metadata": {
        "jupyter": {
          "source_hidden": true
        },
        "id": "a913893d-abd6-4932-9531-867b07c17459"
      },
      "outputs": [],
      "source": [
        "# XGBoost - model fitting time\n",
        "plt.figure(figsize = (4, 4))\n",
        "sns.lineplot(data = xgb_data,\n",
        "x = 'Training Time (seconds)',\n",
        "y = 'Generalization Set Performance (RMSE)',\n",
        "hue = 'Configuration',\n",
        "style = 'Configuration',\n",
        "markers = True)\n",
        "plt.title('XGB RMSE vs. fit time')\n",
        "plt.xlabel('Fitting time (secs)')\n",
        "plt.ylabel('Gen set RMSE')\n",
        "plt.legend()\n"
      ]
    },
    {
      "cell_type": "code",
      "execution_count": null,
      "id": "0e3c4632-5bce-4ae0-b918-c4e9bc1745f9",
      "metadata": {
        "id": "0e3c4632-5bce-4ae0-b918-c4e9bc1745f9"
      },
      "outputs": [],
      "source": [
        "##DL PLot"
      ]
    },
    {
      "cell_type": "code",
      "execution_count": null,
      "id": "54f27bcc-6552-4883-a324-1391f10fe059",
      "metadata": {
        "jupyter": {
          "source_hidden": true
        },
        "id": "54f27bcc-6552-4883-a324-1391f10fe059"
      },
      "outputs": [],
      "source": [
        "#DL - model fitting time\n",
        "plt.figure(figsize = (4, 4))\n",
        "sns.lineplot(data = dl_data,\n",
        "x = 'Training Time (seconds)',\n",
        "y = 'Generalization Set Performance (RMSE)',\n",
        "hue = 'Configuration',\n",
        "style = 'Configuration',\n",
        "markers = True)\n",
        "plt.title('DL RMSE vs. fit time')\n",
        "plt.xlabel('Fitting time (secs)')\n",
        "plt.ylabel('Gen set RMSE')\n",
        "plt.legend()\n"
      ]
    },
    {
      "cell_type": "code",
      "execution_count": null,
      "id": "b7f1281e-1076-46af-8254-36459efe5bac",
      "metadata": {
        "id": "b7f1281e-1076-46af-8254-36459efe5bac"
      },
      "outputs": [],
      "source": []
    },
    {
      "cell_type": "code",
      "execution_count": null,
      "id": "411004ae-ed50-494c-b9d7-7c9afa8e5a3b",
      "metadata": {
        "id": "411004ae-ed50-494c-b9d7-7c9afa8e5a3b"
      },
      "outputs": [],
      "source": []
    }
  ],
  "metadata": {
    "kernelspec": {
      "display_name": "Python 3 (ipykernel)",
      "language": "python",
      "name": "python3"
    },
    "language_info": {
      "codemirror_mode": {
        "name": "ipython",
        "version": 3
      },
      "file_extension": ".py",
      "mimetype": "text/x-python",
      "name": "python",
      "nbconvert_exporter": "python",
      "pygments_lexer": "ipython3",
      "version": "3.12.3"
    },
    "colab": {
      "provenance": []
    }
  },
  "nbformat": 4,
  "nbformat_minor": 5
}